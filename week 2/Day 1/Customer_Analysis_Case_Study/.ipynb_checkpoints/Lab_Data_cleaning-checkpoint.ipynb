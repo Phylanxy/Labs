{
 "cells": [
  {
   "cell_type": "code",
   "execution_count": 673,
   "id": "dc5b0b44",
   "metadata": {},
   "outputs": [],
   "source": [
    "import numpy as np\n",
    "import pandas as pd\n",
    "import math\n",
    "import statistics as st\n",
    "from scipy.stats import zscore"
   ]
  },
  {
   "cell_type": "code",
   "execution_count": 674,
   "id": "2dae267e",
   "metadata": {},
   "outputs": [],
   "source": [
    "def convert_cols_to_lower(df):\n",
    "    df.columns = [ i.lower() for i in df.columns ]\n",
    "    return df"
   ]
  },
  {
   "cell_type": "code",
   "execution_count": 675,
   "id": "87d2073f",
   "metadata": {},
   "outputs": [],
   "source": [
    "column_lst = sorted(['Customer', 'State', 'Gender', 'Education', 'Customer Lifetime Value',\n",
    "       'Income', 'Monthly Premium Auto', 'Number of Open Complaints',\n",
    "       'Policy Type', 'Vehicle Class', 'Total Claim Amount'])\n",
    "\n",
    "def load_original_data():\n",
    "    file1 = pd.read_csv('Data/file1.csv')\n",
    "    file2 = pd.read_csv('Data/file2.csv')\n",
    "    file3 = pd.read_csv('Data/file3.csv')\n",
    "    \n",
    "    convert_cols_to_lower(file1)\n",
    "    convert_cols_to_lower(file2)\n",
    "    convert_cols_to_lower(file3)\n",
    "    \n",
    "    file1 = file1.sort_index(axis=1)\n",
    "    file2 = file2.sort_index(axis=1)\n",
    "    file3 = file3.sort_index(axis=1)\n",
    "    \n",
    "    file1.columns = column_lst\n",
    "    file2.columns = column_lst\n",
    "    file3.columns = file3.columns.str.replace(\"state\", \"st\")\n",
    "    file3.columns = column_lst\n",
    "    \n",
    "    df = pd.concat([file1, file2, file3], axis=0)\n",
    "    \n",
    "    return df"
   ]
  },
  {
   "cell_type": "code",
   "execution_count": 676,
   "id": "0623fe24",
   "metadata": {},
   "outputs": [],
   "source": [
    "#save this only for late, might be useful, here it doesn't work\n",
    "def replace_str_in_columns(df, str_to_replace, str_to_replace_with):\n",
    "    df.columns = sorted(df.columns.str.replace(str_to_replace, str_to_replace_with))\n",
    "    return df"
   ]
  },
  {
   "cell_type": "code",
   "execution_count": 677,
   "id": "5af1807c",
   "metadata": {
    "scrolled": false
   },
   "outputs": [],
   "source": [
    "#load the full dataset, correctly concatenated and in the desired order\n",
    "full_dataset = load_original_data()"
   ]
  },
  {
   "cell_type": "code",
   "execution_count": 678,
   "id": "8b1e629b",
   "metadata": {},
   "outputs": [],
   "source": [
    "full_dataset.columns = [ i for i in full_dataset.columns.str.replace(\" \",\"_\").str.lower()]"
   ]
  },
  {
   "cell_type": "code",
   "execution_count": 679,
   "id": "d6b97ed1",
   "metadata": {},
   "outputs": [
    {
     "data": {
      "text/plain": [
       "array(['Washington', 'Arizona', 'Nevada', 'California', 'Oregon', 'Cali',\n",
       "       'AZ', 'WA', nan], dtype=object)"
      ]
     },
     "execution_count": 679,
     "metadata": {},
     "output_type": "execute_result"
    }
   ],
   "source": [
    "full_dataset[\"state\"].unique()"
   ]
  },
  {
   "cell_type": "code",
   "execution_count": 680,
   "id": "ee8fbfd1",
   "metadata": {},
   "outputs": [],
   "source": [
    "#drop Customer column\n",
    "full_dataset = full_dataset.drop(\"customer\", axis=1)"
   ]
  },
  {
   "cell_type": "code",
   "execution_count": 681,
   "id": "aca5a10f",
   "metadata": {},
   "outputs": [],
   "source": [
    "#remove duplicates\n",
    "full_dataset = full_dataset.drop_duplicates()"
   ]
  },
  {
   "cell_type": "code",
   "execution_count": 682,
   "id": "d28192fa",
   "metadata": {},
   "outputs": [],
   "source": [
    "#remove rows with NaN elements in the column Customer Lifetime Value\n",
    "#full_dataset = full_dataset.dropna(subset=\"Customer Lifetime Value\")"
   ]
  },
  {
   "cell_type": "code",
   "execution_count": 683,
   "id": "d7ffecfc",
   "metadata": {},
   "outputs": [],
   "source": [
    "#reset the index to match the amout of rows\n",
    "full_dataset = full_dataset.reset_index()"
   ]
  },
  {
   "cell_type": "code",
   "execution_count": 684,
   "id": "eb92fb50",
   "metadata": {
    "scrolled": false
   },
   "outputs": [],
   "source": [
    "#remove \"%\" signs from Customer Lifetime Value where present\n",
    "full_dataset[\"customer_lifetime_value\"] = (\n",
    "    full_dataset[\"customer_lifetime_value\"].apply(lambda x: x.replace(\"%\", \" \") if type(x) == str else x))"
   ]
  },
  {
   "cell_type": "code",
   "execution_count": 685,
   "id": "edb358f7",
   "metadata": {},
   "outputs": [],
   "source": [
    "#convert Customer Lifetime Value into integer by first converting it into float\n",
    "full_dataset[\"customer_lifetime_value\"] = pd.to_numeric(full_dataset[\"customer_lifetime_value\"], errors = \"coerce\")\n",
    "full_dataset[\"customer_lifetime_value\"] = full_dataset[\"customer_lifetime_value\"].apply(lambda x: math.trunc(x) if np.isnan(x) != True else 0)"
   ]
  },
  {
   "cell_type": "code",
   "execution_count": 686,
   "id": "af00c198",
   "metadata": {},
   "outputs": [],
   "source": [
    "#full_dataset"
   ]
  },
  {
   "cell_type": "code",
   "execution_count": 687,
   "id": "fa9b039c",
   "metadata": {},
   "outputs": [],
   "source": [
    "#function that checks if input is a string and splits it at \"/\"\n",
    "#returning the 2nd element of the resulting list or returns x if it's not a string\n",
    "def split(x):\n",
    "    if isinstance(x, str):\n",
    "        return x.split(\"/\")[1]\n",
    "    return x"
   ]
  },
  {
   "cell_type": "code",
   "execution_count": 688,
   "id": "49b4c2f7",
   "metadata": {},
   "outputs": [],
   "source": [
    "full_dataset[\"number_of_open_complaints\"] = full_dataset[\"number_of_open_complaints\"].apply(lambda x: split(x))\n",
    "full_dataset[\"number_of_open_complaints\"] = pd.to_numeric(full_dataset[\"number_of_open_complaints\"], errors = \"coerce\")"
   ]
  },
  {
   "cell_type": "code",
   "execution_count": 689,
   "id": "36620816",
   "metadata": {},
   "outputs": [
    {
     "data": {
      "text/html": [
       "<div>\n",
       "<style scoped>\n",
       "    .dataframe tbody tr th:only-of-type {\n",
       "        vertical-align: middle;\n",
       "    }\n",
       "\n",
       "    .dataframe tbody tr th {\n",
       "        vertical-align: top;\n",
       "    }\n",
       "\n",
       "    .dataframe thead th {\n",
       "        text-align: right;\n",
       "    }\n",
       "</style>\n",
       "<table border=\"1\" class=\"dataframe\">\n",
       "  <thead>\n",
       "    <tr style=\"text-align: right;\">\n",
       "      <th></th>\n",
       "      <th>index</th>\n",
       "      <th>customer_lifetime_value</th>\n",
       "      <th>education</th>\n",
       "      <th>gender</th>\n",
       "      <th>income</th>\n",
       "      <th>monthly_premium_auto</th>\n",
       "      <th>number_of_open_complaints</th>\n",
       "      <th>policy_type</th>\n",
       "      <th>state</th>\n",
       "      <th>total_claim_amount</th>\n",
       "      <th>vehicle_class</th>\n",
       "    </tr>\n",
       "  </thead>\n",
       "  <tbody>\n",
       "    <tr>\n",
       "      <th>1070</th>\n",
       "      <td>1071</td>\n",
       "      <td>0</td>\n",
       "      <td>NaN</td>\n",
       "      <td>NaN</td>\n",
       "      <td>NaN</td>\n",
       "      <td>NaN</td>\n",
       "      <td>NaN</td>\n",
       "      <td>NaN</td>\n",
       "      <td>NaN</td>\n",
       "      <td>NaN</td>\n",
       "      <td>NaN</td>\n",
       "    </tr>\n",
       "  </tbody>\n",
       "</table>\n",
       "</div>"
      ],
      "text/plain": [
       "      index  customer_lifetime_value education gender  income  \\\n",
       "1070   1071                        0       NaN    NaN     NaN   \n",
       "\n",
       "      monthly_premium_auto  number_of_open_complaints policy_type state  \\\n",
       "1070                   NaN                        NaN         NaN   NaN   \n",
       "\n",
       "      total_claim_amount vehicle_class  \n",
       "1070                 NaN           NaN  "
      ]
     },
     "execution_count": 689,
     "metadata": {},
     "output_type": "execute_result"
    }
   ],
   "source": [
    "full_dataset.loc[full_dataset[\"number_of_open_complaints\"].isna()]"
   ]
  },
  {
   "cell_type": "code",
   "execution_count": 691,
   "id": "f5f6b797",
   "metadata": {},
   "outputs": [],
   "source": [
    "full_dataset = full_dataset.drop([1071])"
   ]
  },
  {
   "cell_type": "code",
   "execution_count": 693,
   "id": "df24276d",
   "metadata": {},
   "outputs": [],
   "source": [
    "def clean_gender(string):\n",
    "    m_lst = ['M', 'Male']\n",
    "    f_lst = ['F', 'Femal', 'female']\n",
    "    if isinstance(string, str) and string in m_lst:\n",
    "        return \"male\"\n",
    "    elif isinstance(string, str) and string in f_lst:\n",
    "        return \"female\"\n",
    "    else:\n",
    "        return \"error\""
   ]
  },
  {
   "cell_type": "code",
   "execution_count": 694,
   "id": "6665655b",
   "metadata": {},
   "outputs": [],
   "source": [
    "full_dataset['gender'] = list(map(clean_gender, full_dataset['gender']))"
   ]
  },
  {
   "cell_type": "code",
   "execution_count": 695,
   "id": "9650a792",
   "metadata": {},
   "outputs": [
    {
     "data": {
      "text/html": [
       "<div>\n",
       "<style scoped>\n",
       "    .dataframe tbody tr th:only-of-type {\n",
       "        vertical-align: middle;\n",
       "    }\n",
       "\n",
       "    .dataframe tbody tr th {\n",
       "        vertical-align: top;\n",
       "    }\n",
       "\n",
       "    .dataframe thead th {\n",
       "        text-align: right;\n",
       "    }\n",
       "</style>\n",
       "<table border=\"1\" class=\"dataframe\">\n",
       "  <thead>\n",
       "    <tr style=\"text-align: right;\">\n",
       "      <th></th>\n",
       "      <th>index</th>\n",
       "      <th>customer_lifetime_value</th>\n",
       "      <th>education</th>\n",
       "      <th>gender</th>\n",
       "      <th>income</th>\n",
       "      <th>monthly_premium_auto</th>\n",
       "      <th>number_of_open_complaints</th>\n",
       "      <th>policy_type</th>\n",
       "      <th>state</th>\n",
       "      <th>total_claim_amount</th>\n",
       "      <th>vehicle_class</th>\n",
       "    </tr>\n",
       "  </thead>\n",
       "  <tbody>\n",
       "    <tr>\n",
       "      <th>8877</th>\n",
       "      <td>7065</td>\n",
       "      <td>23405</td>\n",
       "      <td>Bachelor</td>\n",
       "      <td>male</td>\n",
       "      <td>71941.0</td>\n",
       "      <td>73.0</td>\n",
       "      <td>0.0</td>\n",
       "      <td>Personal Auto</td>\n",
       "      <td>California</td>\n",
       "      <td>198.234764</td>\n",
       "      <td>Four-Door Car</td>\n",
       "    </tr>\n",
       "    <tr>\n",
       "      <th>8878</th>\n",
       "      <td>7066</td>\n",
       "      <td>3096</td>\n",
       "      <td>College</td>\n",
       "      <td>female</td>\n",
       "      <td>21604.0</td>\n",
       "      <td>79.0</td>\n",
       "      <td>0.0</td>\n",
       "      <td>Corporate Auto</td>\n",
       "      <td>California</td>\n",
       "      <td>379.200000</td>\n",
       "      <td>Four-Door Car</td>\n",
       "    </tr>\n",
       "    <tr>\n",
       "      <th>8879</th>\n",
       "      <td>7067</td>\n",
       "      <td>8163</td>\n",
       "      <td>Bachelor</td>\n",
       "      <td>male</td>\n",
       "      <td>0.0</td>\n",
       "      <td>85.0</td>\n",
       "      <td>3.0</td>\n",
       "      <td>Corporate Auto</td>\n",
       "      <td>California</td>\n",
       "      <td>790.784983</td>\n",
       "      <td>Four-Door Car</td>\n",
       "    </tr>\n",
       "    <tr>\n",
       "      <th>8880</th>\n",
       "      <td>7068</td>\n",
       "      <td>7524</td>\n",
       "      <td>College</td>\n",
       "      <td>male</td>\n",
       "      <td>21941.0</td>\n",
       "      <td>96.0</td>\n",
       "      <td>0.0</td>\n",
       "      <td>Personal Auto</td>\n",
       "      <td>California</td>\n",
       "      <td>691.200000</td>\n",
       "      <td>Four-Door Car</td>\n",
       "    </tr>\n",
       "    <tr>\n",
       "      <th>8881</th>\n",
       "      <td>7069</td>\n",
       "      <td>2611</td>\n",
       "      <td>College</td>\n",
       "      <td>male</td>\n",
       "      <td>0.0</td>\n",
       "      <td>77.0</td>\n",
       "      <td>0.0</td>\n",
       "      <td>Corporate Auto</td>\n",
       "      <td>California</td>\n",
       "      <td>369.600000</td>\n",
       "      <td>Two-Door Car</td>\n",
       "    </tr>\n",
       "  </tbody>\n",
       "</table>\n",
       "</div>"
      ],
      "text/plain": [
       "      index  customer_lifetime_value education  gender   income  \\\n",
       "8877   7065                    23405  Bachelor    male  71941.0   \n",
       "8878   7066                     3096   College  female  21604.0   \n",
       "8879   7067                     8163  Bachelor    male      0.0   \n",
       "8880   7068                     7524   College    male  21941.0   \n",
       "8881   7069                     2611   College    male      0.0   \n",
       "\n",
       "      monthly_premium_auto  number_of_open_complaints     policy_type  \\\n",
       "8877                  73.0                        0.0   Personal Auto   \n",
       "8878                  79.0                        0.0  Corporate Auto   \n",
       "8879                  85.0                        3.0  Corporate Auto   \n",
       "8880                  96.0                        0.0   Personal Auto   \n",
       "8881                  77.0                        0.0  Corporate Auto   \n",
       "\n",
       "           state  total_claim_amount  vehicle_class  \n",
       "8877  California          198.234764  Four-Door Car  \n",
       "8878  California          379.200000  Four-Door Car  \n",
       "8879  California          790.784983  Four-Door Car  \n",
       "8880  California          691.200000  Four-Door Car  \n",
       "8881  California          369.600000   Two-Door Car  "
      ]
     },
     "execution_count": 695,
     "metadata": {},
     "output_type": "execute_result"
    }
   ],
   "source": [
    "full_dataset.tail()\n",
    "#full_dataset.info()"
   ]
  },
  {
   "cell_type": "markdown",
   "id": "7903fe1d",
   "metadata": {},
   "source": [
    "## Day 2"
   ]
  },
  {
   "cell_type": "code",
   "execution_count": 696,
   "id": "d339b626",
   "metadata": {},
   "outputs": [],
   "source": [
    "#replace 0s with np.nan\n",
    "full_dataset[\"income\"] = full_dataset[\"income\"].replace(to_replace=0, value=np.nan)"
   ]
  },
  {
   "cell_type": "code",
   "execution_count": 697,
   "id": "f53754fd",
   "metadata": {},
   "outputs": [],
   "source": [
    "#fill mean of column to elements with NaN\n",
    "full_dataset[\"income\"] = full_dataset[\"income\"].replace(to_replace=np.nan, value=full_dataset[\"income\"].mean())"
   ]
  },
  {
   "cell_type": "code",
   "execution_count": 698,
   "id": "4c0144c3",
   "metadata": {},
   "outputs": [],
   "source": [
    "#replace 0s with np.nan\n",
    "full_dataset[\"monthly_premium_auto\"] = full_dataset[\"monthly_premium_auto\"].replace(to_replace=0, value=np.nan)\n",
    "#fill mean of column to elements with NaN\n",
    "full_dataset[\"monthly_premium_auto\"] = (\n",
    "    full_dataset[\"monthly_premium_auto\"].replace(to_replace=np.nan, value=full_dataset[\"monthly_premium_auto\"].mean()))"
   ]
  },
  {
   "cell_type": "code",
   "execution_count": 699,
   "id": "8f87351d",
   "metadata": {},
   "outputs": [],
   "source": [
    "#replace 0s with np.nan\n",
    "full_dataset[\"total_claim_amount\"] = full_dataset[\"total_claim_amount\"].replace(to_replace=0, value=np.nan)\n",
    "#fill mean of column to elements with NaN\n",
    "full_dataset[\"total_claim_amount\"] = (\n",
    "    full_dataset[\"total_claim_amount\"].replace(to_replace=np.nan, value=full_dataset[\"total_claim_amount\"].mean()))"
   ]
  },
  {
   "cell_type": "markdown",
   "id": "17e4c30e",
   "metadata": {},
   "source": [
    "Bucketing the data - Write a function to replace column \"State\" to different zones. California as West Region, Oregon as North West, and Washington as East, and Arizona and Nevada as Central"
   ]
  },
  {
   "cell_type": "code",
   "execution_count": 700,
   "id": "222a9415",
   "metadata": {},
   "outputs": [],
   "source": [
    "region_lst = ['California', 'Cali', 'Oregon', \"Washington\", 'WA', \"Arizona\", 'AZ', \"Nevada\"]\n",
    "def bucket(string, lst):\n",
    "    if string == (lst[0] or lst[1]):\n",
    "        return \"west_region\"\n",
    "    elif string == lst[2]:\n",
    "        return \"north_west\"\n",
    "    elif string == (lst[3] or lst[4]):\n",
    "        return \"east\"\n",
    "    elif string == (lst[5] or lst[6] or lst[7]):\n",
    "        return \"central\"\n",
    "    else:\n",
    "        return np.nan"
   ]
  },
  {
   "cell_type": "code",
   "execution_count": 701,
   "id": "af44731d",
   "metadata": {},
   "outputs": [],
   "source": [
    "full_dataset[\"state\"] = full_dataset[\"state\"].apply(lambda x: bucket(x,region_lst))"
   ]
  },
  {
   "cell_type": "code",
   "execution_count": 702,
   "id": "3a323abd",
   "metadata": {
    "scrolled": false
   },
   "outputs": [],
   "source": [
    "full_dataset = full_dataset.drop(\"index\", axis=1)"
   ]
  },
  {
   "cell_type": "code",
   "execution_count": 703,
   "id": "c2aa2e30",
   "metadata": {},
   "outputs": [
    {
     "data": {
      "text/html": [
       "<div>\n",
       "<style scoped>\n",
       "    .dataframe tbody tr th:only-of-type {\n",
       "        vertical-align: middle;\n",
       "    }\n",
       "\n",
       "    .dataframe tbody tr th {\n",
       "        vertical-align: top;\n",
       "    }\n",
       "\n",
       "    .dataframe thead th {\n",
       "        text-align: right;\n",
       "    }\n",
       "</style>\n",
       "<table border=\"1\" class=\"dataframe\">\n",
       "  <thead>\n",
       "    <tr style=\"text-align: right;\">\n",
       "      <th></th>\n",
       "      <th>customer_lifetime_value</th>\n",
       "      <th>education</th>\n",
       "      <th>gender</th>\n",
       "      <th>income</th>\n",
       "      <th>monthly_premium_auto</th>\n",
       "      <th>number_of_open_complaints</th>\n",
       "      <th>policy_type</th>\n",
       "      <th>state</th>\n",
       "      <th>total_claim_amount</th>\n",
       "      <th>vehicle_class</th>\n",
       "    </tr>\n",
       "  </thead>\n",
       "  <tbody>\n",
       "    <tr>\n",
       "      <th>8877</th>\n",
       "      <td>23405</td>\n",
       "      <td>Bachelor</td>\n",
       "      <td>male</td>\n",
       "      <td>71941.000000</td>\n",
       "      <td>73.0</td>\n",
       "      <td>0.0</td>\n",
       "      <td>Personal Auto</td>\n",
       "      <td>west_region</td>\n",
       "      <td>198.234764</td>\n",
       "      <td>Four-Door Car</td>\n",
       "    </tr>\n",
       "    <tr>\n",
       "      <th>8878</th>\n",
       "      <td>3096</td>\n",
       "      <td>College</td>\n",
       "      <td>female</td>\n",
       "      <td>21604.000000</td>\n",
       "      <td>79.0</td>\n",
       "      <td>0.0</td>\n",
       "      <td>Corporate Auto</td>\n",
       "      <td>west_region</td>\n",
       "      <td>379.200000</td>\n",
       "      <td>Four-Door Car</td>\n",
       "    </tr>\n",
       "    <tr>\n",
       "      <th>8879</th>\n",
       "      <td>8163</td>\n",
       "      <td>Bachelor</td>\n",
       "      <td>male</td>\n",
       "      <td>50704.717802</td>\n",
       "      <td>85.0</td>\n",
       "      <td>3.0</td>\n",
       "      <td>Corporate Auto</td>\n",
       "      <td>west_region</td>\n",
       "      <td>790.784983</td>\n",
       "      <td>Four-Door Car</td>\n",
       "    </tr>\n",
       "    <tr>\n",
       "      <th>8880</th>\n",
       "      <td>7524</td>\n",
       "      <td>College</td>\n",
       "      <td>male</td>\n",
       "      <td>21941.000000</td>\n",
       "      <td>96.0</td>\n",
       "      <td>0.0</td>\n",
       "      <td>Personal Auto</td>\n",
       "      <td>west_region</td>\n",
       "      <td>691.200000</td>\n",
       "      <td>Four-Door Car</td>\n",
       "    </tr>\n",
       "    <tr>\n",
       "      <th>8881</th>\n",
       "      <td>2611</td>\n",
       "      <td>College</td>\n",
       "      <td>male</td>\n",
       "      <td>50704.717802</td>\n",
       "      <td>77.0</td>\n",
       "      <td>0.0</td>\n",
       "      <td>Corporate Auto</td>\n",
       "      <td>west_region</td>\n",
       "      <td>369.600000</td>\n",
       "      <td>Two-Door Car</td>\n",
       "    </tr>\n",
       "  </tbody>\n",
       "</table>\n",
       "</div>"
      ],
      "text/plain": [
       "      customer_lifetime_value education  gender        income  \\\n",
       "8877                    23405  Bachelor    male  71941.000000   \n",
       "8878                     3096   College  female  21604.000000   \n",
       "8879                     8163  Bachelor    male  50704.717802   \n",
       "8880                     7524   College    male  21941.000000   \n",
       "8881                     2611   College    male  50704.717802   \n",
       "\n",
       "      monthly_premium_auto  number_of_open_complaints     policy_type  \\\n",
       "8877                  73.0                        0.0   Personal Auto   \n",
       "8878                  79.0                        0.0  Corporate Auto   \n",
       "8879                  85.0                        3.0  Corporate Auto   \n",
       "8880                  96.0                        0.0   Personal Auto   \n",
       "8881                  77.0                        0.0  Corporate Auto   \n",
       "\n",
       "            state  total_claim_amount  vehicle_class  \n",
       "8877  west_region          198.234764  Four-Door Car  \n",
       "8878  west_region          379.200000  Four-Door Car  \n",
       "8879  west_region          790.784983  Four-Door Car  \n",
       "8880  west_region          691.200000  Four-Door Car  \n",
       "8881  west_region          369.600000   Two-Door Car  "
      ]
     },
     "execution_count": 703,
     "metadata": {},
     "output_type": "execute_result"
    }
   ],
   "source": [
    "full_dataset.tail()"
   ]
  },
  {
   "cell_type": "code",
   "execution_count": 704,
   "id": "9a1ee901",
   "metadata": {},
   "outputs": [],
   "source": [
    "full_dataset[\"education\"] = full_dataset[\"education\"].str.lower()\n",
    "full_dataset[\"policy_type\"] = full_dataset[\"policy_type\"].str.lower()\n",
    "full_dataset[\"vehicle_class\"] = full_dataset[\"vehicle_class\"].str.lower()"
   ]
  },
  {
   "cell_type": "code",
   "execution_count": 705,
   "id": "6a6d398d",
   "metadata": {},
   "outputs": [
    {
     "data": {
      "text/plain": [
       "1"
      ]
     },
     "execution_count": 705,
     "metadata": {},
     "output_type": "execute_result"
    }
   ],
   "source": [
    "full_dataset[\"vehicle_class\"].isna().sum()"
   ]
  },
  {
   "cell_type": "code",
   "execution_count": 706,
   "id": "0f108ce4",
   "metadata": {},
   "outputs": [
    {
     "data": {
      "text/plain": [
       "array(['east', 'central', nan, 'west_region', 'north_west'], dtype=object)"
      ]
     },
     "execution_count": 706,
     "metadata": {},
     "output_type": "execute_result"
    }
   ],
   "source": [
    "full_dataset[\"state\"].unique()"
   ]
  },
  {
   "cell_type": "code",
   "execution_count": 707,
   "id": "99f180d9",
   "metadata": {},
   "outputs": [],
   "source": [
    "replace_dict = {\"luxury suv\": \"luxury vehicle\" , \"luxury car\" : \"luxury vehicle\"}\n",
    "full_dataset[\"vehicle_class\"] = full_dataset[\"vehicle_class\"].replace(replace_dict)"
   ]
  },
  {
   "cell_type": "code",
   "execution_count": 708,
   "id": "55cf3cd0",
   "metadata": {},
   "outputs": [],
   "source": [
    "#create index of all columns with numerical data\n",
    "numeric_cols = full_dataset.select_dtypes(include=[np.number]).columns\n",
    "#delete the ones that dont make any sense to remove the outliers from\n",
    "numeric_cols = numeric_cols.drop([\"number_of_open_complaints\"])"
   ]
  },
  {
   "cell_type": "code",
   "execution_count": 722,
   "id": "240f9f29",
   "metadata": {},
   "outputs": [
    {
     "name": "stdout",
     "output_type": "stream",
     "text": [
      "<class 'pandas.core.frame.DataFrame'>\n",
      "Int64Index: 8521 entries, 0 to 8881\n",
      "Data columns (total 10 columns):\n",
      " #   Column                     Non-Null Count  Dtype  \n",
      "---  ------                     --------------  -----  \n",
      " 0   customer_lifetime_value    8521 non-null   int64  \n",
      " 1   education                  8520 non-null   object \n",
      " 2   gender                     8521 non-null   object \n",
      " 3   income                     8521 non-null   float64\n",
      " 4   monthly_premium_auto       8521 non-null   float64\n",
      " 5   number_of_open_complaints  8520 non-null   float64\n",
      " 6   policy_type                8520 non-null   object \n",
      " 7   state                      7486 non-null   object \n",
      " 8   total_claim_amount         8521 non-null   float64\n",
      " 9   vehicle_class              8520 non-null   object \n",
      "dtypes: float64(4), int64(1), object(5)\n",
      "memory usage: 732.3+ KB\n"
     ]
    }
   ],
   "source": [
    "full_dataset.info()"
   ]
  },
  {
   "cell_type": "code",
   "execution_count": 728,
   "id": "48dcb5dc",
   "metadata": {},
   "outputs": [],
   "source": [
    "#create a dataframe only containing numerical data, based on the index numeric_cols and then apply the zscore\n",
    "numeric_data = full_dataset[numeric_cols]\n",
    "z = full_dataset[numeric_cols].apply(zscore)\n",
    "threshold = 3"
   ]
  },
  {
   "cell_type": "code",
   "execution_count": 747,
   "id": "d28a09ab",
   "metadata": {},
   "outputs": [],
   "source": [
    "# filter the dataframe to remove the outliers\n",
    "full_dataset = full_dataset[(z < threshold).all(axis=1)]"
   ]
  },
  {
   "cell_type": "code",
   "execution_count": 737,
   "id": "8dff33c7",
   "metadata": {},
   "outputs": [
    {
     "data": {
      "text/html": [
       "<div>\n",
       "<style scoped>\n",
       "    .dataframe tbody tr th:only-of-type {\n",
       "        vertical-align: middle;\n",
       "    }\n",
       "\n",
       "    .dataframe tbody tr th {\n",
       "        vertical-align: top;\n",
       "    }\n",
       "\n",
       "    .dataframe thead th {\n",
       "        text-align: right;\n",
       "    }\n",
       "</style>\n",
       "<table border=\"1\" class=\"dataframe\">\n",
       "  <thead>\n",
       "    <tr style=\"text-align: right;\">\n",
       "      <th></th>\n",
       "      <th>customer_lifetime_value</th>\n",
       "      <th>income</th>\n",
       "      <th>monthly_premium_auto</th>\n",
       "      <th>total_claim_amount</th>\n",
       "    </tr>\n",
       "  </thead>\n",
       "  <tbody>\n",
       "    <tr>\n",
       "      <th>1</th>\n",
       "      <td>697953</td>\n",
       "      <td>50704.717802</td>\n",
       "      <td>94.0</td>\n",
       "      <td>1131.464935</td>\n",
       "    </tr>\n",
       "    <tr>\n",
       "      <th>3</th>\n",
       "      <td>764586</td>\n",
       "      <td>50704.717802</td>\n",
       "      <td>106.0</td>\n",
       "      <td>529.881344</td>\n",
       "    </tr>\n",
       "    <tr>\n",
       "      <th>4</th>\n",
       "      <td>536307</td>\n",
       "      <td>36357.000000</td>\n",
       "      <td>68.0</td>\n",
       "      <td>17.269323</td>\n",
       "    </tr>\n",
       "    <tr>\n",
       "      <th>5</th>\n",
       "      <td>825629</td>\n",
       "      <td>62902.000000</td>\n",
       "      <td>69.0</td>\n",
       "      <td>159.383042</td>\n",
       "    </tr>\n",
       "    <tr>\n",
       "      <th>6</th>\n",
       "      <td>538089</td>\n",
       "      <td>55350.000000</td>\n",
       "      <td>67.0</td>\n",
       "      <td>321.600000</td>\n",
       "    </tr>\n",
       "    <tr>\n",
       "      <th>...</th>\n",
       "      <td>...</td>\n",
       "      <td>...</td>\n",
       "      <td>...</td>\n",
       "      <td>...</td>\n",
       "    </tr>\n",
       "    <tr>\n",
       "      <th>8877</th>\n",
       "      <td>23405</td>\n",
       "      <td>71941.000000</td>\n",
       "      <td>73.0</td>\n",
       "      <td>198.234764</td>\n",
       "    </tr>\n",
       "    <tr>\n",
       "      <th>8878</th>\n",
       "      <td>3096</td>\n",
       "      <td>21604.000000</td>\n",
       "      <td>79.0</td>\n",
       "      <td>379.200000</td>\n",
       "    </tr>\n",
       "    <tr>\n",
       "      <th>8879</th>\n",
       "      <td>8163</td>\n",
       "      <td>50704.717802</td>\n",
       "      <td>85.0</td>\n",
       "      <td>790.784983</td>\n",
       "    </tr>\n",
       "    <tr>\n",
       "      <th>8880</th>\n",
       "      <td>7524</td>\n",
       "      <td>21941.000000</td>\n",
       "      <td>96.0</td>\n",
       "      <td>691.200000</td>\n",
       "    </tr>\n",
       "    <tr>\n",
       "      <th>8881</th>\n",
       "      <td>2611</td>\n",
       "      <td>50704.717802</td>\n",
       "      <td>77.0</td>\n",
       "      <td>369.600000</td>\n",
       "    </tr>\n",
       "  </tbody>\n",
       "</table>\n",
       "<p>8093 rows × 4 columns</p>\n",
       "</div>"
      ],
      "text/plain": [
       "      customer_lifetime_value        income  monthly_premium_auto  \\\n",
       "1                      697953  50704.717802                  94.0   \n",
       "3                      764586  50704.717802                 106.0   \n",
       "4                      536307  36357.000000                  68.0   \n",
       "5                      825629  62902.000000                  69.0   \n",
       "6                      538089  55350.000000                  67.0   \n",
       "...                       ...           ...                   ...   \n",
       "8877                    23405  71941.000000                  73.0   \n",
       "8878                     3096  21604.000000                  79.0   \n",
       "8879                     8163  50704.717802                  85.0   \n",
       "8880                     7524  21941.000000                  96.0   \n",
       "8881                     2611  50704.717802                  77.0   \n",
       "\n",
       "      total_claim_amount  \n",
       "1            1131.464935  \n",
       "3             529.881344  \n",
       "4              17.269323  \n",
       "5             159.383042  \n",
       "6             321.600000  \n",
       "...                  ...  \n",
       "8877          198.234764  \n",
       "8878          379.200000  \n",
       "8879          790.784983  \n",
       "8880          691.200000  \n",
       "8881          369.600000  \n",
       "\n",
       "[8093 rows x 4 columns]"
      ]
     },
     "execution_count": 737,
     "metadata": {},
     "output_type": "execute_result"
    }
   ],
   "source": [
    "numeric_data"
   ]
  },
  {
   "cell_type": "code",
   "execution_count": 744,
   "id": "126b2dd6",
   "metadata": {},
   "outputs": [
    {
     "data": {
      "text/plain": [
       "8521"
      ]
     },
     "execution_count": 744,
     "metadata": {},
     "output_type": "execute_result"
    }
   ],
   "source": [
    "len(full_dataset)"
   ]
  },
  {
   "cell_type": "code",
   "execution_count": 750,
   "id": "bb87b7b3",
   "metadata": {},
   "outputs": [
    {
     "data": {
      "text/plain": [
       "Int64Index([   1,    3,    4,    5,    6,    7,    9,   10,   11,   12,\n",
       "            ...\n",
       "            8871, 8872, 8874, 8875, 8876, 8877, 8878, 8879, 8880, 8881],\n",
       "           dtype='int64', length=8093)"
      ]
     },
     "execution_count": 750,
     "metadata": {},
     "output_type": "execute_result"
    }
   ],
   "source": [
    "numeric_data.index"
   ]
  },
  {
   "cell_type": "code",
   "execution_count": 758,
   "id": "e3e6ff60",
   "metadata": {
    "scrolled": true
   },
   "outputs": [],
   "source": [
    "full_dataset = full_dataset.loc[numeric_data.index].reset_index()"
   ]
  },
  {
   "cell_type": "code",
   "execution_count": 762,
   "id": "43e55945",
   "metadata": {},
   "outputs": [
    {
     "data": {
      "text/plain": [
       "(8093, 11)"
      ]
     },
     "execution_count": 762,
     "metadata": {},
     "output_type": "execute_result"
    }
   ],
   "source": [
    "full_dataset.shape"
   ]
  },
  {
   "cell_type": "code",
   "execution_count": null,
   "id": "ff290dff",
   "metadata": {},
   "outputs": [],
   "source": []
  }
 ],
 "metadata": {
  "kernelspec": {
   "display_name": "Python 3 (ipykernel)",
   "language": "python",
   "name": "python3"
  },
  "language_info": {
   "codemirror_mode": {
    "name": "ipython",
    "version": 3
   },
   "file_extension": ".py",
   "mimetype": "text/x-python",
   "name": "python",
   "nbconvert_exporter": "python",
   "pygments_lexer": "ipython3",
   "version": "3.9.13"
  }
 },
 "nbformat": 4,
 "nbformat_minor": 5
}
