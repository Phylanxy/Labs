{
 "cells": [
  {
   "cell_type": "code",
   "execution_count": 764,
   "id": "dc5b0b44",
   "metadata": {},
   "outputs": [],
   "source": [
    "import numpy as np\n",
    "import pandas as pd\n",
    "import math\n",
    "import statistics as st\n",
    "from scipy.stats import zscore"
   ]
  },
  {
   "cell_type": "code",
   "execution_count": 765,
   "id": "2dae267e",
   "metadata": {},
   "outputs": [],
   "source": [
    "def convert_cols_to_lower(df):\n",
    "    df.columns = [ i.lower() for i in df.columns ]\n",
    "    return df"
   ]
  },
  {
   "cell_type": "code",
   "execution_count": 766,
   "id": "87d2073f",
   "metadata": {},
   "outputs": [],
   "source": [
    "column_lst = sorted(['Customer', 'State', 'Gender', 'Education', 'Customer Lifetime Value',\n",
    "       'Income', 'Monthly Premium Auto', 'Number of Open Complaints',\n",
    "       'Policy Type', 'Vehicle Class', 'Total Claim Amount'])\n",
    "\n",
    "def load_original_data():\n",
    "    file1 = pd.read_csv('Data/file1.csv')\n",
    "    file2 = pd.read_csv('Data/file2.csv')\n",
    "    file3 = pd.read_csv('Data/file3.csv')\n",
    "    \n",
    "    convert_cols_to_lower(file1)\n",
    "    convert_cols_to_lower(file2)\n",
    "    convert_cols_to_lower(file3)\n",
    "    \n",
    "    file1 = file1.sort_index(axis=1)\n",
    "    file2 = file2.sort_index(axis=1)\n",
    "    file3 = file3.sort_index(axis=1)\n",
    "    \n",
    "    file1.columns = column_lst\n",
    "    file2.columns = column_lst\n",
    "    file3.columns = file3.columns.str.replace(\"state\", \"st\")\n",
    "    file3.columns = column_lst\n",
    "    \n",
    "    df = pd.concat([file1, file2, file3], axis=0)\n",
    "    \n",
    "    return df"
   ]
  },
  {
   "cell_type": "code",
   "execution_count": 767,
   "id": "0623fe24",
   "metadata": {},
   "outputs": [],
   "source": [
    "#save this only for late, might be useful, here it doesn't work\n",
    "def replace_str_in_columns(df, str_to_replace, str_to_replace_with):\n",
    "    df.columns = sorted(df.columns.str.replace(str_to_replace, str_to_replace_with))\n",
    "    return df"
   ]
  },
  {
   "cell_type": "code",
   "execution_count": 768,
   "id": "5af1807c",
   "metadata": {
    "scrolled": false
   },
   "outputs": [],
   "source": [
    "#load the full dataset, correctly concatenated and in the desired order\n",
    "full_dataset = load_original_data()"
   ]
  },
  {
   "cell_type": "code",
   "execution_count": 769,
   "id": "c5e0cc35",
   "metadata": {},
   "outputs": [],
   "source": [
    "full_dataset.columns = [ i for i in full_dataset.columns.str.replace(\" \",\"_\").str.lower()]"
   ]
  },
  {
   "cell_type": "code",
   "execution_count": 770,
   "id": "f8bd9936",
   "metadata": {},
   "outputs": [
    {
     "data": {
      "text/plain": [
       "array(['Washington', 'Arizona', 'Nevada', 'California', 'Oregon', 'Cali',\n",
       "       'AZ', 'WA', nan], dtype=object)"
      ]
     },
     "execution_count": 770,
     "metadata": {},
     "output_type": "execute_result"
    }
   ],
   "source": [
    "full_dataset[\"state\"].unique()"
   ]
  },
  {
   "cell_type": "code",
   "execution_count": 771,
   "id": "ee8fbfd1",
   "metadata": {},
   "outputs": [],
   "source": [
    "#drop Customer column\n",
    "full_dataset = full_dataset.drop(\"customer\", axis=1)"
   ]
  },
  {
   "cell_type": "code",
   "execution_count": 772,
   "id": "aca5a10f",
   "metadata": {},
   "outputs": [],
   "source": [
    "#remove duplicates\n",
    "full_dataset = full_dataset.drop_duplicates()"
   ]
  },
  {
   "cell_type": "code",
   "execution_count": 773,
   "id": "d28192fa",
   "metadata": {},
   "outputs": [],
   "source": [
    "#remove rows with NaN elements in the column Customer Lifetime Value\n",
    "#full_dataset = full_dataset.dropna(subset=\"Customer Lifetime Value\")"
   ]
  },
  {
   "cell_type": "code",
   "execution_count": 774,
   "id": "d7ffecfc",
   "metadata": {},
   "outputs": [],
   "source": [
    "#reset the index to match the amout of rows\n",
    "full_dataset = full_dataset.reset_index()"
   ]
  },
  {
   "cell_type": "code",
   "execution_count": 775,
   "id": "eb92fb50",
   "metadata": {
    "scrolled": false
   },
   "outputs": [],
   "source": [
    "#remove \"%\" signs from Customer Lifetime Value where present\n",
    "full_dataset[\"customer_lifetime_value\"] = (\n",
    "    full_dataset[\"customer_lifetime_value\"].apply(lambda x: float(x.replace(\"%\", \" \"))/100 if type(x) == str else x))"
   ]
  },
  {
   "cell_type": "code",
   "execution_count": 776,
   "id": "edb358f7",
   "metadata": {},
   "outputs": [],
   "source": [
    "#convert Customer Lifetime Value into integer by first converting it into float\n",
    "full_dataset[\"customer_lifetime_value\"] = pd.to_numeric(full_dataset[\"customer_lifetime_value\"], errors = \"coerce\")\n",
    "full_dataset[\"customer_lifetime_value\"] = full_dataset[\"customer_lifetime_value\"].apply(lambda x: math.trunc(x) if np.isnan(x) != True else 0)"
   ]
  },
  {
   "cell_type": "code",
   "execution_count": 777,
   "id": "af00c198",
   "metadata": {},
   "outputs": [],
   "source": [
    "#full_dataset"
   ]
  },
  {
   "cell_type": "code",
   "execution_count": 778,
   "id": "fa9b039c",
   "metadata": {},
   "outputs": [],
   "source": [
    "#function that checks if input is a string and splits it at \"/\"\n",
    "#returning the 2nd element of the resulting list or returns x if it's not a string\n",
    "def split(x):\n",
    "    if isinstance(x, str):\n",
    "        return x.split(\"/\")[1]\n",
    "    return x"
   ]
  },
  {
   "cell_type": "code",
   "execution_count": 779,
   "id": "49b4c2f7",
   "metadata": {},
   "outputs": [],
   "source": [
    "full_dataset[\"number_of_open_complaints\"] = full_dataset[\"number_of_open_complaints\"].apply(lambda x: split(x))\n",
    "full_dataset[\"number_of_open_complaints\"] = pd.to_numeric(full_dataset[\"number_of_open_complaints\"], errors = \"coerce\")"
   ]
  },
  {
   "cell_type": "code",
   "execution_count": 780,
   "id": "36620816",
   "metadata": {},
   "outputs": [
    {
     "data": {
      "text/html": [
       "<div>\n",
       "<style scoped>\n",
       "    .dataframe tbody tr th:only-of-type {\n",
       "        vertical-align: middle;\n",
       "    }\n",
       "\n",
       "    .dataframe tbody tr th {\n",
       "        vertical-align: top;\n",
       "    }\n",
       "\n",
       "    .dataframe thead th {\n",
       "        text-align: right;\n",
       "    }\n",
       "</style>\n",
       "<table border=\"1\" class=\"dataframe\">\n",
       "  <thead>\n",
       "    <tr style=\"text-align: right;\">\n",
       "      <th></th>\n",
       "      <th>index</th>\n",
       "      <th>customer_lifetime_value</th>\n",
       "      <th>education</th>\n",
       "      <th>gender</th>\n",
       "      <th>income</th>\n",
       "      <th>monthly_premium_auto</th>\n",
       "      <th>number_of_open_complaints</th>\n",
       "      <th>policy_type</th>\n",
       "      <th>state</th>\n",
       "      <th>total_claim_amount</th>\n",
       "      <th>vehicle_class</th>\n",
       "    </tr>\n",
       "  </thead>\n",
       "  <tbody>\n",
       "    <tr>\n",
       "      <th>1070</th>\n",
       "      <td>1071</td>\n",
       "      <td>0</td>\n",
       "      <td>NaN</td>\n",
       "      <td>NaN</td>\n",
       "      <td>NaN</td>\n",
       "      <td>NaN</td>\n",
       "      <td>NaN</td>\n",
       "      <td>NaN</td>\n",
       "      <td>NaN</td>\n",
       "      <td>NaN</td>\n",
       "      <td>NaN</td>\n",
       "    </tr>\n",
       "  </tbody>\n",
       "</table>\n",
       "</div>"
      ],
      "text/plain": [
       "      index  customer_lifetime_value education gender  income  \\\n",
       "1070   1071                        0       NaN    NaN     NaN   \n",
       "\n",
       "      monthly_premium_auto  number_of_open_complaints policy_type state  \\\n",
       "1070                   NaN                        NaN         NaN   NaN   \n",
       "\n",
       "      total_claim_amount vehicle_class  \n",
       "1070                 NaN           NaN  "
      ]
     },
     "execution_count": 780,
     "metadata": {},
     "output_type": "execute_result"
    }
   ],
   "source": [
    "full_dataset.loc[full_dataset[\"number_of_open_complaints\"].isna()]"
   ]
  },
  {
   "cell_type": "code",
   "execution_count": 781,
   "id": "f5f6b797",
   "metadata": {},
   "outputs": [],
   "source": [
    "full_dataset = full_dataset.drop([1071])"
   ]
  },
  {
   "cell_type": "code",
   "execution_count": 782,
   "id": "df24276d",
   "metadata": {},
   "outputs": [],
   "source": [
    "def clean_gender(string):\n",
    "    m_lst = ['M', 'Male']\n",
    "    f_lst = ['F', 'Femal', 'female']\n",
    "    if isinstance(string, str) and string in m_lst:\n",
    "        return \"male\"\n",
    "    elif isinstance(string, str) and string in f_lst:\n",
    "        return \"female\"\n",
    "    else:\n",
    "        return \"error\""
   ]
  },
  {
   "cell_type": "code",
   "execution_count": 783,
   "id": "6665655b",
   "metadata": {},
   "outputs": [],
   "source": [
    "full_dataset['gender'] = list(map(clean_gender, full_dataset['gender']))"
   ]
  },
  {
   "cell_type": "code",
   "execution_count": 784,
   "id": "9650a792",
   "metadata": {},
   "outputs": [
    {
     "data": {
      "text/html": [
       "<div>\n",
       "<style scoped>\n",
       "    .dataframe tbody tr th:only-of-type {\n",
       "        vertical-align: middle;\n",
       "    }\n",
       "\n",
       "    .dataframe tbody tr th {\n",
       "        vertical-align: top;\n",
       "    }\n",
       "\n",
       "    .dataframe thead th {\n",
       "        text-align: right;\n",
       "    }\n",
       "</style>\n",
       "<table border=\"1\" class=\"dataframe\">\n",
       "  <thead>\n",
       "    <tr style=\"text-align: right;\">\n",
       "      <th></th>\n",
       "      <th>index</th>\n",
       "      <th>customer_lifetime_value</th>\n",
       "      <th>education</th>\n",
       "      <th>gender</th>\n",
       "      <th>income</th>\n",
       "      <th>monthly_premium_auto</th>\n",
       "      <th>number_of_open_complaints</th>\n",
       "      <th>policy_type</th>\n",
       "      <th>state</th>\n",
       "      <th>total_claim_amount</th>\n",
       "      <th>vehicle_class</th>\n",
       "    </tr>\n",
       "  </thead>\n",
       "  <tbody>\n",
       "    <tr>\n",
       "      <th>8877</th>\n",
       "      <td>7065</td>\n",
       "      <td>23405</td>\n",
       "      <td>Bachelor</td>\n",
       "      <td>male</td>\n",
       "      <td>71941.0</td>\n",
       "      <td>73.0</td>\n",
       "      <td>0.0</td>\n",
       "      <td>Personal Auto</td>\n",
       "      <td>California</td>\n",
       "      <td>198.234764</td>\n",
       "      <td>Four-Door Car</td>\n",
       "    </tr>\n",
       "    <tr>\n",
       "      <th>8878</th>\n",
       "      <td>7066</td>\n",
       "      <td>3096</td>\n",
       "      <td>College</td>\n",
       "      <td>female</td>\n",
       "      <td>21604.0</td>\n",
       "      <td>79.0</td>\n",
       "      <td>0.0</td>\n",
       "      <td>Corporate Auto</td>\n",
       "      <td>California</td>\n",
       "      <td>379.200000</td>\n",
       "      <td>Four-Door Car</td>\n",
       "    </tr>\n",
       "    <tr>\n",
       "      <th>8879</th>\n",
       "      <td>7067</td>\n",
       "      <td>8163</td>\n",
       "      <td>Bachelor</td>\n",
       "      <td>male</td>\n",
       "      <td>0.0</td>\n",
       "      <td>85.0</td>\n",
       "      <td>3.0</td>\n",
       "      <td>Corporate Auto</td>\n",
       "      <td>California</td>\n",
       "      <td>790.784983</td>\n",
       "      <td>Four-Door Car</td>\n",
       "    </tr>\n",
       "    <tr>\n",
       "      <th>8880</th>\n",
       "      <td>7068</td>\n",
       "      <td>7524</td>\n",
       "      <td>College</td>\n",
       "      <td>male</td>\n",
       "      <td>21941.0</td>\n",
       "      <td>96.0</td>\n",
       "      <td>0.0</td>\n",
       "      <td>Personal Auto</td>\n",
       "      <td>California</td>\n",
       "      <td>691.200000</td>\n",
       "      <td>Four-Door Car</td>\n",
       "    </tr>\n",
       "    <tr>\n",
       "      <th>8881</th>\n",
       "      <td>7069</td>\n",
       "      <td>2611</td>\n",
       "      <td>College</td>\n",
       "      <td>male</td>\n",
       "      <td>0.0</td>\n",
       "      <td>77.0</td>\n",
       "      <td>0.0</td>\n",
       "      <td>Corporate Auto</td>\n",
       "      <td>California</td>\n",
       "      <td>369.600000</td>\n",
       "      <td>Two-Door Car</td>\n",
       "    </tr>\n",
       "  </tbody>\n",
       "</table>\n",
       "</div>"
      ],
      "text/plain": [
       "      index  customer_lifetime_value education  gender   income  \\\n",
       "8877   7065                    23405  Bachelor    male  71941.0   \n",
       "8878   7066                     3096   College  female  21604.0   \n",
       "8879   7067                     8163  Bachelor    male      0.0   \n",
       "8880   7068                     7524   College    male  21941.0   \n",
       "8881   7069                     2611   College    male      0.0   \n",
       "\n",
       "      monthly_premium_auto  number_of_open_complaints     policy_type  \\\n",
       "8877                  73.0                        0.0   Personal Auto   \n",
       "8878                  79.0                        0.0  Corporate Auto   \n",
       "8879                  85.0                        3.0  Corporate Auto   \n",
       "8880                  96.0                        0.0   Personal Auto   \n",
       "8881                  77.0                        0.0  Corporate Auto   \n",
       "\n",
       "           state  total_claim_amount  vehicle_class  \n",
       "8877  California          198.234764  Four-Door Car  \n",
       "8878  California          379.200000  Four-Door Car  \n",
       "8879  California          790.784983  Four-Door Car  \n",
       "8880  California          691.200000  Four-Door Car  \n",
       "8881  California          369.600000   Two-Door Car  "
      ]
     },
     "execution_count": 784,
     "metadata": {},
     "output_type": "execute_result"
    }
   ],
   "source": [
    "full_dataset.tail()\n",
    "#full_dataset.info()"
   ]
  },
  {
   "cell_type": "markdown",
   "id": "7903fe1d",
   "metadata": {},
   "source": [
    "## Day 2"
   ]
  },
  {
   "cell_type": "code",
   "execution_count": 785,
   "id": "0a6e7dbe",
   "metadata": {},
   "outputs": [],
   "source": [
    "#replace 0s with np.nan\n",
    "full_dataset[\"income\"] = full_dataset[\"income\"].replace(to_replace=0, value=np.nan)"
   ]
  },
  {
   "cell_type": "code",
   "execution_count": 786,
   "id": "f53754fd",
   "metadata": {},
   "outputs": [],
   "source": [
    "#fill mean of column to elements with NaN\n",
    "full_dataset[\"income\"] = full_dataset[\"income\"].replace(to_replace=np.nan, value=full_dataset[\"income\"].mean())"
   ]
  },
  {
   "cell_type": "code",
   "execution_count": 787,
   "id": "4c0144c3",
   "metadata": {},
   "outputs": [],
   "source": [
    "#replace 0s with np.nan\n",
    "full_dataset[\"monthly_premium_auto\"] = full_dataset[\"monthly_premium_auto\"].replace(to_replace=0, value=np.nan)\n",
    "#fill mean of column to elements with NaN\n",
    "full_dataset[\"monthly_premium_auto\"] = (\n",
    "    full_dataset[\"monthly_premium_auto\"].replace(to_replace=np.nan, value=full_dataset[\"monthly_premium_auto\"].mean()))"
   ]
  },
  {
   "cell_type": "code",
   "execution_count": 788,
   "id": "8f87351d",
   "metadata": {},
   "outputs": [],
   "source": [
    "#replace 0s with np.nan\n",
    "full_dataset[\"total_claim_amount\"] = full_dataset[\"total_claim_amount\"].replace(to_replace=0, value=np.nan)\n",
    "#fill mean of column to elements with NaN\n",
    "full_dataset[\"total_claim_amount\"] = (\n",
    "    full_dataset[\"total_claim_amount\"].replace(to_replace=np.nan, value=full_dataset[\"total_claim_amount\"].mean()))"
   ]
  },
  {
   "cell_type": "markdown",
   "id": "17e4c30e",
   "metadata": {},
   "source": [
    "Bucketing the data - Write a function to replace column \"State\" to different zones. California as West Region, Oregon as North West, and Washington as East, and Arizona and Nevada as Central"
   ]
  },
  {
   "cell_type": "code",
   "execution_count": 789,
   "id": "222a9415",
   "metadata": {},
   "outputs": [],
   "source": [
    "region_lst = ['California', 'Cali', 'Oregon', \"Washington\", 'WA', \"Arizona\", 'AZ', \"Nevada\"]\n",
    "def bucket(string, lst):\n",
    "    if string == (lst[0] or lst[1]):\n",
    "        return \"west_region\"\n",
    "    elif string == lst[2]:\n",
    "        return \"north_west\"\n",
    "    elif string == (lst[3] or lst[4]):\n",
    "        return \"east\"\n",
    "    elif string == (lst[5] or lst[6] or lst[7]):\n",
    "        return \"central\"\n",
    "    else:\n",
    "        return np.nan"
   ]
  },
  {
   "cell_type": "code",
   "execution_count": 790,
   "id": "af44731d",
   "metadata": {},
   "outputs": [],
   "source": [
    "full_dataset[\"state\"] = full_dataset[\"state\"].apply(lambda x: bucket(x,region_lst))"
   ]
  },
  {
   "cell_type": "code",
   "execution_count": 791,
   "id": "3a323abd",
   "metadata": {
    "scrolled": false
   },
   "outputs": [],
   "source": [
    "full_dataset = full_dataset.drop(\"index\", axis=1)"
   ]
  },
  {
   "cell_type": "code",
   "execution_count": 792,
   "id": "2514e510",
   "metadata": {},
   "outputs": [
    {
     "data": {
      "text/html": [
       "<div>\n",
       "<style scoped>\n",
       "    .dataframe tbody tr th:only-of-type {\n",
       "        vertical-align: middle;\n",
       "    }\n",
       "\n",
       "    .dataframe tbody tr th {\n",
       "        vertical-align: top;\n",
       "    }\n",
       "\n",
       "    .dataframe thead th {\n",
       "        text-align: right;\n",
       "    }\n",
       "</style>\n",
       "<table border=\"1\" class=\"dataframe\">\n",
       "  <thead>\n",
       "    <tr style=\"text-align: right;\">\n",
       "      <th></th>\n",
       "      <th>customer_lifetime_value</th>\n",
       "      <th>education</th>\n",
       "      <th>gender</th>\n",
       "      <th>income</th>\n",
       "      <th>monthly_premium_auto</th>\n",
       "      <th>number_of_open_complaints</th>\n",
       "      <th>policy_type</th>\n",
       "      <th>state</th>\n",
       "      <th>total_claim_amount</th>\n",
       "      <th>vehicle_class</th>\n",
       "    </tr>\n",
       "  </thead>\n",
       "  <tbody>\n",
       "    <tr>\n",
       "      <th>8877</th>\n",
       "      <td>23405</td>\n",
       "      <td>Bachelor</td>\n",
       "      <td>male</td>\n",
       "      <td>71941.000000</td>\n",
       "      <td>73.0</td>\n",
       "      <td>0.0</td>\n",
       "      <td>Personal Auto</td>\n",
       "      <td>west_region</td>\n",
       "      <td>198.234764</td>\n",
       "      <td>Four-Door Car</td>\n",
       "    </tr>\n",
       "    <tr>\n",
       "      <th>8878</th>\n",
       "      <td>3096</td>\n",
       "      <td>College</td>\n",
       "      <td>female</td>\n",
       "      <td>21604.000000</td>\n",
       "      <td>79.0</td>\n",
       "      <td>0.0</td>\n",
       "      <td>Corporate Auto</td>\n",
       "      <td>west_region</td>\n",
       "      <td>379.200000</td>\n",
       "      <td>Four-Door Car</td>\n",
       "    </tr>\n",
       "    <tr>\n",
       "      <th>8879</th>\n",
       "      <td>8163</td>\n",
       "      <td>Bachelor</td>\n",
       "      <td>male</td>\n",
       "      <td>50704.717802</td>\n",
       "      <td>85.0</td>\n",
       "      <td>3.0</td>\n",
       "      <td>Corporate Auto</td>\n",
       "      <td>west_region</td>\n",
       "      <td>790.784983</td>\n",
       "      <td>Four-Door Car</td>\n",
       "    </tr>\n",
       "    <tr>\n",
       "      <th>8880</th>\n",
       "      <td>7524</td>\n",
       "      <td>College</td>\n",
       "      <td>male</td>\n",
       "      <td>21941.000000</td>\n",
       "      <td>96.0</td>\n",
       "      <td>0.0</td>\n",
       "      <td>Personal Auto</td>\n",
       "      <td>west_region</td>\n",
       "      <td>691.200000</td>\n",
       "      <td>Four-Door Car</td>\n",
       "    </tr>\n",
       "    <tr>\n",
       "      <th>8881</th>\n",
       "      <td>2611</td>\n",
       "      <td>College</td>\n",
       "      <td>male</td>\n",
       "      <td>50704.717802</td>\n",
       "      <td>77.0</td>\n",
       "      <td>0.0</td>\n",
       "      <td>Corporate Auto</td>\n",
       "      <td>west_region</td>\n",
       "      <td>369.600000</td>\n",
       "      <td>Two-Door Car</td>\n",
       "    </tr>\n",
       "  </tbody>\n",
       "</table>\n",
       "</div>"
      ],
      "text/plain": [
       "      customer_lifetime_value education  gender        income  \\\n",
       "8877                    23405  Bachelor    male  71941.000000   \n",
       "8878                     3096   College  female  21604.000000   \n",
       "8879                     8163  Bachelor    male  50704.717802   \n",
       "8880                     7524   College    male  21941.000000   \n",
       "8881                     2611   College    male  50704.717802   \n",
       "\n",
       "      monthly_premium_auto  number_of_open_complaints     policy_type  \\\n",
       "8877                  73.0                        0.0   Personal Auto   \n",
       "8878                  79.0                        0.0  Corporate Auto   \n",
       "8879                  85.0                        3.0  Corporate Auto   \n",
       "8880                  96.0                        0.0   Personal Auto   \n",
       "8881                  77.0                        0.0  Corporate Auto   \n",
       "\n",
       "            state  total_claim_amount  vehicle_class  \n",
       "8877  west_region          198.234764  Four-Door Car  \n",
       "8878  west_region          379.200000  Four-Door Car  \n",
       "8879  west_region          790.784983  Four-Door Car  \n",
       "8880  west_region          691.200000  Four-Door Car  \n",
       "8881  west_region          369.600000   Two-Door Car  "
      ]
     },
     "execution_count": 792,
     "metadata": {},
     "output_type": "execute_result"
    }
   ],
   "source": [
    "full_dataset.tail()"
   ]
  },
  {
   "cell_type": "code",
   "execution_count": 793,
   "id": "daea4d5f",
   "metadata": {},
   "outputs": [],
   "source": [
    "full_dataset[\"education\"] = full_dataset[\"education\"].str.lower()\n",
    "full_dataset[\"policy_type\"] = full_dataset[\"policy_type\"].str.lower()\n",
    "full_dataset[\"vehicle_class\"] = full_dataset[\"vehicle_class\"].str.lower()"
   ]
  },
  {
   "cell_type": "code",
   "execution_count": 794,
   "id": "01781c1a",
   "metadata": {},
   "outputs": [
    {
     "data": {
      "text/plain": [
       "1"
      ]
     },
     "execution_count": 794,
     "metadata": {},
     "output_type": "execute_result"
    }
   ],
   "source": [
    "full_dataset[\"vehicle_class\"].isna().sum()"
   ]
  },
  {
   "cell_type": "code",
   "execution_count": 795,
   "id": "0636e69f",
   "metadata": {},
   "outputs": [
    {
     "data": {
      "text/plain": [
       "array(['east', 'central', nan, 'west_region', 'north_west'], dtype=object)"
      ]
     },
     "execution_count": 795,
     "metadata": {},
     "output_type": "execute_result"
    }
   ],
   "source": [
    "full_dataset[\"state\"].unique()"
   ]
  },
  {
   "cell_type": "code",
   "execution_count": 796,
   "id": "20e8817e",
   "metadata": {},
   "outputs": [],
   "source": [
    "replace_dict = {\"luxury suv\": \"luxury vehicle\" , \"luxury car\" : \"luxury vehicle\"}\n",
    "full_dataset[\"vehicle_class\"] = full_dataset[\"vehicle_class\"].replace(replace_dict)"
   ]
  },
  {
   "cell_type": "code",
   "execution_count": 797,
   "id": "09f56f98",
   "metadata": {},
   "outputs": [],
   "source": [
    "#create index of all columns with numerical data\n",
    "numeric_cols = full_dataset.select_dtypes(include=[np.number]).columns\n",
    "#delete the ones that dont make any sense to remove the outliers from\n",
    "numeric_cols = numeric_cols.drop([\"number_of_open_complaints\"])"
   ]
  },
  {
   "cell_type": "code",
   "execution_count": 806,
   "id": "9ec9cdee",
   "metadata": {},
   "outputs": [
    {
     "data": {
      "text/html": [
       "<div>\n",
       "<style scoped>\n",
       "    .dataframe tbody tr th:only-of-type {\n",
       "        vertical-align: middle;\n",
       "    }\n",
       "\n",
       "    .dataframe tbody tr th {\n",
       "        vertical-align: top;\n",
       "    }\n",
       "\n",
       "    .dataframe thead th {\n",
       "        text-align: right;\n",
       "    }\n",
       "</style>\n",
       "<table border=\"1\" class=\"dataframe\">\n",
       "  <thead>\n",
       "    <tr style=\"text-align: right;\">\n",
       "      <th></th>\n",
       "      <th>customer_lifetime_value</th>\n",
       "      <th>education</th>\n",
       "      <th>gender</th>\n",
       "      <th>income</th>\n",
       "      <th>monthly_premium_auto</th>\n",
       "      <th>number_of_open_complaints</th>\n",
       "      <th>policy_type</th>\n",
       "      <th>state</th>\n",
       "      <th>total_claim_amount</th>\n",
       "      <th>vehicle_class</th>\n",
       "    </tr>\n",
       "  </thead>\n",
       "  <tbody>\n",
       "    <tr>\n",
       "      <th>0</th>\n",
       "      <td>0</td>\n",
       "      <td>master</td>\n",
       "      <td>error</td>\n",
       "      <td>50704.717802</td>\n",
       "      <td>1000.0</td>\n",
       "      <td>0.0</td>\n",
       "      <td>personal auto</td>\n",
       "      <td>east</td>\n",
       "      <td>2.704934</td>\n",
       "      <td>four-door car</td>\n",
       "    </tr>\n",
       "    <tr>\n",
       "      <th>1</th>\n",
       "      <td>6979</td>\n",
       "      <td>bachelor</td>\n",
       "      <td>female</td>\n",
       "      <td>50704.717802</td>\n",
       "      <td>94.0</td>\n",
       "      <td>0.0</td>\n",
       "      <td>personal auto</td>\n",
       "      <td>central</td>\n",
       "      <td>1131.464935</td>\n",
       "      <td>four-door car</td>\n",
       "    </tr>\n",
       "    <tr>\n",
       "      <th>2</th>\n",
       "      <td>12887</td>\n",
       "      <td>bachelor</td>\n",
       "      <td>female</td>\n",
       "      <td>48767.000000</td>\n",
       "      <td>108.0</td>\n",
       "      <td>0.0</td>\n",
       "      <td>personal auto</td>\n",
       "      <td>NaN</td>\n",
       "      <td>566.472247</td>\n",
       "      <td>two-door car</td>\n",
       "    </tr>\n",
       "    <tr>\n",
       "      <th>3</th>\n",
       "      <td>7645</td>\n",
       "      <td>bachelor</td>\n",
       "      <td>male</td>\n",
       "      <td>50704.717802</td>\n",
       "      <td>106.0</td>\n",
       "      <td>0.0</td>\n",
       "      <td>corporate auto</td>\n",
       "      <td>west_region</td>\n",
       "      <td>529.881344</td>\n",
       "      <td>suv</td>\n",
       "    </tr>\n",
       "    <tr>\n",
       "      <th>4</th>\n",
       "      <td>5363</td>\n",
       "      <td>high school or below</td>\n",
       "      <td>male</td>\n",
       "      <td>36357.000000</td>\n",
       "      <td>68.0</td>\n",
       "      <td>0.0</td>\n",
       "      <td>personal auto</td>\n",
       "      <td>east</td>\n",
       "      <td>17.269323</td>\n",
       "      <td>four-door car</td>\n",
       "    </tr>\n",
       "    <tr>\n",
       "      <th>...</th>\n",
       "      <td>...</td>\n",
       "      <td>...</td>\n",
       "      <td>...</td>\n",
       "      <td>...</td>\n",
       "      <td>...</td>\n",
       "      <td>...</td>\n",
       "      <td>...</td>\n",
       "      <td>...</td>\n",
       "      <td>...</td>\n",
       "      <td>...</td>\n",
       "    </tr>\n",
       "    <tr>\n",
       "      <th>8877</th>\n",
       "      <td>23405</td>\n",
       "      <td>bachelor</td>\n",
       "      <td>male</td>\n",
       "      <td>71941.000000</td>\n",
       "      <td>73.0</td>\n",
       "      <td>0.0</td>\n",
       "      <td>personal auto</td>\n",
       "      <td>west_region</td>\n",
       "      <td>198.234764</td>\n",
       "      <td>four-door car</td>\n",
       "    </tr>\n",
       "    <tr>\n",
       "      <th>8878</th>\n",
       "      <td>3096</td>\n",
       "      <td>college</td>\n",
       "      <td>female</td>\n",
       "      <td>21604.000000</td>\n",
       "      <td>79.0</td>\n",
       "      <td>0.0</td>\n",
       "      <td>corporate auto</td>\n",
       "      <td>west_region</td>\n",
       "      <td>379.200000</td>\n",
       "      <td>four-door car</td>\n",
       "    </tr>\n",
       "    <tr>\n",
       "      <th>8879</th>\n",
       "      <td>8163</td>\n",
       "      <td>bachelor</td>\n",
       "      <td>male</td>\n",
       "      <td>50704.717802</td>\n",
       "      <td>85.0</td>\n",
       "      <td>3.0</td>\n",
       "      <td>corporate auto</td>\n",
       "      <td>west_region</td>\n",
       "      <td>790.784983</td>\n",
       "      <td>four-door car</td>\n",
       "    </tr>\n",
       "    <tr>\n",
       "      <th>8880</th>\n",
       "      <td>7524</td>\n",
       "      <td>college</td>\n",
       "      <td>male</td>\n",
       "      <td>21941.000000</td>\n",
       "      <td>96.0</td>\n",
       "      <td>0.0</td>\n",
       "      <td>personal auto</td>\n",
       "      <td>west_region</td>\n",
       "      <td>691.200000</td>\n",
       "      <td>four-door car</td>\n",
       "    </tr>\n",
       "    <tr>\n",
       "      <th>8881</th>\n",
       "      <td>2611</td>\n",
       "      <td>college</td>\n",
       "      <td>male</td>\n",
       "      <td>50704.717802</td>\n",
       "      <td>77.0</td>\n",
       "      <td>0.0</td>\n",
       "      <td>corporate auto</td>\n",
       "      <td>west_region</td>\n",
       "      <td>369.600000</td>\n",
       "      <td>two-door car</td>\n",
       "    </tr>\n",
       "  </tbody>\n",
       "</table>\n",
       "<p>8521 rows × 10 columns</p>\n",
       "</div>"
      ],
      "text/plain": [
       "      customer_lifetime_value             education  gender        income  \\\n",
       "0                           0                master   error  50704.717802   \n",
       "1                        6979              bachelor  female  50704.717802   \n",
       "2                       12887              bachelor  female  48767.000000   \n",
       "3                        7645              bachelor    male  50704.717802   \n",
       "4                        5363  high school or below    male  36357.000000   \n",
       "...                       ...                   ...     ...           ...   \n",
       "8877                    23405              bachelor    male  71941.000000   \n",
       "8878                     3096               college  female  21604.000000   \n",
       "8879                     8163              bachelor    male  50704.717802   \n",
       "8880                     7524               college    male  21941.000000   \n",
       "8881                     2611               college    male  50704.717802   \n",
       "\n",
       "      monthly_premium_auto  number_of_open_complaints     policy_type  \\\n",
       "0                   1000.0                        0.0   personal auto   \n",
       "1                     94.0                        0.0   personal auto   \n",
       "2                    108.0                        0.0   personal auto   \n",
       "3                    106.0                        0.0  corporate auto   \n",
       "4                     68.0                        0.0   personal auto   \n",
       "...                    ...                        ...             ...   \n",
       "8877                  73.0                        0.0   personal auto   \n",
       "8878                  79.0                        0.0  corporate auto   \n",
       "8879                  85.0                        3.0  corporate auto   \n",
       "8880                  96.0                        0.0   personal auto   \n",
       "8881                  77.0                        0.0  corporate auto   \n",
       "\n",
       "            state  total_claim_amount  vehicle_class  \n",
       "0            east            2.704934  four-door car  \n",
       "1         central         1131.464935  four-door car  \n",
       "2             NaN          566.472247   two-door car  \n",
       "3     west_region          529.881344            suv  \n",
       "4            east           17.269323  four-door car  \n",
       "...           ...                 ...            ...  \n",
       "8877  west_region          198.234764  four-door car  \n",
       "8878  west_region          379.200000  four-door car  \n",
       "8879  west_region          790.784983  four-door car  \n",
       "8880  west_region          691.200000  four-door car  \n",
       "8881  west_region          369.600000   two-door car  \n",
       "\n",
       "[8521 rows x 10 columns]"
      ]
     },
     "execution_count": 806,
     "metadata": {},
     "output_type": "execute_result"
    }
   ],
   "source": [
    "full_dataset"
   ]
  },
  {
   "cell_type": "code",
   "execution_count": 799,
   "id": "020d5894",
   "metadata": {},
   "outputs": [],
   "source": [
    "#create a dataframe only containing numerical data, based on the index numeric_cols and then apply the zscore\n",
    "numeric_data = full_dataset[numeric_cols]\n",
    "z = full_dataset[numeric_cols].apply(zscore)\n",
    "threshold = 3"
   ]
  },
  {
   "cell_type": "code",
   "execution_count": 800,
   "id": "ee26f241",
   "metadata": {},
   "outputs": [],
   "source": [
    "# filter the dataframe to remove the outliers\n",
    "full_dataset = full_dataset[(z < threshold).all(axis=1)]"
   ]
  },
  {
   "cell_type": "code",
   "execution_count": 801,
   "id": "387e6fcf",
   "metadata": {},
   "outputs": [
    {
     "data": {
      "text/html": [
       "<div>\n",
       "<style scoped>\n",
       "    .dataframe tbody tr th:only-of-type {\n",
       "        vertical-align: middle;\n",
       "    }\n",
       "\n",
       "    .dataframe tbody tr th {\n",
       "        vertical-align: top;\n",
       "    }\n",
       "\n",
       "    .dataframe thead th {\n",
       "        text-align: right;\n",
       "    }\n",
       "</style>\n",
       "<table border=\"1\" class=\"dataframe\">\n",
       "  <thead>\n",
       "    <tr style=\"text-align: right;\">\n",
       "      <th></th>\n",
       "      <th>customer_lifetime_value</th>\n",
       "      <th>income</th>\n",
       "      <th>monthly_premium_auto</th>\n",
       "      <th>total_claim_amount</th>\n",
       "    </tr>\n",
       "  </thead>\n",
       "  <tbody>\n",
       "    <tr>\n",
       "      <th>0</th>\n",
       "      <td>0</td>\n",
       "      <td>50704.717802</td>\n",
       "      <td>1000.0</td>\n",
       "      <td>2.704934</td>\n",
       "    </tr>\n",
       "    <tr>\n",
       "      <th>1</th>\n",
       "      <td>6979</td>\n",
       "      <td>50704.717802</td>\n",
       "      <td>94.0</td>\n",
       "      <td>1131.464935</td>\n",
       "    </tr>\n",
       "    <tr>\n",
       "      <th>2</th>\n",
       "      <td>12887</td>\n",
       "      <td>48767.000000</td>\n",
       "      <td>108.0</td>\n",
       "      <td>566.472247</td>\n",
       "    </tr>\n",
       "    <tr>\n",
       "      <th>3</th>\n",
       "      <td>7645</td>\n",
       "      <td>50704.717802</td>\n",
       "      <td>106.0</td>\n",
       "      <td>529.881344</td>\n",
       "    </tr>\n",
       "    <tr>\n",
       "      <th>4</th>\n",
       "      <td>5363</td>\n",
       "      <td>36357.000000</td>\n",
       "      <td>68.0</td>\n",
       "      <td>17.269323</td>\n",
       "    </tr>\n",
       "    <tr>\n",
       "      <th>...</th>\n",
       "      <td>...</td>\n",
       "      <td>...</td>\n",
       "      <td>...</td>\n",
       "      <td>...</td>\n",
       "    </tr>\n",
       "    <tr>\n",
       "      <th>8877</th>\n",
       "      <td>23405</td>\n",
       "      <td>71941.000000</td>\n",
       "      <td>73.0</td>\n",
       "      <td>198.234764</td>\n",
       "    </tr>\n",
       "    <tr>\n",
       "      <th>8878</th>\n",
       "      <td>3096</td>\n",
       "      <td>21604.000000</td>\n",
       "      <td>79.0</td>\n",
       "      <td>379.200000</td>\n",
       "    </tr>\n",
       "    <tr>\n",
       "      <th>8879</th>\n",
       "      <td>8163</td>\n",
       "      <td>50704.717802</td>\n",
       "      <td>85.0</td>\n",
       "      <td>790.784983</td>\n",
       "    </tr>\n",
       "    <tr>\n",
       "      <th>8880</th>\n",
       "      <td>7524</td>\n",
       "      <td>21941.000000</td>\n",
       "      <td>96.0</td>\n",
       "      <td>691.200000</td>\n",
       "    </tr>\n",
       "    <tr>\n",
       "      <th>8881</th>\n",
       "      <td>2611</td>\n",
       "      <td>50704.717802</td>\n",
       "      <td>77.0</td>\n",
       "      <td>369.600000</td>\n",
       "    </tr>\n",
       "  </tbody>\n",
       "</table>\n",
       "<p>8881 rows × 4 columns</p>\n",
       "</div>"
      ],
      "text/plain": [
       "      customer_lifetime_value        income  monthly_premium_auto  \\\n",
       "0                           0  50704.717802                1000.0   \n",
       "1                        6979  50704.717802                  94.0   \n",
       "2                       12887  48767.000000                 108.0   \n",
       "3                        7645  50704.717802                 106.0   \n",
       "4                        5363  36357.000000                  68.0   \n",
       "...                       ...           ...                   ...   \n",
       "8877                    23405  71941.000000                  73.0   \n",
       "8878                     3096  21604.000000                  79.0   \n",
       "8879                     8163  50704.717802                  85.0   \n",
       "8880                     7524  21941.000000                  96.0   \n",
       "8881                     2611  50704.717802                  77.0   \n",
       "\n",
       "      total_claim_amount  \n",
       "0               2.704934  \n",
       "1            1131.464935  \n",
       "2             566.472247  \n",
       "3             529.881344  \n",
       "4              17.269323  \n",
       "...                  ...  \n",
       "8877          198.234764  \n",
       "8878          379.200000  \n",
       "8879          790.784983  \n",
       "8880          691.200000  \n",
       "8881          369.600000  \n",
       "\n",
       "[8881 rows x 4 columns]"
      ]
     },
     "execution_count": 801,
     "metadata": {},
     "output_type": "execute_result"
    }
   ],
   "source": [
    "numeric_data"
   ]
  },
  {
   "cell_type": "code",
   "execution_count": 802,
   "id": "0610241a",
   "metadata": {},
   "outputs": [
    {
     "data": {
      "text/plain": [
       "8521"
      ]
     },
     "execution_count": 802,
     "metadata": {},
     "output_type": "execute_result"
    }
   ],
   "source": [
    "len(full_dataset)"
   ]
  },
  {
   "cell_type": "code",
   "execution_count": 803,
   "id": "cf34297f",
   "metadata": {},
   "outputs": [
    {
     "data": {
      "text/plain": [
       "Int64Index([   0,    1,    2,    3,    4,    5,    6,    7,    8,    9,\n",
       "            ...\n",
       "            8872, 8873, 8874, 8875, 8876, 8877, 8878, 8879, 8880, 8881],\n",
       "           dtype='int64', length=8881)"
      ]
     },
     "execution_count": 803,
     "metadata": {},
     "output_type": "execute_result"
    }
   ],
   "source": [
    "numeric_data.index"
   ]
  },
  {
   "cell_type": "code",
   "execution_count": 804,
   "id": "d4178b03",
   "metadata": {
    "scrolled": true
   },
   "outputs": [
    {
     "ename": "KeyError",
     "evalue": "'[44, 50, 51, 79, 114, 125, 196, 232, 248, 266, 303, 315, 354, 373, 375, 385, 404, 407, 408, 418, 435, 496, 512, 522, 541, 581, 626, 681, 741, 747, 810, 817, 820, 832, 836, 856, 869, 873, 888, 944, 1001, 1007, 1045, 1078, 1086, 1120, 1126, 1184, 1201, 1233, 1291, 1310, 1323, 1328, 1333, 1379, 1381, 1389, 1463, 1500, 1512, 1517, 1530, 1537, 1548, 1554, 1562, 1571, 1621, 1652, 1671, 1681, 1791, 1807, 1818, 1853, 1856, 1875, 1879, 1974, 2095, 2107, 2127, 2181, 2182, 2199, 2216, 2285, 2294, 2301, 2479, 2495, 2531, 2541, 2591, 2642, 2699, 2708, 2765, 2776, 2883, 2896, 2903, 3014, 3060, 3130, 3146, 3186, 3193, 3200, 3308, 3310, 3403, 3434, 3438, 3442, 3445, 3446, 3455, 3534, 3543, 3558, 3572, 3584, 3604, 3610, 3661, 3666, 3668, 3671, 3712, 3716, 3734, 3737, 3792, 3822, 3828, 3908, 3958, 4016, 4026, 4044, 4048, 4055, 4095, 4097, 4161, 4262, 4293, 4303, 4304, 4312, 4331, 4349, 4386, 4401, 4402, 4437, 4442, 4457, 4524, 4540, 4586, 4632, 4671, 4697, 4730, 4752, 4760, 4785, 4811, 4835, 4845, 4862, 4876, 4889, 4907, 4914, 4977, 4998, 5002, 5013, 5033, 5048, 5071, 5131, 5132, 5147, 5150, 5204, 5211, 5272, 5275, 5328, 5407, 5418, 5473, 5511, 5519, 5541, 5547, 5562, 5564, 5574, 5576, 5616, 5632, 5638, 5641, 5644, 5679, 5681, 5682, 5687, 5688, 5715, 5734, 5743, 5757, 5793, 5814, 5840, 5850, 5893, 5912, 5919, 6005, 6008, 6009, 6059, 6076, 6078, 6129, 6134, 6151, 6152, 6154, 6162, 6181, 6190, 6215, 6227, 6345, 6351, 6365, 6405, 6442, 6455, 6469, 6481, 6484, 6490, 6491, 6538, 6573, 6670, 6673, 6693, 6706, 6734, 6736, 6747, 6759, 6778, 6794, 6847, 6852, 6872, 6965, 6980, 6990, 6998, 7002, 7033, 7079, 7105, 7136, 7142, 7154, 7155, 7166, 7177, 7206, 7213, 7230, 7302, 7303, 7400, 7425, 7455, 7505, 7551, 7556, 7559, 7606, 7641, 7664, 7698, 7767, 7800, 7860, 7920, 7937, 7938, 7973, 8002, 8016, 8021, 8032, 8062, 8075, 8080, 8129, 8136, 8149, 8155, 8162, 8198, 8207, 8240, 8242, 8259, 8268, 8287, 8299, 8313, 8338, 8366, 8378, 8419, 8432, 8438, 8458, 8461, 8468, 8475, 8476, 8503, 8574, 8585, 8588, 8612, 8613, 8614, 8617, 8658, 8662, 8670, 8671, 8682, 8701, 8716, 8724, 8787, 8801, 8814, 8847, 8852, 8859, 8873] not in index'",
     "output_type": "error",
     "traceback": [
      "\u001b[1;31m---------------------------------------------------------------------------\u001b[0m",
      "\u001b[1;31mKeyError\u001b[0m                                  Traceback (most recent call last)",
      "\u001b[1;32m~\\AppData\\Local\\Temp\\ipykernel_15004\\1799320349.py\u001b[0m in \u001b[0;36m<module>\u001b[1;34m\u001b[0m\n\u001b[1;32m----> 1\u001b[1;33m \u001b[0mfull_dataset\u001b[0m \u001b[1;33m=\u001b[0m \u001b[0mfull_dataset\u001b[0m\u001b[1;33m.\u001b[0m\u001b[0mloc\u001b[0m\u001b[1;33m[\u001b[0m\u001b[0mnumeric_data\u001b[0m\u001b[1;33m.\u001b[0m\u001b[0mindex\u001b[0m\u001b[1;33m]\u001b[0m\u001b[1;33m.\u001b[0m\u001b[0mreset_index\u001b[0m\u001b[1;33m(\u001b[0m\u001b[1;33m)\u001b[0m\u001b[1;33m\u001b[0m\u001b[1;33m\u001b[0m\u001b[0m\n\u001b[0m",
      "\u001b[1;32mC:\\ProgramData\\Anaconda3\\lib\\site-packages\\pandas\\core\\indexing.py\u001b[0m in \u001b[0;36m__getitem__\u001b[1;34m(self, key)\u001b[0m\n\u001b[0;32m    965\u001b[0m \u001b[1;33m\u001b[0m\u001b[0m\n\u001b[0;32m    966\u001b[0m             \u001b[0mmaybe_callable\u001b[0m \u001b[1;33m=\u001b[0m \u001b[0mcom\u001b[0m\u001b[1;33m.\u001b[0m\u001b[0mapply_if_callable\u001b[0m\u001b[1;33m(\u001b[0m\u001b[0mkey\u001b[0m\u001b[1;33m,\u001b[0m \u001b[0mself\u001b[0m\u001b[1;33m.\u001b[0m\u001b[0mobj\u001b[0m\u001b[1;33m)\u001b[0m\u001b[1;33m\u001b[0m\u001b[1;33m\u001b[0m\u001b[0m\n\u001b[1;32m--> 967\u001b[1;33m             \u001b[1;32mreturn\u001b[0m \u001b[0mself\u001b[0m\u001b[1;33m.\u001b[0m\u001b[0m_getitem_axis\u001b[0m\u001b[1;33m(\u001b[0m\u001b[0mmaybe_callable\u001b[0m\u001b[1;33m,\u001b[0m \u001b[0maxis\u001b[0m\u001b[1;33m=\u001b[0m\u001b[0maxis\u001b[0m\u001b[1;33m)\u001b[0m\u001b[1;33m\u001b[0m\u001b[1;33m\u001b[0m\u001b[0m\n\u001b[0m\u001b[0;32m    968\u001b[0m \u001b[1;33m\u001b[0m\u001b[0m\n\u001b[0;32m    969\u001b[0m     \u001b[1;32mdef\u001b[0m \u001b[0m_is_scalar_access\u001b[0m\u001b[1;33m(\u001b[0m\u001b[0mself\u001b[0m\u001b[1;33m,\u001b[0m \u001b[0mkey\u001b[0m\u001b[1;33m:\u001b[0m \u001b[0mtuple\u001b[0m\u001b[1;33m)\u001b[0m\u001b[1;33m:\u001b[0m\u001b[1;33m\u001b[0m\u001b[1;33m\u001b[0m\u001b[0m\n",
      "\u001b[1;32mC:\\ProgramData\\Anaconda3\\lib\\site-packages\\pandas\\core\\indexing.py\u001b[0m in \u001b[0;36m_getitem_axis\u001b[1;34m(self, key, axis)\u001b[0m\n\u001b[0;32m   1192\u001b[0m                     \u001b[1;32mraise\u001b[0m \u001b[0mValueError\u001b[0m\u001b[1;33m(\u001b[0m\u001b[1;34m\"Cannot index with multidimensional key\"\u001b[0m\u001b[1;33m)\u001b[0m\u001b[1;33m\u001b[0m\u001b[1;33m\u001b[0m\u001b[0m\n\u001b[0;32m   1193\u001b[0m \u001b[1;33m\u001b[0m\u001b[0m\n\u001b[1;32m-> 1194\u001b[1;33m                 \u001b[1;32mreturn\u001b[0m \u001b[0mself\u001b[0m\u001b[1;33m.\u001b[0m\u001b[0m_getitem_iterable\u001b[0m\u001b[1;33m(\u001b[0m\u001b[0mkey\u001b[0m\u001b[1;33m,\u001b[0m \u001b[0maxis\u001b[0m\u001b[1;33m=\u001b[0m\u001b[0maxis\u001b[0m\u001b[1;33m)\u001b[0m\u001b[1;33m\u001b[0m\u001b[1;33m\u001b[0m\u001b[0m\n\u001b[0m\u001b[0;32m   1195\u001b[0m \u001b[1;33m\u001b[0m\u001b[0m\n\u001b[0;32m   1196\u001b[0m             \u001b[1;31m# nested tuple slicing\u001b[0m\u001b[1;33m\u001b[0m\u001b[1;33m\u001b[0m\u001b[0m\n",
      "\u001b[1;32mC:\\ProgramData\\Anaconda3\\lib\\site-packages\\pandas\\core\\indexing.py\u001b[0m in \u001b[0;36m_getitem_iterable\u001b[1;34m(self, key, axis)\u001b[0m\n\u001b[0;32m   1130\u001b[0m \u001b[1;33m\u001b[0m\u001b[0m\n\u001b[0;32m   1131\u001b[0m         \u001b[1;31m# A collection of keys\u001b[0m\u001b[1;33m\u001b[0m\u001b[1;33m\u001b[0m\u001b[0m\n\u001b[1;32m-> 1132\u001b[1;33m         \u001b[0mkeyarr\u001b[0m\u001b[1;33m,\u001b[0m \u001b[0mindexer\u001b[0m \u001b[1;33m=\u001b[0m \u001b[0mself\u001b[0m\u001b[1;33m.\u001b[0m\u001b[0m_get_listlike_indexer\u001b[0m\u001b[1;33m(\u001b[0m\u001b[0mkey\u001b[0m\u001b[1;33m,\u001b[0m \u001b[0maxis\u001b[0m\u001b[1;33m)\u001b[0m\u001b[1;33m\u001b[0m\u001b[1;33m\u001b[0m\u001b[0m\n\u001b[0m\u001b[0;32m   1133\u001b[0m         return self.obj._reindex_with_indexers(\n\u001b[0;32m   1134\u001b[0m             \u001b[1;33m{\u001b[0m\u001b[0maxis\u001b[0m\u001b[1;33m:\u001b[0m \u001b[1;33m[\u001b[0m\u001b[0mkeyarr\u001b[0m\u001b[1;33m,\u001b[0m \u001b[0mindexer\u001b[0m\u001b[1;33m]\u001b[0m\u001b[1;33m}\u001b[0m\u001b[1;33m,\u001b[0m \u001b[0mcopy\u001b[0m\u001b[1;33m=\u001b[0m\u001b[1;32mTrue\u001b[0m\u001b[1;33m,\u001b[0m \u001b[0mallow_dups\u001b[0m\u001b[1;33m=\u001b[0m\u001b[1;32mTrue\u001b[0m\u001b[1;33m\u001b[0m\u001b[1;33m\u001b[0m\u001b[0m\n",
      "\u001b[1;32mC:\\ProgramData\\Anaconda3\\lib\\site-packages\\pandas\\core\\indexing.py\u001b[0m in \u001b[0;36m_get_listlike_indexer\u001b[1;34m(self, key, axis)\u001b[0m\n\u001b[0;32m   1328\u001b[0m         \u001b[0maxis_name\u001b[0m \u001b[1;33m=\u001b[0m \u001b[0mself\u001b[0m\u001b[1;33m.\u001b[0m\u001b[0mobj\u001b[0m\u001b[1;33m.\u001b[0m\u001b[0m_get_axis_name\u001b[0m\u001b[1;33m(\u001b[0m\u001b[0maxis\u001b[0m\u001b[1;33m)\u001b[0m\u001b[1;33m\u001b[0m\u001b[1;33m\u001b[0m\u001b[0m\n\u001b[0;32m   1329\u001b[0m \u001b[1;33m\u001b[0m\u001b[0m\n\u001b[1;32m-> 1330\u001b[1;33m         \u001b[0mkeyarr\u001b[0m\u001b[1;33m,\u001b[0m \u001b[0mindexer\u001b[0m \u001b[1;33m=\u001b[0m \u001b[0max\u001b[0m\u001b[1;33m.\u001b[0m\u001b[0m_get_indexer_strict\u001b[0m\u001b[1;33m(\u001b[0m\u001b[0mkey\u001b[0m\u001b[1;33m,\u001b[0m \u001b[0maxis_name\u001b[0m\u001b[1;33m)\u001b[0m\u001b[1;33m\u001b[0m\u001b[1;33m\u001b[0m\u001b[0m\n\u001b[0m\u001b[0;32m   1331\u001b[0m \u001b[1;33m\u001b[0m\u001b[0m\n\u001b[0;32m   1332\u001b[0m         \u001b[1;32mreturn\u001b[0m \u001b[0mkeyarr\u001b[0m\u001b[1;33m,\u001b[0m \u001b[0mindexer\u001b[0m\u001b[1;33m\u001b[0m\u001b[1;33m\u001b[0m\u001b[0m\n",
      "\u001b[1;32mC:\\ProgramData\\Anaconda3\\lib\\site-packages\\pandas\\core\\indexes\\base.py\u001b[0m in \u001b[0;36m_get_indexer_strict\u001b[1;34m(self, key, axis_name)\u001b[0m\n\u001b[0;32m   5794\u001b[0m             \u001b[0mkeyarr\u001b[0m\u001b[1;33m,\u001b[0m \u001b[0mindexer\u001b[0m\u001b[1;33m,\u001b[0m \u001b[0mnew_indexer\u001b[0m \u001b[1;33m=\u001b[0m \u001b[0mself\u001b[0m\u001b[1;33m.\u001b[0m\u001b[0m_reindex_non_unique\u001b[0m\u001b[1;33m(\u001b[0m\u001b[0mkeyarr\u001b[0m\u001b[1;33m)\u001b[0m\u001b[1;33m\u001b[0m\u001b[1;33m\u001b[0m\u001b[0m\n\u001b[0;32m   5795\u001b[0m \u001b[1;33m\u001b[0m\u001b[0m\n\u001b[1;32m-> 5796\u001b[1;33m         \u001b[0mself\u001b[0m\u001b[1;33m.\u001b[0m\u001b[0m_raise_if_missing\u001b[0m\u001b[1;33m(\u001b[0m\u001b[0mkeyarr\u001b[0m\u001b[1;33m,\u001b[0m \u001b[0mindexer\u001b[0m\u001b[1;33m,\u001b[0m \u001b[0maxis_name\u001b[0m\u001b[1;33m)\u001b[0m\u001b[1;33m\u001b[0m\u001b[1;33m\u001b[0m\u001b[0m\n\u001b[0m\u001b[0;32m   5797\u001b[0m \u001b[1;33m\u001b[0m\u001b[0m\n\u001b[0;32m   5798\u001b[0m         \u001b[0mkeyarr\u001b[0m \u001b[1;33m=\u001b[0m \u001b[0mself\u001b[0m\u001b[1;33m.\u001b[0m\u001b[0mtake\u001b[0m\u001b[1;33m(\u001b[0m\u001b[0mindexer\u001b[0m\u001b[1;33m)\u001b[0m\u001b[1;33m\u001b[0m\u001b[1;33m\u001b[0m\u001b[0m\n",
      "\u001b[1;32mC:\\ProgramData\\Anaconda3\\lib\\site-packages\\pandas\\core\\indexes\\base.py\u001b[0m in \u001b[0;36m_raise_if_missing\u001b[1;34m(self, key, indexer, axis_name)\u001b[0m\n\u001b[0;32m   5857\u001b[0m \u001b[1;33m\u001b[0m\u001b[0m\n\u001b[0;32m   5858\u001b[0m             \u001b[0mnot_found\u001b[0m \u001b[1;33m=\u001b[0m \u001b[0mlist\u001b[0m\u001b[1;33m(\u001b[0m\u001b[0mensure_index\u001b[0m\u001b[1;33m(\u001b[0m\u001b[0mkey\u001b[0m\u001b[1;33m)\u001b[0m\u001b[1;33m[\u001b[0m\u001b[0mmissing_mask\u001b[0m\u001b[1;33m.\u001b[0m\u001b[0mnonzero\u001b[0m\u001b[1;33m(\u001b[0m\u001b[1;33m)\u001b[0m\u001b[1;33m[\u001b[0m\u001b[1;36m0\u001b[0m\u001b[1;33m]\u001b[0m\u001b[1;33m]\u001b[0m\u001b[1;33m.\u001b[0m\u001b[0munique\u001b[0m\u001b[1;33m(\u001b[0m\u001b[1;33m)\u001b[0m\u001b[1;33m)\u001b[0m\u001b[1;33m\u001b[0m\u001b[1;33m\u001b[0m\u001b[0m\n\u001b[1;32m-> 5859\u001b[1;33m             \u001b[1;32mraise\u001b[0m \u001b[0mKeyError\u001b[0m\u001b[1;33m(\u001b[0m\u001b[1;34mf\"{not_found} not in index\"\u001b[0m\u001b[1;33m)\u001b[0m\u001b[1;33m\u001b[0m\u001b[1;33m\u001b[0m\u001b[0m\n\u001b[0m\u001b[0;32m   5860\u001b[0m \u001b[1;33m\u001b[0m\u001b[0m\n\u001b[0;32m   5861\u001b[0m     \u001b[1;33m@\u001b[0m\u001b[0moverload\u001b[0m\u001b[1;33m\u001b[0m\u001b[1;33m\u001b[0m\u001b[0m\n",
      "\u001b[1;31mKeyError\u001b[0m: '[44, 50, 51, 79, 114, 125, 196, 232, 248, 266, 303, 315, 354, 373, 375, 385, 404, 407, 408, 418, 435, 496, 512, 522, 541, 581, 626, 681, 741, 747, 810, 817, 820, 832, 836, 856, 869, 873, 888, 944, 1001, 1007, 1045, 1078, 1086, 1120, 1126, 1184, 1201, 1233, 1291, 1310, 1323, 1328, 1333, 1379, 1381, 1389, 1463, 1500, 1512, 1517, 1530, 1537, 1548, 1554, 1562, 1571, 1621, 1652, 1671, 1681, 1791, 1807, 1818, 1853, 1856, 1875, 1879, 1974, 2095, 2107, 2127, 2181, 2182, 2199, 2216, 2285, 2294, 2301, 2479, 2495, 2531, 2541, 2591, 2642, 2699, 2708, 2765, 2776, 2883, 2896, 2903, 3014, 3060, 3130, 3146, 3186, 3193, 3200, 3308, 3310, 3403, 3434, 3438, 3442, 3445, 3446, 3455, 3534, 3543, 3558, 3572, 3584, 3604, 3610, 3661, 3666, 3668, 3671, 3712, 3716, 3734, 3737, 3792, 3822, 3828, 3908, 3958, 4016, 4026, 4044, 4048, 4055, 4095, 4097, 4161, 4262, 4293, 4303, 4304, 4312, 4331, 4349, 4386, 4401, 4402, 4437, 4442, 4457, 4524, 4540, 4586, 4632, 4671, 4697, 4730, 4752, 4760, 4785, 4811, 4835, 4845, 4862, 4876, 4889, 4907, 4914, 4977, 4998, 5002, 5013, 5033, 5048, 5071, 5131, 5132, 5147, 5150, 5204, 5211, 5272, 5275, 5328, 5407, 5418, 5473, 5511, 5519, 5541, 5547, 5562, 5564, 5574, 5576, 5616, 5632, 5638, 5641, 5644, 5679, 5681, 5682, 5687, 5688, 5715, 5734, 5743, 5757, 5793, 5814, 5840, 5850, 5893, 5912, 5919, 6005, 6008, 6009, 6059, 6076, 6078, 6129, 6134, 6151, 6152, 6154, 6162, 6181, 6190, 6215, 6227, 6345, 6351, 6365, 6405, 6442, 6455, 6469, 6481, 6484, 6490, 6491, 6538, 6573, 6670, 6673, 6693, 6706, 6734, 6736, 6747, 6759, 6778, 6794, 6847, 6852, 6872, 6965, 6980, 6990, 6998, 7002, 7033, 7079, 7105, 7136, 7142, 7154, 7155, 7166, 7177, 7206, 7213, 7230, 7302, 7303, 7400, 7425, 7455, 7505, 7551, 7556, 7559, 7606, 7641, 7664, 7698, 7767, 7800, 7860, 7920, 7937, 7938, 7973, 8002, 8016, 8021, 8032, 8062, 8075, 8080, 8129, 8136, 8149, 8155, 8162, 8198, 8207, 8240, 8242, 8259, 8268, 8287, 8299, 8313, 8338, 8366, 8378, 8419, 8432, 8438, 8458, 8461, 8468, 8475, 8476, 8503, 8574, 8585, 8588, 8612, 8613, 8614, 8617, 8658, 8662, 8670, 8671, 8682, 8701, 8716, 8724, 8787, 8801, 8814, 8847, 8852, 8859, 8873] not in index'"
     ]
    }
   ],
   "source": [
    "full_dataset = full_dataset.loc[numeric_data.index].reset_index()"
   ]
  },
  {
   "cell_type": "code",
   "execution_count": null,
   "id": "9efa1eb2",
   "metadata": {},
   "outputs": [],
   "source": [
    "full_dataset.shape"
   ]
  },
  {
   "cell_type": "code",
   "execution_count": null,
   "id": "552600ac",
   "metadata": {},
   "outputs": [],
   "source": []
  }
 ],
 "metadata": {
  "kernelspec": {
   "display_name": "Python 3 (ipykernel)",
   "language": "python",
   "name": "python3"
  },
  "language_info": {
   "codemirror_mode": {
    "name": "ipython",
    "version": 3
   },
   "file_extension": ".py",
   "mimetype": "text/x-python",
   "name": "python",
   "nbconvert_exporter": "python",
   "pygments_lexer": "ipython3",
   "version": "3.9.13"
  }
 },
 "nbformat": 4,
 "nbformat_minor": 5
}
