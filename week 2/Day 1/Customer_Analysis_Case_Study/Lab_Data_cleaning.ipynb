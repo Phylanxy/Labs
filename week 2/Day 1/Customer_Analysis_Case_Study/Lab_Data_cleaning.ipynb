{
 "cells": [
  {
   "cell_type": "code",
   "execution_count": 340,
   "id": "dc5b0b44",
   "metadata": {},
   "outputs": [],
   "source": [
    "import numpy as np\n",
    "import pandas as pd\n",
    "import matplotlib.pyplot as plt\n",
    "%matplotlib inline\n",
    "import seaborn as sns\n",
    "import statsmodels.api as sm\n",
    "from scipy.stats import boxcox\n",
    "pd.options.display.max_rows = 100"
   ]
  },
  {
   "cell_type": "code",
   "execution_count": 341,
   "id": "fcc9a6b5",
   "metadata": {},
   "outputs": [],
   "source": [
    "def convert_cols_to_lower(df):\n",
    "    df.columns = [ i.lower() for i in df.columns ]\n",
    "    return df"
   ]
  },
  {
   "cell_type": "code",
   "execution_count": 342,
   "id": "87d2073f",
   "metadata": {},
   "outputs": [],
   "source": [
    "column_lst = sorted(['Customer', 'State', 'Gender', 'Education', 'Customer Lifetime Value',\n",
    "       'Income', 'Monthly Premium Auto', 'Number of Open Complaints',\n",
    "       'Policy Type', 'Vehicle Class', 'Total Claim Amount'])\n",
    "\n",
    "def load_original_data():\n",
    "    file1 = pd.read_csv('Data/file1.csv')\n",
    "    file2 = pd.read_csv('Data/file2.csv')\n",
    "    file3 = pd.read_csv('Data/file3.csv')\n",
    "    \n",
    "    convert_cols_to_lower(file1)\n",
    "    convert_cols_to_lower(file2)\n",
    "    convert_cols_to_lower(file3)\n",
    "    \n",
    "    file1 = file1.sort_index(axis=1)\n",
    "    file2 = file2.sort_index(axis=1)\n",
    "    file3 = file3.sort_index(axis=1)\n",
    "    \n",
    "    file1.columns = column_lst\n",
    "    file2.columns = column_lst\n",
    "    file3.columns = file3.columns.str.replace(\"state\", \"st\")\n",
    "    file3.columns = column_lst\n",
    "    \n",
    "    df = pd.concat([file1, file2, file3], axis=0)\n",
    "    \n",
    "    return df"
   ]
  },
  {
   "cell_type": "code",
   "execution_count": 343,
   "id": "ea047e4a",
   "metadata": {},
   "outputs": [],
   "source": [
    "#save this only for late, might be useful, here it doesn't work\n",
    "def replace_str_in_columns(df, str_to_replace, str_to_replace_with):\n",
    "    df.columns = sorted(df.columns.str.replace(str_to_replace, str_to_replace_with))\n",
    "    return df"
   ]
  },
  {
   "cell_type": "code",
   "execution_count": 344,
   "id": "5af1807c",
   "metadata": {
    "scrolled": false
   },
   "outputs": [],
   "source": [
    "#load the full dataset, correctly concatenated and in the desired order\n",
    "full_dataset = load_original_data()"
   ]
  },
  {
   "cell_type": "code",
   "execution_count": 345,
   "id": "b7fc1164",
   "metadata": {},
   "outputs": [],
   "source": [
    "#drop Customer column\n",
    "full_dataset = full_dataset.drop(\"Customer\", axis=1)"
   ]
  },
  {
   "cell_type": "code",
   "execution_count": 346,
   "id": "9a9296ef",
   "metadata": {},
   "outputs": [],
   "source": [
    "#remove duplicates\n",
    "full_dataset = full_dataset.drop_duplicates()"
   ]
  },
  {
   "cell_type": "code",
   "execution_count": 347,
   "id": "e64f72c8",
   "metadata": {},
   "outputs": [],
   "source": [
    "full_dataset = full_dataset.dropna(subset=\"Customer Lifetime Value\")"
   ]
  },
  {
   "cell_type": "code",
   "execution_count": 348,
   "id": "482b5818",
   "metadata": {},
   "outputs": [],
   "source": [
    "full_dataset = full_dataset.reset_index()"
   ]
  },
  {
   "cell_type": "code",
   "execution_count": 349,
   "id": "95fbaecb",
   "metadata": {},
   "outputs": [
    {
     "data": {
      "text/plain": [
       "pandas.core.series.Series"
      ]
     },
     "execution_count": 349,
     "metadata": {},
     "output_type": "execute_result"
    }
   ],
   "source": [
    "type(full_dataset[\"Customer Lifetime Value\"])"
   ]
  },
  {
   "cell_type": "code",
   "execution_count": 350,
   "id": "fe7170f4",
   "metadata": {
    "scrolled": false
   },
   "outputs": [],
   "source": [
    "full_dataset[\"Customer Lifetime Value\"] = full_dataset[\"Customer Lifetime Value\"].apply(lambda x: x.replace(\"%\", \" \") if type(x) == str else x)"
   ]
  },
  {
   "cell_type": "code",
   "execution_count": 354,
   "id": "a2b6a72c",
   "metadata": {},
   "outputs": [
    {
     "name": "stdout",
     "output_type": "stream",
     "text": [
      "<class 'pandas.core.frame.DataFrame'>\n",
      "RangeIndex: 8874 entries, 0 to 8873\n",
      "Data columns (total 11 columns):\n",
      " #   Column                     Non-Null Count  Dtype  \n",
      "---  ------                     --------------  -----  \n",
      " 0   index                      8874 non-null   int64  \n",
      " 1   Customer Lifetime Value    8874 non-null   object \n",
      " 2   Education                  8874 non-null   object \n",
      " 3   Gender                     8754 non-null   object \n",
      " 4   Income                     8874 non-null   float64\n",
      " 5   Monthly Premium Auto       8874 non-null   float64\n",
      " 6   Number of Open Complaints  8874 non-null   object \n",
      " 7   Policy Type                8874 non-null   object \n",
      " 8   State                      8874 non-null   object \n",
      " 9   Total Claim Amount         8874 non-null   float64\n",
      " 10  Vehicle Class              8874 non-null   object \n",
      "dtypes: float64(3), int64(1), object(7)\n",
      "memory usage: 762.7+ KB\n"
     ]
    }
   ],
   "source": [
    "full_dataset.info()"
   ]
  },
  {
   "cell_type": "code",
   "execution_count": 359,
   "id": "33b5c2b8",
   "metadata": {},
   "outputs": [],
   "source": [
    "full_dataset[\"Customer Lifetime Value\"] = full_dataset[\"Customer Lifetime Value\"].astype('float64')\n",
    "full_dataset[\"Customer Lifetime Value\"] = full_dataset[\"Customer Lifetime Value\"].astype('int64')"
   ]
  },
  {
   "cell_type": "code",
   "execution_count": 360,
   "id": "6acc16d6",
   "metadata": {},
   "outputs": [
    {
     "name": "stdout",
     "output_type": "stream",
     "text": [
      "<class 'pandas.core.frame.DataFrame'>\n",
      "RangeIndex: 8874 entries, 0 to 8873\n",
      "Data columns (total 11 columns):\n",
      " #   Column                     Non-Null Count  Dtype  \n",
      "---  ------                     --------------  -----  \n",
      " 0   index                      8874 non-null   int64  \n",
      " 1   Customer Lifetime Value    8874 non-null   int64  \n",
      " 2   Education                  8874 non-null   object \n",
      " 3   Gender                     8754 non-null   object \n",
      " 4   Income                     8874 non-null   float64\n",
      " 5   Monthly Premium Auto       8874 non-null   float64\n",
      " 6   Number of Open Complaints  8874 non-null   object \n",
      " 7   Policy Type                8874 non-null   object \n",
      " 8   State                      8874 non-null   object \n",
      " 9   Total Claim Amount         8874 non-null   float64\n",
      " 10  Vehicle Class              8874 non-null   object \n",
      "dtypes: float64(3), int64(2), object(6)\n",
      "memory usage: 762.7+ KB\n"
     ]
    }
   ],
   "source": [
    "full_dataset.info()"
   ]
  },
  {
   "cell_type": "code",
   "execution_count": null,
   "id": "905a2f6e",
   "metadata": {},
   "outputs": [],
   "source": [
    "split_complaints = full_dataset[\"Number of Open Complaints\"].apply(lambda x: x.split(\"/\"))\n",
    "split_complaints"
   ]
  }
 ],
 "metadata": {
  "kernelspec": {
   "display_name": "Python 3 (ipykernel)",
   "language": "python",
   "name": "python3"
  },
  "language_info": {
   "codemirror_mode": {
    "name": "ipython",
    "version": 3
   },
   "file_extension": ".py",
   "mimetype": "text/x-python",
   "name": "python",
   "nbconvert_exporter": "python",
   "pygments_lexer": "ipython3",
   "version": "3.9.13"
  }
 },
 "nbformat": 4,
 "nbformat_minor": 5
}
