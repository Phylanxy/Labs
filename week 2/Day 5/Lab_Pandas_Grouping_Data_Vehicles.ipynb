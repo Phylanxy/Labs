{
 "cells": [
  {
   "cell_type": "markdown",
   "metadata": {
    "id": "N1YkD9XI6Fg3"
   },
   "source": [
    "# Pandas: grouping"
   ]
  },
  {
   "cell_type": "markdown",
   "source": [],
   "metadata": {
    "collapsed": false
   }
  },
  {
   "cell_type": "code",
   "execution_count": 16,
   "metadata": {
    "executionInfo": {
     "elapsed": 4,
     "status": "ok",
     "timestamp": 1623140082185,
     "user": {
      "displayName": "Ignacio Soteras",
      "photoUrl": "",
      "userId": "02050793736257155229"
     },
     "user_tz": -120
    },
    "id": "jL4kjGt66Fg5"
   },
   "outputs": [],
   "source": [
    "import pandas as pd\n",
    "import numpy as np"
   ]
  },
  {
   "cell_type": "code",
   "execution_count": 17,
   "metadata": {
    "executionInfo": {
     "elapsed": 1346,
     "status": "ok",
     "timestamp": 1623140174431,
     "user": {
      "displayName": "Ignacio Soteras",
      "photoUrl": "",
      "userId": "02050793736257155229"
     },
     "user_tz": -120
    },
    "id": "GVHPs2Qa6Fg5"
   },
   "outputs": [],
   "source": [
    "cars = pd.read_csv(\"data/vehicles.csv\")"
   ]
  },
  {
   "cell_type": "code",
   "execution_count": 18,
   "metadata": {
    "colab": {
     "base_uri": "https://localhost:8080/",
     "height": 477
    },
    "executionInfo": {
     "elapsed": 233,
     "status": "ok",
     "timestamp": 1623140176638,
     "user": {
      "displayName": "Ignacio Soteras",
      "photoUrl": "",
      "userId": "02050793736257155229"
     },
     "user_tz": -120
    },
    "id": "DseSH7qIPmxQ",
    "outputId": "9954b7e3-8541-4e16-cbce-b5828784b91e"
   },
   "outputs": [
    {
     "data": {
      "text/plain": "               Make                Model  Year  Engine Displacement  \\\n0        AM General    DJ Po Vehicle 2WD  1984                  2.5   \n1        AM General     FJ8c Post Office  1984                  4.2   \n2        AM General  Post Office DJ5 2WD  1985                  2.5   \n3        AM General  Post Office DJ8 2WD  1985                  4.2   \n4  ASC Incorporated                  GNX  1987                  3.8   \n\n   Cylinders     Transmission        Drivetrain                Vehicle Class  \\\n0        4.0  Automatic 3-spd     2-Wheel Drive  Special Purpose Vehicle 2WD   \n1        6.0  Automatic 3-spd     2-Wheel Drive  Special Purpose Vehicle 2WD   \n2        4.0  Automatic 3-spd  Rear-Wheel Drive  Special Purpose Vehicle 2WD   \n3        6.0  Automatic 3-spd  Rear-Wheel Drive  Special Purpose Vehicle 2WD   \n4        6.0  Automatic 4-spd  Rear-Wheel Drive                 Midsize Cars   \n\n  Fuel Type  Fuel Barrels/Year  City MPG  Highway MPG  Combined MPG  \\\n0   Regular          19.388824        18           17            17   \n1   Regular          25.354615        13           13            13   \n2   Regular          20.600625        16           17            16   \n3   Regular          25.354615        13           13            13   \n4   Premium          20.600625        14           21            16   \n\n   CO2 Emission Grams/Mile  Fuel Cost/Year  \n0               522.764706            1950  \n1               683.615385            2550  \n2               555.437500            2100  \n3               683.615385            2550  \n4               555.437500            2550  ",
      "text/html": "<div>\n<style scoped>\n    .dataframe tbody tr th:only-of-type {\n        vertical-align: middle;\n    }\n\n    .dataframe tbody tr th {\n        vertical-align: top;\n    }\n\n    .dataframe thead th {\n        text-align: right;\n    }\n</style>\n<table border=\"1\" class=\"dataframe\">\n  <thead>\n    <tr style=\"text-align: right;\">\n      <th></th>\n      <th>Make</th>\n      <th>Model</th>\n      <th>Year</th>\n      <th>Engine Displacement</th>\n      <th>Cylinders</th>\n      <th>Transmission</th>\n      <th>Drivetrain</th>\n      <th>Vehicle Class</th>\n      <th>Fuel Type</th>\n      <th>Fuel Barrels/Year</th>\n      <th>City MPG</th>\n      <th>Highway MPG</th>\n      <th>Combined MPG</th>\n      <th>CO2 Emission Grams/Mile</th>\n      <th>Fuel Cost/Year</th>\n    </tr>\n  </thead>\n  <tbody>\n    <tr>\n      <th>0</th>\n      <td>AM General</td>\n      <td>DJ Po Vehicle 2WD</td>\n      <td>1984</td>\n      <td>2.5</td>\n      <td>4.0</td>\n      <td>Automatic 3-spd</td>\n      <td>2-Wheel Drive</td>\n      <td>Special Purpose Vehicle 2WD</td>\n      <td>Regular</td>\n      <td>19.388824</td>\n      <td>18</td>\n      <td>17</td>\n      <td>17</td>\n      <td>522.764706</td>\n      <td>1950</td>\n    </tr>\n    <tr>\n      <th>1</th>\n      <td>AM General</td>\n      <td>FJ8c Post Office</td>\n      <td>1984</td>\n      <td>4.2</td>\n      <td>6.0</td>\n      <td>Automatic 3-spd</td>\n      <td>2-Wheel Drive</td>\n      <td>Special Purpose Vehicle 2WD</td>\n      <td>Regular</td>\n      <td>25.354615</td>\n      <td>13</td>\n      <td>13</td>\n      <td>13</td>\n      <td>683.615385</td>\n      <td>2550</td>\n    </tr>\n    <tr>\n      <th>2</th>\n      <td>AM General</td>\n      <td>Post Office DJ5 2WD</td>\n      <td>1985</td>\n      <td>2.5</td>\n      <td>4.0</td>\n      <td>Automatic 3-spd</td>\n      <td>Rear-Wheel Drive</td>\n      <td>Special Purpose Vehicle 2WD</td>\n      <td>Regular</td>\n      <td>20.600625</td>\n      <td>16</td>\n      <td>17</td>\n      <td>16</td>\n      <td>555.437500</td>\n      <td>2100</td>\n    </tr>\n    <tr>\n      <th>3</th>\n      <td>AM General</td>\n      <td>Post Office DJ8 2WD</td>\n      <td>1985</td>\n      <td>4.2</td>\n      <td>6.0</td>\n      <td>Automatic 3-spd</td>\n      <td>Rear-Wheel Drive</td>\n      <td>Special Purpose Vehicle 2WD</td>\n      <td>Regular</td>\n      <td>25.354615</td>\n      <td>13</td>\n      <td>13</td>\n      <td>13</td>\n      <td>683.615385</td>\n      <td>2550</td>\n    </tr>\n    <tr>\n      <th>4</th>\n      <td>ASC Incorporated</td>\n      <td>GNX</td>\n      <td>1987</td>\n      <td>3.8</td>\n      <td>6.0</td>\n      <td>Automatic 4-spd</td>\n      <td>Rear-Wheel Drive</td>\n      <td>Midsize Cars</td>\n      <td>Premium</td>\n      <td>20.600625</td>\n      <td>14</td>\n      <td>21</td>\n      <td>16</td>\n      <td>555.437500</td>\n      <td>2550</td>\n    </tr>\n  </tbody>\n</table>\n</div>"
     },
     "execution_count": 18,
     "metadata": {},
     "output_type": "execute_result"
    }
   ],
   "source": [
    "cars.head()"
   ]
  },
  {
   "cell_type": "markdown",
   "metadata": {
    "id": "7sOaJJT_fSx2"
   },
   "source": [
    "How many Car models? "
   ]
  },
  {
   "cell_type": "code",
   "execution_count": 19,
   "metadata": {
    "colab": {
     "base_uri": "https://localhost:8080/"
    },
    "executionInfo": {
     "elapsed": 249,
     "status": "ok",
     "timestamp": 1623143296731,
     "user": {
      "displayName": "Ignacio Soteras",
      "photoUrl": "",
      "userId": "02050793736257155229"
     },
     "user_tz": -120
    },
    "id": "w_2EOD5efUOS",
    "outputId": "7b643b35-7639-4033-e882-69996dc301d8"
   },
   "outputs": [
    {
     "data": {
      "text/plain": "3608"
     },
     "execution_count": 19,
     "metadata": {},
     "output_type": "execute_result"
    }
   ],
   "source": [
    "### your code is here\n",
    "len(cars[\"Model\"].value_counts())\n",
    "# there are 3608 different car models in the dataset"
   ]
  },
  {
   "cell_type": "markdown",
   "metadata": {},
   "source": [
    "group the data by the Make  using count function"
   ]
  },
  {
   "cell_type": "code",
   "execution_count": 20,
   "metadata": {
    "colab": {
     "base_uri": "https://localhost:8080/",
     "height": 544
    },
    "executionInfo": {
     "elapsed": 233,
     "status": "ok",
     "timestamp": 1623143566155,
     "user": {
      "displayName": "Ignacio Soteras",
      "photoUrl": "",
      "userId": "02050793736257155229"
     },
     "user_tz": -120
    },
    "id": "OTxZXCj_48hR",
    "outputId": "b1d1078e-ab91-475e-e94b-b28619722607"
   },
   "outputs": [
    {
     "data": {
      "text/plain": "Make\nChevrolet                             3643\nFord                                  2946\nDodge                                 2360\nGMC                                   2347\nToyota                                1836\n                                      ... \nExcalibur Autos                          1\nS and S Coach Company  E.p. Dutton       1\nEnvironmental Rsch and Devp Corp         1\nE. P. Dutton, Inc.                       1\nLambda Control Systems                   1\nName: Make, Length: 127, dtype: int64"
     },
     "execution_count": 20,
     "metadata": {},
     "output_type": "execute_result"
    }
   ],
   "source": [
    "### your code us here\n",
    "cars.groupby(\"Make\")[\"Make\"].count().sort_values(ascending=False)"
   ]
  },
  {
   "cell_type": "markdown",
   "metadata": {},
   "source": [
    "Converting Grams/Mile to Grams/Km\n",
    "\n",
    "1 Mile = 1.60934 Km\n",
    "\n",
    "Converting Gallons to Liters\n",
    "\n",
    "1 Gallon = 3.78541 Liters"
   ]
  },
  {
   "cell_type": "markdown",
   "metadata": {
    "id": "lJMDlBOM6Fg7"
   },
   "source": [
    "What brand has the most cars?"
   ]
  },
  {
   "cell_type": "code",
   "execution_count": 21,
   "metadata": {
    "id": "cbk5R7HL6Fg8"
   },
   "outputs": [
    {
     "data": {
      "text/plain": "Chevrolet                             3643\nFord                                  2946\nDodge                                 2360\nGMC                                   2347\nToyota                                1836\n                                      ... \nExcalibur Autos                          1\nS and S Coach Company  E.p. Dutton       1\nEnvironmental Rsch and Devp Corp         1\nE. P. Dutton, Inc.                       1\nLambda Control Systems                   1\nName: Make, Length: 127, dtype: int64"
     },
     "execution_count": 21,
     "metadata": {},
     "output_type": "execute_result"
    }
   ],
   "source": [
    "### your code us here\n",
    "cars[\"Make\"].value_counts()"
   ]
  },
  {
   "cell_type": "markdown",
   "metadata": {},
   "source": [
    "show the average CO2_Emission_Grams/Km  by Brand"
   ]
  },
  {
   "cell_type": "code",
   "execution_count": 22,
   "metadata": {
    "colab": {
     "base_uri": "https://localhost:8080/",
     "height": 437
    },
    "executionInfo": {
     "elapsed": 229,
     "status": "ok",
     "timestamp": 1623145437447,
     "user": {
      "displayName": "Ignacio Soteras",
      "photoUrl": "",
      "userId": "02050793736257155229"
     },
     "user_tz": -120
    },
    "id": "QQ40-Xvcq9Rr",
    "outputId": "517ea5be-6749-4170-c56b-ec950df6f45f"
   },
   "outputs": [
    {
     "data": {
      "text/plain": "Make\nAM General                     379.881345\nASC Incorporated               345.133719\nAcura                          262.583000\nAlfa Romeo                     288.287195\nAmerican Motors Corporation    314.264744\n                                  ...    \nVolkswagen                     244.038998\nVolvo                          270.796572\nWallace Environmental          408.857065\nYugo                           221.251107\nsmart                          153.498052\nName: CO2 Emission Grams/Km, Length: 127, dtype: float64"
     },
     "execution_count": 22,
     "metadata": {},
     "output_type": "execute_result"
    }
   ],
   "source": [
    "### your code us here\n",
    "cars.head(1)\n",
    "cars[\"CO2 Emission Grams/Km\"] =  cars[\"CO2 Emission Grams/Mile\"].apply(lambda x: x/1.60934)\n",
    "cars.groupby(\"Make\")[\"CO2 Emission Grams/Km\"].mean()"
   ]
  },
  {
   "cell_type": "markdown",
   "metadata": {},
   "source": [
    "show the average CO2_Emission_Grams/Km  by Brand ... sorted"
   ]
  },
  {
   "cell_type": "code",
   "execution_count": 23,
   "metadata": {
    "colab": {
     "base_uri": "https://localhost:8080/",
     "height": 437
    },
    "executionInfo": {
     "elapsed": 271,
     "status": "ok",
     "timestamp": 1623145508527,
     "user": {
      "displayName": "Ignacio Soteras",
      "photoUrl": "",
      "userId": "02050793736257155229"
     },
     "user_tz": -120
    },
    "id": "HmkHNbaIAlxR",
    "outputId": "90c966a3-f1cb-4cea-94da-7e3c4654d996"
   },
   "outputs": [
    {
     "data": {
      "text/plain": "Make\nVector                                651.919248\nSuperior Coaches Div E.p. Dutton      552.213951\nS and S Coach Company  E.p. Dutton    552.213951\nBugatti                               542.497235\nLaforza Automobile Inc                502.012683\n                                         ...    \nMINI                                  194.935105\nDaihatsu                              192.742404\nFiat                                  189.311494\nsmart                                 153.498052\nFisker                                105.011992\nName: CO2 Emission Grams/Km, Length: 127, dtype: float64"
     },
     "execution_count": 23,
     "metadata": {},
     "output_type": "execute_result"
    }
   ],
   "source": [
    "### your code us here\n",
    "cars.groupby(\"Make\")[\"CO2 Emission Grams/Km\"].mean().sort_values(ascending=False)"
   ]
  },
  {
   "cell_type": "markdown",
   "metadata": {},
   "source": [
    "# (Optional) "
   ]
  },
  {
   "cell_type": "markdown",
   "metadata": {
    "id": "PQDBkdTO6Fg8"
   },
   "source": [
    "Use `pd.cut` or `pd.qcut` to create 4 groups (bins) of cars, by Year. We want to explore how cars have evolved decade by decade."
   ]
  },
  {
   "cell_type": "code",
   "execution_count": 24,
   "metadata": {
    "colab": {
     "base_uri": "https://localhost:8080/"
    },
    "executionInfo": {
     "elapsed": 234,
     "status": "ok",
     "timestamp": 1623145662903,
     "user": {
      "displayName": "Ignacio Soteras",
      "photoUrl": "",
      "userId": "02050793736257155229"
     },
     "user_tz": -120
    },
    "id": "C70ymFKC6Fg8",
    "outputId": "b951d08b-a80a-4e63-ea09-8940423f97ee"
   },
   "outputs": [
    {
     "data": {
      "text/plain": "count    35952.00000\nmean      2000.71640\nstd         10.08529\nmin       1984.00000\n25%       1991.00000\n50%       2001.00000\n75%       2010.00000\nmax       2017.00000\nName: Year, dtype: float64"
     },
     "execution_count": 24,
     "metadata": {},
     "output_type": "execute_result"
    }
   ],
   "source": [
    "cars['Year'].describe()"
   ]
  },
  {
   "cell_type": "code",
   "execution_count": 25,
   "metadata": {},
   "outputs": [
    {
     "data": {
      "text/plain": "0        1984\n1        1984\n2        1985\n3        1985\n4        1987\n         ... \n35947    2013\n35948    2014\n35949    2015\n35950    2016\n35951    2016\nName: Year, Length: 35952, dtype: int64"
     },
     "execution_count": 25,
     "metadata": {},
     "output_type": "execute_result"
    }
   ],
   "source": [
    "cars[\"Year\"]"
   ]
  },
  {
   "cell_type": "code",
   "execution_count": 26,
   "metadata": {},
   "outputs": [],
   "source": [
    "cars[\"quartiles_by_year\"] = pd.qcut(x=cars[\"Year\"], q=4).reset_index().drop(\"index\", axis=1)"
   ]
  },
  {
   "cell_type": "markdown",
   "metadata": {
    "id": "fmGwGGya6Fg8"
   },
   "source": [
    "### Did cars consume more gas in the eighties?"
   ]
  },
  {
   "cell_type": "markdown",
   "metadata": {
    "colab": {
     "base_uri": "https://localhost:8080/",
     "height": 198
    },
    "executionInfo": {
     "elapsed": 256,
     "status": "ok",
     "timestamp": 1623146140731,
     "user": {
      "displayName": "Ignacio Soteras",
      "photoUrl": "",
      "userId": "02050793736257155229"
     },
     "user_tz": -120
    },
    "id": "_sOkpVbvwulT",
    "outputId": "0d79ee50-8241-4cc6-8e2d-b3bec5770bb6"
   },
   "source": [
    "show the average City_Km/Liter by year_range"
   ]
  },
  {
   "cell_type": "code",
   "execution_count": 27,
   "metadata": {},
   "outputs": [
    {
     "data": {
      "text/plain": "quartiles_by_year\n(1983.999, 1991.0]    7.326102\n(1991.0, 2001.0]      7.210326\n(2001.0, 2010.0]      7.208441\n(2010.0, 2017.0]      8.394430\nName: City KmPL, dtype: float64"
     },
     "execution_count": 27,
     "metadata": {},
     "output_type": "execute_result"
    }
   ],
   "source": [
    "### your code is here\n",
    "cars[\"City KmPL\"] = cars[\"City MPG\"].apply(lambda x: x*1.60934/3.78541)\n",
    "cars[\"Highway KmPL\"] = cars[\"Highway MPG\"].apply(lambda x: x*1.60934/3.78541)\n",
    "cars[\"Combined KmPL\"] = cars[\"Combined MPG\"].apply(lambda x: x*1.60934/3.78541)\n",
    "\n",
    "cars.groupby(\"quartiles_by_year\")[\"City KmPL\"].mean()"
   ]
  },
  {
   "cell_type": "markdown",
   "metadata": {
    "id": "ZZ96MZrR6Fg9"
   },
   "source": [
    "Which brands are more environment friendly?"
   ]
  },
  {
   "cell_type": "code",
   "execution_count": 31,
   "outputs": [
    {
     "data": {
      "text/plain": "                                 Fuel Barrels/Year  CO2 Emission Grams/Km\nquartiles_by_year  Make                                                  \n(1983.999, 1991.0] Lamborghini           43.051102             721.259038\n(1991.0, 2001.0]   Vector                38.912292             651.919248\n(1983.999, 1991.0] Rolls-Royce           36.719711             615.185717\n                   Aston Martin          36.145419             605.564292\n(2001.0, 2010.0]   Bugatti               32.961000             552.213951\n...                                            ...                    ...\n(2010.0, 2017.0]   Fiat                  11.383588             189.311494\n(1983.999, 1991.0] Daihatsu              11.299587             189.308267\n(2010.0, 2017.0]   smart                  9.231674             153.543176\n(2001.0, 2010.0]   smart                  9.155833             153.392764\n(2010.0, 2017.0]   Fisker                 6.359255             105.011992\n\n[271 rows x 2 columns]",
      "text/html": "<div>\n<style scoped>\n    .dataframe tbody tr th:only-of-type {\n        vertical-align: middle;\n    }\n\n    .dataframe tbody tr th {\n        vertical-align: top;\n    }\n\n    .dataframe thead th {\n        text-align: right;\n    }\n</style>\n<table border=\"1\" class=\"dataframe\">\n  <thead>\n    <tr style=\"text-align: right;\">\n      <th></th>\n      <th></th>\n      <th>Fuel Barrels/Year</th>\n      <th>CO2 Emission Grams/Km</th>\n    </tr>\n    <tr>\n      <th>quartiles_by_year</th>\n      <th>Make</th>\n      <th></th>\n      <th></th>\n    </tr>\n  </thead>\n  <tbody>\n    <tr>\n      <th>(1983.999, 1991.0]</th>\n      <th>Lamborghini</th>\n      <td>43.051102</td>\n      <td>721.259038</td>\n    </tr>\n    <tr>\n      <th>(1991.0, 2001.0]</th>\n      <th>Vector</th>\n      <td>38.912292</td>\n      <td>651.919248</td>\n    </tr>\n    <tr>\n      <th rowspan=\"2\" valign=\"top\">(1983.999, 1991.0]</th>\n      <th>Rolls-Royce</th>\n      <td>36.719711</td>\n      <td>615.185717</td>\n    </tr>\n    <tr>\n      <th>Aston Martin</th>\n      <td>36.145419</td>\n      <td>605.564292</td>\n    </tr>\n    <tr>\n      <th>(2001.0, 2010.0]</th>\n      <th>Bugatti</th>\n      <td>32.961000</td>\n      <td>552.213951</td>\n    </tr>\n    <tr>\n      <th>...</th>\n      <th>...</th>\n      <td>...</td>\n      <td>...</td>\n    </tr>\n    <tr>\n      <th>(2010.0, 2017.0]</th>\n      <th>Fiat</th>\n      <td>11.383588</td>\n      <td>189.311494</td>\n    </tr>\n    <tr>\n      <th>(1983.999, 1991.0]</th>\n      <th>Daihatsu</th>\n      <td>11.299587</td>\n      <td>189.308267</td>\n    </tr>\n    <tr>\n      <th>(2010.0, 2017.0]</th>\n      <th>smart</th>\n      <td>9.231674</td>\n      <td>153.543176</td>\n    </tr>\n    <tr>\n      <th>(2001.0, 2010.0]</th>\n      <th>smart</th>\n      <td>9.155833</td>\n      <td>153.392764</td>\n    </tr>\n    <tr>\n      <th>(2010.0, 2017.0]</th>\n      <th>Fisker</th>\n      <td>6.359255</td>\n      <td>105.011992</td>\n    </tr>\n  </tbody>\n</table>\n<p>271 rows × 2 columns</p>\n</div>"
     },
     "execution_count": 31,
     "metadata": {},
     "output_type": "execute_result"
    }
   ],
   "source": [
    "cars.groupby([\"quartiles_by_year\", \"Make\"])[[\"Fuel Barrels/Year\", \"CO2 Emission Grams/Km\"]].mean().sort_values(by=\"CO2 Emission Grams/Km\",ascending=False)"
   ],
   "metadata": {
    "collapsed": false
   }
  },
  {
   "cell_type": "markdown",
   "metadata": {
    "id": "dGHYkM8q6Fg9"
   },
   "source": [
    "Does the drivetrain affect fuel consumption?"
   ]
  },
  {
   "cell_type": "code",
   "execution_count": 33,
   "metadata": {
    "colab": {
     "base_uri": "https://localhost:8080/",
     "height": 318
    },
    "executionInfo": {
     "elapsed": 245,
     "status": "ok",
     "timestamp": 1623146457215,
     "user": {
      "displayName": "Ignacio Soteras",
      "photoUrl": "",
      "userId": "02050793736257155229"
     },
     "user_tz": -120
    },
    "id": "HVpCAkXk6Fg9",
    "outputId": "da0f2f40-4193-40cf-ad1d-60988b00446c"
   },
   "outputs": [
    {
     "data": {
      "text/plain": "Drivetrain\n2-Wheel Drive, Front          11.771786\nFront-Wheel Drive             14.266654\nAll-Wheel Drive               16.349672\n4-Wheel Drive                 17.942952\nRear-Wheel Drive              19.587486\n4-Wheel or All-Wheel Drive    20.484720\nPart-time 4-Wheel Drive       20.628218\n2-Wheel Drive                 21.069467\nName: Fuel Barrels/Year, dtype: float64"
     },
     "execution_count": 33,
     "metadata": {},
     "output_type": "execute_result"
    }
   ],
   "source": [
    "## Your Code here\n",
    "cars.groupby(\"Drivetrain\")[\"Fuel Barrels/Year\"].mean().sort_values()"
   ]
  },
  {
   "cell_type": "markdown",
   "metadata": {
    "id": "2avLmljX6Fg9"
   },
   "source": [
    "Do cars with automatic transmission consume more fuel than cars with manual transmission?"
   ]
  },
  {
   "cell_type": "code",
   "execution_count": 35,
   "metadata": {
    "colab": {
     "base_uri": "https://localhost:8080/",
     "height": 138
    },
    "executionInfo": {
     "elapsed": 246,
     "status": "ok",
     "timestamp": 1623146549152,
     "user": {
      "displayName": "Ignacio Soteras",
      "photoUrl": "",
      "userId": "02050793736257155229"
     },
     "user_tz": -120
    },
    "id": "VZv72ngN6Fg9",
    "outputId": "88712749-0f24-4cc6-a007-0b05f79e885d"
   },
   "outputs": [
    {
     "data": {
      "text/plain": "Automatic Transmission\nFalse    16.704904\nTrue     18.043152\nName: Fuel Barrels/Year, dtype: float64"
     },
     "execution_count": 35,
     "metadata": {},
     "output_type": "execute_result"
    }
   ],
   "source": [
    "## Your Code here\n",
    "cars[\"Automatic Transmission\"] = cars[\"Transmission\"].str.startswith(\"Auto\")\n",
    "cars.groupby(\"Automatic Transmission\")[\"Fuel Barrels/Year\"].mean()"
   ]
  },
  {
   "cell_type": "markdown",
   "metadata": {
    "id": "tJsmxD3K6Fg9"
   },
   "source": [
    "Use `groupby` and `agg` with different aggregation measures for different columns:"
   ]
  },
  {
   "cell_type": "markdown",
   "metadata": {},
   "source": [
    "aggregate with average City_Km/Liter and the count of the Trans"
   ]
  },
  {
   "cell_type": "code",
   "execution_count": 38,
   "metadata": {
    "colab": {
     "base_uri": "https://localhost:8080/",
     "height": 138
    },
    "executionInfo": {
     "elapsed": 268,
     "status": "ok",
     "timestamp": 1623146659201,
     "user": {
      "displayName": "Ignacio Soteras",
      "photoUrl": "",
      "userId": "02050793736257155229"
     },
     "user_tz": -120
    },
    "id": "1rVFzsdG6Fg9",
    "outputId": "ad726e32-d3d9-4d69-b9e8-c7ae43a40c96"
   },
   "outputs": [
    {
     "data": {
      "text/plain": "City KmPL                     7.50213\nAutomatic Transmission    35952.00000\ndtype: float64"
     },
     "execution_count": 38,
     "metadata": {},
     "output_type": "execute_result"
    }
   ],
   "source": [
    "## your code is here\n",
    "cars.agg({\"City KmPL\": \"mean\", \"Automatic Transmission\": \"count\"})"
   ]
  },
  {
   "cell_type": "markdown",
   "metadata": {},
   "source": [
    "aggregate with average City_Km/Liter and the minimum of the Trans"
   ]
  },
  {
   "cell_type": "code",
   "execution_count": 138,
   "metadata": {
    "colab": {
     "base_uri": "https://localhost:8080/",
     "height": 138
    },
    "executionInfo": {
     "elapsed": 228,
     "status": "ok",
     "timestamp": 1623147799942,
     "user": {
      "displayName": "Ignacio Soteras",
      "photoUrl": "",
      "userId": "02050793736257155229"
     },
     "user_tz": -120
    },
    "id": "qsrSdXAdJWAO",
    "outputId": "89b30e64-6827-4ac0-f386-87bedec3fd4b"
   },
   "outputs": [
    {
     "data": {
      "text/plain": "                        City KmPL  Automatic Transmission\nAutomatic Transmission                                   \nFalse                    7.968348                   False\nTrue                     7.278292                    True",
      "text/html": "<div>\n<style scoped>\n    .dataframe tbody tr th:only-of-type {\n        vertical-align: middle;\n    }\n\n    .dataframe tbody tr th {\n        vertical-align: top;\n    }\n\n    .dataframe thead th {\n        text-align: right;\n    }\n</style>\n<table border=\"1\" class=\"dataframe\">\n  <thead>\n    <tr style=\"text-align: right;\">\n      <th></th>\n      <th>City KmPL</th>\n      <th>Automatic Transmission</th>\n    </tr>\n    <tr>\n      <th>Automatic Transmission</th>\n      <th></th>\n      <th></th>\n    </tr>\n  </thead>\n  <tbody>\n    <tr>\n      <th>False</th>\n      <td>7.968348</td>\n      <td>False</td>\n    </tr>\n    <tr>\n      <th>True</th>\n      <td>7.278292</td>\n      <td>True</td>\n    </tr>\n  </tbody>\n</table>\n</div>"
     },
     "execution_count": 138,
     "metadata": {},
     "output_type": "execute_result"
    }
   ],
   "source": [
    "### your code is here\n",
    "cars.groupby(\"Automatic Transmission\").agg({\"City KmPL\": \"mean\", \"Automatic Transmission\": \"min\"})"
   ]
  },
  {
   "cell_type": "code",
   "execution_count": null,
   "metadata": {},
   "outputs": [],
   "source": []
  }
 ],
 "metadata": {
  "colab": {
   "name": "Pandas_Grouping_Joining_Cars_Structure.ipynb",
   "provenance": []
  },
  "kernelspec": {
   "display_name": "Python 3 (ipykernel)",
   "language": "python",
   "name": "python3"
  },
  "language_info": {
   "codemirror_mode": {
    "name": "ipython",
    "version": 3
   },
   "file_extension": ".py",
   "mimetype": "text/x-python",
   "name": "python",
   "nbconvert_exporter": "python",
   "pygments_lexer": "ipython3",
   "version": "3.9.13"
  },
  "toc": {
   "base_numbering": 1,
   "nav_menu": {},
   "number_sections": true,
   "sideBar": true,
   "skip_h1_title": false,
   "title_cell": "Table of Contents",
   "title_sidebar": "Contents",
   "toc_cell": false,
   "toc_position": {},
   "toc_section_display": true,
   "toc_window_display": false
  },
  "varInspector": {
   "cols": {
    "lenName": 16,
    "lenType": 16,
    "lenVar": 40
   },
   "kernels_config": {
    "python": {
     "delete_cmd_postfix": "",
     "delete_cmd_prefix": "del ",
     "library": "var_list.py",
     "varRefreshCmd": "print(var_dic_list())"
    },
    "r": {
     "delete_cmd_postfix": ") ",
     "delete_cmd_prefix": "rm(",
     "library": "var_list.r",
     "varRefreshCmd": "cat(var_dic_list()) "
    }
   },
   "types_to_exclude": [
    "module",
    "function",
    "builtin_function_or_method",
    "instance",
    "_Feature"
   ],
   "window_display": false
  }
 },
 "nbformat": 4,
 "nbformat_minor": 4
}
