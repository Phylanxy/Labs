{
 "cells": [
  {
   "cell_type": "code",
   "execution_count": 153,
   "metadata": {
    "collapsed": true
   },
   "outputs": [],
   "source": [
    "import numpy as np\n",
    "import pandas as pd\n",
    "import scipy as sp"
   ]
  },
  {
   "cell_type": "code",
   "execution_count": 154,
   "outputs": [],
   "source": [
    "df = pd.read_csv(\"Data_Marketing_Customer_Analysis_Round3.csv\")"
   ],
   "metadata": {
    "collapsed": false
   }
  },
  {
   "cell_type": "markdown",
   "source": [
    "# Highly correlated values\n",
    "I know there are none from doing the lab in week 2, I'll do the correlation matrix anyways..."
   ],
   "metadata": {
    "collapsed": false
   }
  },
  {
   "cell_type": "code",
   "execution_count": 155,
   "outputs": [],
   "source": [
    "# create dataframes with numerical...\n",
    "df_num = df[df.select_dtypes(include=[np.number]).columns]\n",
    "# ...and categorical data only\n",
    "df_cat = df[df.select_dtypes(include=[object]).columns]\n",
    "\n",
    "# define numerical column index\n",
    "num_cols = df_num.columns\n",
    "# define categorical column index\n",
    "cat_cols = df_cat.columns\n",
    "\n",
    "corr = df_num[num_cols].corr()"
   ],
   "metadata": {
    "collapsed": false
   }
  },
  {
   "cell_type": "code",
   "execution_count": 156,
   "outputs": [
    {
     "name": "stdout",
     "output_type": "stream",
     "text": [
      "Correlated features: set()\n"
     ]
    }
   ],
   "source": [
    "thresh = 0.9\n",
    "correlated_features = set()\n",
    "for i in range(len(corr.columns)):\n",
    "    for j in range(i):\n",
    "        if abs(corr.iloc[i, j]) > thresh:\n",
    "            colname = corr.columns[i]\n",
    "            correlated_features.add(colname)\n",
    "\n",
    "# Display the correlated features\n",
    "print(\"Correlated features:\", correlated_features)"
   ],
   "metadata": {
    "collapsed": false
   }
  },
  {
   "cell_type": "code",
   "execution_count": 157,
   "outputs": [],
   "source": [
    "df_cat = df_cat.drop('effective_to_date', axis=1)"
   ],
   "metadata": {
    "collapsed": false
   }
  },
  {
   "cell_type": "code",
   "execution_count": 158,
   "outputs": [],
   "source": [
    "# get unique identifiers of the regions\n",
    "\n",
    "# Create a dictionary that maps each unique region to an integer\n",
    "ed_map = {\"high school or below\": 0, \"college\":1, \"bachelor\": 1,\"master\":2, \"doctor\":3}\n",
    "ed_map\n",
    "# Replace the values in the \"region\" column with their mapped integers\n",
    "df_cat['education'] = df_cat['education'].map(ed_map)"
   ],
   "metadata": {
    "collapsed": false
   }
  },
  {
   "cell_type": "code",
   "execution_count": 159,
   "outputs": [
    {
     "data": {
      "text/plain": "array(['basic', 'extended', 'premium'], dtype=object)"
     },
     "execution_count": 159,
     "metadata": {},
     "output_type": "execute_result"
    }
   ],
   "source": [
    "df_cat[\"coverage\"].unique()\n"
   ],
   "metadata": {
    "collapsed": false
   }
  },
  {
   "cell_type": "code",
   "execution_count": 160,
   "outputs": [],
   "source": [
    "# same for coverage\n",
    "covs = df_cat[\"coverage\"].unique()\n",
    "\n",
    "cov_map = {coverage: i for i, coverage in enumerate(covs)}\n",
    "\n",
    "df_cat[\"coverage\"] = df_cat[\"coverage\"].map(cov_map)"
   ],
   "metadata": {
    "collapsed": false
   }
  },
  {
   "cell_type": "code",
   "execution_count": 161,
   "outputs": [],
   "source": [
    "# same for vehicle size\n",
    "sizes = {\"small\" : 0, \"medsize\" : 1, \"large\" : 2}\n",
    "\n",
    "size_map = {size: i for i, size in enumerate(sizes)}\n",
    "\n",
    "df_cat[\"vehicle_size\"] = df_cat[\"vehicle_size\"].map(size_map)"
   ],
   "metadata": {
    "collapsed": false
   }
  },
  {
   "cell_type": "code",
   "execution_count": 163,
   "outputs": [],
   "source": [
    "# create dummy variables\n",
    "# for regions\n",
    "df_dummies = pd.get_dummies(df_cat['region'], drop_first=1)\n",
    "\n",
    "# concatenate the original dataframe with the dummy variables\n",
    "df_dums = pd.concat([df_dummies], axis=1)"
   ],
   "metadata": {
    "collapsed": false
   }
  },
  {
   "cell_type": "code",
   "execution_count": null,
   "outputs": [],
   "source": [],
   "metadata": {
    "collapsed": false
   }
  },
  {
   "cell_type": "code",
   "execution_count": null,
   "outputs": [],
   "source": [],
   "metadata": {
    "collapsed": false
   }
  },
  {
   "cell_type": "code",
   "execution_count": null,
   "outputs": [],
   "source": [],
   "metadata": {
    "collapsed": false
   }
  },
  {
   "cell_type": "code",
   "execution_count": null,
   "outputs": [],
   "source": [
    "df = pd.concat([df_cat, df_num], axis=1)"
   ],
   "metadata": {
    "collapsed": false
   }
  }
 ],
 "metadata": {
  "kernelspec": {
   "display_name": "Python 3",
   "language": "python",
   "name": "python3"
  },
  "language_info": {
   "codemirror_mode": {
    "name": "ipython",
    "version": 2
   },
   "file_extension": ".py",
   "mimetype": "text/x-python",
   "name": "python",
   "nbconvert_exporter": "python",
   "pygments_lexer": "ipython2",
   "version": "2.7.6"
  }
 },
 "nbformat": 4,
 "nbformat_minor": 0
}
