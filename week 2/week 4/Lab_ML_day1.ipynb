{
 "cells": [
  {
   "cell_type": "code",
   "execution_count": 230,
   "metadata": {
    "collapsed": true
   },
   "outputs": [],
   "source": [
    "import numpy as np\n",
    "import pandas as pd\n",
    "import scipy as sp\n",
    "import seaborn as sns\n",
    "import matplotlib.pyplot as plt"
   ]
  },
  {
   "cell_type": "code",
   "execution_count": 208,
   "outputs": [],
   "source": [
    "df = pd.read_csv(\"Data_Marketing_Customer_Analysis_Round3.csv\")"
   ],
   "metadata": {
    "collapsed": false
   }
  },
  {
   "cell_type": "markdown",
   "source": [
    "# Highly correlated values\n",
    "I know there are none from doing the lab in week 2, I'll do the correlation matrix anyways..."
   ],
   "metadata": {
    "collapsed": false
   }
  },
  {
   "cell_type": "code",
   "execution_count": 209,
   "outputs": [],
   "source": [
    "# create dataframes with numerical...\n",
    "df_num = df[df.select_dtypes(include=[np.number]).columns]\n",
    "# ...and categorical data only\n",
    "df_cat = df[df.select_dtypes(include=[object]).columns]\n",
    "\n",
    "# define numerical column index\n",
    "num_cols = df_num.columns\n",
    "# define categorical column index\n",
    "cat_cols = df_cat.columns\n",
    "\n",
    "corr = df_num[num_cols].corr()"
   ],
   "metadata": {
    "collapsed": false
   }
  },
  {
   "cell_type": "code",
   "execution_count": 210,
   "outputs": [
    {
     "name": "stdout",
     "output_type": "stream",
     "text": [
      "Correlated features: set()\n"
     ]
    }
   ],
   "source": [
    "thresh = 0.9\n",
    "correlated_features = set()\n",
    "for i in range(len(corr.columns)):\n",
    "    for j in range(i):\n",
    "        if abs(corr.iloc[i, j]) > thresh:\n",
    "            colname = corr.columns[i]\n",
    "            correlated_features.add(colname)\n",
    "\n",
    "# Display the correlated features\n",
    "print(\"Correlated features:\", correlated_features)"
   ],
   "metadata": {
    "collapsed": false
   }
  },
  {
   "cell_type": "code",
   "execution_count": 211,
   "outputs": [],
   "source": [
    "df_cat = df_cat.drop('effective_to_date', axis=1)"
   ],
   "metadata": {
    "collapsed": false
   }
  },
  {
   "cell_type": "code",
   "execution_count": 212,
   "outputs": [],
   "source": [
    "# get unique identifiers of the regions\n",
    "\n",
    "# Create a dictionary that maps each unique region to an integer\n",
    "ed_map = {\"high school or below\": 0, \"college\":1, \"bachelor\": 1,\"master\":2, \"doctor\":3}\n",
    "ed_map\n",
    "# Replace the values in the \"region\" column with their mapped integers\n",
    "df_cat['education'] = df_cat['education'].map(ed_map)"
   ],
   "metadata": {
    "collapsed": false
   }
  },
  {
   "cell_type": "code",
   "execution_count": 213,
   "outputs": [],
   "source": [
    "# same for coverage\n",
    "covs = df_cat[\"coverage\"].unique()\n",
    "\n",
    "cov_map = {coverage: i for i, coverage in enumerate(covs)}\n",
    "\n",
    "df_cat[\"coverage\"] = df_cat[\"coverage\"].map(cov_map)"
   ],
   "metadata": {
    "collapsed": false
   }
  },
  {
   "cell_type": "code",
   "execution_count": 214,
   "outputs": [],
   "source": [
    "# same for vehicle size\n",
    "sizes = {\"small\" : 0, \"medsize\" : 1, \"large\" : 2}\n",
    "\n",
    "size_map = {size: i for i, size in enumerate(sizes)}\n",
    "\n",
    "df_cat[\"vehicle_size\"] = df_cat[\"vehicle_size\"].map(size_map)"
   ],
   "metadata": {
    "collapsed": false
   }
  },
  {
   "cell_type": "code",
   "execution_count": 215,
   "outputs": [],
   "source": [
    "# create dummy variables\n",
    "# for all non-ordinal columns\n",
    "cols_to_dummify = df_cat.columns.drop([\"coverage\",\"education\",\"vehicle_size\"])\n",
    "\n",
    "for i, col in enumerate(cols_to_dummify):\n",
    "    df_dummies = pd.get_dummies(df_cat[col], drop_first=1)\n",
    "    # concatenate the original dataframe with the dummy variables\n",
    "    df_dums = pd.concat([df_dums, df_dummies], axis=1)"
   ],
   "metadata": {
    "collapsed": false
   }
  },
  {
   "cell_type": "code",
   "execution_count": 216,
   "outputs": [],
   "source": [
    "df_done = pd.concat([df_cat[[\"coverage\",\"education\",\"vehicle_size\"]], df_dums], axis=1)"
   ],
   "metadata": {
    "collapsed": false
   }
  },
  {
   "cell_type": "code",
   "execution_count": 217,
   "outputs": [
    {
     "data": {
      "text/plain": "       coverage  education  vehicle_size  east  north west  west region  yes  \\\n0             0          1             1     0           0            0    0   \n1             0          1             1     0           0            1    0   \n2             0          1             1     1           0            0    0   \n3             1          1             1     0           1            0    1   \n4             2          1             1     0           1            0    0   \n...         ...        ...           ...   ...         ...          ...  ...   \n10684         2          1             1     0           0            0    0   \n10685         0          1             1     0           1            0    0   \n10686         1          1             1     0           0            0    0   \n10687         2          1             1     0           0            1    0   \n10688         0          1             1     0           0            0    0   \n\n       jan  employed  medical leave  ...  offer3  offer4  branch  call center  \\\n0        0         1              0  ...       1       0       0            0   \n1        1         0              0  ...       0       1       0            1   \n2        0         1              0  ...       1       0       0            1   \n3        1         1              0  ...       0       0       1            0   \n4        1         0              1  ...       0       0       1            0   \n...    ...       ...            ...  ...     ...     ...     ...          ...   \n10684    1         0              0  ...       1       0       0            0   \n10685    1         1              0  ...       0       0       1            0   \n10686    0         1              0  ...       0       0       0            0   \n10687    0         1              0  ...       0       0       1            0   \n10688    1         0              0  ...       0       1       0            0   \n\n       web  luxury car  luxury suv  sports car  suv  two-door car  \n0        0           0           0           0    0             0  \n1        0           0           0           0    0             0  \n2        0           0           0           0    1             0  \n3        0           0           0           0    0             0  \n4        0           0           0           0    0             0  \n...    ...         ...         ...         ...  ...           ...  \n10684    1           1           0           0    0             0  \n10685    0           0           0           0    0             0  \n10686    1           0           1           0    0             0  \n10687    0           0           0           0    1             0  \n10688    1           0           0           0    1             0  \n\n[10689 rows x 140 columns]",
      "text/html": "<div>\n<style scoped>\n    .dataframe tbody tr th:only-of-type {\n        vertical-align: middle;\n    }\n\n    .dataframe tbody tr th {\n        vertical-align: top;\n    }\n\n    .dataframe thead th {\n        text-align: right;\n    }\n</style>\n<table border=\"1\" class=\"dataframe\">\n  <thead>\n    <tr style=\"text-align: right;\">\n      <th></th>\n      <th>coverage</th>\n      <th>education</th>\n      <th>vehicle_size</th>\n      <th>east</th>\n      <th>north west</th>\n      <th>west region</th>\n      <th>yes</th>\n      <th>jan</th>\n      <th>employed</th>\n      <th>medical leave</th>\n      <th>...</th>\n      <th>offer3</th>\n      <th>offer4</th>\n      <th>branch</th>\n      <th>call center</th>\n      <th>web</th>\n      <th>luxury car</th>\n      <th>luxury suv</th>\n      <th>sports car</th>\n      <th>suv</th>\n      <th>two-door car</th>\n    </tr>\n  </thead>\n  <tbody>\n    <tr>\n      <th>0</th>\n      <td>0</td>\n      <td>1</td>\n      <td>1</td>\n      <td>0</td>\n      <td>0</td>\n      <td>0</td>\n      <td>0</td>\n      <td>0</td>\n      <td>1</td>\n      <td>0</td>\n      <td>...</td>\n      <td>1</td>\n      <td>0</td>\n      <td>0</td>\n      <td>0</td>\n      <td>0</td>\n      <td>0</td>\n      <td>0</td>\n      <td>0</td>\n      <td>0</td>\n      <td>0</td>\n    </tr>\n    <tr>\n      <th>1</th>\n      <td>0</td>\n      <td>1</td>\n      <td>1</td>\n      <td>0</td>\n      <td>0</td>\n      <td>1</td>\n      <td>0</td>\n      <td>1</td>\n      <td>0</td>\n      <td>0</td>\n      <td>...</td>\n      <td>0</td>\n      <td>1</td>\n      <td>0</td>\n      <td>1</td>\n      <td>0</td>\n      <td>0</td>\n      <td>0</td>\n      <td>0</td>\n      <td>0</td>\n      <td>0</td>\n    </tr>\n    <tr>\n      <th>2</th>\n      <td>0</td>\n      <td>1</td>\n      <td>1</td>\n      <td>1</td>\n      <td>0</td>\n      <td>0</td>\n      <td>0</td>\n      <td>0</td>\n      <td>1</td>\n      <td>0</td>\n      <td>...</td>\n      <td>1</td>\n      <td>0</td>\n      <td>0</td>\n      <td>1</td>\n      <td>0</td>\n      <td>0</td>\n      <td>0</td>\n      <td>0</td>\n      <td>1</td>\n      <td>0</td>\n    </tr>\n    <tr>\n      <th>3</th>\n      <td>1</td>\n      <td>1</td>\n      <td>1</td>\n      <td>0</td>\n      <td>1</td>\n      <td>0</td>\n      <td>1</td>\n      <td>1</td>\n      <td>1</td>\n      <td>0</td>\n      <td>...</td>\n      <td>0</td>\n      <td>0</td>\n      <td>1</td>\n      <td>0</td>\n      <td>0</td>\n      <td>0</td>\n      <td>0</td>\n      <td>0</td>\n      <td>0</td>\n      <td>0</td>\n    </tr>\n    <tr>\n      <th>4</th>\n      <td>2</td>\n      <td>1</td>\n      <td>1</td>\n      <td>0</td>\n      <td>1</td>\n      <td>0</td>\n      <td>0</td>\n      <td>1</td>\n      <td>0</td>\n      <td>1</td>\n      <td>...</td>\n      <td>0</td>\n      <td>0</td>\n      <td>1</td>\n      <td>0</td>\n      <td>0</td>\n      <td>0</td>\n      <td>0</td>\n      <td>0</td>\n      <td>0</td>\n      <td>0</td>\n    </tr>\n    <tr>\n      <th>...</th>\n      <td>...</td>\n      <td>...</td>\n      <td>...</td>\n      <td>...</td>\n      <td>...</td>\n      <td>...</td>\n      <td>...</td>\n      <td>...</td>\n      <td>...</td>\n      <td>...</td>\n      <td>...</td>\n      <td>...</td>\n      <td>...</td>\n      <td>...</td>\n      <td>...</td>\n      <td>...</td>\n      <td>...</td>\n      <td>...</td>\n      <td>...</td>\n      <td>...</td>\n      <td>...</td>\n    </tr>\n    <tr>\n      <th>10684</th>\n      <td>2</td>\n      <td>1</td>\n      <td>1</td>\n      <td>0</td>\n      <td>0</td>\n      <td>0</td>\n      <td>0</td>\n      <td>1</td>\n      <td>0</td>\n      <td>0</td>\n      <td>...</td>\n      <td>1</td>\n      <td>0</td>\n      <td>0</td>\n      <td>0</td>\n      <td>1</td>\n      <td>1</td>\n      <td>0</td>\n      <td>0</td>\n      <td>0</td>\n      <td>0</td>\n    </tr>\n    <tr>\n      <th>10685</th>\n      <td>0</td>\n      <td>1</td>\n      <td>1</td>\n      <td>0</td>\n      <td>1</td>\n      <td>0</td>\n      <td>0</td>\n      <td>1</td>\n      <td>1</td>\n      <td>0</td>\n      <td>...</td>\n      <td>0</td>\n      <td>0</td>\n      <td>1</td>\n      <td>0</td>\n      <td>0</td>\n      <td>0</td>\n      <td>0</td>\n      <td>0</td>\n      <td>0</td>\n      <td>0</td>\n    </tr>\n    <tr>\n      <th>10686</th>\n      <td>1</td>\n      <td>1</td>\n      <td>1</td>\n      <td>0</td>\n      <td>0</td>\n      <td>0</td>\n      <td>0</td>\n      <td>0</td>\n      <td>1</td>\n      <td>0</td>\n      <td>...</td>\n      <td>0</td>\n      <td>0</td>\n      <td>0</td>\n      <td>0</td>\n      <td>1</td>\n      <td>0</td>\n      <td>1</td>\n      <td>0</td>\n      <td>0</td>\n      <td>0</td>\n    </tr>\n    <tr>\n      <th>10687</th>\n      <td>2</td>\n      <td>1</td>\n      <td>1</td>\n      <td>0</td>\n      <td>0</td>\n      <td>1</td>\n      <td>0</td>\n      <td>0</td>\n      <td>1</td>\n      <td>0</td>\n      <td>...</td>\n      <td>0</td>\n      <td>0</td>\n      <td>1</td>\n      <td>0</td>\n      <td>0</td>\n      <td>0</td>\n      <td>0</td>\n      <td>0</td>\n      <td>1</td>\n      <td>0</td>\n    </tr>\n    <tr>\n      <th>10688</th>\n      <td>0</td>\n      <td>1</td>\n      <td>1</td>\n      <td>0</td>\n      <td>0</td>\n      <td>0</td>\n      <td>0</td>\n      <td>1</td>\n      <td>0</td>\n      <td>0</td>\n      <td>...</td>\n      <td>0</td>\n      <td>1</td>\n      <td>0</td>\n      <td>0</td>\n      <td>1</td>\n      <td>0</td>\n      <td>0</td>\n      <td>0</td>\n      <td>1</td>\n      <td>0</td>\n    </tr>\n  </tbody>\n</table>\n<p>10689 rows × 140 columns</p>\n</div>"
     },
     "execution_count": 217,
     "metadata": {},
     "output_type": "execute_result"
    }
   ],
   "source": [
    "df_done"
   ],
   "metadata": {
    "collapsed": false
   }
  },
  {
   "cell_type": "code",
   "execution_count": null,
   "outputs": [],
   "source": [
    "adf = pd.concat([df_cat, df_num], axis=1)"
   ],
   "metadata": {
    "collapsed": false
   }
  },
  {
   "cell_type": "markdown",
   "source": [
    "# Optional"
   ],
   "metadata": {
    "collapsed": false
   }
  },
  {
   "cell_type": "code",
   "execution_count": 219,
   "outputs": [
    {
     "data": {
      "text/plain": "       customer_lifetime_value  income  monthly_premium_auto  \\\n0                         4809   48029                    61   \n1                         2228   92260                    64   \n2                        14947   22139                   100   \n3                        22332   49078                    97   \n4                         9025   23675                   117   \n...                        ...     ...                   ...   \n10684                    15563   61541                   253   \n10685                     5259   61146                    65   \n10686                    23893   39837                   201   \n10687                    11971   64195                   158   \n10688                     6857   68942                   101   \n\n       months_since_last_claim  months_since_policy_inception  \\\n0                            7                             52   \n1                            3                             26   \n2                           34                             31   \n3                           10                              3   \n4                           33                             31   \n...                        ...                            ...   \n10684                       12                             40   \n10685                        7                             68   \n10686                       11                             63   \n10687                        0                             27   \n10688                       31                              1   \n\n       number_of_open_complaints  number_of_policies  total_claim_amount  \n0                              0                   9                 292  \n1                              0                   1                 744  \n2                              0                   2                 480  \n3                              0                   2                 484  \n4                              0                   7                 707  \n...                          ...                 ...                 ...  \n10684                          0                   7                1214  \n10685                          0                   6                 273  \n10686                          0                   2                 381  \n10687                          4                   6                 618  \n10688                          0                   3                1021  \n\n[10689 rows x 8 columns]",
      "text/html": "<div>\n<style scoped>\n    .dataframe tbody tr th:only-of-type {\n        vertical-align: middle;\n    }\n\n    .dataframe tbody tr th {\n        vertical-align: top;\n    }\n\n    .dataframe thead th {\n        text-align: right;\n    }\n</style>\n<table border=\"1\" class=\"dataframe\">\n  <thead>\n    <tr style=\"text-align: right;\">\n      <th></th>\n      <th>customer_lifetime_value</th>\n      <th>income</th>\n      <th>monthly_premium_auto</th>\n      <th>months_since_last_claim</th>\n      <th>months_since_policy_inception</th>\n      <th>number_of_open_complaints</th>\n      <th>number_of_policies</th>\n      <th>total_claim_amount</th>\n    </tr>\n  </thead>\n  <tbody>\n    <tr>\n      <th>0</th>\n      <td>4809</td>\n      <td>48029</td>\n      <td>61</td>\n      <td>7</td>\n      <td>52</td>\n      <td>0</td>\n      <td>9</td>\n      <td>292</td>\n    </tr>\n    <tr>\n      <th>1</th>\n      <td>2228</td>\n      <td>92260</td>\n      <td>64</td>\n      <td>3</td>\n      <td>26</td>\n      <td>0</td>\n      <td>1</td>\n      <td>744</td>\n    </tr>\n    <tr>\n      <th>2</th>\n      <td>14947</td>\n      <td>22139</td>\n      <td>100</td>\n      <td>34</td>\n      <td>31</td>\n      <td>0</td>\n      <td>2</td>\n      <td>480</td>\n    </tr>\n    <tr>\n      <th>3</th>\n      <td>22332</td>\n      <td>49078</td>\n      <td>97</td>\n      <td>10</td>\n      <td>3</td>\n      <td>0</td>\n      <td>2</td>\n      <td>484</td>\n    </tr>\n    <tr>\n      <th>4</th>\n      <td>9025</td>\n      <td>23675</td>\n      <td>117</td>\n      <td>33</td>\n      <td>31</td>\n      <td>0</td>\n      <td>7</td>\n      <td>707</td>\n    </tr>\n    <tr>\n      <th>...</th>\n      <td>...</td>\n      <td>...</td>\n      <td>...</td>\n      <td>...</td>\n      <td>...</td>\n      <td>...</td>\n      <td>...</td>\n      <td>...</td>\n    </tr>\n    <tr>\n      <th>10684</th>\n      <td>15563</td>\n      <td>61541</td>\n      <td>253</td>\n      <td>12</td>\n      <td>40</td>\n      <td>0</td>\n      <td>7</td>\n      <td>1214</td>\n    </tr>\n    <tr>\n      <th>10685</th>\n      <td>5259</td>\n      <td>61146</td>\n      <td>65</td>\n      <td>7</td>\n      <td>68</td>\n      <td>0</td>\n      <td>6</td>\n      <td>273</td>\n    </tr>\n    <tr>\n      <th>10686</th>\n      <td>23893</td>\n      <td>39837</td>\n      <td>201</td>\n      <td>11</td>\n      <td>63</td>\n      <td>0</td>\n      <td>2</td>\n      <td>381</td>\n    </tr>\n    <tr>\n      <th>10687</th>\n      <td>11971</td>\n      <td>64195</td>\n      <td>158</td>\n      <td>0</td>\n      <td>27</td>\n      <td>4</td>\n      <td>6</td>\n      <td>618</td>\n    </tr>\n    <tr>\n      <th>10688</th>\n      <td>6857</td>\n      <td>68942</td>\n      <td>101</td>\n      <td>31</td>\n      <td>1</td>\n      <td>0</td>\n      <td>3</td>\n      <td>1021</td>\n    </tr>\n  </tbody>\n</table>\n<p>10689 rows × 8 columns</p>\n</div>"
     },
     "execution_count": 219,
     "metadata": {},
     "output_type": "execute_result"
    }
   ],
   "source": [
    "df_num"
   ],
   "metadata": {
    "collapsed": false
   }
  },
  {
   "cell_type": "code",
   "execution_count": 231,
   "outputs": [
    {
     "name": "stdout",
     "output_type": "stream",
     "text": [
      "[[0.42239616 0.03574981]\n",
      " [0.9141577  0.00405271]\n",
      " [0.13455039 0.16025397]\n",
      " ...\n",
      " [0.33131726 0.27011925]\n",
      " [0.60213021 0.1237059 ]\n",
      " [0.6549075  0.06090118]]\n"
     ]
    }
   ],
   "source": [
    "from sklearn import linear_model\n",
    "from sklearn.preprocessing import StandardScaler, MinMaxScaler\n",
    "scale = MinMaxScaler()\n",
    "\n",
    "X = df_num[['income', \"customer_lifetime_value\"]]\n",
    "\n",
    "scaledX = scale.fit_transform(X)\n",
    "\n",
    "print(scaledX)"
   ],
   "metadata": {
    "collapsed": false
   }
  },
  {
   "cell_type": "code",
   "execution_count": 229,
   "outputs": [
    {
     "data": {
      "text/plain": "<seaborn.axisgrid.FacetGrid at 0x1db77f8c520>"
     },
     "execution_count": 229,
     "metadata": {},
     "output_type": "execute_result"
    },
    {
     "data": {
      "text/plain": "<Figure size 600.75x500 with 1 Axes>",
      "image/png": "[encoded data removed]"
     },
     "metadata": {},
     "output_type": "display_data"
    }
   ],
   "source": [
    "# Create a figure and axis\n",
    "fig, ax = plt.subplots(nrows=1, ncols=2, figsize=(12, 5))\n",
    "\n",
    "# Plot the first distribution\n",
    "sns.displot(data=data, x=\"column1\", ax=ax[0])\n",
    "\n",
    "# Plot the second distribution\n",
    "sns.displot(data=data, x=\"column2\", ax=ax[1])\n",
    "\n",
    "# Adjust the plot layout\n",
    "plt.tight_layout()\n",
    "\n",
    "# Show the plot\n",
    "plt.show()\n",
    "\n",
    "sns.displot(X, kde=True)"
   ],
   "metadata": {
    "collapsed": false
   }
  },
  {
   "cell_type": "code",
   "execution_count": null,
   "outputs": [],
   "source": [],
   "metadata": {
    "collapsed": false
   }
  }
 ],
 "metadata": {
  "kernelspec": {
   "display_name": "Python 3",
   "language": "python",
   "name": "python3"
  },
  "language_info": {
   "codemirror_mode": {
    "name": "ipython",
    "version": 2
   },
   "file_extension": ".py",
   "mimetype": "text/x-python",
   "name": "python",
   "nbconvert_exporter": "python",
   "pygments_lexer": "ipython2",
   "version": "2.7.6"
  }
 },
 "nbformat": 4,
 "nbformat_minor": 0
}
