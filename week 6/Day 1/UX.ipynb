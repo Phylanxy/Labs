{
 "cells": [
  {
   "cell_type": "markdown",
   "source": [
    "# build the UX experience for the song recommender"
   ],
   "metadata": {
    "collapsed": false
   }
  },
  {
   "cell_type": "markdown",
   "source": [
    "- store the list in a .csv\n",
    "- get input from user\n",
    "    - check for spelling\n",
    "    - if song is found in the hot list\n",
    "        - prompt user to confirm by printing song and artist + requesting confirmation\n",
    "        - if not, send to alternative recommender\n",
    "            - make dummy function for this"
   ],
   "metadata": {
    "collapsed": false
   }
  },
  {
   "cell_type": "code",
   "execution_count": 1,
   "outputs": [],
   "source": [
    "import pandas as pd\n",
    "import numpy as np\n",
    "import requests\n",
    "from bs4 import BeautifulSoup\n",
    "from time import sleep\n",
    "from random import randint\n",
    "from fuzzywuzzy import process\n",
    "import difflib\n",
    "import config\n",
    "import spotipy\n",
    "\n",
    "# model stuff\n",
    "import numpy as np\n",
    "import pandas as pd\n",
    "import pickle\n",
    "from sklearn import datasets # sklearn comes with some toy datasets to practise\n",
    "from sklearn.preprocessing import StandardScaler\n",
    "from sklearn.cluster import KMeans\n",
    "from matplotlib import pyplot\n",
    "from sklearn.metrics import silhouette_score\n",
    "import ast"
   ],
   "metadata": {
    "collapsed": false
   }
  },
  {
   "cell_type": "code",
   "execution_count": 2,
   "outputs": [],
   "source": [
    "# Authenticate with Spotify API\n",
    "client_credentials_manager = spotipy.SpotifyClientCredentials(\n",
    "    client_id=config.client_id,\n",
    "    client_secret=config.client_secret)\n",
    "sp = spotipy.Spotify(client_credentials_manager=client_credentials_manager)"
   ],
   "metadata": {
    "collapsed": false
   }
  },
  {
   "cell_type": "code",
   "execution_count": 3,
   "outputs": [],
   "source": [
    "def load_csv():\n",
    "    # load list of hot songs as possible choices\n",
    "    df = pd.read_csv(\"hot_100.csv\")\n",
    "    df = df.apply(lambda x: x.str.lower())\n",
    "    return df"
   ],
   "metadata": {
    "collapsed": false
   }
  },
  {
   "cell_type": "code",
   "execution_count": 4,
   "outputs": [],
   "source": [
    "# load list of hot songs as possible choices\n",
    "hot_100 = load_csv()"
   ],
   "metadata": {
    "collapsed": false
   }
  },
  {
   "cell_type": "code",
   "execution_count": 5,
   "outputs": [],
   "source": [
    "def str_matcher(user_input, song_list):\n",
    "    # Find the closest matching song title to the input string\n",
    "    best_match = difflib.get_close_matches(user_input, song_list[\"song\"], n=1, cutoff=0.8)\n",
    "    # Print the closest matching song title and the corresponding similarity score\n",
    "    if best_match:\n",
    "       similarity = difflib.SequenceMatcher(None, user_input, best_match[0]).ratio()\n",
    "       corrected_input = best_match[0]\n",
    "       match = True\n",
    "    else:\n",
    "        corrected_input = user_input\n",
    "        match = False\n",
    "    return match, corrected_input"
   ],
   "metadata": {
    "collapsed": false
   }
  },
  {
   "cell_type": "code",
   "execution_count": 140,
   "outputs": [
    {
     "data": {
      "text/plain": "(False, 'hammer')"
     },
     "execution_count": 140,
     "metadata": {},
     "output_type": "execute_result"
    }
   ],
   "source": [
    "str_matcher(\"hammer\", hot_100)"
   ],
   "metadata": {
    "collapsed": false
   }
  },
  {
   "cell_type": "markdown",
   "source": [
    "## get track id & it's features"
   ],
   "metadata": {
    "collapsed": false
   }
  },
  {
   "cell_type": "code",
   "execution_count": 6,
   "outputs": [],
   "source": [
    "def get_track_id(song):\n",
    "    id = sp.search(q=song,limit=1)[\"tracks\"][\"items\"][0][\"id\"]\n",
    "    return id"
   ],
   "metadata": {
    "collapsed": false
   }
  },
  {
   "cell_type": "code",
   "execution_count": 7,
   "outputs": [],
   "source": [
    "def get_features(track_id):\n",
    "    features = []\n",
    "    features.extend(sp.audio_features(track_id))\n",
    "    features = pd.DataFrame(features)[[\"danceability\",\"energy\",\"loudness\",\"speechiness\",\"acousticness\", \"instrumentalness\",\"liveness\",\"valence\",\"tempo\",\"id\",\"duration_ms\"]]\n",
    "    features.index = features[\"id\"]\n",
    "    features = features.drop(\"id\", axis=1)\n",
    "    return features"
   ],
   "metadata": {
    "collapsed": false
   }
  },
  {
   "cell_type": "code",
   "execution_count": 104,
   "outputs": [
    {
     "data": {
      "text/plain": "                        danceability  energy  loudness  speechiness  \\\nid                                                                    \n5rb9QrpfcKFHM1EUbSIurX         0.894   0.791    -4.699        0.112   \n\n                        acousticness  instrumentalness  liveness  valence  \\\nid                                                                          \n5rb9QrpfcKFHM1EUbSIurX        0.0183                 0    0.0388    0.583   \n\n                          tempo  duration_ms  \nid                                            \n5rb9QrpfcKFHM1EUbSIurX  105.018       250373  ",
      "text/html": "<div>\n<style scoped>\n    .dataframe tbody tr th:only-of-type {\n        vertical-align: middle;\n    }\n\n    .dataframe tbody tr th {\n        vertical-align: top;\n    }\n\n    .dataframe thead th {\n        text-align: right;\n    }\n</style>\n<table border=\"1\" class=\"dataframe\">\n  <thead>\n    <tr style=\"text-align: right;\">\n      <th></th>\n      <th>danceability</th>\n      <th>energy</th>\n      <th>loudness</th>\n      <th>speechiness</th>\n      <th>acousticness</th>\n      <th>instrumentalness</th>\n      <th>liveness</th>\n      <th>valence</th>\n      <th>tempo</th>\n      <th>duration_ms</th>\n    </tr>\n    <tr>\n      <th>id</th>\n      <th></th>\n      <th></th>\n      <th></th>\n      <th></th>\n      <th></th>\n      <th></th>\n      <th></th>\n      <th></th>\n      <th></th>\n      <th></th>\n    </tr>\n  </thead>\n  <tbody>\n    <tr>\n      <th>5rb9QrpfcKFHM1EUbSIurX</th>\n      <td>0.894</td>\n      <td>0.791</td>\n      <td>-4.699</td>\n      <td>0.112</td>\n      <td>0.0183</td>\n      <td>0</td>\n      <td>0.0388</td>\n      <td>0.583</td>\n      <td>105.018</td>\n      <td>250373</td>\n    </tr>\n  </tbody>\n</table>\n</div>"
     },
     "execution_count": 104,
     "metadata": {},
     "output_type": "execute_result"
    }
   ],
   "source": [
    "X = get_features(get_track_id(\"Yeah\"))\n",
    "X"
   ],
   "metadata": {
    "collapsed": false
   }
  },
  {
   "cell_type": "markdown",
   "source": [
    "### scale new track"
   ],
   "metadata": {
    "collapsed": false
   }
  },
  {
   "cell_type": "code",
   "execution_count": 8,
   "outputs": [],
   "source": [
    "# define function to load data from pkl files\n",
    "def load(filename):\n",
    "    try:\n",
    "        with open(\"Model/\"+filename, \"rb\") as f:\n",
    "            return pickle.load(f)\n",
    "\n",
    "    except FileNotFoundError:\n",
    "        print(\"File not found!\")"
   ],
   "metadata": {
    "collapsed": false
   }
  },
  {
   "cell_type": "code",
   "execution_count": 100,
   "outputs": [
    {
     "data": {
      "text/plain": "                        danceability  energy  loudness  speechiness  \\\nid                                                                    \n7t2299FXfx6x3XSaznUoBT         0.825   0.543    -5.686        0.311   \n\n                        acousticness  instrumentalness  liveness  valence  \\\nid                                                                          \n7t2299FXfx6x3XSaznUoBT         0.144                 0     0.137    0.568   \n\n                        tempo  duration_ms  \nid                                          \n7t2299FXfx6x3XSaznUoBT  146.3       236655  ",
      "text/html": "<div>\n<style scoped>\n    .dataframe tbody tr th:only-of-type {\n        vertical-align: middle;\n    }\n\n    .dataframe tbody tr th {\n        vertical-align: top;\n    }\n\n    .dataframe thead th {\n        text-align: right;\n    }\n</style>\n<table border=\"1\" class=\"dataframe\">\n  <thead>\n    <tr style=\"text-align: right;\">\n      <th></th>\n      <th>danceability</th>\n      <th>energy</th>\n      <th>loudness</th>\n      <th>speechiness</th>\n      <th>acousticness</th>\n      <th>instrumentalness</th>\n      <th>liveness</th>\n      <th>valence</th>\n      <th>tempo</th>\n      <th>duration_ms</th>\n    </tr>\n    <tr>\n      <th>id</th>\n      <th></th>\n      <th></th>\n      <th></th>\n      <th></th>\n      <th></th>\n      <th></th>\n      <th></th>\n      <th></th>\n      <th></th>\n      <th></th>\n    </tr>\n  </thead>\n  <tbody>\n    <tr>\n      <th>7t2299FXfx6x3XSaznUoBT</th>\n      <td>0.825</td>\n      <td>0.543</td>\n      <td>-5.686</td>\n      <td>0.311</td>\n      <td>0.144</td>\n      <td>0</td>\n      <td>0.137</td>\n      <td>0.568</td>\n      <td>146.3</td>\n      <td>236655</td>\n    </tr>\n  </tbody>\n</table>\n</div>"
     },
     "execution_count": 100,
     "metadata": {},
     "output_type": "execute_result"
    }
   ],
   "source": [
    "X"
   ],
   "metadata": {
    "collapsed": false
   }
  },
  {
   "cell_type": "code",
   "execution_count": 9,
   "outputs": [
    {
     "data": {
      "text/plain": "                        danceability    energy  loudness  speechiness  \\\nid                                                                      \n1DMEzmAoQIikcL52psptQL       0.07354  0.185867  -0.15551    -0.582553   \n\n                        acousticness  instrumentalness  liveness   valence  \\\nid                                                                           \n1DMEzmAoQIikcL52psptQL      1.259395         -0.370466 -0.501395 -0.065156   \n\n                          tempo  duration_ms  \nid                                            \n1DMEzmAoQIikcL52psptQL -1.73908     -0.31322  ",
      "text/html": "<div>\n<style scoped>\n    .dataframe tbody tr th:only-of-type {\n        vertical-align: middle;\n    }\n\n    .dataframe tbody tr th {\n        vertical-align: top;\n    }\n\n    .dataframe thead th {\n        text-align: right;\n    }\n</style>\n<table border=\"1\" class=\"dataframe\">\n  <thead>\n    <tr style=\"text-align: right;\">\n      <th></th>\n      <th>danceability</th>\n      <th>energy</th>\n      <th>loudness</th>\n      <th>speechiness</th>\n      <th>acousticness</th>\n      <th>instrumentalness</th>\n      <th>liveness</th>\n      <th>valence</th>\n      <th>tempo</th>\n      <th>duration_ms</th>\n    </tr>\n    <tr>\n      <th>id</th>\n      <th></th>\n      <th></th>\n      <th></th>\n      <th></th>\n      <th></th>\n      <th></th>\n      <th></th>\n      <th></th>\n      <th></th>\n      <th></th>\n    </tr>\n  </thead>\n  <tbody>\n    <tr>\n      <th>1DMEzmAoQIikcL52psptQL</th>\n      <td>0.07354</td>\n      <td>0.185867</td>\n      <td>-0.15551</td>\n      <td>-0.582553</td>\n      <td>1.259395</td>\n      <td>-0.370466</td>\n      <td>-0.501395</td>\n      <td>-0.065156</td>\n      <td>-1.73908</td>\n      <td>-0.31322</td>\n    </tr>\n  </tbody>\n</table>\n</div>"
     },
     "metadata": {},
     "output_type": "display_data"
    }
   ],
   "source": [
    "def scale_input(X):\n",
    "    # load scaler fit from training data\n",
    "    scaler = load(\"scaler.pkl\")\n",
    "    X_scaled = scaler.transform(X)\n",
    "    X_scaled_df = pd.DataFrame(X_scaled, columns = X.columns, index=X.index)\n",
    "    return X_scaled_df\n",
    "display(scale_input(get_features(get_track_id(\"test\"))))"
   ],
   "metadata": {
    "collapsed": false
   }
  },
  {
   "cell_type": "markdown",
   "source": [
    "## get model from pkl"
   ],
   "metadata": {
    "collapsed": false
   }
  },
  {
   "cell_type": "code",
   "execution_count": 10,
   "outputs": [],
   "source": [
    "# load the model\n",
    "kmeans4 = load(\"kmeans_4.pkl\")"
   ],
   "metadata": {
    "collapsed": false
   }
  },
  {
   "cell_type": "code",
   "execution_count": 107,
   "outputs": [
    {
     "data": {
      "text/plain": "array([[ 1.61490573,  0.82459416,  0.7239671 ,  0.31559806, -0.93564842,\n        -0.38324434, -1.05140983,  0.42221874, -0.63502745,  0.6614262 ]])"
     },
     "execution_count": 107,
     "metadata": {},
     "output_type": "execute_result"
    }
   ],
   "source": [
    "X_scaled"
   ],
   "metadata": {
    "collapsed": false
   }
  },
  {
   "cell_type": "code",
   "execution_count": 97,
   "outputs": [
    {
     "data": {
      "text/plain": "                        danceability    energy  loudness  speechiness  \\\nid                                                                      \n7t2299FXfx6x3XSaznUoBT      1.186058 -0.283129  0.501563     2.705064   \n\n                        acousticness  instrumentalness  liveness   valence  \\\nid                                                                           \n7t2299FXfx6x3XSaznUoBT     -0.536752         -0.383244 -0.270897  0.359735   \n\n                           tempo  duration_ms  \nid                                             \n7t2299FXfx6x3XSaznUoBT  0.883514     0.472981  ",
      "text/html": "<div>\n<style scoped>\n    .dataframe tbody tr th:only-of-type {\n        vertical-align: middle;\n    }\n\n    .dataframe tbody tr th {\n        vertical-align: top;\n    }\n\n    .dataframe thead th {\n        text-align: right;\n    }\n</style>\n<table border=\"1\" class=\"dataframe\">\n  <thead>\n    <tr style=\"text-align: right;\">\n      <th></th>\n      <th>danceability</th>\n      <th>energy</th>\n      <th>loudness</th>\n      <th>speechiness</th>\n      <th>acousticness</th>\n      <th>instrumentalness</th>\n      <th>liveness</th>\n      <th>valence</th>\n      <th>tempo</th>\n      <th>duration_ms</th>\n    </tr>\n    <tr>\n      <th>id</th>\n      <th></th>\n      <th></th>\n      <th></th>\n      <th></th>\n      <th></th>\n      <th></th>\n      <th></th>\n      <th></th>\n      <th></th>\n      <th></th>\n    </tr>\n  </thead>\n  <tbody>\n    <tr>\n      <th>7t2299FXfx6x3XSaznUoBT</th>\n      <td>1.186058</td>\n      <td>-0.283129</td>\n      <td>0.501563</td>\n      <td>2.705064</td>\n      <td>-0.536752</td>\n      <td>-0.383244</td>\n      <td>-0.270897</td>\n      <td>0.359735</td>\n      <td>0.883514</td>\n      <td>0.472981</td>\n    </tr>\n  </tbody>\n</table>\n</div>"
     },
     "execution_count": 97,
     "metadata": {},
     "output_type": "execute_result"
    }
   ],
   "source": [
    "X_scaled_df"
   ],
   "metadata": {
    "collapsed": false
   }
  },
  {
   "cell_type": "markdown",
   "source": [
    "## predict the cluster of the input song"
   ],
   "metadata": {
    "collapsed": false
   }
  },
  {
   "cell_type": "code",
   "execution_count": 108,
   "outputs": [
    {
     "data": {
      "text/plain": "array([1])"
     },
     "execution_count": 108,
     "metadata": {},
     "output_type": "execute_result"
    }
   ],
   "source": [
    "kmeans4.predict(X_scaled_df)"
   ],
   "metadata": {
    "collapsed": false
   }
  },
  {
   "cell_type": "markdown",
   "source": [
    "## find all songs of that cluster in my training set"
   ],
   "metadata": {
    "collapsed": false
   }
  },
  {
   "cell_type": "code",
   "execution_count": 11,
   "outputs": [],
   "source": [
    "df_clustered = pd.read_csv(\"df_clustered.csv\")"
   ],
   "metadata": {
    "collapsed": false
   }
  },
  {
   "cell_type": "code",
   "execution_count": 12,
   "outputs": [],
   "source": [
    "def cluster_df(clusters):\n",
    "    # group dataframe by cluster identifiers\n",
    "    grouped = clusters.groupby(\"cluster\")\n",
    "    # create a dictionary of dataframes, where each dataframe corresponds to a unique value in the 'cluster' column\n",
    "    dfs_by_cluster = dict(tuple(grouped))\n",
    "    clustered_df = {}\n",
    "    for cluster in range(len(dfs_by_cluster)):\n",
    "        clustered_df[cluster] = dfs_by_cluster[cluster]\n",
    "\n",
    "    #clustered_df = pd.DataFrame({\n",
    "     #   'cluster': list(clustered_dfs.keys()),\n",
    "      #  'df': list(clustered_dfs.values())\n",
    "       #                         })\n",
    "\n",
    "#   dfs_by_cluster.to_csv(\"dfs_by_cluster.csv\")\n",
    "    return clustered_df\n",
    "clustered_dfs = cluster_df(df_clustered)"
   ],
   "metadata": {
    "collapsed": false
   }
  },
  {
   "cell_type": "code",
   "execution_count": 209,
   "outputs": [
    {
     "data": {
      "text/plain": "                        cluster\n11eYmv0tA3wEoyD1Sad2Nv        0\n3zkyus0njMCL6phZmNNEeN        0\n28eI53WyFJVjjQwSnWTh9K        0\n6N1c56ff1CRrhAiNwIfgaz        0\n4AdhQGPnOKrH0EJWXc2EEM        0\n...                         ...\n7c9cDXMbIU0TjbzHZv3u5w        0\n2Hv9wGHbkfIBScQg4Tti11        0\n1MQHacUW73AKPG9nlf28oZ        0\n43rQHWHRNUYvjp1kauDnjL        0\n4AowHOaycPNDRId7N4Npf9        0\n\n[617 rows x 1 columns]",
      "text/html": "<div>\n<style scoped>\n    .dataframe tbody tr th:only-of-type {\n        vertical-align: middle;\n    }\n\n    .dataframe tbody tr th {\n        vertical-align: top;\n    }\n\n    .dataframe thead th {\n        text-align: right;\n    }\n</style>\n<table border=\"1\" class=\"dataframe\">\n  <thead>\n    <tr style=\"text-align: right;\">\n      <th></th>\n      <th>cluster</th>\n    </tr>\n  </thead>\n  <tbody>\n    <tr>\n      <th>11eYmv0tA3wEoyD1Sad2Nv</th>\n      <td>0</td>\n    </tr>\n    <tr>\n      <th>3zkyus0njMCL6phZmNNEeN</th>\n      <td>0</td>\n    </tr>\n    <tr>\n      <th>28eI53WyFJVjjQwSnWTh9K</th>\n      <td>0</td>\n    </tr>\n    <tr>\n      <th>6N1c56ff1CRrhAiNwIfgaz</th>\n      <td>0</td>\n    </tr>\n    <tr>\n      <th>4AdhQGPnOKrH0EJWXc2EEM</th>\n      <td>0</td>\n    </tr>\n    <tr>\n      <th>...</th>\n      <td>...</td>\n    </tr>\n    <tr>\n      <th>7c9cDXMbIU0TjbzHZv3u5w</th>\n      <td>0</td>\n    </tr>\n    <tr>\n      <th>2Hv9wGHbkfIBScQg4Tti11</th>\n      <td>0</td>\n    </tr>\n    <tr>\n      <th>1MQHacUW73AKPG9nlf28oZ</th>\n      <td>0</td>\n    </tr>\n    <tr>\n      <th>43rQHWHRNUYvjp1kauDnjL</th>\n      <td>0</td>\n    </tr>\n    <tr>\n      <th>4AowHOaycPNDRId7N4Npf9</th>\n      <td>0</td>\n    </tr>\n  </tbody>\n</table>\n<p>617 rows × 1 columns</p>\n</div>"
     },
     "execution_count": 209,
     "metadata": {},
     "output_type": "execute_result"
    }
   ],
   "source": [
    "clustered_dfs[0]"
   ],
   "metadata": {
    "collapsed": false
   }
  },
  {
   "cell_type": "markdown",
   "source": [
    "# UX flow"
   ],
   "metadata": {
    "collapsed": false
   }
  },
  {
   "cell_type": "code",
   "execution_count": 13,
   "outputs": [],
   "source": [
    "def user_input(song_list):\n",
    "    # get user input\n",
    "    user_choice = input(\"Please choose a hot song you like. To exit, type '/exit'.\")\n",
    "    # check if the program should be terminated\n",
    "    if user_choice == \"/exit\":\n",
    "        print(\"Program terminated.\")\n",
    "        match = False\n",
    "    else:\n",
    "        # return list with [match=True/False, corrected_input]\n",
    "        match, user_choice = str_matcher(user_choice, song_list)\n",
    "\n",
    "        # check if the corrected string appeares in full in the list of songs\n",
    "        if match:\n",
    "           print(\"Your song is in the list of 100 hottest songs.\")\n",
    "        else:\n",
    "            #print(\"Your song is not in the list of the hottest 100 songs, please enter a song from the list:\", np.array(song_list[\"song\"].str.title()))\n",
    "            # return the original str as output\n",
    "            user_choice = user_choice\n",
    "\n",
    "    return match, user_choice"
   ],
   "metadata": {
    "collapsed": false
   }
  },
  {
   "cell_type": "code",
   "execution_count": 150,
   "outputs": [],
   "source": [
    "# prompt spotipy to find the given tracks ID and it's features and then predict its cluster, finally returning a random recommendation from the same cluster\n"
   ],
   "metadata": {
    "collapsed": false
   }
  },
  {
   "cell_type": "code",
   "execution_count": 151,
   "outputs": [
    {
     "data": {
      "text/plain": "'5kqr6EkKEafBGKxzjdXOVP'"
     },
     "execution_count": 151,
     "metadata": {},
     "output_type": "execute_result"
    }
   ],
   "source": [
    "get_track_id(\"hammer\")"
   ],
   "metadata": {
    "collapsed": false
   }
  },
  {
   "cell_type": "code",
   "execution_count": 45,
   "outputs": [],
   "source": [
    "artist = hot_100.loc[hot_100[\"song\"].str.lower().str.contains(\"flowers\"),:][\"artist\"][0]"
   ],
   "metadata": {
    "collapsed": false
   }
  },
  {
   "cell_type": "code",
   "execution_count": 14,
   "outputs": [],
   "source": [
    "def recommender(song_list, clustered_dfs = clustered_dfs):\n",
    "    # call user_input\n",
    "    match, user_choice = user_input(song_list)\n",
    "\n",
    "    if match:\n",
    "        # get the dataframe without the input song\n",
    "        song_list_out = pd.DataFrame(song_list[~song_list[\"song\"].str.contains(user_choice)])\n",
    "        # choose random song from the list of songs\n",
    "        recommended_song = song_list_out.iloc[randint(0, len(song_list)), 0].title()\n",
    "        print(\"Based on the input song, we recommend you this song:\")\n",
    "    else:\n",
    "        track_id = get_track_id(user_choice)\n",
    "        X = get_features(track_id)\n",
    "        X_scaled_df = scale_input(X)\n",
    "        predicted_cluster = kmeans4.predict(X_scaled_df)[0]\n",
    "        recommended_song = clustered_dfs[predicted_cluster].index[randint(0, len(clustered_dfs[predicted_cluster]))]\n",
    "\n",
    "    return recommended_song\n",
    "# now returns name from list or track id for recommencdation from cluster"
   ],
   "metadata": {
    "collapsed": false
   }
  },
  {
   "cell_type": "code",
   "execution_count": 19,
   "outputs": [],
   "source": [
    "from IPython.display import IFrame\n",
    "def play_song(track_id):\n",
    "    return IFrame(src=\"https://open.spotify.com/embed/track/\"+track_id,\n",
    "       width=\"320\",\n",
    "       height=\"80\",\n",
    "       frameborder=\"0\",\n",
    "       allowtransparency=\"true\",\n",
    "       allow=\"encrypted-media\"\n",
    "      )"
   ],
   "metadata": {
    "collapsed": false
   }
  },
  {
   "cell_type": "code",
   "execution_count": 20,
   "outputs": [
    {
     "data": {
      "text/plain": "<IPython.lib.display.IFrame at 0x25ccbd48730>",
      "text/html": "\n        <iframe\n            width=\"320\"\n            height=\"80\"\n            src=\"https://open.spotify.com/embed/track/3EEr6l5PYelwkrvvKX7N0X?frameborder=0&allowtransparency=true&allow=encrypted-media\"\n            frameborder=\"0\"\n            allowfullscreen\n            \n        ></iframe>\n        "
     },
     "execution_count": 20,
     "metadata": {},
     "output_type": "execute_result"
    }
   ],
   "source": [
    "play_song(recommender(hot_100))"
   ],
   "metadata": {
    "collapsed": false
   }
  },
  {
   "cell_type": "code",
   "execution_count": 15,
   "outputs": [
    {
     "data": {
      "text/plain": "                        danceability  energy  loudness  speechiness  \\\nid                                                                    \n2lfdtrbDa0NvJPZgKL7o13          0.34   0.476   -11.852       0.0452   \n\n                        acousticness  instrumentalness  liveness  valence  \\\nid                                                                          \n2lfdtrbDa0NvJPZgKL7o13         0.352                 0     0.169    0.546   \n\n                          tempo  duration_ms  \nid                                            \n2lfdtrbDa0NvJPZgKL7o13  115.076       175560  ",
      "text/html": "<div>\n<style scoped>\n    .dataframe tbody tr th:only-of-type {\n        vertical-align: middle;\n    }\n\n    .dataframe tbody tr th {\n        vertical-align: top;\n    }\n\n    .dataframe thead th {\n        text-align: right;\n    }\n</style>\n<table border=\"1\" class=\"dataframe\">\n  <thead>\n    <tr style=\"text-align: right;\">\n      <th></th>\n      <th>danceability</th>\n      <th>energy</th>\n      <th>loudness</th>\n      <th>speechiness</th>\n      <th>acousticness</th>\n      <th>instrumentalness</th>\n      <th>liveness</th>\n      <th>valence</th>\n      <th>tempo</th>\n      <th>duration_ms</th>\n    </tr>\n    <tr>\n      <th>id</th>\n      <th></th>\n      <th></th>\n      <th></th>\n      <th></th>\n      <th></th>\n      <th></th>\n      <th></th>\n      <th></th>\n      <th></th>\n      <th></th>\n    </tr>\n  </thead>\n  <tbody>\n    <tr>\n      <th>2lfdtrbDa0NvJPZgKL7o13</th>\n      <td>0.34</td>\n      <td>0.476</td>\n      <td>-11.852</td>\n      <td>0.0452</td>\n      <td>0.352</td>\n      <td>0</td>\n      <td>0.169</td>\n      <td>0.546</td>\n      <td>115.076</td>\n      <td>175560</td>\n    </tr>\n  </tbody>\n</table>\n</div>"
     },
     "execution_count": 15,
     "metadata": {},
     "output_type": "execute_result"
    }
   ],
   "source": [
    "get_features(get_track_id(\"the bells\"))"
   ],
   "metadata": {
    "collapsed": false
   }
  },
  {
   "cell_type": "code",
   "execution_count": 244,
   "outputs": [
    {
     "data": {
      "text/plain": "'3UEOT0hD60yGB1OMWJxLQ8'"
     },
     "execution_count": 244,
     "metadata": {},
     "output_type": "execute_result"
    }
   ],
   "source": [
    "recommender(hot_100)"
   ],
   "metadata": {
    "collapsed": false
   }
  },
  {
   "cell_type": "code",
   "execution_count": 126,
   "outputs": [
    {
     "ename": "NameError",
     "evalue": "name 'load_csv' is not defined",
     "output_type": "error",
     "traceback": [
      "\u001B[1;31m---------------------------------------------------------------------------\u001B[0m",
      "\u001B[1;31mNameError\u001B[0m                                 Traceback (most recent call last)",
      "\u001B[1;32m~\\AppData\\Local\\Temp\\ipykernel_1208\\894573368.py\u001B[0m in \u001B[0;36m<module>\u001B[1;34m\u001B[0m\n\u001B[1;32m----> 1\u001B[1;33m \u001B[0mhot_100\u001B[0m \u001B[1;33m=\u001B[0m \u001B[0mload_csv\u001B[0m\u001B[1;33m(\u001B[0m\u001B[1;33m)\u001B[0m\u001B[1;33m\u001B[0m\u001B[1;33m\u001B[0m\u001B[0m\n\u001B[0m\u001B[0;32m      2\u001B[0m \u001B[0mhot_100\u001B[0m\u001B[1;33m.\u001B[0m\u001B[0miloc\u001B[0m\u001B[1;33m[\u001B[0m\u001B[0mrandint\u001B[0m\u001B[1;33m(\u001B[0m\u001B[1;36m0\u001B[0m\u001B[1;33m,\u001B[0m \u001B[0mlen\u001B[0m\u001B[1;33m(\u001B[0m\u001B[0mhot_100\u001B[0m\u001B[1;33m)\u001B[0m\u001B[1;33m)\u001B[0m\u001B[1;33m,\u001B[0m\u001B[1;36m0\u001B[0m\u001B[1;33m]\u001B[0m\u001B[1;33m\u001B[0m\u001B[1;33m\u001B[0m\u001B[0m\n",
      "\u001B[1;31mNameError\u001B[0m: name 'load_csv' is not defined"
     ]
    }
   ],
   "source": [
    "hot_100 = load_csv()\n",
    "hot_100.iloc[randint(0, len(hot_100)),0]"
   ],
   "metadata": {
    "collapsed": false
   }
  },
  {
   "cell_type": "markdown",
   "source": [
    "# code snippets"
   ],
   "metadata": {
    "collapsed": false
   }
  },
  {
   "cell_type": "code",
   "execution_count": null,
   "outputs": [],
   "source": [
    "\n",
    "    if hot_100[\"song\"].str.lower().str.contains(user_choice.lower()).sum() > 1:\n",
    "        print(\"There are two songs with this name, please input which artist you meant. These are the artists you can choose from:\", hot_100.loc[hot_100[\"song\"].str.contains(user_choice)][\"artist\"])\n",
    "        choose_artist = input(\"Type '/exit' to exit the song recommender.\")\n",
    "\n",
    "        #hot_100_out = pd.DataFrame(hot_100[~hot_100[\"song\"].str.contains(user_choice)])\n",
    "    else:\n",
    "        print(\"fatal error\")"
   ],
   "metadata": {
    "collapsed": false
   }
  },
  {
   "cell_type": "code",
   "execution_count": 11,
   "outputs": [],
   "source": [
    "# not working yet\n",
    "def check_duplicates(song_list):\n",
    "    song_list.loc[len(song_list)+1, \"song\"] = \"Flowers\"\n",
    "    song_list.loc[len(song_list)+1, \"artist\"] = \"Blabla\"\n",
    "\n",
    "    user_choice = user_input(song_list)\n",
    "\n",
    "    song_list.loc[song_list[\"song\"].str.contains(user_choice)]\n"
   ],
   "metadata": {
    "collapsed": false
   }
  }
 ],
 "metadata": {
  "kernelspec": {
   "display_name": "Python 3",
   "language": "python",
   "name": "python3"
  },
  "language_info": {
   "codemirror_mode": {
    "name": "ipython",
    "version": 2
   },
   "file_extension": ".py",
   "mimetype": "text/x-python",
   "name": "python",
   "nbconvert_exporter": "python",
   "pygments_lexer": "ipython2",
   "version": "2.7.6"
  }
 },
 "nbformat": 4,
 "nbformat_minor": 0
}
