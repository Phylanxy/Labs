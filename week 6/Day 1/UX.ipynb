{
 "cells": [
  {
   "cell_type": "markdown",
   "source": [
    "# build the UX experience for the song recommender"
   ],
   "metadata": {
    "collapsed": false
   }
  },
  {
   "cell_type": "markdown",
   "source": [
    "- store the list in a .csv\n",
    "- get input from user\n",
    "    - check for spelling\n",
    "    - if song is found in the hot list\n",
    "        - prompt user to confirm by printing song and artist + requesting confirmation\n",
    "        - if not, send to alternative recommender\n",
    "            - make dummy function for this"
   ],
   "metadata": {
    "collapsed": false
   }
  },
  {
   "cell_type": "code",
   "execution_count": 4,
   "outputs": [],
   "source": [
    "import pandas as pd\n",
    "import numpy as np\n",
    "import requests\n",
    "from bs4 import BeautifulSoup\n",
    "from time import sleep\n",
    "from random import randint\n",
    "from fuzzywuzzy import process\n",
    "import difflib"
   ],
   "metadata": {
    "collapsed": false
   }
  },
  {
   "cell_type": "code",
   "execution_count": 5,
   "outputs": [],
   "source": [
    "def load_csv():\n",
    "    # load list of hot songs as possible choices\n",
    "    df = pd.read_csv(\"hot_100.csv\")\n",
    "    df = df.apply(lambda x: x.str.lower())\n",
    "    return df"
   ],
   "metadata": {
    "collapsed": false
   }
  },
  {
   "cell_type": "code",
   "execution_count": 6,
   "outputs": [],
   "source": [
    "# load list of hot songs as possible choices\n",
    "hot_100 = load_csv()"
   ],
   "metadata": {
    "collapsed": false
   }
  },
  {
   "cell_type": "code",
   "execution_count": 64,
   "outputs": [],
   "source": [
    "def str_matcher(user_input, song_list):\n",
    "    # Find the closest matching song title to the input string\n",
    "    best_match = difflib.get_close_matches(user_input, song_list[\"song\"], n=1, cutoff=0.8)\n",
    "    # Print the closest matching song title and the corresponding similarity score\n",
    "    if best_match:\n",
    "       similarity = difflib.SequenceMatcher(None, user_input, best_match[0]).ratio()\n",
    "       corrected_input = best_match[0]\n",
    "       match = True\n",
    "    else:\n",
    "        corrected_input = None\n",
    "        match = False\n",
    "    return match, corrected_input"
   ],
   "metadata": {
    "collapsed": false
   }
  },
  {
   "cell_type": "code",
   "execution_count": 13,
   "outputs": [
    {
     "name": "stdout",
     "output_type": "stream",
     "text": [
      "['flowers']\n"
     ]
    }
   ],
   "source": [
    "str_matcher(\"flower\", hot_100)"
   ],
   "metadata": {
    "collapsed": false
   }
  },
  {
   "cell_type": "code",
   "execution_count": 52,
   "outputs": [],
   "source": [
    "def user_input(song_list):\n",
    "    # get user input\n",
    "    user_choice = input(\"Please choose a hot song you like. To exit, type '/exit'.\")\n",
    "    # check if the program should be terminated\n",
    "    if user_choice == \"/exit\":\n",
    "        print(\"Program terminated.\")\n",
    "    else:\n",
    "        # return list with [match=True/False, corrected_input]\n",
    "        user_choice = str_matcher(user_choice, song_list)[1]\n",
    "\n",
    "        # check if the corrected string appeares in full in the list of songs\n",
    "        if song_list[\"song\"].str.contains(fr'\\b{user_choice}\\b').any():\n",
    "           print(\"Your song is in the list of 100 hottest songs.\")\n",
    "        else:\n",
    "            print(\"Your song is not in the list of the hottest 100 songs, please enter a song from the list:\", np.array(song_list[\"song\"].str.title()))\n",
    "            user_choice = user_input(song_list)\n",
    "    return user_choice"
   ],
   "metadata": {
    "collapsed": false
   }
  },
  {
   "cell_type": "code",
   "execution_count": 56,
   "outputs": [],
   "source": [
    "def good_choice(song_list):\n",
    "    good_choice = False\n",
    "    # fish out stinking fish\n",
    "    while not good_choice:\n",
    "        # get user input\n",
    "        user_choice = user_input(song_list)\n",
    "\n",
    "        # get artist corresponding to song choice\n",
    "        artist = song_list.loc[song_list[\"song\"].str.lower().str.contains(user_choice),:][\"artist\"][0]\n",
    "        # have user confirm choice\n",
    "        if str_matcher(user_choice, song_list)[1]:\n",
    "            confirm = input(f\"Is this the song you meant? {user_choice.title()} by {artist.title()} \\n Type 'y' to confirm and 'n' to deny. To exit, type '/exit'.\")\n",
    "            if confirm != \"y\":\n",
    "                good_choice = False\n",
    "            else:\n",
    "                good_choice = True\n",
    "        else:\n",
    "            good_choice = False\n",
    "\n",
    "    return user_choice"
   ],
   "metadata": {
    "collapsed": false
   }
  },
  {
   "cell_type": "code",
   "execution_count": 45,
   "outputs": [],
   "source": [
    "artist = hot_100.loc[hot_100[\"song\"].str.lower().str.contains(\"flowers\"),:][\"artist\"][0]"
   ],
   "metadata": {
    "collapsed": false
   }
  },
  {
   "cell_type": "code",
   "execution_count": 65,
   "outputs": [
    {
     "name": "stdout",
     "output_type": "stream",
     "text": [
      "Your song is in the list of 100 hottest songs.\n"
     ]
    },
    {
     "data": {
      "text/plain": "'flowers'"
     },
     "execution_count": 65,
     "metadata": {},
     "output_type": "execute_result"
    }
   ],
   "source": [
    "good_choice(hot_100)"
   ],
   "metadata": {
    "collapsed": false
   }
  },
  {
   "cell_type": "code",
   "execution_count": 70,
   "outputs": [],
   "source": [
    "def recommender(song_list):\n",
    "    # call user_input\n",
    "    user_choice = good_choice(song_list)\n",
    "\n",
    "    # get the dataframe without the input song\n",
    "    song_list_out = pd.DataFrame(song_list[~song_list[\"song\"].str.contains(user_choice)])\n",
    "\n",
    "    # choose random song from the list of songs\n",
    "    recommended_song = song_list_out.iloc[randint(0, len(song_list)), 0].title()\n",
    "    print(\"Based on the input song, we recommend you this song:\")\n",
    "\n",
    "    return recommended_song"
   ],
   "metadata": {
    "collapsed": false
   }
  },
  {
   "cell_type": "code",
   "execution_count": 71,
   "outputs": [
    {
     "name": "stdout",
     "output_type": "stream",
     "text": [
      "Your song is in the list of 100 hottest songs.\n",
      "Based on the input song, we recommend you this song:\n"
     ]
    },
    {
     "data": {
      "text/plain": "'Everything I Love'"
     },
     "execution_count": 71,
     "metadata": {},
     "output_type": "execute_result"
    }
   ],
   "source": [
    "recommender(hot_100)"
   ],
   "metadata": {
    "collapsed": false
   }
  },
  {
   "cell_type": "code",
   "execution_count": 11,
   "outputs": [],
   "source": [
    "# not working yet\n",
    "def check_duplicates(song_list):\n",
    "    song_list.loc[len(song_list)+1, \"song\"] = \"Flowers\"\n",
    "    song_list.loc[len(song_list)+1, \"artist\"] = \"Blabla\"\n",
    "\n",
    "    user_choice = user_input(song_list)\n",
    "\n",
    "    song_list.loc[song_list[\"song\"].str.contains(user_choice)]\n"
   ],
   "metadata": {
    "collapsed": false
   }
  },
  {
   "cell_type": "code",
   "execution_count": 12,
   "outputs": [
    {
     "ename": "ValueError",
     "evalue": "Cannot mask with non-boolean array containing NA / NaN values",
     "output_type": "error",
     "traceback": [
      "\u001B[1;31m---------------------------------------------------------------------------\u001B[0m",
      "\u001B[1;31mValueError\u001B[0m                                Traceback (most recent call last)",
      "\u001B[1;32m~\\AppData\\Local\\Temp\\ipykernel_9820\\1571134585.py\u001B[0m in \u001B[0;36m<module>\u001B[1;34m\u001B[0m\n\u001B[1;32m----> 1\u001B[1;33m \u001B[0mcheck_duplicates\u001B[0m\u001B[1;33m(\u001B[0m\u001B[1;33m)\u001B[0m\u001B[1;33m\u001B[0m\u001B[1;33m\u001B[0m\u001B[0m\n\u001B[0m",
      "\u001B[1;32m~\\AppData\\Local\\Temp\\ipykernel_9820\\1556462373.py\u001B[0m in \u001B[0;36mcheck_duplicates\u001B[1;34m()\u001B[0m\n\u001B[0;32m      8\u001B[0m     \u001B[0muser_choice\u001B[0m \u001B[1;33m=\u001B[0m \u001B[0muser_input\u001B[0m\u001B[1;33m(\u001B[0m\u001B[1;33m)\u001B[0m\u001B[1;33m\u001B[0m\u001B[1;33m\u001B[0m\u001B[0m\n\u001B[0;32m      9\u001B[0m \u001B[1;33m\u001B[0m\u001B[0m\n\u001B[1;32m---> 10\u001B[1;33m     \u001B[0mhot_100\u001B[0m\u001B[1;33m.\u001B[0m\u001B[0mloc\u001B[0m\u001B[1;33m[\u001B[0m\u001B[0mhot_100\u001B[0m\u001B[1;33m[\u001B[0m\u001B[1;34m\"song\"\u001B[0m\u001B[1;33m]\u001B[0m\u001B[1;33m.\u001B[0m\u001B[0mstr\u001B[0m\u001B[1;33m.\u001B[0m\u001B[0mcontains\u001B[0m\u001B[1;33m(\u001B[0m\u001B[0muser_choice\u001B[0m\u001B[1;33m)\u001B[0m\u001B[1;33m]\u001B[0m\u001B[1;33m\u001B[0m\u001B[1;33m\u001B[0m\u001B[0m\n\u001B[0m\u001B[0;32m     11\u001B[0m \u001B[1;33m\u001B[0m\u001B[0m\n",
      "\u001B[1;32mC:\\ProgramData\\Anaconda3\\lib\\site-packages\\pandas\\core\\indexing.py\u001B[0m in \u001B[0;36m__getitem__\u001B[1;34m(self, key)\u001B[0m\n\u001B[0;32m    965\u001B[0m \u001B[1;33m\u001B[0m\u001B[0m\n\u001B[0;32m    966\u001B[0m             \u001B[0mmaybe_callable\u001B[0m \u001B[1;33m=\u001B[0m \u001B[0mcom\u001B[0m\u001B[1;33m.\u001B[0m\u001B[0mapply_if_callable\u001B[0m\u001B[1;33m(\u001B[0m\u001B[0mkey\u001B[0m\u001B[1;33m,\u001B[0m \u001B[0mself\u001B[0m\u001B[1;33m.\u001B[0m\u001B[0mobj\u001B[0m\u001B[1;33m)\u001B[0m\u001B[1;33m\u001B[0m\u001B[1;33m\u001B[0m\u001B[0m\n\u001B[1;32m--> 967\u001B[1;33m             \u001B[1;32mreturn\u001B[0m \u001B[0mself\u001B[0m\u001B[1;33m.\u001B[0m\u001B[0m_getitem_axis\u001B[0m\u001B[1;33m(\u001B[0m\u001B[0mmaybe_callable\u001B[0m\u001B[1;33m,\u001B[0m \u001B[0maxis\u001B[0m\u001B[1;33m=\u001B[0m\u001B[0maxis\u001B[0m\u001B[1;33m)\u001B[0m\u001B[1;33m\u001B[0m\u001B[1;33m\u001B[0m\u001B[0m\n\u001B[0m\u001B[0;32m    968\u001B[0m \u001B[1;33m\u001B[0m\u001B[0m\n\u001B[0;32m    969\u001B[0m     \u001B[1;32mdef\u001B[0m \u001B[0m_is_scalar_access\u001B[0m\u001B[1;33m(\u001B[0m\u001B[0mself\u001B[0m\u001B[1;33m,\u001B[0m \u001B[0mkey\u001B[0m\u001B[1;33m:\u001B[0m \u001B[0mtuple\u001B[0m\u001B[1;33m)\u001B[0m\u001B[1;33m:\u001B[0m\u001B[1;33m\u001B[0m\u001B[1;33m\u001B[0m\u001B[0m\n",
      "\u001B[1;32mC:\\ProgramData\\Anaconda3\\lib\\site-packages\\pandas\\core\\indexing.py\u001B[0m in \u001B[0;36m_getitem_axis\u001B[1;34m(self, key, axis)\u001B[0m\n\u001B[0;32m   1182\u001B[0m             \u001B[0mself\u001B[0m\u001B[1;33m.\u001B[0m\u001B[0m_validate_key\u001B[0m\u001B[1;33m(\u001B[0m\u001B[0mkey\u001B[0m\u001B[1;33m,\u001B[0m \u001B[0maxis\u001B[0m\u001B[1;33m)\u001B[0m\u001B[1;33m\u001B[0m\u001B[1;33m\u001B[0m\u001B[0m\n\u001B[0;32m   1183\u001B[0m             \u001B[1;32mreturn\u001B[0m \u001B[0mself\u001B[0m\u001B[1;33m.\u001B[0m\u001B[0m_get_slice_axis\u001B[0m\u001B[1;33m(\u001B[0m\u001B[0mkey\u001B[0m\u001B[1;33m,\u001B[0m \u001B[0maxis\u001B[0m\u001B[1;33m=\u001B[0m\u001B[0maxis\u001B[0m\u001B[1;33m)\u001B[0m\u001B[1;33m\u001B[0m\u001B[1;33m\u001B[0m\u001B[0m\n\u001B[1;32m-> 1184\u001B[1;33m         \u001B[1;32melif\u001B[0m \u001B[0mcom\u001B[0m\u001B[1;33m.\u001B[0m\u001B[0mis_bool_indexer\u001B[0m\u001B[1;33m(\u001B[0m\u001B[0mkey\u001B[0m\u001B[1;33m)\u001B[0m\u001B[1;33m:\u001B[0m\u001B[1;33m\u001B[0m\u001B[1;33m\u001B[0m\u001B[0m\n\u001B[0m\u001B[0;32m   1185\u001B[0m             \u001B[1;32mreturn\u001B[0m \u001B[0mself\u001B[0m\u001B[1;33m.\u001B[0m\u001B[0m_getbool_axis\u001B[0m\u001B[1;33m(\u001B[0m\u001B[0mkey\u001B[0m\u001B[1;33m,\u001B[0m \u001B[0maxis\u001B[0m\u001B[1;33m=\u001B[0m\u001B[0maxis\u001B[0m\u001B[1;33m)\u001B[0m\u001B[1;33m\u001B[0m\u001B[1;33m\u001B[0m\u001B[0m\n\u001B[0;32m   1186\u001B[0m         \u001B[1;32melif\u001B[0m \u001B[0mis_list_like_indexer\u001B[0m\u001B[1;33m(\u001B[0m\u001B[0mkey\u001B[0m\u001B[1;33m)\u001B[0m\u001B[1;33m:\u001B[0m\u001B[1;33m\u001B[0m\u001B[1;33m\u001B[0m\u001B[0m\n",
      "\u001B[1;32mC:\\ProgramData\\Anaconda3\\lib\\site-packages\\pandas\\core\\common.py\u001B[0m in \u001B[0;36mis_bool_indexer\u001B[1;34m(key)\u001B[0m\n\u001B[0;32m    142\u001B[0m                     \u001B[1;31m# Don't raise on e.g. [\"A\", \"B\", np.nan], see\u001B[0m\u001B[1;33m\u001B[0m\u001B[1;33m\u001B[0m\u001B[0m\n\u001B[0;32m    143\u001B[0m                     \u001B[1;31m#  test_loc_getitem_list_of_labels_categoricalindex_with_na\u001B[0m\u001B[1;33m\u001B[0m\u001B[1;33m\u001B[0m\u001B[0m\n\u001B[1;32m--> 144\u001B[1;33m                     \u001B[1;32mraise\u001B[0m \u001B[0mValueError\u001B[0m\u001B[1;33m(\u001B[0m\u001B[0mna_msg\u001B[0m\u001B[1;33m)\u001B[0m\u001B[1;33m\u001B[0m\u001B[1;33m\u001B[0m\u001B[0m\n\u001B[0m\u001B[0;32m    145\u001B[0m                 \u001B[1;32mreturn\u001B[0m \u001B[1;32mFalse\u001B[0m\u001B[1;33m\u001B[0m\u001B[1;33m\u001B[0m\u001B[0m\n\u001B[0;32m    146\u001B[0m             \u001B[1;32mreturn\u001B[0m \u001B[1;32mTrue\u001B[0m\u001B[1;33m\u001B[0m\u001B[1;33m\u001B[0m\u001B[0m\n",
      "\u001B[1;31mValueError\u001B[0m: Cannot mask with non-boolean array containing NA / NaN values"
     ]
    }
   ],
   "source": [
    "check_duplicates()"
   ],
   "metadata": {
    "collapsed": false
   }
  },
  {
   "cell_type": "code",
   "execution_count": null,
   "outputs": [],
   "source": [
    "hot_100 = load_csv()\n",
    "hot_100.iloc[randint(0, len(hot_100)),0]"
   ],
   "metadata": {
    "collapsed": false
   }
  },
  {
   "cell_type": "code",
   "execution_count": null,
   "outputs": [],
   "source": [],
   "metadata": {
    "collapsed": false
   }
  },
  {
   "cell_type": "code",
   "execution_count": null,
   "outputs": [],
   "source": [
    "\n",
    "    if hot_100[\"song\"].str.lower().str.contains(user_choice.lower()).sum() > 1:\n",
    "        print(\"There are two songs with this name, please input which artist you meant. These are the artists you can choose from:\", hot_100.loc[hot_100[\"song\"].str.contains(user_choice)][\"artist\"])\n",
    "        choose_artist = input(\"Type '/exit' to exit the song recommender.\")\n",
    "\n",
    "        #hot_100_out = pd.DataFrame(hot_100[~hot_100[\"song\"].str.contains(user_choice)])\n",
    "    else:\n",
    "        print(\"fatal error\")"
   ],
   "metadata": {
    "collapsed": false
   }
  }
 ],
 "metadata": {
  "kernelspec": {
   "display_name": "Python 3",
   "language": "python",
   "name": "python3"
  },
  "language_info": {
   "codemirror_mode": {
    "name": "ipython",
    "version": 2
   },
   "file_extension": ".py",
   "mimetype": "text/x-python",
   "name": "python",
   "nbconvert_exporter": "python",
   "pygments_lexer": "ipython2",
   "version": "2.7.6"
  }
 },
 "nbformat": 4,
 "nbformat_minor": 0
}
