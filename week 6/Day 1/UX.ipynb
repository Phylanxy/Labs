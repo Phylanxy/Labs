{
 "cells": [
  {
   "cell_type": "markdown",
   "source": [
    "# build the UX experience for the song recommender"
   ],
   "metadata": {
    "collapsed": false
   }
  },
  {
   "cell_type": "markdown",
   "source": [
    "- store the list in a .csv\n",
    "- get input from user\n",
    "    - check for spelling\n",
    "    - if song is found in the hot list\n",
    "        - prompt user to confirm by printing song and artist + requesting confirmation\n",
    "        - if not, send to alternative recommender\n",
    "            - make dummy function for this"
   ],
   "metadata": {
    "collapsed": false
   }
  },
  {
   "cell_type": "code",
   "execution_count": 2,
   "outputs": [],
   "source": [
    "import pandas as pd\n",
    "import numpy as np\n",
    "import requests\n",
    "from bs4 import BeautifulSoup\n",
    "from time import sleep\n",
    "from random import randint\n",
    "from fuzzywuzzy import process\n",
    "import difflib\n",
    "import config\n",
    "import spotipy\n",
    "\n",
    "# model stuff\n",
    "import numpy as np\n",
    "import pandas as pd\n",
    "import pickle\n",
    "from sklearn import datasets # sklearn comes with some toy datasets to practise\n",
    "from sklearn.preprocessing import StandardScaler\n",
    "from sklearn.cluster import KMeans\n",
    "from matplotlib import pyplot\n",
    "from sklearn.metrics import silhouette_score\n",
    "import ast"
   ],
   "metadata": {
    "collapsed": false
   }
  },
  {
   "cell_type": "code",
   "execution_count": 3,
   "outputs": [],
   "source": [
    "# Authenticate with Spotify API\n",
    "client_credentials_manager = spotipy.SpotifyClientCredentials(\n",
    "    client_id=config.client_id,\n",
    "    client_secret=config.client_secret)\n",
    "sp = spotipy.Spotify(client_credentials_manager=client_credentials_manager)"
   ],
   "metadata": {
    "collapsed": false
   }
  },
  {
   "cell_type": "code",
   "execution_count": 4,
   "outputs": [],
   "source": [
    "def load_csv():\n",
    "    # load list of hot songs as possible choices\n",
    "    df = pd.read_csv(\"hot_100.csv\")\n",
    "    df = df.apply(lambda x: x.str.lower())\n",
    "    return df"
   ],
   "metadata": {
    "collapsed": false
   }
  },
  {
   "cell_type": "code",
   "execution_count": 5,
   "outputs": [],
   "source": [
    "# load list of hot songs as possible choices\n",
    "hot_100 = load_csv()"
   ],
   "metadata": {
    "collapsed": false
   }
  },
  {
   "cell_type": "code",
   "execution_count": 6,
   "outputs": [],
   "source": [
    "def str_matcher(user_input, song_list):\n",
    "    # Find the closest matching song title to the input string\n",
    "    best_match = difflib.get_close_matches(user_input, song_list[\"song\"], n=1, cutoff=0.8)\n",
    "    # Print the closest matching song title and the corresponding similarity score\n",
    "    if best_match:\n",
    "       similarity = difflib.SequenceMatcher(None, user_input, best_match[0]).ratio()\n",
    "       corrected_input = best_match[0]\n",
    "       match = True\n",
    "    else:\n",
    "        corrected_input = user_input\n",
    "        match = False\n",
    "    return match, corrected_input"
   ],
   "metadata": {
    "collapsed": false
   }
  },
  {
   "cell_type": "code",
   "execution_count": 140,
   "outputs": [
    {
     "data": {
      "text/plain": "(False, 'hammer')"
     },
     "execution_count": 140,
     "metadata": {},
     "output_type": "execute_result"
    }
   ],
   "source": [
    "str_matcher(\"hammer\", hot_100)"
   ],
   "metadata": {
    "collapsed": false
   }
  },
  {
   "cell_type": "markdown",
   "source": [
    "## get track id & it's features"
   ],
   "metadata": {
    "collapsed": false
   }
  },
  {
   "cell_type": "code",
   "execution_count": 7,
   "outputs": [],
   "source": [
    "def get_track_id(song):\n",
    "    id = sp.search(q=song,limit=1)[\"tracks\"][\"items\"][0][\"id\"]\n",
    "    return id"
   ],
   "metadata": {
    "collapsed": false
   }
  },
  {
   "cell_type": "code",
   "execution_count": 8,
   "outputs": [],
   "source": [
    "def get_features(track_id):\n",
    "    features = []\n",
    "    features.extend(sp.audio_features(track_id))\n",
    "    features = pd.DataFrame(features)[[\"danceability\",\"energy\",\"loudness\",\"speechiness\",\"acousticness\", \"instrumentalness\",\"liveness\",\"valence\",\"tempo\",\"id\",\"duration_ms\"]]\n",
    "    features.index = features[\"id\"]\n",
    "    features = features.drop(\"id\", axis=1)\n",
    "    return features"
   ],
   "metadata": {
    "collapsed": false
   }
  },
  {
   "cell_type": "code",
   "execution_count": 9,
   "outputs": [
    {
     "data": {
      "text/plain": "                        danceability  energy  loudness  speechiness  \\\nid                                                                    \n5rb9QrpfcKFHM1EUbSIurX         0.894   0.791    -4.699        0.112   \n\n                        acousticness  instrumentalness  liveness  valence  \\\nid                                                                          \n5rb9QrpfcKFHM1EUbSIurX        0.0183                 0    0.0388    0.583   \n\n                          tempo  duration_ms  \nid                                            \n5rb9QrpfcKFHM1EUbSIurX  105.018       250373  ",
      "text/html": "<div>\n<style scoped>\n    .dataframe tbody tr th:only-of-type {\n        vertical-align: middle;\n    }\n\n    .dataframe tbody tr th {\n        vertical-align: top;\n    }\n\n    .dataframe thead th {\n        text-align: right;\n    }\n</style>\n<table border=\"1\" class=\"dataframe\">\n  <thead>\n    <tr style=\"text-align: right;\">\n      <th></th>\n      <th>danceability</th>\n      <th>energy</th>\n      <th>loudness</th>\n      <th>speechiness</th>\n      <th>acousticness</th>\n      <th>instrumentalness</th>\n      <th>liveness</th>\n      <th>valence</th>\n      <th>tempo</th>\n      <th>duration_ms</th>\n    </tr>\n    <tr>\n      <th>id</th>\n      <th></th>\n      <th></th>\n      <th></th>\n      <th></th>\n      <th></th>\n      <th></th>\n      <th></th>\n      <th></th>\n      <th></th>\n      <th></th>\n    </tr>\n  </thead>\n  <tbody>\n    <tr>\n      <th>5rb9QrpfcKFHM1EUbSIurX</th>\n      <td>0.894</td>\n      <td>0.791</td>\n      <td>-4.699</td>\n      <td>0.112</td>\n      <td>0.0183</td>\n      <td>0</td>\n      <td>0.0388</td>\n      <td>0.583</td>\n      <td>105.018</td>\n      <td>250373</td>\n    </tr>\n  </tbody>\n</table>\n</div>"
     },
     "execution_count": 9,
     "metadata": {},
     "output_type": "execute_result"
    }
   ],
   "source": [
    "X = get_features(get_track_id(\"Yeah\"))\n",
    "X"
   ],
   "metadata": {
    "collapsed": false
   }
  },
  {
   "cell_type": "markdown",
   "source": [
    "### scale new track"
   ],
   "metadata": {
    "collapsed": false
   }
  },
  {
   "cell_type": "code",
   "execution_count": 10,
   "outputs": [],
   "source": [
    "# define function to load data from pkl files\n",
    "def load(filename):\n",
    "    try:\n",
    "        with open(\"Model/\"+filename, \"rb\") as f:\n",
    "            return pickle.load(f)\n",
    "\n",
    "    except FileNotFoundError:\n",
    "        print(\"File not found!\")"
   ],
   "metadata": {
    "collapsed": false
   }
  },
  {
   "cell_type": "code",
   "execution_count": 11,
   "outputs": [
    {
     "data": {
      "text/plain": "                        danceability  energy  loudness  speechiness  \\\nid                                                                    \n5rb9QrpfcKFHM1EUbSIurX         0.894   0.791    -4.699        0.112   \n\n                        acousticness  instrumentalness  liveness  valence  \\\nid                                                                          \n5rb9QrpfcKFHM1EUbSIurX        0.0183                 0    0.0388    0.583   \n\n                          tempo  duration_ms  \nid                                            \n5rb9QrpfcKFHM1EUbSIurX  105.018       250373  ",
      "text/html": "<div>\n<style scoped>\n    .dataframe tbody tr th:only-of-type {\n        vertical-align: middle;\n    }\n\n    .dataframe tbody tr th {\n        vertical-align: top;\n    }\n\n    .dataframe thead th {\n        text-align: right;\n    }\n</style>\n<table border=\"1\" class=\"dataframe\">\n  <thead>\n    <tr style=\"text-align: right;\">\n      <th></th>\n      <th>danceability</th>\n      <th>energy</th>\n      <th>loudness</th>\n      <th>speechiness</th>\n      <th>acousticness</th>\n      <th>instrumentalness</th>\n      <th>liveness</th>\n      <th>valence</th>\n      <th>tempo</th>\n      <th>duration_ms</th>\n    </tr>\n    <tr>\n      <th>id</th>\n      <th></th>\n      <th></th>\n      <th></th>\n      <th></th>\n      <th></th>\n      <th></th>\n      <th></th>\n      <th></th>\n      <th></th>\n      <th></th>\n    </tr>\n  </thead>\n  <tbody>\n    <tr>\n      <th>5rb9QrpfcKFHM1EUbSIurX</th>\n      <td>0.894</td>\n      <td>0.791</td>\n      <td>-4.699</td>\n      <td>0.112</td>\n      <td>0.0183</td>\n      <td>0</td>\n      <td>0.0388</td>\n      <td>0.583</td>\n      <td>105.018</td>\n      <td>250373</td>\n    </tr>\n  </tbody>\n</table>\n</div>"
     },
     "execution_count": 11,
     "metadata": {},
     "output_type": "execute_result"
    }
   ],
   "source": [
    "X"
   ],
   "metadata": {
    "collapsed": false
   }
  },
  {
   "cell_type": "code",
   "execution_count": 12,
   "outputs": [
    {
     "data": {
      "text/plain": "                        danceability    energy  loudness  speechiness  \\\nid                                                                      \n1DMEzmAoQIikcL52psptQL       0.07354  0.185867  -0.15551    -0.582553   \n\n                        acousticness  instrumentalness  liveness   valence  \\\nid                                                                           \n1DMEzmAoQIikcL52psptQL      1.259395         -0.370466 -0.501395 -0.065156   \n\n                          tempo  duration_ms  \nid                                            \n1DMEzmAoQIikcL52psptQL -1.73908     -0.31322  ",
      "text/html": "<div>\n<style scoped>\n    .dataframe tbody tr th:only-of-type {\n        vertical-align: middle;\n    }\n\n    .dataframe tbody tr th {\n        vertical-align: top;\n    }\n\n    .dataframe thead th {\n        text-align: right;\n    }\n</style>\n<table border=\"1\" class=\"dataframe\">\n  <thead>\n    <tr style=\"text-align: right;\">\n      <th></th>\n      <th>danceability</th>\n      <th>energy</th>\n      <th>loudness</th>\n      <th>speechiness</th>\n      <th>acousticness</th>\n      <th>instrumentalness</th>\n      <th>liveness</th>\n      <th>valence</th>\n      <th>tempo</th>\n      <th>duration_ms</th>\n    </tr>\n    <tr>\n      <th>id</th>\n      <th></th>\n      <th></th>\n      <th></th>\n      <th></th>\n      <th></th>\n      <th></th>\n      <th></th>\n      <th></th>\n      <th></th>\n      <th></th>\n    </tr>\n  </thead>\n  <tbody>\n    <tr>\n      <th>1DMEzmAoQIikcL52psptQL</th>\n      <td>0.07354</td>\n      <td>0.185867</td>\n      <td>-0.15551</td>\n      <td>-0.582553</td>\n      <td>1.259395</td>\n      <td>-0.370466</td>\n      <td>-0.501395</td>\n      <td>-0.065156</td>\n      <td>-1.73908</td>\n      <td>-0.31322</td>\n    </tr>\n  </tbody>\n</table>\n</div>"
     },
     "metadata": {},
     "output_type": "display_data"
    }
   ],
   "source": [
    "def scale_input(X):\n",
    "    # load scaler fit from training data\n",
    "    scaler = load(\"scaler.pkl\")\n",
    "    X_scaled = scaler.transform(X)\n",
    "    X_scaled_df = pd.DataFrame(X_scaled, columns = X.columns, index=X.index)\n",
    "    return X_scaled_df\n",
    "display(scale_input(get_features(get_track_id(\"test\"))))"
   ],
   "metadata": {
    "collapsed": false
   }
  },
  {
   "cell_type": "markdown",
   "source": [
    "## get model from pkl"
   ],
   "metadata": {
    "collapsed": false
   }
  },
  {
   "cell_type": "code",
   "execution_count": 38,
   "outputs": [],
   "source": [
    "# load the model\n",
    "kmeans4 = load(\"kmeans_4.pkl\")"
   ],
   "metadata": {
    "collapsed": false
   }
  },
  {
   "cell_type": "code",
   "execution_count": 25,
   "outputs": [],
   "source": [
    "X_scaled = scale_input(X)"
   ],
   "metadata": {
    "collapsed": false
   }
  },
  {
   "cell_type": "code",
   "execution_count": 26,
   "outputs": [
    {
     "ename": "NameError",
     "evalue": "name 'X_scaled_df' is not defined",
     "output_type": "error",
     "traceback": [
      "\u001B[1;31m---------------------------------------------------------------------------\u001B[0m",
      "\u001B[1;31mNameError\u001B[0m                                 Traceback (most recent call last)",
      "\u001B[1;32m~\\AppData\\Local\\Temp\\ipykernel_2868\\741570674.py\u001B[0m in \u001B[0;36m<module>\u001B[1;34m\u001B[0m\n\u001B[1;32m----> 1\u001B[1;33m \u001B[0mX_scaled_df\u001B[0m\u001B[1;33m\u001B[0m\u001B[1;33m\u001B[0m\u001B[0m\n\u001B[0m",
      "\u001B[1;31mNameError\u001B[0m: name 'X_scaled_df' is not defined"
     ]
    }
   ],
   "source": [
    "X_scaled_df"
   ],
   "metadata": {
    "collapsed": false
   }
  },
  {
   "cell_type": "markdown",
   "source": [
    "## predict the cluster of the input song"
   ],
   "metadata": {
    "collapsed": false
   }
  },
  {
   "cell_type": "code",
   "execution_count": 14,
   "outputs": [
    {
     "ename": "NameError",
     "evalue": "name 'X_scaled_df' is not defined",
     "output_type": "error",
     "traceback": [
      "\u001B[1;31m---------------------------------------------------------------------------\u001B[0m",
      "\u001B[1;31mNameError\u001B[0m                                 Traceback (most recent call last)",
      "\u001B[1;32m~\\AppData\\Local\\Temp\\ipykernel_2868\\118388656.py\u001B[0m in \u001B[0;36m<module>\u001B[1;34m\u001B[0m\n\u001B[1;32m----> 1\u001B[1;33m \u001B[0mkmeans15\u001B[0m\u001B[1;33m.\u001B[0m\u001B[0mpredict\u001B[0m\u001B[1;33m(\u001B[0m\u001B[0mX_scaled_df\u001B[0m\u001B[1;33m)\u001B[0m\u001B[1;33m\u001B[0m\u001B[1;33m\u001B[0m\u001B[0m\n\u001B[0m",
      "\u001B[1;31mNameError\u001B[0m: name 'X_scaled_df' is not defined"
     ]
    }
   ],
   "source": [
    "kmeans15.predict(X_scaled_df)"
   ],
   "metadata": {
    "collapsed": false
   }
  },
  {
   "cell_type": "markdown",
   "source": [
    "## find all songs of that cluster in my training set"
   ],
   "metadata": {
    "collapsed": false
   }
  },
  {
   "cell_type": "code",
   "execution_count": 24,
   "outputs": [
    {
     "data": {
      "text/plain": "                        cluster\n7DyDjhZMEIK5Ied4juTCyc        2\n7jYwZOptDPesQgzj7vhsEF        1\n11eYmv0tA3wEoyD1Sad2Nv        0\n54eE5H6F1HhyM5L4fRLq8s        1\n0yLdNVWF3Srea0uzk55zFn        1\n...                         ...\n1MQHacUW73AKPG9nlf28oZ        0\n43rQHWHRNUYvjp1kauDnjL        0\n1dGC8B4AVlFvTE7hW1ZNK3        2\n4AowHOaycPNDRId7N4Npf9        0\n7KPAMOtffV17NiiapCPGnh        2\n\n[4424 rows x 1 columns]",
      "text/html": "<div>\n<style scoped>\n    .dataframe tbody tr th:only-of-type {\n        vertical-align: middle;\n    }\n\n    .dataframe tbody tr th {\n        vertical-align: top;\n    }\n\n    .dataframe thead th {\n        text-align: right;\n    }\n</style>\n<table border=\"1\" class=\"dataframe\">\n  <thead>\n    <tr style=\"text-align: right;\">\n      <th></th>\n      <th>cluster</th>\n    </tr>\n  </thead>\n  <tbody>\n    <tr>\n      <th>7DyDjhZMEIK5Ied4juTCyc</th>\n      <td>2</td>\n    </tr>\n    <tr>\n      <th>7jYwZOptDPesQgzj7vhsEF</th>\n      <td>1</td>\n    </tr>\n    <tr>\n      <th>11eYmv0tA3wEoyD1Sad2Nv</th>\n      <td>0</td>\n    </tr>\n    <tr>\n      <th>54eE5H6F1HhyM5L4fRLq8s</th>\n      <td>1</td>\n    </tr>\n    <tr>\n      <th>0yLdNVWF3Srea0uzk55zFn</th>\n      <td>1</td>\n    </tr>\n    <tr>\n      <th>...</th>\n      <td>...</td>\n    </tr>\n    <tr>\n      <th>1MQHacUW73AKPG9nlf28oZ</th>\n      <td>0</td>\n    </tr>\n    <tr>\n      <th>43rQHWHRNUYvjp1kauDnjL</th>\n      <td>0</td>\n    </tr>\n    <tr>\n      <th>1dGC8B4AVlFvTE7hW1ZNK3</th>\n      <td>2</td>\n    </tr>\n    <tr>\n      <th>4AowHOaycPNDRId7N4Npf9</th>\n      <td>0</td>\n    </tr>\n    <tr>\n      <th>7KPAMOtffV17NiiapCPGnh</th>\n      <td>2</td>\n    </tr>\n  </tbody>\n</table>\n<p>4424 rows × 1 columns</p>\n</div>"
     },
     "execution_count": 24,
     "metadata": {},
     "output_type": "execute_result"
    }
   ],
   "source": [],
   "metadata": {
    "collapsed": false
   }
  },
  {
   "cell_type": "code",
   "execution_count": 16,
   "outputs": [],
   "source": [
    "df_clustered = pd.read_csv(\"df_clustered_15.csv\")"
   ],
   "metadata": {
    "collapsed": false
   }
  },
  {
   "cell_type": "code",
   "execution_count": 17,
   "outputs": [],
   "source": [
    "def cluster_df(clusters):\n",
    "    # group dataframe by cluster identifiers\n",
    "    grouped = clusters.groupby(\"cluster\")\n",
    "    # create a dictionary of dataframes, where each dataframe corresponds to a unique value in the 'cluster' column\n",
    "    dfs_by_cluster = dict(tuple(grouped))\n",
    "    clustered_df = {}\n",
    "    for cluster in range(len(dfs_by_cluster)):\n",
    "        clustered_df[cluster] = dfs_by_cluster[cluster]\n",
    "\n",
    "    return clustered_df\n",
    "clustered_dfs = cluster_df(df_clustered)"
   ],
   "metadata": {
    "collapsed": false
   }
  },
  {
   "cell_type": "code",
   "execution_count": 18,
   "outputs": [
    {
     "data": {
      "text/plain": "{0:                         cluster\n 1veHwv1HPwzOvlhs5jPxeP        0\n 1veHwv1HPwzOvlhs5jPxeP        0\n 5HFzAeZkaTDBhlaqwcRmeL        0\n 1veHwv1HPwzOvlhs5jPxeP        0\n 06633e40krkr5SWIenSngC        0\n ...                         ...\n 3Itfj9OAXvpTF8IVOFRMHW        0\n 4eGCTk4n1GXu9C1keB4ama        0\n 4QlqE1sO6rXsIR9AZOlawN        0\n 0bohmotsrCFyZ4Wfouo7CV        0\n 3igT2HOsfVZgYTsTObLbxZ        0\n \n [3190 rows x 1 columns],\n 1:                         cluster\n 7DyDjhZMEIK5Ied4juTCyc        1\n 2xIHVoglz5mLrNf145RieQ        1\n 4sx6NRwL6Ol3V6m9exwGlQ        1\n 4tQA4uDHh6iPaQLWaxeQqH        1\n 34FFsLy4HDUjnnDMjGXEvU        1\n ...                         ...\n 79qxwHypONUt3AFq0WPpT9        1\n 058bYtysQS0bnt7KtEnZsg        1\n 0UwvM6Pn8jWh3cNWQunjt0        1\n 1ZCeUv9xi2ZPuRbLBXfNaR        1\n 74QU8h22gboUmVHpjZAPYg        1\n \n [2803 rows x 1 columns],\n 2:                         cluster\n 3zkyus0njMCL6phZmNNEeN        2\n 28eI53WyFJVjjQwSnWTh9K        2\n 4AdhQGPnOKrH0EJWXc2EEM        2\n 2IvrIIvwA3zEPXmJitBlJD        2\n 2IEsTp4cFNOZVBNshXLB6k        2\n ...                         ...\n 3UM2VNXFBmsnb38ubiD51I        2\n 41OEJc3R6ntUR8qrzVbKn1        2\n 2NFFHYQRoBNup6Q1doQFAp        2\n 0yA8Vz6KJrpQIFAUbJW9tw        2\n 4e1IeTZFJhI4wUTbYmjeWR        2\n \n [2058 rows x 1 columns],\n 3:                         cluster\n 6N1c56ff1CRrhAiNwIfgaz        3\n 4tRhRLBxIZ34Iw0eCuiC03        3\n 0C3shWEOObGT5IxApC7Mkg        3\n 6Hh6pxNSScePI9zjKBIUg2        3\n 38T0tPVZHcPZyhtOcCP7pF        3\n ...                         ...\n 5RgdrD1NkL4KW8KWamJtZt        3\n 2JU0aRNuN3uc5dKDMeVmTq        3\n 46Hd2A8pRPyaN09IvfOr3L        3\n 5481NFd1L4WNsJFlYKoRxJ        3\n 7rtFf7PSIzZQyDhCmUjQf3        3\n \n [2082 rows x 1 columns],\n 4:                         cluster\n 2cnuiYBSniFCbnVBw2vVXH        4\n 6TMoKdGcSIHjLfyzINFB5X        4\n 1CTex49P0iWwzUGsMNjgaV        4\n 1CodjlFitI1S49ioxKShjM        4\n 1nECVsWi19p5trdiVu9ysJ        4\n ...                         ...\n 4OhSZK4o9klyC0dBQXkWQQ        4\n 2rvd4QBrSRXmgzvbzBz1k7        4\n 0KdOX4bbKodh8fWhbUgRLe        4\n 1Ob1iujiq63tbCOqLpmQhI        4\n 2UIlaLTq5A214V7f4zz458        4\n \n [3761 rows x 1 columns],\n 5:                         cluster\n 5ipyh2SML7XT0dfj38ln2w        5\n 6K2XQECfGpXzgirtBYf1wi        5\n 0QZ5yyl6B6utIWkxeBDxQN        5\n 2GiYPEgOA7hb7sqsEWX8df        5\n 0teBufkI4YHwkE0JCHDrO5        5\n ...                         ...\n 2nkAMyppbrCEwr6W0ObGDT        5\n 0haM4uUy5Gl0qVdyn6csKG        5\n 0uqcH5GIa9Qcvez3Y1Lcuf        5\n 191AWPJySNUFVPZtd82eN8        5\n 0jqfKwvVglieA2ESdKU8JM        5\n \n [1159 rows x 1 columns],\n 6:                         cluster\n 1WWF1IGjA7VjAFjnpaNoRI        6\n 5C4sp6JprCFTO9ZQcg4qXs        6\n 2Yu0AtCUsskiFKqtLCm0zc        6\n 0I4MoWFuqj48cBzbIMgZ6D        6\n 1lORkxEMmsCZqhoxcmk3A3        6\n ...                         ...\n 3HER5Z79EqP5jrbAhnpFRm        6\n 5RqKo9P4DLA0bVyY70cWkr        6\n 5O3UGMP9XJLbshKKZHsrGN        6\n 2bVUyLxltPaSPhz9yaNbr4        6\n 5oUzKkdvWBoX6B0slLHZX7        6\n \n [2549 rows x 1 columns],\n 7:                         cluster\n 07gGSxcPN5iEnszYgtx73S        7\n 2dHHgzDwk4BJdRwy9uXhTO        7\n 53vyWY4myvD6qPh1z54Itx        7\n 0qmua4YsDzfz9svXRNtOgb        7\n 0fNYJMvRcSBEC4zK3SClpK        7\n ...                         ...\n 7MCpHwnwAkWMQN0kCulEdd        7\n 6LcszLSwr4kfuQ93aHWtda        7\n 1TdyNsSnU4gozpn7JpmTNv        7\n 35pJ70xy53RXCaysuKumAa        7\n 5SSFOiWw3zN2QLeEWJSY3B        7\n \n [1978 rows x 1 columns],\n 8:                         cluster\n 41SCDPYvddVF6dVnQ33U18        8\n 3k1SUWgmrsdPRhNm1btuoh        8\n 2zOwNbJfFqXG6TqOmMLAdv        8\n 2yBCqt3B2iGGlGOafa3DfX        8\n 2kXwb4ERZcbu8YuC2LLP3r        8\n ...                         ...\n 7xXP9ysqubm7UfxmZfv63x        8\n 48IAfxqW01o5oTwP3YCbgZ        8\n 4LIqjTiBI1FSm2x2ZiPA18        8\n 5kIF95v6YpJ9E0zw8RjFkD        8\n 1YQGoYjVe5MInsnmUnclFD        8\n \n [3930 rows x 1 columns],\n 9:                         cluster\n 11eYmv0tA3wEoyD1Sad2Nv        9\n 7lkYdyKCN44Lc5saKwIGhP        9\n 6UN73IYd0hZxLi8wFPMQij        9\n 6V5LMAIGNd7qMjco5JjUSa        9\n 3GGgcGLYrrpMENcwmsWvbM        9\n ...                         ...\n 02MWAaffLxlfxAUY7c5dvx        9\n 0EcQcdcbQeVJn9fknj44Be        9\n 1sWLKYeMhFOUd7QjVbxbK3        9\n 5QwqstnenYJb97CaZYV4Qs        9\n 1pKglyymqDNY0yXIv94ztW        9\n \n [1637 rows x 1 columns],\n 10:                         cluster\n 54eE5H6F1HhyM5L4fRLq8s       10\n 0yLdNVWF3Srea0uzk55zFn       10\n 6kvW6EI5UuqCmlp7L7HD9O       10\n 5ZduaRci3iNUiDfJbBfAaf       10\n 07VcTAooOBP8hIluuUS5xr       10\n ...                         ...\n 16GjRPeu5rITWoEPcJqm5S       10\n 29SS6TB8ndmcr2YnyVuTF8       10\n 3EnfFT0S4AEANjRJTqtDhQ       10\n 4ex2TwYLDwyxVvBe6NgOe5       10\n 0wmp4aZ02X9Eyy335SbqSd       10\n \n [5237 rows x 1 columns],\n 11:                         cluster\n 6fvNQAjbTdqEBjCoCx7v2U       11\n 555j37nNg3zppVNEBXHsAV       11\n 3GYlZ7tbxLOxe6ewMNVTkw       11\n 7EWwiyBXMaLzoSXwWZkYyU       11\n 2eVofaQRJvddSUBfcub7Gz       11\n ...                         ...\n 54Q3zGfZ9AKNB4oPNpYGJ0       11\n 4qmLhnLRSzoyQjPfoSiPc6       11\n 4Vi9xSebHSxKK7LArcVcYU       11\n 7waW8AXCVZvytfmgxdKuNf       11\n 6GLKRIk8YSDDi3BnJIVr4C       11\n \n [1957 rows x 1 columns],\n 12:                         cluster\n 0CawnvXqgIy6BzbmGULcvE       12\n 6X1c9HhslDe4ykuXb7d9vI       12\n 7xvl39LuJ8o5yeHR1kta90       12\n 0qLp8n67H96dA3L0ySGb0l       12\n 50OKS8aOeuiegMnJuPKUeN       12\n ...                         ...\n 5OcR8AK66gFwNCksDat8Io       12\n 7eA7au0FtvrPKYzns7N67C       12\n 3FHbiu4Gd69PB3cEBkqWlr       12\n 4STc4mzx8pu7I2YzJGIHS8       12\n 3LSKCvgWh9YgPiSfrBwcnU       12\n \n [907 rows x 1 columns],\n 13:                         cluster\n 6nYJWAPKIJfXIKtiYc4P4O       13\n 2lWc1iJlz2NVcStV5fbtPG       13\n 6nYJWAPKIJfXIKtiYc4P4O       13\n 2tkoh6Su4y1pxUjldcTVtw       13\n 2lWc1iJlz2NVcStV5fbtPG       13\n ...                         ...\n 6UkgkFvg1ekxwn4RiA5BYo       13\n 32PtRlfB2dh7PeX2yQyCyp       13\n 5KXlpC6XURJwzzc7cMH2x3       13\n 0eZGTJWfuEh3GUWTdgsICk       13\n 3jd6uuUl4CBFZXOEjISEjf       13\n \n [2535 rows x 1 columns],\n 14:                         cluster\n 7jYwZOptDPesQgzj7vhsEF       14\n 4YxZQd3I4rj1nqkXgvpCk4       14\n 5YdnOm5990Kfq1Jodws98B       14\n 373gDROnujxNTFa1FojYIl       14\n 3nqQXoyQOWXiESFLlDF1hG       14\n ...                         ...\n 3c12d3L27Jzw8g7nfuN7IK       14\n 4Ae1SrLqXkPLfKyz0RTjLN       14\n 1naTCLL7Zo2SyqqvR53l4B       14\n 2icSoosXMB1U1WUhk3Qxlj       14\n 1SJWEPfDt9U4t9q2w2UtXv       14\n \n [2341 rows x 1 columns]}"
     },
     "execution_count": 18,
     "metadata": {},
     "output_type": "execute_result"
    }
   ],
   "source": [
    "clustered_dfs"
   ],
   "metadata": {
    "collapsed": false
   }
  },
  {
   "cell_type": "markdown",
   "source": [
    "# UX flow"
   ],
   "metadata": {
    "collapsed": false
   }
  },
  {
   "cell_type": "code",
   "execution_count": 19,
   "outputs": [],
   "source": [
    "def user_input(song_list):\n",
    "    # get user input\n",
    "    user_choice = input(\"Please choose a hot song you like. To exit, type '/exit'.\")\n",
    "    # check if the program should be terminated\n",
    "    if user_choice == \"/exit\":\n",
    "        print(\"Program terminated.\")\n",
    "        match = False\n",
    "    else:\n",
    "        # return list with [match=True/False, corrected_input]\n",
    "        match, user_choice = str_matcher(user_choice, song_list)\n",
    "\n",
    "        # check if the corrected string appeares in full in the list of songs\n",
    "        if match:\n",
    "           print(\"Your song is in the list of 100 hottest songs.\")\n",
    "        else:\n",
    "            #print(\"Your song is not in the list of the hottest 100 songs, please enter a song from the list:\", np.array(song_list[\"song\"].str.title()))\n",
    "            # return the original str as output\n",
    "            user_choice = user_choice\n",
    "\n",
    "    return match, user_choice"
   ],
   "metadata": {
    "collapsed": false
   }
  },
  {
   "cell_type": "code",
   "execution_count": 150,
   "outputs": [],
   "source": [
    "# prompt spotipy to find the given tracks ID and it's features and then predict its cluster, finally returning a random recommendation from the same cluster\n"
   ],
   "metadata": {
    "collapsed": false
   }
  },
  {
   "cell_type": "code",
   "execution_count": 151,
   "outputs": [
    {
     "data": {
      "text/plain": "'5kqr6EkKEafBGKxzjdXOVP'"
     },
     "execution_count": 151,
     "metadata": {},
     "output_type": "execute_result"
    }
   ],
   "source": [
    "get_track_id(\"hammer\")"
   ],
   "metadata": {
    "collapsed": false
   }
  },
  {
   "cell_type": "code",
   "execution_count": 45,
   "outputs": [],
   "source": [
    "artist = hot_100.loc[hot_100[\"song\"].str.lower().str.contains(\"flowers\"),:][\"artist\"][0]"
   ],
   "metadata": {
    "collapsed": false
   }
  },
  {
   "cell_type": "markdown",
   "source": [
    "# todo:\n",
    "#todo\n",
    "- return iFrame player for top 100 recommendations\n",
    "- improve recommendation by printing artist name and song title and ask for confirmation\n",
    "    - if not: reprompt for title + artist\n",
    "- optinal: clean str_matcher & user_input"
   ],
   "metadata": {
    "collapsed": false
   }
  },
  {
   "cell_type": "code",
   "execution_count": 27,
   "outputs": [],
   "source": [
    "def recommender(song_list, clustered_dfs = clustered_dfs):\n",
    "    # call user_input\n",
    "    match, user_choice = user_input(song_list)\n",
    "\n",
    "    if match:\n",
    "        # get the dataframe without the input song\n",
    "        song_list_out = pd.DataFrame(song_list[~song_list[\"song\"].str.contains(user_choice)])\n",
    "        # choose random song from the list of songs\n",
    "        recommended_song = song_list_out.iloc[randint(0, len(song_list)), 0].title()\n",
    "        print(\"Based on the input song, we recommend you this song:\")\n",
    "    else:\n",
    "        track_id = get_track_id(user_choice)\n",
    "        X = get_features(track_id)\n",
    "        X_scaled_df = scale_input(X)\n",
    "        predicted_cluster = kmeans4.predict(X_scaled_df)[0]\n",
    "        recommended_song = clustered_dfs[predicted_cluster].index[randint(0, len(clustered_dfs[predicted_cluster]))]\n",
    "\n",
    "    return recommended_song\n",
    "# now returns name from list or track id for recommencdation from cluster"
   ],
   "metadata": {
    "collapsed": false
   }
  },
  {
   "cell_type": "code",
   "execution_count": 28,
   "outputs": [],
   "source": [
    "from IPython.display import IFrame\n",
    "def play_song(track_id):\n",
    "    return IFrame(src=\"https://open.spotify.com/embed/track/\"+track_id,\n",
    "       width=\"320\",\n",
    "       height=\"80\",\n",
    "       frameborder=\"0\",\n",
    "       allowtransparency=\"true\",\n",
    "       allow=\"encrypted-media\"\n",
    "      )"
   ],
   "metadata": {
    "collapsed": false
   }
  },
  {
   "cell_type": "code",
   "execution_count": 37,
   "outputs": [
    {
     "data": {
      "text/plain": "<IPython.lib.display.IFrame at 0x29f39780340>",
      "text/html": "\n        <iframe\n            width=\"320\"\n            height=\"80\"\n            src=\"https://open.spotify.com/embed/track/5hkgrWxkobGtg30I7DsfVu?frameborder=0&allowtransparency=true&allow=encrypted-media\"\n            frameborder=\"0\"\n            allowfullscreen\n            \n        ></iframe>\n        "
     },
     "execution_count": 37,
     "metadata": {},
     "output_type": "execute_result"
    }
   ],
   "source": [
    "play_song(recommender(hot_100))"
   ],
   "metadata": {
    "collapsed": false
   }
  },
  {
   "cell_type": "code",
   "execution_count": 15,
   "outputs": [
    {
     "data": {
      "text/plain": "                        danceability  energy  loudness  speechiness  \\\nid                                                                    \n2lfdtrbDa0NvJPZgKL7o13          0.34   0.476   -11.852       0.0452   \n\n                        acousticness  instrumentalness  liveness  valence  \\\nid                                                                          \n2lfdtrbDa0NvJPZgKL7o13         0.352                 0     0.169    0.546   \n\n                          tempo  duration_ms  \nid                                            \n2lfdtrbDa0NvJPZgKL7o13  115.076       175560  ",
      "text/html": "<div>\n<style scoped>\n    .dataframe tbody tr th:only-of-type {\n        vertical-align: middle;\n    }\n\n    .dataframe tbody tr th {\n        vertical-align: top;\n    }\n\n    .dataframe thead th {\n        text-align: right;\n    }\n</style>\n<table border=\"1\" class=\"dataframe\">\n  <thead>\n    <tr style=\"text-align: right;\">\n      <th></th>\n      <th>danceability</th>\n      <th>energy</th>\n      <th>loudness</th>\n      <th>speechiness</th>\n      <th>acousticness</th>\n      <th>instrumentalness</th>\n      <th>liveness</th>\n      <th>valence</th>\n      <th>tempo</th>\n      <th>duration_ms</th>\n    </tr>\n    <tr>\n      <th>id</th>\n      <th></th>\n      <th></th>\n      <th></th>\n      <th></th>\n      <th></th>\n      <th></th>\n      <th></th>\n      <th></th>\n      <th></th>\n      <th></th>\n    </tr>\n  </thead>\n  <tbody>\n    <tr>\n      <th>2lfdtrbDa0NvJPZgKL7o13</th>\n      <td>0.34</td>\n      <td>0.476</td>\n      <td>-11.852</td>\n      <td>0.0452</td>\n      <td>0.352</td>\n      <td>0</td>\n      <td>0.169</td>\n      <td>0.546</td>\n      <td>115.076</td>\n      <td>175560</td>\n    </tr>\n  </tbody>\n</table>\n</div>"
     },
     "execution_count": 15,
     "metadata": {},
     "output_type": "execute_result"
    }
   ],
   "source": [
    "get_features(get_track_id(\"the bells\"))"
   ],
   "metadata": {
    "collapsed": false
   }
  },
  {
   "cell_type": "code",
   "execution_count": 244,
   "outputs": [
    {
     "data": {
      "text/plain": "'3UEOT0hD60yGB1OMWJxLQ8'"
     },
     "execution_count": 244,
     "metadata": {},
     "output_type": "execute_result"
    }
   ],
   "source": [
    "recommender(hot_100)"
   ],
   "metadata": {
    "collapsed": false
   }
  },
  {
   "cell_type": "code",
   "execution_count": 126,
   "outputs": [
    {
     "ename": "NameError",
     "evalue": "name 'load_csv' is not defined",
     "output_type": "error",
     "traceback": [
      "\u001B[1;31m---------------------------------------------------------------------------\u001B[0m",
      "\u001B[1;31mNameError\u001B[0m                                 Traceback (most recent call last)",
      "\u001B[1;32m~\\AppData\\Local\\Temp\\ipykernel_1208\\894573368.py\u001B[0m in \u001B[0;36m<module>\u001B[1;34m\u001B[0m\n\u001B[1;32m----> 1\u001B[1;33m \u001B[0mhot_100\u001B[0m \u001B[1;33m=\u001B[0m \u001B[0mload_csv\u001B[0m\u001B[1;33m(\u001B[0m\u001B[1;33m)\u001B[0m\u001B[1;33m\u001B[0m\u001B[1;33m\u001B[0m\u001B[0m\n\u001B[0m\u001B[0;32m      2\u001B[0m \u001B[0mhot_100\u001B[0m\u001B[1;33m.\u001B[0m\u001B[0miloc\u001B[0m\u001B[1;33m[\u001B[0m\u001B[0mrandint\u001B[0m\u001B[1;33m(\u001B[0m\u001B[1;36m0\u001B[0m\u001B[1;33m,\u001B[0m \u001B[0mlen\u001B[0m\u001B[1;33m(\u001B[0m\u001B[0mhot_100\u001B[0m\u001B[1;33m)\u001B[0m\u001B[1;33m)\u001B[0m\u001B[1;33m,\u001B[0m\u001B[1;36m0\u001B[0m\u001B[1;33m]\u001B[0m\u001B[1;33m\u001B[0m\u001B[1;33m\u001B[0m\u001B[0m\n",
      "\u001B[1;31mNameError\u001B[0m: name 'load_csv' is not defined"
     ]
    }
   ],
   "source": [
    "hot_100 = load_csv()\n",
    "hot_100.iloc[randint(0, len(hot_100)),0]"
   ],
   "metadata": {
    "collapsed": false
   }
  },
  {
   "cell_type": "markdown",
   "source": [
    "# code snippets"
   ],
   "metadata": {
    "collapsed": false
   }
  },
  {
   "cell_type": "code",
   "execution_count": null,
   "outputs": [],
   "source": [
    "\n",
    "    if hot_100[\"song\"].str.lower().str.contains(user_choice.lower()).sum() > 1:\n",
    "        print(\"There are two songs with this name, please input which artist you meant. These are the artists you can choose from:\", hot_100.loc[hot_100[\"song\"].str.contains(user_choice)][\"artist\"])\n",
    "        choose_artist = input(\"Type '/exit' to exit the song recommender.\")\n",
    "\n",
    "        #hot_100_out = pd.DataFrame(hot_100[~hot_100[\"song\"].str.contains(user_choice)])\n",
    "    else:\n",
    "        print(\"fatal error\")"
   ],
   "metadata": {
    "collapsed": false
   }
  },
  {
   "cell_type": "code",
   "execution_count": 11,
   "outputs": [],
   "source": [
    "# not working yet\n",
    "def check_duplicates(song_list):\n",
    "    song_list.loc[len(song_list)+1, \"song\"] = \"Flowers\"\n",
    "    song_list.loc[len(song_list)+1, \"artist\"] = \"Blabla\"\n",
    "\n",
    "    user_choice = user_input(song_list)\n",
    "\n",
    "    song_list.loc[song_list[\"song\"].str.contains(user_choice)]\n"
   ],
   "metadata": {
    "collapsed": false
   }
  }
 ],
 "metadata": {
  "kernelspec": {
   "display_name": "Python 3",
   "language": "python",
   "name": "python3"
  },
  "language_info": {
   "codemirror_mode": {
    "name": "ipython",
    "version": 2
   },
   "file_extension": ".py",
   "mimetype": "text/x-python",
   "name": "python",
   "nbconvert_exporter": "python",
   "pygments_lexer": "ipython2",
   "version": "2.7.6"
  }
 },
 "nbformat": 4,
 "nbformat_minor": 0
}
