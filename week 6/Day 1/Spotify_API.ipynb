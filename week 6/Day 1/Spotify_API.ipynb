{
 "cells": [
  {
   "cell_type": "markdown",
   "source": [
    "# Start using the spotify API"
   ],
   "metadata": {
    "collapsed": false
   }
  },
  {
   "cell_type": "code",
   "execution_count": 1,
   "outputs": [],
   "source": [
    "import config\n",
    "import spotipy\n",
    "import json\n",
    "import requests\n",
    "from spotipy.oauth2 import SpotifyClientCredentials\n",
    "import pprint\n",
    "import pandas as pd\n",
    "import numpy as np\n",
    "import base64\n",
    "import csv\n",
    "import pickle"
   ],
   "metadata": {
    "collapsed": false
   }
  },
  {
   "cell_type": "code",
   "execution_count": 2,
   "outputs": [],
   "source": [
    "# Authenticate with Spotify API\n",
    "client_credentials_manager = SpotifyClientCredentials(\n",
    "    client_id=config.client_id,\n",
    "    client_secret=config.client_secret\n",
    ")\n",
    "sp = spotipy.Spotify(client_credentials_manager=client_credentials_manager)"
   ],
   "metadata": {
    "collapsed": false
   }
  },
  {
   "cell_type": "code",
   "execution_count": null,
   "outputs": [],
   "source": [
    "results = sp.search(q=\"Lose yourself\",limit=1,market=\"GB\")"
   ],
   "metadata": {
    "collapsed": false
   }
  },
  {
   "cell_type": "code",
   "execution_count": null,
   "outputs": [],
   "source": [
    "track_id=results[\"tracks\"][\"items\"][0][\"id\"]\n",
    "track_id"
   ],
   "metadata": {
    "collapsed": false
   }
  },
  {
   "cell_type": "code",
   "execution_count": null,
   "outputs": [],
   "source": [
    "# create a list containing all markets\n",
    "markets = list(sp.available_markets()[\"markets\"])"
   ],
   "metadata": {
    "collapsed": false
   }
  },
  {
   "cell_type": "code",
   "execution_count": 23,
   "outputs": [],
   "source": [
    "playlist_id_lst = pd.read_csv(\"list_of_playlists.csv\")"
   ],
   "metadata": {
    "collapsed": false
   }
  },
  {
   "cell_type": "code",
   "execution_count": 29,
   "outputs": [],
   "source": [
    "user = \"spotify\"\n",
    "# define function to get tracks from a playlist\n",
    "def get_playlist_tracks(username, playlist_id):\n",
    "    results = sp.user_playlist_tracks(user=username,playlist_id=playlist_id, fields=\"items.track.id\", limit=20)\n",
    "    tracks = results[\"items\"]\n",
    "    #while results['next']:\n",
    "     #   results = sp.next(results)\n",
    "     #   tracks.extend(results['items'])\n",
    "    return tracks"
   ],
   "metadata": {
    "collapsed": false
   }
  },
  {
   "cell_type": "code",
   "execution_count": 27,
   "outputs": [
    {
     "name": "stderr",
     "output_type": "stream",
     "text": [
      "HTTP Error for GET to https://api.spotify.com/v1/playlists/37i9dQZF1DX5zUtQI29qCP/tracks with Params: {'limit': 10, 'offset': 0, 'fields': 'items.track.id', 'market': None, 'additional_types': 'track'} returned 404 due to Not found.\n"
     ]
    }
   ],
   "source": [
    "# make list of tracks from the first x songs in each playlist contained in playlist_id_lst\n",
    "tracks = []\n",
    "for i, item in playlist_id_lst.iterrows():\n",
    "    try:\n",
    "        #print(i, item.values[0])\n",
    "        tracks.extend(get_playlist_tracks(user, item.values[0]))\n",
    "    except:\n",
    "        pass"
   ],
   "metadata": {
    "collapsed": false
   }
  },
  {
   "cell_type": "code",
   "execution_count": 30,
   "outputs": [
    {
     "data": {
      "text/plain": "'7oQepKHmXDaPC3rgeLRvQu'"
     },
     "execution_count": 30,
     "metadata": {},
     "output_type": "execute_result"
    }
   ],
   "source": [
    "tracks[0][\"track\"][\"id\"]"
   ],
   "metadata": {
    "collapsed": false
   }
  },
  {
   "cell_type": "code",
   "execution_count": 34,
   "outputs": [],
   "source": [
    "# make a dataframe containing only the\n",
    "df_tracks = pd.DataFrame(columns=[\"ID\"])\n",
    "for track in tracks:\n",
    "    try:\n",
    "        df_tracks.loc[len(df_tracks)] = track[\"track\"][\"id\"]\n",
    "    except:\n",
    "        pass"
   ],
   "metadata": {
    "collapsed": false
   }
  },
  {
   "cell_type": "code",
   "execution_count": 31,
   "outputs": [
    {
     "data": {
      "text/plain": "                            ID\n0       7oQepKHmXDaPC3rgeLRvQu\n1       7DyDjhZMEIK5Ied4juTCyc\n2       7jYwZOptDPesQgzj7vhsEF\n3       11eYmv0tA3wEoyD1Sad2Nv\n4       54eE5H6F1HhyM5L4fRLq8s\n...                        ...\n102478  4oTeGVTZhMgn1ZwuJzroOu\n102479  3B6Wm7UhJ7tmydqpdI4jod\n102480  2Ew9aqhpxnNLxZgLdgdoki\n102481  1RNDTmjsiekXqaOJejZaFb\n102482  6BA4U2AJ2So49LRolXPuLI\n\n[70400 rows x 1 columns]",
      "text/html": "<div>\n<style scoped>\n    .dataframe tbody tr th:only-of-type {\n        vertical-align: middle;\n    }\n\n    .dataframe tbody tr th {\n        vertical-align: top;\n    }\n\n    .dataframe thead th {\n        text-align: right;\n    }\n</style>\n<table border=\"1\" class=\"dataframe\">\n  <thead>\n    <tr style=\"text-align: right;\">\n      <th></th>\n      <th>ID</th>\n    </tr>\n  </thead>\n  <tbody>\n    <tr>\n      <th>0</th>\n      <td>7oQepKHmXDaPC3rgeLRvQu</td>\n    </tr>\n    <tr>\n      <th>1</th>\n      <td>7DyDjhZMEIK5Ied4juTCyc</td>\n    </tr>\n    <tr>\n      <th>2</th>\n      <td>7jYwZOptDPesQgzj7vhsEF</td>\n    </tr>\n    <tr>\n      <th>3</th>\n      <td>11eYmv0tA3wEoyD1Sad2Nv</td>\n    </tr>\n    <tr>\n      <th>4</th>\n      <td>54eE5H6F1HhyM5L4fRLq8s</td>\n    </tr>\n    <tr>\n      <th>...</th>\n      <td>...</td>\n    </tr>\n    <tr>\n      <th>102478</th>\n      <td>4oTeGVTZhMgn1ZwuJzroOu</td>\n    </tr>\n    <tr>\n      <th>102479</th>\n      <td>3B6Wm7UhJ7tmydqpdI4jod</td>\n    </tr>\n    <tr>\n      <th>102480</th>\n      <td>2Ew9aqhpxnNLxZgLdgdoki</td>\n    </tr>\n    <tr>\n      <th>102481</th>\n      <td>1RNDTmjsiekXqaOJejZaFb</td>\n    </tr>\n    <tr>\n      <th>102482</th>\n      <td>6BA4U2AJ2So49LRolXPuLI</td>\n    </tr>\n  </tbody>\n</table>\n<p>70400 rows × 1 columns</p>\n</div>"
     },
     "execution_count": 31,
     "metadata": {},
     "output_type": "execute_result"
    }
   ],
   "source": [
    "df_tracks"
   ],
   "metadata": {
    "collapsed": false
   }
  },
  {
   "cell_type": "code",
   "execution_count": 12,
   "outputs": [],
   "source": [
    "df_tracks.to_csv(\"df_tracks_no_dups.csv\", index_label=False)"
   ],
   "metadata": {
    "collapsed": false
   }
  },
  {
   "cell_type": "code",
   "execution_count": 14,
   "outputs": [],
   "source": [
    "# load tracks from csv into list\n",
    "df_tracks = pd.read_csv(\"df_tracks_no_dups.csv\")\n",
    "#tracks = df_tracks.values.tolist()"
   ],
   "metadata": {
    "collapsed": false
   }
  },
  {
   "cell_type": "code",
   "execution_count": 28,
   "outputs": [
    {
     "data": {
      "text/plain": "                            ID\n0       7oQepKHmXDaPC3rgeLRvQu\n1       7DyDjhZMEIK5Ied4juTCyc\n2       7jYwZOptDPesQgzj7vhsEF\n3       11eYmv0tA3wEoyD1Sad2Nv\n4       54eE5H6F1HhyM5L4fRLq8s\n...                        ...\n102478  4oTeGVTZhMgn1ZwuJzroOu\n102479  3B6Wm7UhJ7tmydqpdI4jod\n102480  2Ew9aqhpxnNLxZgLdgdoki\n102481  1RNDTmjsiekXqaOJejZaFb\n102482  6BA4U2AJ2So49LRolXPuLI\n\n[70400 rows x 1 columns]",
      "text/html": "<div>\n<style scoped>\n    .dataframe tbody tr th:only-of-type {\n        vertical-align: middle;\n    }\n\n    .dataframe tbody tr th {\n        vertical-align: top;\n    }\n\n    .dataframe thead th {\n        text-align: right;\n    }\n</style>\n<table border=\"1\" class=\"dataframe\">\n  <thead>\n    <tr style=\"text-align: right;\">\n      <th></th>\n      <th>ID</th>\n    </tr>\n  </thead>\n  <tbody>\n    <tr>\n      <th>0</th>\n      <td>7oQepKHmXDaPC3rgeLRvQu</td>\n    </tr>\n    <tr>\n      <th>1</th>\n      <td>7DyDjhZMEIK5Ied4juTCyc</td>\n    </tr>\n    <tr>\n      <th>2</th>\n      <td>7jYwZOptDPesQgzj7vhsEF</td>\n    </tr>\n    <tr>\n      <th>3</th>\n      <td>11eYmv0tA3wEoyD1Sad2Nv</td>\n    </tr>\n    <tr>\n      <th>4</th>\n      <td>54eE5H6F1HhyM5L4fRLq8s</td>\n    </tr>\n    <tr>\n      <th>...</th>\n      <td>...</td>\n    </tr>\n    <tr>\n      <th>102478</th>\n      <td>4oTeGVTZhMgn1ZwuJzroOu</td>\n    </tr>\n    <tr>\n      <th>102479</th>\n      <td>3B6Wm7UhJ7tmydqpdI4jod</td>\n    </tr>\n    <tr>\n      <th>102480</th>\n      <td>2Ew9aqhpxnNLxZgLdgdoki</td>\n    </tr>\n    <tr>\n      <th>102481</th>\n      <td>1RNDTmjsiekXqaOJejZaFb</td>\n    </tr>\n    <tr>\n      <th>102482</th>\n      <td>6BA4U2AJ2So49LRolXPuLI</td>\n    </tr>\n  </tbody>\n</table>\n<p>70400 rows × 1 columns</p>\n</div>"
     },
     "execution_count": 28,
     "metadata": {},
     "output_type": "execute_result"
    }
   ],
   "source": [
    "df_tracks = df_tracks.drop_duplicates()\n",
    "df_tracks"
   ],
   "metadata": {
    "collapsed": false
   }
  },
  {
   "cell_type": "code",
   "execution_count": 19,
   "outputs": [
    {
     "data": {
      "text/plain": "70400"
     },
     "execution_count": 19,
     "metadata": {},
     "output_type": "execute_result"
    }
   ],
   "source": [
    "len(df_tracks)"
   ],
   "metadata": {
    "collapsed": false
   }
  },
  {
   "cell_type": "code",
   "execution_count": 20,
   "outputs": [],
   "source": [
    "def get_features(track_id):\n",
    "    track_features = []\n",
    "    track_features.extend(sp.audio_features(track_id))\n",
    "    return track_features"
   ],
   "metadata": {
    "collapsed": false
   }
  },
  {
   "cell_type": "code",
   "execution_count": 21,
   "outputs": [],
   "source": [
    "def write_list_to_pickle_file(my_list, filename):\n",
    "    with open(filename, 'wb') as file:\n",
    "        pickle.dump(my_list, file)"
   ],
   "metadata": {
    "collapsed": false
   }
  },
  {
   "cell_type": "code",
   "execution_count": 22,
   "outputs": [],
   "source": [
    "def write_list_to_csv(my_list, filename):\n",
    "    with open(filename, 'a', newline='') as file:\n",
    "        writer = csv.writer(file)\n",
    "        for item in my_list:\n",
    "            writer.writerow([item])"
   ],
   "metadata": {
    "collapsed": false
   }
  },
  {
   "cell_type": "code",
   "execution_count": null,
   "outputs": [],
   "source": [
    "#bin_size = 10000\n",
    "#ranges = [list(range(x*bin_size, (x*bin_size)+bin_size+1)) for x in range(0,10)]\n",
    "for track in tracks[0:20000]:\n",
    "    try:\n",
    "        track_features_lst = []\n",
    "        track_features_lst.extend(get_features(track))\n",
    "        write_list_to_csv(track_features_lst, \"track_features_lst1_4.csv\")\n",
    "    except:\n",
    "        pass"
   ],
   "metadata": {
    "collapsed": false
   }
  },
  {
   "cell_type": "code",
   "execution_count": null,
   "outputs": [],
   "source": [],
   "metadata": {
    "collapsed": false
   }
  },
  {
   "cell_type": "markdown",
   "source": [
    "with open(\"track_features_lst_2.csv\",\"rb\") as f:\n",
    "    features = pickle.load(f)"
   ],
   "metadata": {
    "collapsed": false
   }
  },
  {
   "cell_type": "code",
   "execution_count": null,
   "outputs": [],
   "source": [
    "df = pd.read_csv(\"track_features_lst_2.csv\")\n",
    "\n",
    "df_features = pd.DataFrame(columns=[\"danceability\",\"energy\",\"loudness\",\"speechiness\",\"acousticness\", \"instrumentalness\",\"liveness\",\"valence\",\"tempo\",\"id\",\"duration_ms\"])\n",
    "df_features"
   ],
   "metadata": {
    "collapsed": false
   }
  },
  {
   "cell_type": "code",
   "execution_count": null,
   "outputs": [],
   "source": [
    "# example DataFrame with dictionaries as rows\n",
    "df = pd.read_csv(\"track_features_lst_2.csv\")"
   ],
   "metadata": {
    "collapsed": false
   }
  },
  {
   "cell_type": "code",
   "execution_count": null,
   "outputs": [],
   "source": [
    "track_features = []\n",
    "for playlist_id in playlist_id_lst[0:20]:\n",
    "    try:\n",
    "        playlist_items = sp.user_playlist_tracks(user=user, playlist_id=playlist_id, fields=\"items.track.id, next\", limit=10)\n",
    "    except:\n",
    "        pass\n",
    "\n",
    "    try:\n",
    "        tracks = playlist_items['items']\n",
    "        while playlist_items['next']:\n",
    "            playlist_items = sp.next(playlist_items)\n",
    "            tracks.extend(playlist_items['items'])\n",
    "            track_features.append(sp.audio_features(tracks)[0])\n",
    "    except:\n",
    "        pass\n",
    "\n",
    "# create a dataframe from the features list\n",
    "df = pd.DataFrame(track_features)\n",
    "#df = df[[\"danceability\",\"energy\",\"loudness\",\"speechiness\",\"acousticness\", \"instrumentalness\",\"liveness\",\"valence\",\"tempo\",\"id\",\"duration_ms\"]]"
   ],
   "metadata": {
    "collapsed": false
   }
  },
  {
   "cell_type": "code",
   "execution_count": null,
   "outputs": [],
   "source": [
    "track_features"
   ],
   "metadata": {
    "collapsed": false
   }
  },
  {
   "cell_type": "code",
   "execution_count": null,
   "outputs": [],
   "source": [
    "# Get top tracks from all the playlists\n",
    "for playlist_id in playlist_id_lst:\n",
    "    playlist_items = sp.playlist_items(playlist_id, fields=\"items.track.id\", limit=1)\n",
    "\n",
    "    # now get the ID's\n",
    "    track_id = []\n",
    "    track_features = []\n",
    "    # Print top tracks\n",
    "    for i, item in enumerate(playlist_items[\"items\"]):\n",
    "        try:\n",
    "            # get track_id\n",
    "            track_id = item[\"track\"][\"id\"]\n",
    "            # get features and store them in a list\n",
    "            track_features.append(sp.audio_features(track_id)[0])\n",
    "        except TypeError:\n",
    "            print(\"type error\")\n",
    "\n",
    "# create a dataframe from the features listS\n",
    "df = pd.DataFrame(track_features)\n",
    "df = df[[\"danceability\",\"energy\",\"loudness\",\"speechiness\",\"acousticness\", \"instrumentalness\",\"liveness\",\"valence\",\"tempo\",\"id\",\"duration_ms\"]]"
   ],
   "metadata": {
    "collapsed": false
   }
  },
  {
   "cell_type": "code",
   "execution_count": null,
   "outputs": [],
   "source": [
    "df.head()"
   ],
   "metadata": {
    "collapsed": false
   }
  },
  {
   "cell_type": "markdown",
   "source": [
    "# code snippets"
   ],
   "metadata": {
    "collapsed": false
   }
  },
  {
   "cell_type": "code",
   "execution_count": null,
   "outputs": [],
   "source": [
    "# Set up authorization headers\n",
    "client_id = config.client_id\n",
    "client_secret = config.client_secret\n",
    "auth_header = base64.b64encode(f\"{client_id}:{client_secret}\".encode(\"ascii\")).decode(\"ascii\")\n",
    "headers = {\"Authorization\": f\"Basic {auth_header}\"}\n",
    "\n",
    "# Get access token\n",
    "url = \"https://accounts.spotify.com/api/token\"\n",
    "data = {\"grant_type\": \"client_credentials\"}\n",
    "response = requests.post(url, headers=headers, data=data)\n",
    "access_token = response.json()[\"access_token\"]\n",
    "\n",
    "# Make request to Top Tracks endpoint\n",
    "artist_id = \"0OdUWJ0sBjDrqHygGUXeCF\"  # example artist ID\n",
    "url = f\"https://api.spotify.com/v1/artists/{artist_id}/top-tracks\"\n",
    "headers = {\"Authorization\": f\"Bearer {access_token}\"}\n",
    "params = {\"market\": \"US\"}\n",
    "\n",
    "response = requests.get(url, headers=headers, params=params)"
   ],
   "metadata": {
    "collapsed": false
   }
  },
  {
   "cell_type": "code",
   "execution_count": null,
   "outputs": [],
   "source": [],
   "metadata": {
    "collapsed": false
   }
  },
  {
   "cell_type": "code",
   "execution_count": 37,
   "outputs": [
    {
     "data": {
      "text/plain": "24"
     },
     "execution_count": 37,
     "metadata": {},
     "output_type": "execute_result"
    }
   ],
   "source": [],
   "metadata": {
    "collapsed": false
   }
  },
  {
   "cell_type": "code",
   "execution_count": 33,
   "outputs": [
    {
     "name": "stdout",
     "output_type": "stream",
     "text": [
      "already in list\n",
      "already in list\n",
      "already in list\n",
      "already in list\n",
      "already in list\n",
      "already in list\n",
      "already in list\n",
      "already in list\n",
      "already in list\n",
      "already in list\n",
      "already in list\n",
      "already in list\n",
      "already in list\n",
      "already in list\n",
      "already in list\n",
      "already in list\n"
     ]
    }
   ],
   "source": [
    "# get list of category IDs for all the markets\n",
    "category_id_lst = []\n",
    "markets = [\"GB\", \"DE\", \"US\", \"BR\"]\n",
    "for market in markets:\n",
    "    # get list of category IDs for a certain country\n",
    "    categories_per_country = sp.categories(country=market, limit=10)[\"categories\"][\"items\"]\n",
    "    # get to the ID's of the categories and store them in a list\n",
    "    for category in categories_per_country:\n",
    "        if not category[\"id\"] in category_id_lst:\n",
    "            category_id_lst.append(category[\"id\"])\n",
    "        else:\n",
    "            print(\"already in list\")"
   ],
   "metadata": {
    "collapsed": false
   }
  },
  {
   "cell_type": "code",
   "execution_count": 45,
   "outputs": [
    {
     "name": "stderr",
     "output_type": "stream",
     "text": [
      "HTTP Error for GET to https://api.spotify.com/v1/browse/categories/0JQ5DAqbMKFF1br7dZcRtK/playlists with Params: {'country': None, 'limit': 20, 'offset': 0} returned 404 due to Not found.\n",
      "HTTP Error for GET to https://api.spotify.com/v1/browse/categories/0JQ5DAqbMKFKGQWi5egawY/playlists with Params: {'country': None, 'limit': 20, 'offset': 0} returned 404 due to Specified id doesn't exist\n",
      "HTTP Error for GET to https://api.spotify.com/v1/browse/categories/0JQ5DAqbMKFJCTDO6ndZMP/playlists with Params: {'country': None, 'limit': 20, 'offset': 0} returned 404 due to Specified id doesn't exist\n",
      "HTTP Error for GET to https://api.spotify.com/v1/browse/categories/0JQ5DAqbMKFARvdmw6EIef/playlists with Params: {'country': None, 'limit': 20, 'offset': 0} returned 404 due to Specified id doesn't exist\n"
     ]
    }
   ],
   "source": [
    "# create a list of playlist IDs from all the categories of all the markets\n",
    "playlist_id_lst = []\n",
    "for category_id in category_id_lst:\n",
    "    try:\n",
    "        playlists_per_genre = sp.category_playlists(category_id=category_id, limit=20)[\"playlists\"][\"items\"]\n",
    "        try:\n",
    "            for playlist in playlists_per_genre:\n",
    "                if not playlist[\"id\"] in playlist_id_lst:\n",
    "                    playlist_id_lst.append(playlist[\"id\"])\n",
    "                else:\n",
    "                    pass\n",
    "        except:\n",
    "            nothing = True\n",
    "    except spotipy.SpotifyException as e:\n",
    "        pass"
   ],
   "metadata": {
    "collapsed": false
   }
  },
  {
   "cell_type": "code",
   "execution_count": 48,
   "outputs": [
    {
     "data": {
      "text/plain": "['37i9dQZF1DX4jP4eebSWR9',\n '37i9dQZF1DX7ZUug1ANKRP',\n '37i9dQZF1DX36edUJpD76c',\n '37i9dQZF1DWUW2bvSkjcJ6',\n '37i9dQZF1DX4dyzvuaRJ0n',\n '37i9dQZF1DX0XUsuxWHRQd',\n '37i9dQZF1DXcF6B6QPhFDv',\n '37i9dQZF1DX4SBhb3fqCJd',\n '37i9dQZF1DWWjGdmeTyeJ6',\n '37i9dQZEVXbJiZcmkrIHGU',\n '37i9dQZEVXbMDoHDwVN2tF',\n '37i9dQZEVXbLiRSasKsNU9',\n '37i9dQZEVXbNv6cjoMVCyg',\n '37i9dQZF1DWX7rdRjOECPW',\n '37i9dQZF1DX2ogDiL6nZJr',\n '37i9dQZF1DWURW6ov0F5Ak',\n '37i9dQZF1DX05r4Oy3Ln97',\n '37i9dQZF1DXbwoaqxaoAVr',\n '37i9dQZF1DXd1MXcE8WTXq',\n '37i9dQZF1DX4Y4RhrZqHhr',\n '37i9dQZF1DWZSdcRHMl2tT',\n '37i9dQZF1DXbtuVQL4zoey',\n '37i9dQZF1DWZ7eJRBxKzdO',\n '37i9dQZF1DX83I5je4W4rP',\n '37i9dQZF1DWUajed02NzWR',\n '37i9dQZF1DX5FuBDzVtEFX',\n '37i9dQZF1DWUYPasrIWf5j',\n '37i9dQZF1DXa8n42306eJB',\n '37i9dQZF1DXaSYtampkg5n',\n '37i9dQZF1DX8NMUtC3b3gL',\n '37i9dQZF1DX9FIMhEujaK6',\n '37i9dQZF1DX6QlnUtJCO12',\n '37i9dQZF1DWTKxc7ZObqeH',\n '37i9dQZF1DWZESE3fHLhmD',\n '37i9dQZF1DX3Ebqev5IkYU',\n '37i9dQZF1DXaIrEwuQ3hyy',\n '37i9dQZF1DWSWyJydK4fTU',\n '37i9dQZF1DX8ttEdg9VJHO',\n '37i9dQZF1DWZSeAwtQzvji',\n '37i9dQZF1DX1htCFhfVtyK',\n '37i9dQZF1DX6KItbiYYmAv',\n '37i9dQZF1DXbKGrOUA30KN',\n '37i9dQZF1DWSGhQVrPck2m',\n '37i9dQZF1DWSFDWzEZlALC',\n '37i9dQZF1DWZKcUljB77Oy',\n '37i9dQZF1DX3VggiUuuCh4',\n '37i9dQZF1DX2cNqJ4LgCMf',\n '37i9dQZF1DWVbwsNVGejNr',\n '37i9dQZF1DX1WhyP6stXXl',\n '37i9dQZF1DX2YSAZIuAiB1',\n '37i9dQZF1DX5FlZmJ3JWL1',\n '37i9dQZF1DX36TRAnIL92N',\n '37i9dQZF1DXdxcBWuJkbcy',\n '37i9dQZF1DX76Wlfdnj7AP',\n '37i9dQZF1DWSJHnPb1f0X3',\n '37i9dQZF1DXe6bgV3TmZOL',\n '37i9dQZF1DX32NsLKyzScr',\n '37i9dQZF1DX76t638V6CA8',\n '37i9dQZF1DXbeUHEkt5uXG',\n '37i9dQZF1DWVciwe52Zt0R',\n '37i9dQZF1DXaL0oUdaMtnP',\n '37i9dQZF1DWZqUHC2tviPw',\n '37i9dQZF1DX0HRj9P7NxeE',\n '37i9dQZF1DX7cmFV9rWM0u',\n '37i9dQZF1DX4eRPd9frC1m',\n '37i9dQZF1DX9uKNf5jGX6m',\n '37i9dQZF1DWYUYYlhkTuEn',\n '37i9dQZF1DWTofcvJ2Dvma',\n '37i9dQZF1DX4FJyIpen2Yf',\n '37i9dQZF1DWZvpVE2NxPV2',\n '37i9dQZF1DWSTqUqJcxFk6',\n '37i9dQZF1DX0SM0LYsmbMT',\n '37i9dQZF1DX2lUf1uE6Mre',\n '37i9dQZF1DX4TiN7pMwV0Z',\n '37i9dQZF1DX1shdIjFVnvq',\n '37i9dQZF1DX1zpUaiwr15A',\n '37i9dQZF1DX0Na9FTYame5',\n '37i9dQZF1DX59oR8I71XgB',\n '37i9dQZF1DXbWS0mKtnghU',\n '37i9dQZF1DXcEJw9C2rUbi',\n '37i9dQZF1DX2uJ1OVfn3CH',\n '37i9dQZF1DWTBz12MDeCuX',\n '37i9dQZF1DX186v583rmzp',\n '37i9dQZF1DX4uPi2roRUwU',\n '37i9dQZF1DXdPec7aLTmlC',\n '37i9dQZF1DWWM6GBnxtToT',\n '37i9dQZF1DWSf2RDTDayIx',\n '37i9dQZF1DX3rxVfibe1L0',\n '37i9dQZF1DX3YSRoSdA634',\n '37i9dQZF1DWZKuerrwoAGz',\n '37i9dQZF1DX7KNKjOK0o75',\n '37i9dQZF1DX5GuMRZBomNE',\n '37i9dQZF1DX9EM98aZosoy',\n '37i9dQZF1DWVWiyE9VDkCO',\n '37i9dQZF1DX1i11qSEWNoS',\n '37i9dQZF1DX802IXCAaWtY',\n '37i9dQZF1DX7F6T2n2fegs',\n '37i9dQZF1DX9WU5Losjsy8',\n '37i9dQZF1DX5w8WNnaxSfQ',\n '37i9dQZF1DWXeOurMWUII5',\n '37i9dQZF1DWTWEW1zqSeEj',\n '37i9dQZF1DX9VBcReWYoP0',\n '37i9dQZF1DX8bHrtXvaJhx',\n '37i9dQZF1DXdCc7Q1hwtuv',\n '37i9dQZF1DWWUPe5aPjWhG',\n '37i9dQZF1DWYfQ0uxBYM90',\n '37i9dQZF1DWXURfdCoZEnT',\n '37i9dQZF1DXcfWvNFKxjDo',\n '37i9dQZF1DX8AliSIsGeKd',\n '37i9dQZF1DX6J5NfMJS675',\n '37i9dQZF1DX9gPDOAK0Yqv',\n '37i9dQZF1DWXDvpUgU6QYl',\n '37i9dQZF1DX7NhGf24haor',\n '37i9dQZF1DX3d2wagqzwmM',\n '37i9dQZF1DX5wDmLW735Yd',\n '37i9dQZF1DWWz3YvZd9NIz',\n '37i9dQZF1DWXWbLEOaHnU3',\n '37i9dQZF1DX91oIci4su1D',\n '37i9dQZF1DX6C8II7sX76D',\n '37i9dQZF1DX1kCIzMYtzum',\n '37i9dQZF1DWW1XLSH8Oafp',\n '37i9dQZF1DWT7XSlwvR1ar',\n '37i9dQZF1DX0Nb1cyWS6Tq',\n '37i9dQZF1DX6tPTxr8qwRe',\n '37i9dQZF1DWWmsWPbM2pKT',\n '37i9dQZF1DWVqJMsgEN0F4',\n '37i9dQZF1DWTSKFpOdYF1r',\n '37i9dQZF1DWW4HjhBfHmYg',\n '37i9dQZF1DWUWMh0bqZPTE',\n '37i9dQZF1DX2SK4ytI2KAZ',\n '37i9dQZF1DXciq74vrQmM8',\n '37i9dQZF1DWSw8liJZcPOI',\n '37i9dQZF1DXaLI8a395lse',\n '37i9dQZF1DX82GYcclJ3Ug',\n '37i9dQZF1DX5hol82XuK24',\n '37i9dQZF1DX5KARSfd7WcM',\n '37i9dQZF1DWT6zAeOrK0H1',\n '37i9dQZF1DWTlgzqHpWg4m',\n '37i9dQZF1DXb3ZjVksUlfu',\n '37i9dQZF1DWXMg4uP5o3dm',\n '37i9dQZF1DX6mvEU1S6INL',\n '37i9dQZF1DWZJhOVGWqUKF',\n '37i9dQZF1DX4vth7idTQch',\n '37i9dQZF1DX7fE85waV8CI',\n '37i9dQZF1DWWGMxzhzY9gE',\n '37i9dQZF1DWTKihkFkHXam',\n '37i9dQZF1DXdfpzpMlZqi7',\n '37i9dQZF1DWYZE2fT7tLwJ',\n '37i9dQZF1DWZryfp6NSvtz',\n '37i9dQZF1DX14rbJEM3cke',\n '37i9dQZF1DWWJOmJ7nRx0C',\n '37i9dQZF1DWT2jS7NwYPVI',\n '37i9dQZF1DWYmDNATMglFU',\n '37i9dQZF1DX98f0uoU1Pcs',\n '37i9dQZF1DX78toxP7mOaJ',\n '37i9dQZF1DX5a39zUmS7Hn',\n '37i9dQZF1DWTBN71pVn2Ej',\n '37i9dQZF1DWTvNyxOwkztu',\n '37i9dQZF1DX4sWSpwq3LiO',\n '37i9dQZF1DWWQRwui0ExPn',\n '37i9dQZF1DX4WYpdgoIcn6',\n '37i9dQZF1DX8Dd9bxD1WYH',\n '37i9dQZF1DWV7EzJMK2FUI',\n '37i9dQZF1DX4xuWVBs4FgJ',\n '37i9dQZF1DWYWddJiPzbvb',\n '37i9dQZF1DX0r3x8OtiwEM',\n '37i9dQZF1DX4HvY8T59VN2',\n '37i9dQZF1DX6VdMW310YC7',\n '37i9dQZF1DX5wcoyvtNnP4',\n '37i9dQZF1DWVIzZt2GAU4X',\n '37i9dQZF1DX2TRYkJECvfC',\n '37i9dQZF1DWXRvPx3nttRN',\n '37i9dQZF1DWT4nLmUaFDGb',\n '37i9dQZF1DWVgfADJapICT',\n '37i9dQZF1DX949uWWpmTjT',\n '37i9dQZF1DX3Vl51vsat7a',\n '37i9dQZF1DWTU63finroJM',\n '37i9dQZF1DWY0DyDKedRYY',\n '37i9dQZF1DWYc8Z858eGwP',\n '37i9dQZF1DWV7gN1qBoBYg',\n '37i9dQZF1DX9IALXsyt8zk',\n '37i9dQZF1DWVp4cWdnm5ws',\n '37i9dQZF1DWTVE8ZCcLQ5Q',\n '37i9dQZF1DX0dUsjwqfaGM',\n '37i9dQZF1DX2P3E6UOxZyt',\n '37i9dQZF1DX4OR8pnFkwhR',\n '37i9dQZF1DX6nghHfwjiMg',\n '37i9dQZF1DWWNlI0CRgWup',\n '37i9dQZF1DX1aXwAOtpwvU',\n '37i9dQZF1DWYxUz0Ouugmb',\n '37i9dQZF1DX5WmphwNfZfk',\n '37i9dQZF1DX1OL0nzXOfhW',\n '37i9dQZF1DX4Q8j1DJOWem',\n '37i9dQZF1DWVjDgOMO8jZl',\n '37i9dQZF1DX2ddCYH6QIK5',\n '37i9dQZF1DX3u9TSHqpdJC',\n '37i9dQZF1DX6bBjHfdRnza',\n '37i9dQZF1DWUFAJPVM3HTX',\n '37i9dQZF1DWT0upuUFtT7o',\n '37i9dQZF1DWW4igXXl2Qkp',\n '37i9dQZF1DX8C585qnMYHP',\n '37i9dQZF1DXcWL5K0oNHcG',\n '37i9dQZF1DXdS3lvGe1GrT',\n '37i9dQZF1DWXrP6ULNzvkI',\n '37i9dQZF1DX7vZYLzFGQXc',\n '37i9dQZF1DWVhn3qoy98w6',\n '37i9dQZF1DX34s4fg4Zx3Z',\n '37i9dQZF1DX5C8ObEZ48JQ',\n '37i9dQZF1DWTI0B69TStH2',\n '37i9dQZF1DX5R53BjnKBjk',\n '37i9dQZF1DWUTC08ZxLjSQ',\n '37i9dQZF1DX3WvGXE8FqYX',\n '37i9dQZF1DX6Cy4Vr7Hu2y',\n '37i9dQZF1DX1wNY9tfWQsS',\n '37i9dQZF1DX5OepaGriAIm',\n '37i9dQZF1DWVA5o3WHL2eG',\n '37i9dQZF1DX91UQmVbQYyN',\n '37i9dQZF1DWU8quswnFt3c',\n '37i9dQZF1DX8QB9Ys2nV17',\n '37i9dQZF1DWWwGws5Po6YO',\n '37i9dQZF1DX7QGYV9jyeOE',\n '37i9dQZF1DX9WbnZpHWMaI',\n '37i9dQZF1DWSElo6PPUdZk',\n '37i9dQZF1DX5hL1aT2vhMb',\n '37i9dQZF1DXdqa0kq6SUk4',\n '37i9dQZF1DX1lVhptIYRda',\n '37i9dQZF1DWTkxQvqMy4WW',\n '37i9dQZF1DWZBCPUIUs2iR',\n '37i9dQZF1DWYnwbYQ5HnZU',\n '37i9dQZF1DWYiR2Uqcon0X',\n '37i9dQZF1DX8S0uQvJ4gaa',\n '37i9dQZF1DWXdiK4WAVRUW',\n '37i9dQZF1DWXLSRKeL7KwM',\n '37i9dQZF1DX8WMG8VPSOJC',\n '37i9dQZF1DXaiEFNvQPZrM',\n '37i9dQZF1DWVpjAJGB70vU',\n '37i9dQZF1DX6RCydf9ytsj',\n '37i9dQZF1DX4XkcocBAgP3',\n '37i9dQZF1DWW7RgkOJG32Y',\n '37i9dQZF1DWWnpcjfCqaW0',\n '37i9dQZF1DWYP5PUsVbso9',\n '37i9dQZF1DWVn8zvR5ROMB',\n '37i9dQZF1DX7CGYgLhqwu5',\n '37i9dQZF1DX7aUUBCKwo4Y',\n '37i9dQZF1DXdxUH6sNtcDe',\n '37i9dQZF1DX10zKzsJ2jva',\n '37i9dQZF1DWY7IeIP1cdjF',\n '37i9dQZF1DWZJIhAWlsiOv',\n '37i9dQZF1DX43v1NFXUzji',\n '37i9dQZF1DWXmQEAjlxGhi',\n '37i9dQZF1DXbLMw3ry7d7k',\n '37i9dQZF1DX1hVRardJ30X',\n '37i9dQZF1DWYK2yx0OW9Kj',\n '37i9dQZF1DX7MTlMMRl0MD',\n '37i9dQZF1DX8SfyqmSFDwe',\n '37i9dQZF1DXa3NnZWk6Z3T',\n '37i9dQZF1DWZLN2cXno63R',\n '37i9dQZF1DWUoGbRYcteyC',\n '37i9dQZF1DX4qKWGR9z0LI',\n '37i9dQZF1DWX5ZOsG2Ogi1',\n '37i9dQZF1DX3omIq8ziEt6',\n '37i9dQZF1DXaR954ExpGKR',\n '37i9dQZF1DX6ThddIjWuGT',\n '37i9dQZF1DX8sljIJzI0oo',\n '37i9dQZF1DWYmmr74INQlb',\n '37i9dQZF1DWTUHzPOW6Jl7',\n '37i9dQZF1DX6VDO8a6cQME',\n '37i9dQZF1DWXbttAJcbphz',\n '37i9dQZF1DWXnexX7CktaI',\n '37i9dQZF1DX70TzPK5buVf',\n '37i9dQZF1DWUzFXarNiofw',\n '37i9dQZF1DX2UgsUIg75Vg',\n '37i9dQZF1DXaaLM83puGG5',\n '37i9dQZF1DX2yvmlOdMYzV',\n '37i9dQZF1DX0SlHbqMm3vJ',\n '37i9dQZF1DWYiatDTQvsFP',\n '37i9dQZF1DX4y8h9WqDPAE',\n '37i9dQZF1DXaXDsfv6nvZ5',\n '37i9dQZF1DX8Lj01u3MgX5',\n '37i9dQZF1DX0H8hDpv38Ju',\n '37i9dQZF1DWVGy1YP1ojM5',\n '37i9dQZF1DX62Nfha2yFhL',\n '37i9dQZF1DX3Ogo9pFvBkY',\n '37i9dQZF1DWWMOmoXKqHTD',\n '37i9dQZF1DXde6gsltXMBj',\n '37i9dQZF1DWY260I2XvMMJ',\n '37i9dQZF1DX07Bg0Q5GozA',\n '37i9dQZF1DXblmY5UIU3v3',\n '37i9dQZF1DWZd79rJ6a7lp',\n '37i9dQZF1DWZqd5JICZI0u',\n '37i9dQZF1DXebxttQCq0zA',\n '37i9dQZF1DWXe9gFZP0gtP',\n '37i9dQZF1DX1tuUiirhaT3',\n '37i9dQZF1DX0jgyAiPl8Af',\n '37i9dQZF1DX4PP3DA4J0N8',\n '37i9dQZF1DX60xkhEfNtud',\n '37i9dQZF1DX2mFmJUZg4Mp',\n '37i9dQZF1DX889U0CL85jj',\n '37i9dQZF1DX32oVqaQE8BM',\n '37i9dQZF1DXdVyc8LtLi96',\n '37i9dQZF1DWVEt8B7a1H1M',\n '37i9dQZF1DWUKPeBypcpcP',\n '37i9dQZF1DWSADWNdZfn11',\n '37i9dQZF1DX3DRt77Ekehy',\n '37i9dQZF1DXaImRpG7HXqp']"
     },
     "execution_count": 48,
     "metadata": {},
     "output_type": "execute_result"
    }
   ],
   "source": [
    "playlist_id_lst"
   ],
   "metadata": {
    "collapsed": false
   }
  },
  {
   "cell_type": "code",
   "execution_count": null,
   "outputs": [],
   "source": [
    "df_playlists = pd.DataFrame(playlist_id_lst)\n",
    "df_playlists.to_csv(\"list_of_playlists.csv\", index_label=False)"
   ],
   "metadata": {
    "collapsed": false
   }
  },
  {
   "cell_type": "code",
   "execution_count": null,
   "outputs": [],
   "source": [
    "# Get \"Today's Top Hits\" playlist ID\n",
    "playlist_id = \"37i9dQZF1DXcBWIGoYBM5M\"\n",
    "\n",
    "# Get top tracks and show only the ids\n",
    "playlist_items = sp.playlist_items(playlist_id, fields=\"items.track.id\", limit=10)\n",
    "\n",
    "track_id = []\n",
    "track_features = []\n",
    "# Print top tracks\n",
    "for i, item in enumerate(playlist_items[\"items\"]):\n",
    "    # get track_id\n",
    "    track_id = item[\"track\"][\"id\"]\n",
    "    # get features and store them in a list\n",
    "    track_features.append(sp.audio_features(track_id)[0])\n",
    "\n",
    "# create a dataframe from the features list\n",
    "df = pd.DataFrame(track_features)\n",
    "df = df[[\"danceability\",\"energy\",\"loudness\",\"speechiness\",\"acousticness\", \"instrumentalness\",\"liveness\",\"valence\",\"tempo\",\"id\",\"duration_ms\"]]"
   ],
   "metadata": {
    "collapsed": false
   }
  }
 ],
 "metadata": {
  "kernelspec": {
   "display_name": "Python 3",
   "language": "python",
   "name": "python3"
  },
  "language_info": {
   "codemirror_mode": {
    "name": "ipython",
    "version": 2
   },
   "file_extension": ".py",
   "mimetype": "text/x-python",
   "name": "python",
   "nbconvert_exporter": "python",
   "pygments_lexer": "ipython2",
   "version": "2.7.6"
  }
 },
 "nbformat": 4,
 "nbformat_minor": 0
}
