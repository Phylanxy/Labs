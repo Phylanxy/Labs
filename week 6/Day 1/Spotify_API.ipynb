{
 "cells": [
  {
   "cell_type": "markdown",
   "source": [
    "# Start using the spotify API"
   ],
   "metadata": {
    "collapsed": false
   }
  },
  {
   "cell_type": "code",
   "execution_count": 2,
   "outputs": [],
   "source": [
    "import config\n",
    "import spotipy\n",
    "import json\n",
    "import requests\n",
    "from spotipy.oauth2 import SpotifyClientCredentials\n",
    "import pprint\n",
    "import pandas as pd\n",
    "import base64\n",
    "import csv\n",
    "import pickle"
   ],
   "metadata": {
    "collapsed": false
   }
  },
  {
   "cell_type": "code",
   "execution_count": 3,
   "outputs": [],
   "source": [
    "# Authenticate with Spotify API\n",
    "client_credentials_manager = SpotifyClientCredentials(\n",
    "    client_id=config.client_id,\n",
    "    client_secret=config.client_secret\n",
    ")\n",
    "sp = spotipy.Spotify(client_credentials_manager=client_credentials_manager)"
   ],
   "metadata": {
    "collapsed": false
   }
  },
  {
   "cell_type": "code",
   "execution_count": 4,
   "outputs": [],
   "source": [
    "results = sp.search(q=\"Lose yourself\",limit=3,market=\"GB\")"
   ],
   "metadata": {
    "collapsed": false
   }
  },
  {
   "cell_type": "code",
   "execution_count": 6,
   "outputs": [
    {
     "data": {
      "text/plain": "'1v7L65Lzy0j0vdpRjJewt1'"
     },
     "execution_count": 6,
     "metadata": {},
     "output_type": "execute_result"
    }
   ],
   "source": [
    "track_id=results[\"tracks\"][\"items\"][0][\"id\"]\n",
    "track_id"
   ],
   "metadata": {
    "collapsed": false
   }
  },
  {
   "cell_type": "code",
   "execution_count": null,
   "outputs": [],
   "source": [
    "# Get \"Today's Top Hits\" playlist ID\n",
    "playlist_id = \"37i9dQZF1DXcBWIGoYBM5M\"\n",
    "\n",
    "# Get top tracks and show only the ids\n",
    "playlist_items = sp.playlist_items(playlist_id, fields=\"items.track.id\", limit=10)\n",
    "\n",
    "track_id = []\n",
    "track_features = []\n",
    "# Print top tracks\n",
    "for i, item in enumerate(playlist_items[\"items\"]):\n",
    "    # get track_id\n",
    "    track_id = item[\"track\"][\"id\"]\n",
    "    # get features and store them in a list\n",
    "    track_features.append(sp.audio_features(track_id)[0])\n",
    "\n",
    "# create a dataframe from the features list\n",
    "df = pd.DataFrame(track_features)\n",
    "df = df[[\"danceability\",\"energy\",\"loudness\",\"speechiness\",\"acousticness\", \"instrumentalness\",\"liveness\",\"valence\",\"tempo\",\"id\",\"duration_ms\"]]"
   ],
   "metadata": {
    "collapsed": false
   }
  },
  {
   "cell_type": "code",
   "execution_count": null,
   "outputs": [],
   "source": [
    "# create a list containing all markets\n",
    "markets = list(sp.available_markets()[\"markets\"])"
   ],
   "metadata": {
    "collapsed": false
   }
  },
  {
   "cell_type": "code",
   "execution_count": null,
   "outputs": [],
   "source": [
    "# get list of category IDs for all the markets\n",
    "category_id_lst = []\n",
    "for market in markets:\n",
    "    # get list of category IDs for a certain country\n",
    "    categories_per_country = sp.categories(country=market, limit=50)[\"categories\"][\"items\"]\n",
    "    # get to the ID's of the categories and store them in a list\n",
    "    for category in categories_per_country:\n",
    "        if not category[\"id\"] in category_id_lst:\n",
    "            category_id_lst.append(category[\"id\"])\n",
    "        else:\n",
    "            print(\"already in list\")"
   ],
   "metadata": {
    "collapsed": false
   }
  },
  {
   "cell_type": "code",
   "execution_count": null,
   "outputs": [],
   "source": [
    "# create a list of playlist IDs from all the categories of all the markets\n",
    "playlist_id_lst = []\n",
    "for category_id in category_id_lst:\n",
    "    try:\n",
    "        playlists_per_genre = sp.category_playlists(category_id=category_id, limit=50)[\"playlists\"][\"items\"]\n",
    "        try:\n",
    "            for playlist in playlists_per_genre:\n",
    "                if not playlist[\"id\"] in playlist_id_lst:\n",
    "                    playlist_id_lst.append(playlist[\"id\"])\n",
    "                else:\n",
    "                    pass\n",
    "        except:\n",
    "            nothing = True\n",
    "    except spotipy.SpotifyException as e:\n",
    "        pass"
   ],
   "metadata": {
    "collapsed": false
   }
  },
  {
   "cell_type": "code",
   "execution_count": null,
   "outputs": [],
   "source": [
    "df_playlists = pd.DataFrame(playlist_id_lst)\n",
    "df_playlists.to_csv(\"list_of_playlists.csv\", index_label=False)"
   ],
   "metadata": {
    "collapsed": false
   }
  },
  {
   "cell_type": "code",
   "execution_count": 3,
   "outputs": [],
   "source": [
    "user = \"spotify\"\n",
    "# define function to get tracks from a playlist\n",
    "def get_playlist_tracks(username, playlist_id):\n",
    "    results = sp.user_playlist_tracks(user=username,playlist_id=playlist_id, fields=\"items.track.id, next\", limit=10)\n",
    "    print(results)\n",
    "    tracks = results['items']\n",
    "    while results['next']:\n",
    "        results = sp.next(results)\n",
    "        tracks.extend(results['items'])\n",
    "    return tracks"
   ],
   "metadata": {
    "collapsed": false
   }
  },
  {
   "cell_type": "code",
   "execution_count": null,
   "outputs": [],
   "source": [
    "df_tracks = pd.DataFrame(columns=[\"ID\"])\n",
    "for track in tracks:\n",
    "    try:\n",
    "        df_tracks.loc[len(df_tracks)] = track[\"track\"][\"id\"]\n",
    "    except:\n",
    "        pass"
   ],
   "metadata": {
    "collapsed": false
   }
  },
  {
   "cell_type": "markdown",
   "source": [
    "df_tracks.to_csv(\"df_tracks.csv\", index_label=False)"
   ],
   "metadata": {
    "collapsed": false
   }
  },
  {
   "cell_type": "code",
   "execution_count": null,
   "outputs": [],
   "source": [
    "tracks = []\n",
    "for id in playlist_id_lst:\n",
    "    tracks.extend(get_playlist_tracks(user, id))"
   ],
   "metadata": {
    "collapsed": false
   }
  },
  {
   "cell_type": "code",
   "execution_count": 5,
   "outputs": [],
   "source": [
    "# load tracks from csv into list\n",
    "df_tracks = pd.read_csv(\"df_tracks.csv\")\n",
    "tracks = df_tracks.values.tolist()"
   ],
   "metadata": {
    "collapsed": false
   }
  },
  {
   "cell_type": "code",
   "execution_count": 6,
   "outputs": [
    {
     "data": {
      "text/plain": "102483"
     },
     "execution_count": 6,
     "metadata": {},
     "output_type": "execute_result"
    }
   ],
   "source": [
    "len(tracks)"
   ],
   "metadata": {
    "collapsed": false
   }
  },
  {
   "cell_type": "code",
   "execution_count": 55,
   "outputs": [],
   "source": [
    "def get_features(track_id):\n",
    "    track_features = []\n",
    "    track_features.extend(sp.audio_features(track_id))\n",
    "    return track_features"
   ],
   "metadata": {
    "collapsed": false
   }
  },
  {
   "cell_type": "code",
   "execution_count": 8,
   "outputs": [],
   "source": [
    "def write_list_to_pickle_file(my_list, filename):\n",
    "    with open(filename, 'wb') as file:\n",
    "        pickle.dump(my_list, file)"
   ],
   "metadata": {
    "collapsed": false
   }
  },
  {
   "cell_type": "code",
   "execution_count": 9,
   "outputs": [],
   "source": [
    "def write_list_to_csv(my_list, filename):\n",
    "    with open(filename, 'a', newline='') as file:\n",
    "        writer = csv.writer(file)\n",
    "        for item in my_list:\n",
    "            writer.writerow([item])"
   ],
   "metadata": {
    "collapsed": false
   }
  },
  {
   "cell_type": "code",
   "execution_count": null,
   "outputs": [],
   "source": [
    "for track in tracks[0:20000]:\n",
    "    try:\n",
    "        track_features_lst = []\n",
    "        track_features_lst.extend(get_features(track))\n",
    "        write_list_to_csv(track_features_lst, \"track_features_lst.csv\")\n",
    "    except:\n",
    "        pass"
   ],
   "metadata": {
    "collapsed": false
   }
  },
  {
   "cell_type": "markdown",
   "source": [
    "with open(\"track_features_lst_2.csv\",\"rb\") as f:\n",
    "    features = pickle.load(f)"
   ],
   "metadata": {
    "collapsed": false
   }
  },
  {
   "cell_type": "code",
   "execution_count": 59,
   "outputs": [
    {
     "data": {
      "text/plain": "Empty DataFrame\nColumns: [danceability, energy, loudness, speechiness, acousticness, instrumentalness, liveness, valence, tempo, id, duration_ms]\nIndex: []",
      "text/html": "<div>\n<style scoped>\n    .dataframe tbody tr th:only-of-type {\n        vertical-align: middle;\n    }\n\n    .dataframe tbody tr th {\n        vertical-align: top;\n    }\n\n    .dataframe thead th {\n        text-align: right;\n    }\n</style>\n<table border=\"1\" class=\"dataframe\">\n  <thead>\n    <tr style=\"text-align: right;\">\n      <th></th>\n      <th>danceability</th>\n      <th>energy</th>\n      <th>loudness</th>\n      <th>speechiness</th>\n      <th>acousticness</th>\n      <th>instrumentalness</th>\n      <th>liveness</th>\n      <th>valence</th>\n      <th>tempo</th>\n      <th>id</th>\n      <th>duration_ms</th>\n    </tr>\n  </thead>\n  <tbody>\n  </tbody>\n</table>\n</div>"
     },
     "execution_count": 59,
     "metadata": {},
     "output_type": "execute_result"
    }
   ],
   "source": [
    "df = pd.read_csv(\"track_features_lst_2.csv\")\n",
    "\n",
    "df_features = pd.DataFrame(columns=[\"danceability\",\"energy\",\"loudness\",\"speechiness\",\"acousticness\", \"instrumentalness\",\"liveness\",\"valence\",\"tempo\",\"id\",\"duration_ms\"])\n",
    "df_features"
   ],
   "metadata": {
    "collapsed": false
   }
  },
  {
   "cell_type": "code",
   "execution_count": 34,
   "outputs": [],
   "source": [
    "# example DataFrame with dictionaries as rows\n",
    "df = pd.read_csv(\"track_features_lst_2.csv\")\n"
   ],
   "metadata": {
    "collapsed": false
   }
  },
  {
   "cell_type": "code",
   "execution_count": null,
   "outputs": [],
   "source": [
    "track_features = []\n",
    "for playlist_id in playlist_id_lst[0:20]:\n",
    "    try:\n",
    "        playlist_items = sp.user_playlist_tracks(user=user, playlist_id=playlist_id, fields=\"items.track.id, next\", limit=10)\n",
    "    except:\n",
    "        pass\n",
    "\n",
    "    try:\n",
    "        tracks = playlist_items['items']\n",
    "        while playlist_items['next']:\n",
    "            playlist_items = sp.next(playlist_items)\n",
    "            tracks.extend(playlist_items['items'])\n",
    "            track_features.append(sp.audio_features(tracks)[0])\n",
    "    except:\n",
    "        pass\n",
    "\n",
    "# create a dataframe from the features list\n",
    "df = pd.DataFrame(track_features)\n",
    "#df = df[[\"danceability\",\"energy\",\"loudness\",\"speechiness\",\"acousticness\", \"instrumentalness\",\"liveness\",\"valence\",\"tempo\",\"id\",\"duration_ms\"]]"
   ],
   "metadata": {
    "collapsed": false
   }
  },
  {
   "cell_type": "code",
   "execution_count": null,
   "outputs": [],
   "source": [
    "track_features"
   ],
   "metadata": {
    "collapsed": false
   }
  },
  {
   "cell_type": "code",
   "execution_count": null,
   "outputs": [],
   "source": [
    "# Get top tracks from all the playlists\n",
    "for playlist_id in playlist_id_lst:\n",
    "    playlist_items = sp.playlist_items(playlist_id, fields=\"items.track.id\", limit=1)\n",
    "\n",
    "    # now get the ID's\n",
    "    track_id = []\n",
    "    track_features = []\n",
    "    # Print top tracks\n",
    "    for i, item in enumerate(playlist_items[\"items\"]):\n",
    "        try:\n",
    "            # get track_id\n",
    "            track_id = item[\"track\"][\"id\"]\n",
    "            # get features and store them in a list\n",
    "            track_features.append(sp.audio_features(track_id)[0])\n",
    "        except TypeError:\n",
    "            print(\"type error\")\n",
    "\n",
    "# create a dataframe from the features listS\n",
    "df = pd.DataFrame(track_features)\n",
    "df = df[[\"danceability\",\"energy\",\"loudness\",\"speechiness\",\"acousticness\", \"instrumentalness\",\"liveness\",\"valence\",\"tempo\",\"id\",\"duration_ms\"]]"
   ],
   "metadata": {
    "collapsed": false
   }
  },
  {
   "cell_type": "code",
   "execution_count": null,
   "outputs": [],
   "source": [
    "df.head()"
   ],
   "metadata": {
    "collapsed": false
   }
  },
  {
   "cell_type": "markdown",
   "source": [
    "# code snippets"
   ],
   "metadata": {
    "collapsed": false
   }
  },
  {
   "cell_type": "code",
   "execution_count": null,
   "outputs": [],
   "source": [
    "# Set up authorization headers\n",
    "client_id = config.client_id\n",
    "client_secret = config.client_secret\n",
    "auth_header = base64.b64encode(f\"{client_id}:{client_secret}\".encode(\"ascii\")).decode(\"ascii\")\n",
    "headers = {\"Authorization\": f\"Basic {auth_header}\"}\n",
    "\n",
    "# Get access token\n",
    "url = \"https://accounts.spotify.com/api/token\"\n",
    "data = {\"grant_type\": \"client_credentials\"}\n",
    "response = requests.post(url, headers=headers, data=data)\n",
    "access_token = response.json()[\"access_token\"]\n",
    "\n",
    "# Make request to Top Tracks endpoint\n",
    "artist_id = \"0OdUWJ0sBjDrqHygGUXeCF\"  # example artist ID\n",
    "url = f\"https://api.spotify.com/v1/artists/{artist_id}/top-tracks\"\n",
    "headers = {\"Authorization\": f\"Bearer {access_token}\"}\n",
    "params = {\"market\": \"US\"}\n",
    "\n",
    "response = requests.get(url, headers=headers, params=params)"
   ],
   "metadata": {
    "collapsed": false
   }
  },
  {
   "cell_type": "code",
   "execution_count": null,
   "outputs": [],
   "source": [],
   "metadata": {
    "collapsed": false
   }
  },
  {
   "cell_type": "code",
   "execution_count": null,
   "outputs": [],
   "source": [],
   "metadata": {
    "collapsed": false
   }
  }
 ],
 "metadata": {
  "kernelspec": {
   "display_name": "Python 3",
   "language": "python",
   "name": "python3"
  },
  "language_info": {
   "codemirror_mode": {
    "name": "ipython",
    "version": 2
   },
   "file_extension": ".py",
   "mimetype": "text/x-python",
   "name": "python",
   "nbconvert_exporter": "python",
   "pygments_lexer": "ipython2",
   "version": "2.7.6"
  }
 },
 "nbformat": 4,
 "nbformat_minor": 0
}
