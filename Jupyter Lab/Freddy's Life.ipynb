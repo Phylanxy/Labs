{
 "cells": [
  {
   "cell_type": "markdown",
   "id": "c5add3cd",
   "metadata": {},
   "source": [
    "# Freddy's Life\n",
    "The purpose of this notebook is to introduce you to my favorite pet, Freddy."
   ]
  },
  {
   "cell_type": "markdown",
   "id": "da750da1",
   "metadata": {},
   "source": [
    "## Who is Freddy?\n",
    "Freddy is a free otter that loves to travel and have fun adventures on the way. His best friend is Bäri and therefored visiting Bäri is Freddy's favorite Holiday destination. Come and take a little tour through Freddy's adventures with me."
   ]
  },
  {
   "cell_type": "code",
   "execution_count": null,
   "id": "70d78d6c",
   "metadata": {},
   "outputs": [],
   "source": []
  },
  {
   "cell_type": "code",
   "execution_count": 12,
   "id": "4665fbd0",
   "metadata": {
    "scrolled": true
   },
   "outputs": [
    {
     "name": "stdout",
     "output_type": "stream",
     "text": [
      "Please type in 'Freddy' with correct capitalisation.Freddy\n",
      "\n",
      "Thank you for your collaboration!\n"
     ]
    }
   ],
   "source": [
    "done = False\n",
    "name = 0\n",
    "while done == False:\n",
    "    name = input(\"Please type in 'Freddy' with correct capitalisation.\")\n",
    "    if name != \"Freddy\":\n",
    "        print(\"Error, you need to type in 'Freddy' as prompted\")\n",
    "        done = False \n",
    "    else:\n",
    "        print(\"\\nThank you for your collaboration!\")\n",
    "        done = True"
   ]
  },
  {
   "cell_type": "markdown",
   "id": "d2b1b589",
   "metadata": {},
   "source": [
    "*Here, the user is prompted to add \"Freddy\" as an input to the name variable. It is attributed the user's input via the input function. Moreover, a conditional is used to check for the correct input and a while loop assures that the code is repeated until the input is correct.*"
   ]
  },
  {
   "cell_type": "markdown",
   "id": "fb627792",
   "metadata": {},
   "source": [
    "## What does Freddy actually look like?"
   ]
  },
  {
   "cell_type": "markdown",
   "id": "dcbc1eb0",
   "metadata": {},
   "source": [
    "<img src=\"freddy.jpg\" width=\"500\" height=\"340\">"
   ]
  },
  {
   "cell_type": "markdown",
   "id": "18d2d10a",
   "metadata": {},
   "source": [
    "*Using markdown to upload an image in the desired size in pixels*"
   ]
  },
  {
   "cell_type": "markdown",
   "id": "e818eefd",
   "metadata": {},
   "source": [
    "## Freddy's favorite travel destination"
   ]
  },
  {
   "cell_type": "markdown",
   "id": "da7f6059",
   "metadata": {},
   "source": [
    "Although Freddy loves to travel, he is no big fan of pictures. Therefore, he is rather remembered by other (stuffed) animals and humans through their shared experiences. Since his buddy, Bäri, lives in Lüneburg, this is his favorite place to visit at the moment. <br>\n",
    "![](Lueneburg2.jpg)"
   ]
  },
  {
   "cell_type": "markdown",
   "id": "70ffecb6",
   "metadata": {},
   "source": [
    "## Freddy's favorite activities in Lüneburg\n",
    "\n",
    "Freddy loves to:\n",
    "- cuddle with Bäri\n",
    "- ride a bicicle through Lüneburg\n",
    "- speak to strangers on the street"
   ]
  },
  {
   "cell_type": "markdown",
   "id": "aada2e55",
   "metadata": {},
   "source": [
    "*Using simple bullet points in markdown*"
   ]
  }
 ],
 "metadata": {
  "kernelspec": {
   "display_name": "Python 3 (ipykernel)",
   "language": "python",
   "name": "python3"
  },
  "language_info": {
   "codemirror_mode": {
    "name": "ipython",
    "version": 3
   },
   "file_extension": ".py",
   "mimetype": "text/x-python",
   "name": "python",
   "nbconvert_exporter": "python",
   "pygments_lexer": "ipython3",
   "version": "3.9.13"
  }
 },
 "nbformat": 4,
 "nbformat_minor": 5
}
