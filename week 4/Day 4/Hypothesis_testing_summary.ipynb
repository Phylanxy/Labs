{
 "cells": [
  {
   "cell_type": "markdown",
   "source": [
    "# Hypothesis Testing Summary\n",
    "## Variables of the Problem\n",
    "$\\mu$ - mean of the *population*\n",
    "$\\bar{x}$ - mean of the *sample*\n",
    "$\\sigma$ - standard deviation of the *population*\n",
    "$s$ - standard deviation of the *sample*\n",
    "$n$ - size of the *sample*\n",
    "\n",
    "## Parameters to set\n",
    "$\\alpha$ = level of significance (in most cases $\\alpha$ = 0.05%), can also be described as the probability of exceeding the critical value.\n",
    "The confidence interval is the inverse of $\\alpha$: 1 - $\\alpha$\n",
    "\n",
    "## Define the Problem\n",
    "1. What am I looking at?\n",
    "2. What represents the population?\n",
    "3. What represents the sample?\n",
    "4. What are the associated variables and their values?\n",
    "\n",
    "## The Hypotheses\n",
    "1. Set the null-Hypothesis (H0) as some variable equals zero. This means that whatever event you are observing, H0 describes the assumption that it is not statistically relevant and therefore your observations aren't in accordance with the data.\n",
    "2. The alternative of the null-Hypothesis is the alternate Hypothesis (H$_\\alpha$) and it is per definition the opposite of H0. Therefore, if $H0: \\mu = 0$, then $H_\\alpha: \\mu \\neq 0$. If $H0: \\mu < 0$, then $H_\\alpha \\mu >= 0$. And so on.\n",
    "\n",
    "## Collect Sample Data\n",
    "Collect data from a sample of the population and calculate the mean and standard deviation:\n",
    "mean of the *sample* - $\\bar{x}$, standard deviation of the *sample* - $s$\n",
    "\n",
    "## Test the null-Hypothesis\n",
    "### Calculate the t- or z-score\n",
    "1. The t distribution has to be used in the following steps if:\n",
    "- ... the sample size is below 30\n",
    "- ... the mean of the population is unknown, then the mean of the sample is used instead.\n",
    "2. Otherwise, the normal distribution is used, with the z-score instead of the t-score.\n",
    "3. Use the following formula for the z-score: $$ t = \\frac{\\mu - \\bar{x}}{\\frac{\\sigma}{\\sqrt{n}} $$\n",
    "3. 1 Use the following formula for the t-score: $$ t = \\frac{\\mu - \\bar{x}}{\\frac{s}{\\sqrt{n}} $$\n",
    "\n",
    "4. Compare the result to the t- or z-score determined either through reading the corresponding value from a table or calculate it in Python. Make sure you know if you are using the standard normal distribution or t-student distribution (t-student distribution if n < 30 or you don't know the population mean).\n",
    "4.1 In order to do this for a one-sided test with a level of significance of 5%, find the corresponding column (5%) and row (n - p, with p being the number of changeable variables you are observing) and read the value in the field.\n",
    "4.2 For a two-sided test, you need to divide the level of significance of 5% by 2, to account for the possibility of the value being higher *or* lower than given in the H0. Therefore, find the column with 2.5% and the correct row, read the value.\n",
    "4.3 One-sided:\n",
    "In Python, run the command (sorry, can't format the alpha correctly here) ```scipy.stats.t.ppf(1-alpha, df=(n - p))}``` *or* ```scipy.stats.norm.ppf(1-alpha)```\n",
    "to get the t- or z-value for the observed sample.\n",
    "4.4 Two-sided:\n",
    "In Python, run the command ```scipy.stats.t.ppf(1-(alpha/2), df=(n - p))``` *or* ```scipy.stats.norm.ppf(1-(alpha/2))``` to get the t- or z-value for the observed sample.\n",
    "\n",
    "\n",
    "## Tips & Tricks\n",
    "The critical z-score value for one-sided test with a level of significance of $\\alpha$ = 0.05%  is 1.64. This applies for all one-sided tests on *normal distribution*.\n",
    "\n",
    "For two-sided tests the critical z-score for normal distribution is + or -1.96."
   ],
   "metadata": {
    "collapsed": false
   }
  }
 ],
 "metadata": {
  "kernelspec": {
   "display_name": "Python 3",
   "language": "python",
   "name": "python3"
  },
  "language_info": {
   "codemirror_mode": {
    "name": "ipython",
    "version": 2
   },
   "file_extension": ".py",
   "mimetype": "text/x-python",
   "name": "python",
   "nbconvert_exporter": "python",
   "pygments_lexer": "ipython2",
   "version": "2.7.6"
  }
 },
 "nbformat": 4,
 "nbformat_minor": 0
}
