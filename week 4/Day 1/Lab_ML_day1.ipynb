{
 "cells": [
  {
   "cell_type": "code",
   "execution_count": null,
   "metadata": {
    "collapsed": true
   },
   "outputs": [],
   "source": [
    "import numpy as np\n",
    "import pandas as pd\n",
    "import scipy as sp\n",
    "import seaborn as sns\n",
    "import matplotlib.pyplot as plt"
   ]
  },
  {
   "cell_type": "code",
   "execution_count": null,
   "outputs": [],
   "source": [
    "df = pd.read_csv(\"Data_Marketing_Customer_Analysis_Round3.csv\")"
   ],
   "metadata": {
    "collapsed": false
   }
  },
  {
   "cell_type": "code",
   "execution_count": null,
   "outputs": [],
   "source": [
    "from scipy.stats import iqr\n",
    "def remove_outliers(df):\n",
    "    for c in df.columns:\n",
    "            pct_75 = np.percentile(df[c], 75)\n",
    "            pct_25 = np.percentile(df[c], 25)\n",
    "            upper_bound = pct_75 + 1.5*iqr(df[c])\n",
    "            lower_bound = pct_25 - 1.5*iqr(df[c])\n",
    "            condition = (df[c] < upper_bound) & (df[c] > lower_bound)\n",
    "            df[c] = df[c][condition]  # Filter out the outliers\n",
    "    return df"
   ],
   "metadata": {
    "collapsed": false
   }
  },
  {
   "cell_type": "markdown",
   "source": [
    "# Highly correlated values\n",
    "I know there are none from doing the lab in week 2, I'll do the correlation matrix anyways..."
   ],
   "metadata": {
    "collapsed": false
   }
  },
  {
   "cell_type": "code",
   "execution_count": null,
   "outputs": [],
   "source": [
    "# create dataframes with numerical...\n",
    "df_num = df[df.select_dtypes(include=[np.number]).columns]\n",
    "# ...and categorical data only\n",
    "df_cat = df[df.select_dtypes(include=[object]).columns]\n",
    "\n",
    "# define numerical column index\n",
    "num_cols = df_num.columns\n",
    "# define categorical column index\n",
    "cat_cols = df_cat.columns\n",
    "\n",
    "corr = df_num[num_cols].corr()"
   ],
   "metadata": {
    "collapsed": false
   }
  },
  {
   "cell_type": "code",
   "execution_count": null,
   "outputs": [],
   "source": [
    "thresh = 0.9\n",
    "correlated_features = set()\n",
    "for i in range(len(corr.columns)):\n",
    "    for j in range(i):\n",
    "        if abs(corr.iloc[i, j]) > thresh:\n",
    "            colname = corr.columns[i]\n",
    "            correlated_features.add(colname)\n",
    "\n",
    "# Display the correlated features\n",
    "print(\"Correlated features:\", correlated_features)"
   ],
   "metadata": {
    "collapsed": false
   }
  },
  {
   "cell_type": "code",
   "execution_count": null,
   "outputs": [],
   "source": [
    "df_cat = df_cat.drop('effective_to_date', axis=1)"
   ],
   "metadata": {
    "collapsed": false
   }
  },
  {
   "cell_type": "code",
   "execution_count": null,
   "outputs": [],
   "source": [
    "# get unique identifiers of the regions\n",
    "\n",
    "# Create a dictionary that maps each unique region to an integer\n",
    "ed_map = {\"high school or below\": 0, \"college\":1, \"bachelor\": 1,\"master\":2, \"doctor\":3}\n",
    "ed_map\n",
    "# Replace the values in the \"region\" column with their mapped integers\n",
    "df_cat['education'] = df_cat['education'].map(ed_map)"
   ],
   "metadata": {
    "collapsed": false
   }
  },
  {
   "cell_type": "code",
   "execution_count": null,
   "outputs": [],
   "source": [
    "# same for coverage\n",
    "covs = df_cat[\"coverage\"].unique()\n",
    "\n",
    "cov_map = {coverage: i for i, coverage in enumerate(covs)}\n",
    "\n",
    "df_cat[\"coverage\"] = df_cat[\"coverage\"].map(cov_map)"
   ],
   "metadata": {
    "collapsed": false
   }
  },
  {
   "cell_type": "code",
   "execution_count": null,
   "outputs": [],
   "source": [
    "# same for vehicle size\n",
    "sizes = {\"small\" : 0, \"medsize\" : 1, \"large\" : 2}\n",
    "\n",
    "size_map = {size: i for i, size in enumerate(sizes)}\n",
    "\n",
    "df_cat[\"vehicle_size\"] = df_cat[\"vehicle_size\"].map(size_map)"
   ],
   "metadata": {
    "collapsed": false
   }
  },
  {
   "cell_type": "code",
   "execution_count": null,
   "outputs": [],
   "source": [
    "cols_to_dummify = df_cat.columns.drop([\"coverage\",\"education\",\"vehicle_size\"])\n",
    "\n",
    "df_dummies = pd.get_dummies(cols_to_dummify, sparse=1,drop_first=1)\n",
    "df_dummies"
   ],
   "metadata": {
    "collapsed": false
   }
  },
  {
   "cell_type": "code",
   "execution_count": null,
   "outputs": [],
   "source": [
    "# create dummy variables\n",
    "# for all non-ordinal columns\n",
    "cols_to_dummify = df_cat.columns.drop([\"coverage\",\"education\",\"vehicle_size\"])\n",
    "df_dums = pd.DataFrame()\n",
    "for i, col in enumerate(cols_to_dummify):\n",
    "    df_dummies = pd.get_dummies(df_cat[col], drop_first=1)\n",
    "    # concatenate the original dataframe with the dummy variables\n",
    "    df_dums = pd.concat([df_dums, df_dummies], axis=1)"
   ],
   "metadata": {
    "collapsed": false
   }
  },
  {
   "cell_type": "code",
   "execution_count": null,
   "outputs": [],
   "source": [
    "df_dums"
   ],
   "metadata": {
    "collapsed": false
   }
  },
  {
   "cell_type": "code",
   "execution_count": null,
   "outputs": [],
   "source": [
    "df_done = pd.concat([df_cat[[\"coverage\",\"education\",\"vehicle_size\"]], df_dums], axis=1)"
   ],
   "metadata": {
    "collapsed": false
   }
  },
  {
   "cell_type": "code",
   "execution_count": null,
   "outputs": [],
   "source": [
    "df_done"
   ],
   "metadata": {
    "collapsed": false
   }
  },
  {
   "cell_type": "code",
   "execution_count": null,
   "outputs": [],
   "source": [
    "df = pd.concat([df_cat, df_num], axis=1)"
   ],
   "metadata": {
    "collapsed": false
   }
  },
  {
   "cell_type": "markdown",
   "source": [
    "# Optional"
   ],
   "metadata": {
    "collapsed": false
   }
  },
  {
   "cell_type": "code",
   "execution_count": null,
   "outputs": [],
   "source": [
    "df_num"
   ],
   "metadata": {
    "collapsed": false
   }
  },
  {
   "cell_type": "code",
   "execution_count": null,
   "outputs": [],
   "source": [
    "# import required libraries\n",
    "from sklearn import linear_model\n",
    "from sklearn.preprocessing import PowerTransformer, StandardScaler, MinMaxScaler\n",
    "\n",
    "scale = MinMaxScaler()\n",
    "\n",
    "X = df_num[[\"customer_lifetime_value\"]]\n",
    "\n",
    "scaledX = scale.fit_transform(X)\n",
    "\n",
    "display(X, scaledX)"
   ],
   "metadata": {
    "collapsed": false
   }
  },
  {
   "cell_type": "code",
   "execution_count": null,
   "outputs": [],
   "source": [
    "# plot X against scaledX to verify the rescaling\n",
    "# Create a figure and axis\n",
    "fig, ax = plt.subplots(nrows=1, ncols=2, figsize=(12, 5))\n",
    "\n",
    "# Plot the first distribution\n",
    "sns.histplot(data=X, kde=True, ax=ax[0])\n",
    "\n",
    "# Plot the second distribution\n",
    "sns.histplot(data=scaledX, kde=True, ax=ax[1])\n",
    "\n",
    "# Adjust the plot layout\n",
    "#plt.tight_layout()\n",
    "\n",
    "# Show the plot\n",
    "plt.show()"
   ],
   "metadata": {
    "collapsed": false
   }
  },
  {
   "cell_type": "code",
   "execution_count": null,
   "outputs": [],
   "source": [
    "print(scaledX.std(), scaledX.mean())"
   ],
   "metadata": {
    "collapsed": false
   }
  },
  {
   "cell_type": "code",
   "execution_count": null,
   "outputs": [],
   "source": [
    "scale = PowerTransformer(method=\"box-cox\")\n",
    "\n",
    "X = df_num[[\"customer_lifetime_value\"]]\n",
    "\n",
    "scaledX = scale.fit_transform(X)\n",
    "\n",
    "#print(X,scaledX)\n",
    "\n",
    "# plot X against scaledX to verify the rescaling\n",
    "# Create a figure and axis\n",
    "fig, ax = plt.subplots(nrows=1, ncols=2, figsize=(12, 5))\n",
    "\n",
    "# Plot the first distribution\n",
    "sns.histplot(data=X, kde=True, ax=ax[0])\n",
    "\n",
    "# Plot the second distribution\n",
    "sns.histplot(data=scaledX, kde=True, ax=ax[1])\n",
    "\n",
    "# Adjust the plot layout\n",
    "#plt.tight_layout()\n",
    "\n",
    "# Show the plot\n",
    "plt.show()"
   ],
   "metadata": {
    "collapsed": false
   }
  },
  {
   "cell_type": "code",
   "execution_count": null,
   "outputs": [],
   "source": [
    "print(scaledX.std(), scaledX.mean())"
   ],
   "metadata": {
    "collapsed": false
   }
  },
  {
   "cell_type": "code",
   "execution_count": null,
   "outputs": [],
   "source": [
    "scale = PowerTransformer(method=\"yeo-johnson\")\n",
    "\n",
    "X = df_num[[\"customer_lifetime_value\"]]\n",
    "\n",
    "scaledX = scale.fit_transform(X)\n",
    "\n",
    "#print(X,scaledX)\n",
    "\n",
    "# plot X against scaledX to verify the rescaling\n",
    "# Create a figure and axis\n",
    "fig, ax = plt.subplots(nrows=1, ncols=2, figsize=(12, 5))\n",
    "\n",
    "# Plot the first distribution\n",
    "sns.histplot(data=X, kde=True, ax=ax[0])\n",
    "\n",
    "# Plot the second distribution\n",
    "sns.histplot(data=scaledX, kde=True, ax=ax[1])\n",
    "\n",
    "# Adjust the plot layout\n",
    "#plt.tight_layout()\n",
    "\n",
    "# Show the plot\n",
    "plt.show()"
   ],
   "metadata": {
    "collapsed": false
   }
  },
  {
   "cell_type": "code",
   "execution_count": null,
   "outputs": [],
   "source": [
    "print(scaledX.std(), scaledX.mean())"
   ],
   "metadata": {
    "collapsed": false
   }
  },
  {
   "cell_type": "markdown",
   "source": [
    "The difference between the options \"box-cox\" and \"yeo-johnson\" is that the former requires strictly positive input data while the latter takes both positive and negative values."
   ],
   "metadata": {
    "collapsed": false
   }
  },
  {
   "cell_type": "markdown",
   "source": [
    "#"
   ],
   "metadata": {
    "collapsed": false
   }
  },
  {
   "cell_type": "code",
   "execution_count": null,
   "outputs": [],
   "source": [],
   "metadata": {
    "collapsed": false
   }
  }
 ],
 "metadata": {
  "kernelspec": {
   "display_name": "Python 3",
   "language": "python",
   "name": "python3"
  },
  "language_info": {
   "codemirror_mode": {
    "name": "ipython",
    "version": 2
   },
   "file_extension": ".py",
   "mimetype": "text/x-python",
   "name": "python",
   "nbconvert_exporter": "python",
   "pygments_lexer": "ipython2",
   "version": "2.7.6"
  }
 },
 "nbformat": 4,
 "nbformat_minor": 0
}
