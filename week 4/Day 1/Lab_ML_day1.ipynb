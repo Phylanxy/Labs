{
 "cells": [
  {
   "cell_type": "code",
   "execution_count": 26,
   "metadata": {
    "collapsed": true
   },
   "outputs": [],
   "source": [
    "import numpy as np\n",
    "import pandas as pd\n",
    "import scipy as sp\n",
    "import seaborn as sns\n",
    "import matplotlib.pyplot as plt"
   ]
  },
  {
   "cell_type": "code",
   "execution_count": 27,
   "outputs": [],
   "source": [
    "df = pd.read_csv(\"Data_Marketing_Customer_Analysis_Round3.csv\")"
   ],
   "metadata": {
    "collapsed": false
   }
  },
  {
   "cell_type": "code",
   "execution_count": 28,
   "outputs": [],
   "source": [
    "from scipy.stats import iqr\n",
    "def remove_outliers(df):\n",
    "    for c in df.columns:\n",
    "            pct_75 = np.percentile(df[c], 75)\n",
    "            pct_25 = np.percentile(df[c], 25)\n",
    "            upper_bound = pct_75 + 1.5*iqr(df[c])\n",
    "            lower_bound = pct_25 - 1.5*iqr(df[c])\n",
    "            condition = (df[c] < upper_bound) & (df[c] > lower_bound)\n",
    "            df[c] = df[c][condition]  # Filter out the outliers\n",
    "    return df"
   ],
   "metadata": {
    "collapsed": false
   }
  },
  {
   "cell_type": "markdown",
   "source": [
    "# Highly correlated values\n",
    "I know there are none from doing the lab in week 2, I'll do the correlation matrix anyways..."
   ],
   "metadata": {
    "collapsed": false
   }
  },
  {
   "cell_type": "code",
   "execution_count": 29,
   "outputs": [],
   "source": [
    "# create dataframes with numerical...\n",
    "df_num = df[df.select_dtypes(include=[np.number]).columns]\n",
    "# ...and categorical data only\n",
    "df_cat = df[df.select_dtypes(include=[object]).columns]\n",
    "\n",
    "# define numerical column index\n",
    "num_cols = df_num.columns\n",
    "# define categorical column index\n",
    "cat_cols = df_cat.columns\n",
    "\n",
    "corr = df_num[num_cols].corr()"
   ],
   "metadata": {
    "collapsed": false
   }
  },
  {
   "cell_type": "code",
   "execution_count": 30,
   "outputs": [
    {
     "name": "stdout",
     "output_type": "stream",
     "text": [
      "Correlated features: set()\n"
     ]
    }
   ],
   "source": [
    "thresh = 0.9\n",
    "correlated_features = set()\n",
    "for i in range(len(corr.columns)):\n",
    "    for j in range(i):\n",
    "        if abs(corr.iloc[i, j]) > thresh:\n",
    "            colname = corr.columns[i]\n",
    "            correlated_features.add(colname)\n",
    "\n",
    "# Display the correlated features\n",
    "print(\"Correlated features:\", correlated_features)"
   ],
   "metadata": {
    "collapsed": false
   }
  },
  {
   "cell_type": "code",
   "execution_count": 31,
   "outputs": [],
   "source": [
    "df_cat = df_cat.drop('effective_to_date', axis=1)"
   ],
   "metadata": {
    "collapsed": false
   }
  },
  {
   "cell_type": "code",
   "execution_count": 32,
   "outputs": [],
   "source": [
    "# get unique identifiers of the regions\n",
    "\n",
    "# Create a dictionary that maps each unique region to an integer\n",
    "ed_map = {\"high school or below\": 0, \"college\":1, \"bachelor\": 1,\"master\":2, \"doctor\":3}\n",
    "ed_map\n",
    "# Replace the values in the \"region\" column with their mapped integers\n",
    "df_cat['education'] = df_cat['education'].map(ed_map)"
   ],
   "metadata": {
    "collapsed": false
   }
  },
  {
   "cell_type": "code",
   "execution_count": 33,
   "outputs": [],
   "source": [
    "# same for coverage\n",
    "covs = df_cat[\"coverage\"].unique()\n",
    "\n",
    "cov_map = {coverage: i for i, coverage in enumerate(covs)}\n",
    "\n",
    "df_cat[\"coverage\"] = df_cat[\"coverage\"].map(cov_map)"
   ],
   "metadata": {
    "collapsed": false
   }
  },
  {
   "cell_type": "code",
   "execution_count": 34,
   "outputs": [],
   "source": [
    "# same for vehicle size\n",
    "sizes = {\"small\" : 0, \"medsize\" : 1, \"large\" : 2}\n",
    "\n",
    "size_map = {size: i for i, size in enumerate(sizes)}\n",
    "\n",
    "df_cat[\"vehicle_size\"] = df_cat[\"vehicle_size\"].map(size_map)"
   ],
   "metadata": {
    "collapsed": false
   }
  },
  {
   "cell_type": "code",
   "execution_count": 35,
   "outputs": [
    {
     "data": {
      "text/plain": "    gender  location_code  marital_status  month  policy  policy_type  region  \\\n0        0              0               0      0       0            0       1   \n1        0              0               0      0       0            0       0   \n2        0              0               0      1       0            0       0   \n3        0              0               0      0       0            0       0   \n4        1              0               0      0       0            0       0   \n5        0              1               0      0       0            0       0   \n6        0              0               1      0       0            0       0   \n7        0              0               0      0       0            1       0   \n8        0              0               0      0       1            0       0   \n9        0              0               0      0       0            0       0   \n10       0              0               0      0       0            0       0   \n11       0              0               0      0       0            0       0   \n\n    renew_offer_type  response  sales_channel  vehicle_class  \n0                  0         0              0              0  \n1                  0         1              0              0  \n2                  0         0              0              0  \n3                  0         0              0              0  \n4                  0         0              0              0  \n5                  0         0              0              0  \n6                  0         0              0              0  \n7                  0         0              0              0  \n8                  0         0              0              0  \n9                  1         0              0              0  \n10                 0         0              1              0  \n11                 0         0              0              1  ",
      "text/html": "<div>\n<style scoped>\n    .dataframe tbody tr th:only-of-type {\n        vertical-align: middle;\n    }\n\n    .dataframe tbody tr th {\n        vertical-align: top;\n    }\n\n    .dataframe thead th {\n        text-align: right;\n    }\n</style>\n<table border=\"1\" class=\"dataframe\">\n  <thead>\n    <tr style=\"text-align: right;\">\n      <th></th>\n      <th>gender</th>\n      <th>location_code</th>\n      <th>marital_status</th>\n      <th>month</th>\n      <th>policy</th>\n      <th>policy_type</th>\n      <th>region</th>\n      <th>renew_offer_type</th>\n      <th>response</th>\n      <th>sales_channel</th>\n      <th>vehicle_class</th>\n    </tr>\n  </thead>\n  <tbody>\n    <tr>\n      <th>0</th>\n      <td>0</td>\n      <td>0</td>\n      <td>0</td>\n      <td>0</td>\n      <td>0</td>\n      <td>0</td>\n      <td>1</td>\n      <td>0</td>\n      <td>0</td>\n      <td>0</td>\n      <td>0</td>\n    </tr>\n    <tr>\n      <th>1</th>\n      <td>0</td>\n      <td>0</td>\n      <td>0</td>\n      <td>0</td>\n      <td>0</td>\n      <td>0</td>\n      <td>0</td>\n      <td>0</td>\n      <td>1</td>\n      <td>0</td>\n      <td>0</td>\n    </tr>\n    <tr>\n      <th>2</th>\n      <td>0</td>\n      <td>0</td>\n      <td>0</td>\n      <td>1</td>\n      <td>0</td>\n      <td>0</td>\n      <td>0</td>\n      <td>0</td>\n      <td>0</td>\n      <td>0</td>\n      <td>0</td>\n    </tr>\n    <tr>\n      <th>3</th>\n      <td>0</td>\n      <td>0</td>\n      <td>0</td>\n      <td>0</td>\n      <td>0</td>\n      <td>0</td>\n      <td>0</td>\n      <td>0</td>\n      <td>0</td>\n      <td>0</td>\n      <td>0</td>\n    </tr>\n    <tr>\n      <th>4</th>\n      <td>1</td>\n      <td>0</td>\n      <td>0</td>\n      <td>0</td>\n      <td>0</td>\n      <td>0</td>\n      <td>0</td>\n      <td>0</td>\n      <td>0</td>\n      <td>0</td>\n      <td>0</td>\n    </tr>\n    <tr>\n      <th>5</th>\n      <td>0</td>\n      <td>1</td>\n      <td>0</td>\n      <td>0</td>\n      <td>0</td>\n      <td>0</td>\n      <td>0</td>\n      <td>0</td>\n      <td>0</td>\n      <td>0</td>\n      <td>0</td>\n    </tr>\n    <tr>\n      <th>6</th>\n      <td>0</td>\n      <td>0</td>\n      <td>1</td>\n      <td>0</td>\n      <td>0</td>\n      <td>0</td>\n      <td>0</td>\n      <td>0</td>\n      <td>0</td>\n      <td>0</td>\n      <td>0</td>\n    </tr>\n    <tr>\n      <th>7</th>\n      <td>0</td>\n      <td>0</td>\n      <td>0</td>\n      <td>0</td>\n      <td>0</td>\n      <td>1</td>\n      <td>0</td>\n      <td>0</td>\n      <td>0</td>\n      <td>0</td>\n      <td>0</td>\n    </tr>\n    <tr>\n      <th>8</th>\n      <td>0</td>\n      <td>0</td>\n      <td>0</td>\n      <td>0</td>\n      <td>1</td>\n      <td>0</td>\n      <td>0</td>\n      <td>0</td>\n      <td>0</td>\n      <td>0</td>\n      <td>0</td>\n    </tr>\n    <tr>\n      <th>9</th>\n      <td>0</td>\n      <td>0</td>\n      <td>0</td>\n      <td>0</td>\n      <td>0</td>\n      <td>0</td>\n      <td>0</td>\n      <td>1</td>\n      <td>0</td>\n      <td>0</td>\n      <td>0</td>\n    </tr>\n    <tr>\n      <th>10</th>\n      <td>0</td>\n      <td>0</td>\n      <td>0</td>\n      <td>0</td>\n      <td>0</td>\n      <td>0</td>\n      <td>0</td>\n      <td>0</td>\n      <td>0</td>\n      <td>1</td>\n      <td>0</td>\n    </tr>\n    <tr>\n      <th>11</th>\n      <td>0</td>\n      <td>0</td>\n      <td>0</td>\n      <td>0</td>\n      <td>0</td>\n      <td>0</td>\n      <td>0</td>\n      <td>0</td>\n      <td>0</td>\n      <td>0</td>\n      <td>1</td>\n    </tr>\n  </tbody>\n</table>\n</div>"
     },
     "execution_count": 35,
     "metadata": {},
     "output_type": "execute_result"
    }
   ],
   "source": [
    "cols_to_dummify = df_cat.columns.drop([\"coverage\",\"education\",\"vehicle_size\"])\n",
    "\n",
    "df_dummies = pd.get_dummies(cols_to_dummify, sparse=1,drop_first=1)\n",
    "df_dummies"
   ],
   "metadata": {
    "collapsed": false
   }
  },
  {
   "cell_type": "code",
   "execution_count": 36,
   "outputs": [],
   "source": [
    "# create dummy variables\n",
    "# for all non-ordinal columns\n",
    "cols_to_dummify = df_cat.columns.drop([\"coverage\",\"education\",\"vehicle_size\"])\n",
    "df_dums = pd.DataFrame()\n",
    "for i, col in enumerate(cols_to_dummify):\n",
    "    df_dummies = pd.get_dummies(df_cat[col], drop_first=1)\n",
    "    # concatenate the original dataframe with the dummy variables\n",
    "    df_dums = pd.concat([df_dums, df_dummies], axis=1)"
   ],
   "metadata": {
    "collapsed": false
   }
  },
  {
   "cell_type": "code",
   "execution_count": 37,
   "outputs": [
    {
     "data": {
      "text/plain": "       east  north west  west region  yes  jan  employed  medical leave  \\\n0         0           0            0    0    0         1              0   \n1         0           0            1    0    1         0              0   \n2         1           0            0    0    0         1              0   \n3         0           1            0    1    1         1              0   \n4         0           1            0    0    1         0              1   \n...     ...         ...          ...  ...  ...       ...            ...   \n10684     0           0            0    0    1         0              0   \n10685     0           1            0    0    1         1              0   \n10686     0           0            0    0    0         1              0   \n10687     0           0            1    0    0         1              0   \n10688     0           0            0    0    1         0              0   \n\n       retired  unemployed  m  ...  offer3  offer4  branch  call center  web  \\\n0            0           0  1  ...       1       0       0            0    0   \n1            0           1  0  ...       0       1       0            1    0   \n2            0           0  1  ...       1       0       0            1    0   \n3            0           0  1  ...       0       0       1            0    0   \n4            0           0  0  ...       0       0       1            0    0   \n...        ...         ... ..  ...     ...     ...     ...          ...  ...   \n10684        0           1  0  ...       1       0       0            0    1   \n10685        0           0  0  ...       0       0       1            0    0   \n10686        0           0  0  ...       0       0       0            0    1   \n10687        0           0  0  ...       0       0       1            0    0   \n10688        0           1  1  ...       0       1       0            0    1   \n\n       luxury car  luxury suv  sports car  suv  two-door car  \n0               0           0           0    0             0  \n1               0           0           0    0             0  \n2               0           0           0    1             0  \n3               0           0           0    0             0  \n4               0           0           0    0             0  \n...           ...         ...         ...  ...           ...  \n10684           1           0           0    0             0  \n10685           0           0           0    0             0  \n10686           0           1           0    0             0  \n10687           0           0           0    1             0  \n10688           0           0           0    1             0  \n\n[10689 rows x 35 columns]",
      "text/html": "<div>\n<style scoped>\n    .dataframe tbody tr th:only-of-type {\n        vertical-align: middle;\n    }\n\n    .dataframe tbody tr th {\n        vertical-align: top;\n    }\n\n    .dataframe thead th {\n        text-align: right;\n    }\n</style>\n<table border=\"1\" class=\"dataframe\">\n  <thead>\n    <tr style=\"text-align: right;\">\n      <th></th>\n      <th>east</th>\n      <th>north west</th>\n      <th>west region</th>\n      <th>yes</th>\n      <th>jan</th>\n      <th>employed</th>\n      <th>medical leave</th>\n      <th>retired</th>\n      <th>unemployed</th>\n      <th>m</th>\n      <th>...</th>\n      <th>offer3</th>\n      <th>offer4</th>\n      <th>branch</th>\n      <th>call center</th>\n      <th>web</th>\n      <th>luxury car</th>\n      <th>luxury suv</th>\n      <th>sports car</th>\n      <th>suv</th>\n      <th>two-door car</th>\n    </tr>\n  </thead>\n  <tbody>\n    <tr>\n      <th>0</th>\n      <td>0</td>\n      <td>0</td>\n      <td>0</td>\n      <td>0</td>\n      <td>0</td>\n      <td>1</td>\n      <td>0</td>\n      <td>0</td>\n      <td>0</td>\n      <td>1</td>\n      <td>...</td>\n      <td>1</td>\n      <td>0</td>\n      <td>0</td>\n      <td>0</td>\n      <td>0</td>\n      <td>0</td>\n      <td>0</td>\n      <td>0</td>\n      <td>0</td>\n      <td>0</td>\n    </tr>\n    <tr>\n      <th>1</th>\n      <td>0</td>\n      <td>0</td>\n      <td>1</td>\n      <td>0</td>\n      <td>1</td>\n      <td>0</td>\n      <td>0</td>\n      <td>0</td>\n      <td>1</td>\n      <td>0</td>\n      <td>...</td>\n      <td>0</td>\n      <td>1</td>\n      <td>0</td>\n      <td>1</td>\n      <td>0</td>\n      <td>0</td>\n      <td>0</td>\n      <td>0</td>\n      <td>0</td>\n      <td>0</td>\n    </tr>\n    <tr>\n      <th>2</th>\n      <td>1</td>\n      <td>0</td>\n      <td>0</td>\n      <td>0</td>\n      <td>0</td>\n      <td>1</td>\n      <td>0</td>\n      <td>0</td>\n      <td>0</td>\n      <td>1</td>\n      <td>...</td>\n      <td>1</td>\n      <td>0</td>\n      <td>0</td>\n      <td>1</td>\n      <td>0</td>\n      <td>0</td>\n      <td>0</td>\n      <td>0</td>\n      <td>1</td>\n      <td>0</td>\n    </tr>\n    <tr>\n      <th>3</th>\n      <td>0</td>\n      <td>1</td>\n      <td>0</td>\n      <td>1</td>\n      <td>1</td>\n      <td>1</td>\n      <td>0</td>\n      <td>0</td>\n      <td>0</td>\n      <td>1</td>\n      <td>...</td>\n      <td>0</td>\n      <td>0</td>\n      <td>1</td>\n      <td>0</td>\n      <td>0</td>\n      <td>0</td>\n      <td>0</td>\n      <td>0</td>\n      <td>0</td>\n      <td>0</td>\n    </tr>\n    <tr>\n      <th>4</th>\n      <td>0</td>\n      <td>1</td>\n      <td>0</td>\n      <td>0</td>\n      <td>1</td>\n      <td>0</td>\n      <td>1</td>\n      <td>0</td>\n      <td>0</td>\n      <td>0</td>\n      <td>...</td>\n      <td>0</td>\n      <td>0</td>\n      <td>1</td>\n      <td>0</td>\n      <td>0</td>\n      <td>0</td>\n      <td>0</td>\n      <td>0</td>\n      <td>0</td>\n      <td>0</td>\n    </tr>\n    <tr>\n      <th>...</th>\n      <td>...</td>\n      <td>...</td>\n      <td>...</td>\n      <td>...</td>\n      <td>...</td>\n      <td>...</td>\n      <td>...</td>\n      <td>...</td>\n      <td>...</td>\n      <td>...</td>\n      <td>...</td>\n      <td>...</td>\n      <td>...</td>\n      <td>...</td>\n      <td>...</td>\n      <td>...</td>\n      <td>...</td>\n      <td>...</td>\n      <td>...</td>\n      <td>...</td>\n      <td>...</td>\n    </tr>\n    <tr>\n      <th>10684</th>\n      <td>0</td>\n      <td>0</td>\n      <td>0</td>\n      <td>0</td>\n      <td>1</td>\n      <td>0</td>\n      <td>0</td>\n      <td>0</td>\n      <td>1</td>\n      <td>0</td>\n      <td>...</td>\n      <td>1</td>\n      <td>0</td>\n      <td>0</td>\n      <td>0</td>\n      <td>1</td>\n      <td>1</td>\n      <td>0</td>\n      <td>0</td>\n      <td>0</td>\n      <td>0</td>\n    </tr>\n    <tr>\n      <th>10685</th>\n      <td>0</td>\n      <td>1</td>\n      <td>0</td>\n      <td>0</td>\n      <td>1</td>\n      <td>1</td>\n      <td>0</td>\n      <td>0</td>\n      <td>0</td>\n      <td>0</td>\n      <td>...</td>\n      <td>0</td>\n      <td>0</td>\n      <td>1</td>\n      <td>0</td>\n      <td>0</td>\n      <td>0</td>\n      <td>0</td>\n      <td>0</td>\n      <td>0</td>\n      <td>0</td>\n    </tr>\n    <tr>\n      <th>10686</th>\n      <td>0</td>\n      <td>0</td>\n      <td>0</td>\n      <td>0</td>\n      <td>0</td>\n      <td>1</td>\n      <td>0</td>\n      <td>0</td>\n      <td>0</td>\n      <td>0</td>\n      <td>...</td>\n      <td>0</td>\n      <td>0</td>\n      <td>0</td>\n      <td>0</td>\n      <td>1</td>\n      <td>0</td>\n      <td>1</td>\n      <td>0</td>\n      <td>0</td>\n      <td>0</td>\n    </tr>\n    <tr>\n      <th>10687</th>\n      <td>0</td>\n      <td>0</td>\n      <td>1</td>\n      <td>0</td>\n      <td>0</td>\n      <td>1</td>\n      <td>0</td>\n      <td>0</td>\n      <td>0</td>\n      <td>0</td>\n      <td>...</td>\n      <td>0</td>\n      <td>0</td>\n      <td>1</td>\n      <td>0</td>\n      <td>0</td>\n      <td>0</td>\n      <td>0</td>\n      <td>0</td>\n      <td>1</td>\n      <td>0</td>\n    </tr>\n    <tr>\n      <th>10688</th>\n      <td>0</td>\n      <td>0</td>\n      <td>0</td>\n      <td>0</td>\n      <td>1</td>\n      <td>0</td>\n      <td>0</td>\n      <td>0</td>\n      <td>1</td>\n      <td>1</td>\n      <td>...</td>\n      <td>0</td>\n      <td>1</td>\n      <td>0</td>\n      <td>0</td>\n      <td>1</td>\n      <td>0</td>\n      <td>0</td>\n      <td>0</td>\n      <td>1</td>\n      <td>0</td>\n    </tr>\n  </tbody>\n</table>\n<p>10689 rows × 35 columns</p>\n</div>"
     },
     "execution_count": 37,
     "metadata": {},
     "output_type": "execute_result"
    }
   ],
   "source": [
    "df_dums"
   ],
   "metadata": {
    "collapsed": false
   }
  },
  {
   "cell_type": "code",
   "execution_count": 38,
   "outputs": [],
   "source": [
    "df_done = pd.concat([df_cat[[\"coverage\",\"education\",\"vehicle_size\"]], df_dums], axis=1)"
   ],
   "metadata": {
    "collapsed": false
   }
  },
  {
   "cell_type": "code",
   "execution_count": 51,
   "outputs": [],
   "source": [
    "df_done.to_csv(\"dum_df.csv\", index=False)\n",
    "df_num.to_csv(\"num_df.csv\", index=False)"
   ],
   "metadata": {
    "collapsed": false
   }
  },
  {
   "cell_type": "code",
   "execution_count": 50,
   "outputs": [
    {
     "data": {
      "text/plain": "       range(0, 10)  coverage  education  vehicle_size  east  north west  \\\n0                 0         0          1             1     0           0   \n1                 1         0          1             1     0           0   \n2                 2         0          1             1     1           0   \n3                 3         1          1             1     0           1   \n4                 4         2          1             1     0           1   \n...             ...       ...        ...           ...   ...         ...   \n10684         10684         2          1             1     0           0   \n10685         10685         0          1             1     0           1   \n10686         10686         1          1             1     0           0   \n10687         10687         2          1             1     0           0   \n10688         10688         0          1             1     0           0   \n\n       west region  yes  jan  employed  ...  offer3  offer4  branch  \\\n0                0    0    0         1  ...       1       0       0   \n1                1    0    1         0  ...       0       1       0   \n2                0    0    0         1  ...       1       0       0   \n3                0    1    1         1  ...       0       0       1   \n4                0    0    1         0  ...       0       0       1   \n...            ...  ...  ...       ...  ...     ...     ...     ...   \n10684            0    0    1         0  ...       1       0       0   \n10685            0    0    1         1  ...       0       0       1   \n10686            0    0    0         1  ...       0       0       0   \n10687            1    0    0         1  ...       0       0       1   \n10688            0    0    1         0  ...       0       1       0   \n\n       call center  web  luxury car  luxury suv  sports car  suv  two-door car  \n0                0    0           0           0           0    0             0  \n1                1    0           0           0           0    0             0  \n2                1    0           0           0           0    1             0  \n3                0    0           0           0           0    0             0  \n4                0    0           0           0           0    0             0  \n...            ...  ...         ...         ...         ...  ...           ...  \n10684            0    1           1           0           0    0             0  \n10685            0    0           0           0           0    0             0  \n10686            0    1           0           1           0    0             0  \n10687            0    0           0           0           0    1             0  \n10688            0    1           0           0           0    1             0  \n\n[10689 rows x 39 columns]",
      "text/html": "<div>\n<style scoped>\n    .dataframe tbody tr th:only-of-type {\n        vertical-align: middle;\n    }\n\n    .dataframe tbody tr th {\n        vertical-align: top;\n    }\n\n    .dataframe thead th {\n        text-align: right;\n    }\n</style>\n<table border=\"1\" class=\"dataframe\">\n  <thead>\n    <tr style=\"text-align: right;\">\n      <th></th>\n      <th>range(0, 10)</th>\n      <th>coverage</th>\n      <th>education</th>\n      <th>vehicle_size</th>\n      <th>east</th>\n      <th>north west</th>\n      <th>west region</th>\n      <th>yes</th>\n      <th>jan</th>\n      <th>employed</th>\n      <th>...</th>\n      <th>offer3</th>\n      <th>offer4</th>\n      <th>branch</th>\n      <th>call center</th>\n      <th>web</th>\n      <th>luxury car</th>\n      <th>luxury suv</th>\n      <th>sports car</th>\n      <th>suv</th>\n      <th>two-door car</th>\n    </tr>\n  </thead>\n  <tbody>\n    <tr>\n      <th>0</th>\n      <td>0</td>\n      <td>0</td>\n      <td>1</td>\n      <td>1</td>\n      <td>0</td>\n      <td>0</td>\n      <td>0</td>\n      <td>0</td>\n      <td>0</td>\n      <td>1</td>\n      <td>...</td>\n      <td>1</td>\n      <td>0</td>\n      <td>0</td>\n      <td>0</td>\n      <td>0</td>\n      <td>0</td>\n      <td>0</td>\n      <td>0</td>\n      <td>0</td>\n      <td>0</td>\n    </tr>\n    <tr>\n      <th>1</th>\n      <td>1</td>\n      <td>0</td>\n      <td>1</td>\n      <td>1</td>\n      <td>0</td>\n      <td>0</td>\n      <td>1</td>\n      <td>0</td>\n      <td>1</td>\n      <td>0</td>\n      <td>...</td>\n      <td>0</td>\n      <td>1</td>\n      <td>0</td>\n      <td>1</td>\n      <td>0</td>\n      <td>0</td>\n      <td>0</td>\n      <td>0</td>\n      <td>0</td>\n      <td>0</td>\n    </tr>\n    <tr>\n      <th>2</th>\n      <td>2</td>\n      <td>0</td>\n      <td>1</td>\n      <td>1</td>\n      <td>1</td>\n      <td>0</td>\n      <td>0</td>\n      <td>0</td>\n      <td>0</td>\n      <td>1</td>\n      <td>...</td>\n      <td>1</td>\n      <td>0</td>\n      <td>0</td>\n      <td>1</td>\n      <td>0</td>\n      <td>0</td>\n      <td>0</td>\n      <td>0</td>\n      <td>1</td>\n      <td>0</td>\n    </tr>\n    <tr>\n      <th>3</th>\n      <td>3</td>\n      <td>1</td>\n      <td>1</td>\n      <td>1</td>\n      <td>0</td>\n      <td>1</td>\n      <td>0</td>\n      <td>1</td>\n      <td>1</td>\n      <td>1</td>\n      <td>...</td>\n      <td>0</td>\n      <td>0</td>\n      <td>1</td>\n      <td>0</td>\n      <td>0</td>\n      <td>0</td>\n      <td>0</td>\n      <td>0</td>\n      <td>0</td>\n      <td>0</td>\n    </tr>\n    <tr>\n      <th>4</th>\n      <td>4</td>\n      <td>2</td>\n      <td>1</td>\n      <td>1</td>\n      <td>0</td>\n      <td>1</td>\n      <td>0</td>\n      <td>0</td>\n      <td>1</td>\n      <td>0</td>\n      <td>...</td>\n      <td>0</td>\n      <td>0</td>\n      <td>1</td>\n      <td>0</td>\n      <td>0</td>\n      <td>0</td>\n      <td>0</td>\n      <td>0</td>\n      <td>0</td>\n      <td>0</td>\n    </tr>\n    <tr>\n      <th>...</th>\n      <td>...</td>\n      <td>...</td>\n      <td>...</td>\n      <td>...</td>\n      <td>...</td>\n      <td>...</td>\n      <td>...</td>\n      <td>...</td>\n      <td>...</td>\n      <td>...</td>\n      <td>...</td>\n      <td>...</td>\n      <td>...</td>\n      <td>...</td>\n      <td>...</td>\n      <td>...</td>\n      <td>...</td>\n      <td>...</td>\n      <td>...</td>\n      <td>...</td>\n      <td>...</td>\n    </tr>\n    <tr>\n      <th>10684</th>\n      <td>10684</td>\n      <td>2</td>\n      <td>1</td>\n      <td>1</td>\n      <td>0</td>\n      <td>0</td>\n      <td>0</td>\n      <td>0</td>\n      <td>1</td>\n      <td>0</td>\n      <td>...</td>\n      <td>1</td>\n      <td>0</td>\n      <td>0</td>\n      <td>0</td>\n      <td>1</td>\n      <td>1</td>\n      <td>0</td>\n      <td>0</td>\n      <td>0</td>\n      <td>0</td>\n    </tr>\n    <tr>\n      <th>10685</th>\n      <td>10685</td>\n      <td>0</td>\n      <td>1</td>\n      <td>1</td>\n      <td>0</td>\n      <td>1</td>\n      <td>0</td>\n      <td>0</td>\n      <td>1</td>\n      <td>1</td>\n      <td>...</td>\n      <td>0</td>\n      <td>0</td>\n      <td>1</td>\n      <td>0</td>\n      <td>0</td>\n      <td>0</td>\n      <td>0</td>\n      <td>0</td>\n      <td>0</td>\n      <td>0</td>\n    </tr>\n    <tr>\n      <th>10686</th>\n      <td>10686</td>\n      <td>1</td>\n      <td>1</td>\n      <td>1</td>\n      <td>0</td>\n      <td>0</td>\n      <td>0</td>\n      <td>0</td>\n      <td>0</td>\n      <td>1</td>\n      <td>...</td>\n      <td>0</td>\n      <td>0</td>\n      <td>0</td>\n      <td>0</td>\n      <td>1</td>\n      <td>0</td>\n      <td>1</td>\n      <td>0</td>\n      <td>0</td>\n      <td>0</td>\n    </tr>\n    <tr>\n      <th>10687</th>\n      <td>10687</td>\n      <td>2</td>\n      <td>1</td>\n      <td>1</td>\n      <td>0</td>\n      <td>0</td>\n      <td>1</td>\n      <td>0</td>\n      <td>0</td>\n      <td>1</td>\n      <td>...</td>\n      <td>0</td>\n      <td>0</td>\n      <td>1</td>\n      <td>0</td>\n      <td>0</td>\n      <td>0</td>\n      <td>0</td>\n      <td>0</td>\n      <td>1</td>\n      <td>0</td>\n    </tr>\n    <tr>\n      <th>10688</th>\n      <td>10688</td>\n      <td>0</td>\n      <td>1</td>\n      <td>1</td>\n      <td>0</td>\n      <td>0</td>\n      <td>0</td>\n      <td>0</td>\n      <td>1</td>\n      <td>0</td>\n      <td>...</td>\n      <td>0</td>\n      <td>1</td>\n      <td>0</td>\n      <td>0</td>\n      <td>1</td>\n      <td>0</td>\n      <td>0</td>\n      <td>0</td>\n      <td>1</td>\n      <td>0</td>\n    </tr>\n  </tbody>\n</table>\n<p>10689 rows × 39 columns</p>\n</div>"
     },
     "execution_count": 50,
     "metadata": {},
     "output_type": "execute_result"
    }
   ],
   "source": [
    "pd.read_csv(\"dum_df.csv\")\n"
   ],
   "metadata": {
    "collapsed": false
   }
  },
  {
   "cell_type": "code",
   "execution_count": 40,
   "outputs": [],
   "source": [
    "df = pd.concat([df_done, df_num], axis=1)\n",
    "df.to_csv(\"dum_num_df.csv\")"
   ],
   "metadata": {
    "collapsed": false
   }
  },
  {
   "cell_type": "markdown",
   "source": [
    "# Optional"
   ],
   "metadata": {
    "collapsed": false
   }
  },
  {
   "cell_type": "code",
   "execution_count": null,
   "outputs": [],
   "source": [
    "df_num"
   ],
   "metadata": {
    "collapsed": false
   }
  },
  {
   "cell_type": "code",
   "execution_count": null,
   "outputs": [],
   "source": [
    "# import required libraries\n",
    "from sklearn import linear_model\n",
    "from sklearn.preprocessing import PowerTransformer, StandardScaler, MinMaxScaler\n",
    "\n",
    "scale = MinMaxScaler()\n",
    "\n",
    "X = df_num[[\"customer_lifetime_value\"]]\n",
    "\n",
    "scaledX = scale.fit_transform(X)\n",
    "\n",
    "display(X, scaledX)"
   ],
   "metadata": {
    "collapsed": false
   }
  },
  {
   "cell_type": "code",
   "execution_count": null,
   "outputs": [],
   "source": [
    "# plot X against scaledX to verify the rescaling\n",
    "# Create a figure and axis\n",
    "fig, ax = plt.subplots(nrows=1, ncols=2, figsize=(12, 5))\n",
    "\n",
    "# Plot the first distribution\n",
    "sns.histplot(data=X, kde=True, ax=ax[0])\n",
    "\n",
    "# Plot the second distribution\n",
    "sns.histplot(data=scaledX, kde=True, ax=ax[1])\n",
    "\n",
    "# Adjust the plot layout\n",
    "#plt.tight_layout()\n",
    "\n",
    "# Show the plot\n",
    "plt.show()"
   ],
   "metadata": {
    "collapsed": false
   }
  },
  {
   "cell_type": "code",
   "execution_count": null,
   "outputs": [],
   "source": [
    "print(scaledX.std(), scaledX.mean())"
   ],
   "metadata": {
    "collapsed": false
   }
  },
  {
   "cell_type": "code",
   "execution_count": null,
   "outputs": [],
   "source": [
    "scale = PowerTransformer(method=\"box-cox\")\n",
    "\n",
    "X = df_num[[\"customer_lifetime_value\"]]\n",
    "\n",
    "scaledX = scale.fit_transform(X)\n",
    "\n",
    "#print(X,scaledX)\n",
    "\n",
    "# plot X against scaledX to verify the rescaling\n",
    "# Create a figure and axis\n",
    "fig, ax = plt.subplots(nrows=1, ncols=2, figsize=(12, 5))\n",
    "\n",
    "# Plot the first distribution\n",
    "sns.histplot(data=X, kde=True, ax=ax[0])\n",
    "\n",
    "# Plot the second distribution\n",
    "sns.histplot(data=scaledX, kde=True, ax=ax[1])\n",
    "\n",
    "# Adjust the plot layout\n",
    "#plt.tight_layout()\n",
    "\n",
    "# Show the plot\n",
    "plt.show()"
   ],
   "metadata": {
    "collapsed": false
   }
  },
  {
   "cell_type": "code",
   "execution_count": null,
   "outputs": [],
   "source": [
    "print(scaledX.std(), scaledX.mean())"
   ],
   "metadata": {
    "collapsed": false
   }
  },
  {
   "cell_type": "code",
   "execution_count": null,
   "outputs": [],
   "source": [
    "scale = PowerTransformer(method=\"yeo-johnson\")\n",
    "\n",
    "X = df_num[[\"customer_lifetime_value\"]]\n",
    "\n",
    "scaledX = scale.fit_transform(X)\n",
    "\n",
    "#print(X,scaledX)\n",
    "\n",
    "# plot X against scaledX to verify the rescaling\n",
    "# Create a figure and axis\n",
    "fig, ax = plt.subplots(nrows=1, ncols=2, figsize=(12, 5))\n",
    "\n",
    "# Plot the first distribution\n",
    "sns.histplot(data=X, kde=True, ax=ax[0])\n",
    "\n",
    "# Plot the second distribution\n",
    "sns.histplot(data=scaledX, kde=True, ax=ax[1])\n",
    "\n",
    "# Adjust the plot layout\n",
    "#plt.tight_layout()\n",
    "\n",
    "# Show the plot\n",
    "plt.show()"
   ],
   "metadata": {
    "collapsed": false
   }
  },
  {
   "cell_type": "code",
   "execution_count": null,
   "outputs": [],
   "source": [
    "print(scaledX.std(), scaledX.mean())"
   ],
   "metadata": {
    "collapsed": false
   }
  },
  {
   "cell_type": "markdown",
   "source": [
    "The difference between the options \"box-cox\" and \"yeo-johnson\" is that the former requires strictly positive input data while the latter takes both positive and negative values."
   ],
   "metadata": {
    "collapsed": false
   }
  },
  {
   "cell_type": "markdown",
   "source": [
    "#"
   ],
   "metadata": {
    "collapsed": false
   }
  },
  {
   "cell_type": "code",
   "execution_count": null,
   "outputs": [],
   "source": [],
   "metadata": {
    "collapsed": false
   }
  }
 ],
 "metadata": {
  "kernelspec": {
   "display_name": "Python 3",
   "language": "python",
   "name": "python3"
  },
  "language_info": {
   "codemirror_mode": {
    "name": "ipython",
    "version": 2
   },
   "file_extension": ".py",
   "mimetype": "text/x-python",
   "name": "python",
   "nbconvert_exporter": "python",
   "pygments_lexer": "ipython2",
   "version": "2.7.6"
  }
 },
 "nbformat": 4,
 "nbformat_minor": 0
}
