{
 "cells": [
  {
   "cell_type": "code",
   "execution_count": 26,
   "metadata": {
    "collapsed": true
   },
   "outputs": [],
   "source": [
    "import pandas as pd\n",
    "import numpy as np\n",
    "import warnings\n",
    "warnings.filterwarnings(\"ignore\")\n",
    "from sklearn.model_selection import train_test_split\n",
    "from sklearn.linear_model import LinearRegression\n",
    "from sklearn.feature_selection import RFE  ## recursive feature elemination technique\n",
    "from sklearn.linear_model import Lasso,Ridge,ElasticNet, LinearRegression\n",
    "from sklearn.impute import SimpleImputer\n"
   ]
  },
  {
   "cell_type": "markdown",
   "source": [
    "# setup data"
   ],
   "metadata": {
    "collapsed": false
   }
  },
  {
   "cell_type": "code",
   "execution_count": 44,
   "outputs": [],
   "source": [
    "df = pd.read_csv(\"Data_Marketing_Customer_Analysis_Round3.csv\")"
   ],
   "metadata": {
    "collapsed": false
   }
  },
  {
   "cell_type": "markdown",
   "source": [
    "## X, y split"
   ],
   "metadata": {
    "collapsed": false
   }
  },
  {
   "cell_type": "code",
   "execution_count": 61,
   "outputs": [],
   "source": [
    "X = df.drop(\"total_claim_amount\", axis=1)\n",
    "y = df[\"total_claim_amount\"]"
   ],
   "metadata": {
    "collapsed": false
   }
  },
  {
   "cell_type": "code",
   "execution_count": 48,
   "outputs": [
    {
     "data": {
      "text/plain": "0        5.676754\n1        6.612041\n2        6.173786\n3        6.182085\n4        6.561031\n           ...   \n10684    7.101676\n10685    5.609472\n10686    5.942799\n10687    6.426488\n10688    6.928538\nName: total_claim_amount, Length: 10689, dtype: float64"
     },
     "execution_count": 48,
     "metadata": {},
     "output_type": "execute_result"
    }
   ],
   "source": [
    "y"
   ],
   "metadata": {
    "collapsed": false
   }
  },
  {
   "cell_type": "markdown",
   "source": [
    "## test-train split"
   ],
   "metadata": {
    "collapsed": false
   }
  },
  {
   "cell_type": "code",
   "execution_count": 62,
   "outputs": [],
   "source": [
    "# split\n",
    "X_train, X_test, y_train, y_test = train_test_split(X, y, test_size=0.30, random_state=42)\n",
    "# select numerical columns\n",
    "X_train = pd.DataFrame(X_train, columns=(X.select_dtypes(include=np.number)).columns)\n",
    "X_test  = pd.DataFrame(X_test, columns=(X.select_dtypes(include=np.number)).columns)\n"
   ],
   "metadata": {
    "collapsed": false
   }
  },
  {
   "cell_type": "code",
   "execution_count": 60,
   "outputs": [
    {
     "data": {
      "text/plain": "       customer_lifetime_value  income  monthly_premium_auto  \\\n10237                     8663   42169                    83   \n2689                      4213   12160                   109   \n4489                      2359   19864                    63   \n10401                    19511   40625                    70   \n749                       3576   24959                    89   \n...                        ...     ...                   ...   \n5734                      7610   98701                    94   \n5191                     35186   86134                    98   \n5390                      4241   19834                    64   \n860                      12941   77060                   106   \n7270                      6947   63406                   100   \n\n       months_since_last_claim  months_since_policy_inception  \\\n10237                       18                             90   \n2689                         5                             34   \n4489                        22                             96   \n10401                       28                             26   \n749                         19                             13   \n...                        ...                            ...   \n5734                        22                             66   \n5191                        17                             78   \n5390                        26                              8   \n860                         23                             90   \n7270                         5                             54   \n\n       number_of_open_complaints  number_of_policies  \n10237                          1                   2  \n2689                           0                   1  \n4489                           0                   1  \n10401                          0                   2  \n749                            0                   1  \n...                          ...                 ...  \n5734                           0                   3  \n5191                           0                   2  \n5390                           4                   8  \n860                            0                   2  \n7270                           0                   7  \n\n[7482 rows x 7 columns]",
      "text/html": "<div>\n<style scoped>\n    .dataframe tbody tr th:only-of-type {\n        vertical-align: middle;\n    }\n\n    .dataframe tbody tr th {\n        vertical-align: top;\n    }\n\n    .dataframe thead th {\n        text-align: right;\n    }\n</style>\n<table border=\"1\" class=\"dataframe\">\n  <thead>\n    <tr style=\"text-align: right;\">\n      <th></th>\n      <th>customer_lifetime_value</th>\n      <th>income</th>\n      <th>monthly_premium_auto</th>\n      <th>months_since_last_claim</th>\n      <th>months_since_policy_inception</th>\n      <th>number_of_open_complaints</th>\n      <th>number_of_policies</th>\n    </tr>\n  </thead>\n  <tbody>\n    <tr>\n      <th>10237</th>\n      <td>8663</td>\n      <td>42169</td>\n      <td>83</td>\n      <td>18</td>\n      <td>90</td>\n      <td>1</td>\n      <td>2</td>\n    </tr>\n    <tr>\n      <th>2689</th>\n      <td>4213</td>\n      <td>12160</td>\n      <td>109</td>\n      <td>5</td>\n      <td>34</td>\n      <td>0</td>\n      <td>1</td>\n    </tr>\n    <tr>\n      <th>4489</th>\n      <td>2359</td>\n      <td>19864</td>\n      <td>63</td>\n      <td>22</td>\n      <td>96</td>\n      <td>0</td>\n      <td>1</td>\n    </tr>\n    <tr>\n      <th>10401</th>\n      <td>19511</td>\n      <td>40625</td>\n      <td>70</td>\n      <td>28</td>\n      <td>26</td>\n      <td>0</td>\n      <td>2</td>\n    </tr>\n    <tr>\n      <th>749</th>\n      <td>3576</td>\n      <td>24959</td>\n      <td>89</td>\n      <td>19</td>\n      <td>13</td>\n      <td>0</td>\n      <td>1</td>\n    </tr>\n    <tr>\n      <th>...</th>\n      <td>...</td>\n      <td>...</td>\n      <td>...</td>\n      <td>...</td>\n      <td>...</td>\n      <td>...</td>\n      <td>...</td>\n    </tr>\n    <tr>\n      <th>5734</th>\n      <td>7610</td>\n      <td>98701</td>\n      <td>94</td>\n      <td>22</td>\n      <td>66</td>\n      <td>0</td>\n      <td>3</td>\n    </tr>\n    <tr>\n      <th>5191</th>\n      <td>35186</td>\n      <td>86134</td>\n      <td>98</td>\n      <td>17</td>\n      <td>78</td>\n      <td>0</td>\n      <td>2</td>\n    </tr>\n    <tr>\n      <th>5390</th>\n      <td>4241</td>\n      <td>19834</td>\n      <td>64</td>\n      <td>26</td>\n      <td>8</td>\n      <td>4</td>\n      <td>8</td>\n    </tr>\n    <tr>\n      <th>860</th>\n      <td>12941</td>\n      <td>77060</td>\n      <td>106</td>\n      <td>23</td>\n      <td>90</td>\n      <td>0</td>\n      <td>2</td>\n    </tr>\n    <tr>\n      <th>7270</th>\n      <td>6947</td>\n      <td>63406</td>\n      <td>100</td>\n      <td>5</td>\n      <td>54</td>\n      <td>0</td>\n      <td>7</td>\n    </tr>\n  </tbody>\n</table>\n<p>7482 rows × 7 columns</p>\n</div>"
     },
     "execution_count": 60,
     "metadata": {},
     "output_type": "execute_result"
    }
   ],
   "source": [
    "X_train"
   ],
   "metadata": {
    "collapsed": false
   }
  },
  {
   "cell_type": "markdown",
   "source": [
    "# embedded methods - fill nans with mean of column"
   ],
   "metadata": {
    "collapsed": false
   }
  },
  {
   "cell_type": "markdown",
   "source": [
    "imp_mean = SimpleImputer(missing_values=np.nan, strategy='mean')\n",
    "X_train = pd.DataFrame(imp_mean.fit_transform(X_train), columns=(X.select_dtypes(include=np.number)).columns)\n",
    "X_test = pd.DataFrame(imp_mean.fit_transform(X_test), columns=(X.select_dtypes(include=np.number)).columns)"
   ],
   "metadata": {
    "collapsed": false
   }
  },
  {
   "cell_type": "markdown",
   "source": [
    "# train model"
   ],
   "metadata": {
    "collapsed": false
   }
  },
  {
   "cell_type": "markdown",
   "source": [
    "## OLS"
   ],
   "metadata": {
    "collapsed": false
   }
  },
  {
   "cell_type": "code",
   "execution_count": 11,
   "outputs": [
    {
     "name": "stdout",
     "output_type": "stream",
     "text": [
      "LinearRegression: Train -> 0.8628283743025131, Test -> 0.8693418320791757\n"
     ]
    }
   ],
   "source": [
    "model=LinearRegression()\n",
    "model.fit(X_train, y_train)\n",
    "print(f\"{model.__class__.__name__}: Train -> {model.score(X_train, y_train)}, Test -> {model.score(X_test, y_test)}\")"
   ],
   "metadata": {
    "collapsed": false
   }
  },
  {
   "cell_type": "raw",
   "source": [
    "<b> lasso model   could drop features and make it a feature selection technique"
   ],
   "metadata": {
    "collapsed": false
   }
  },
  {
   "cell_type": "code",
   "execution_count": 12,
   "outputs": [
    {
     "name": "stdout",
     "output_type": "stream",
     "text": [
      "Lasso: Train -> 0.8148486406789714, Test -> 0.8412452067068658\n"
     ]
    }
   ],
   "source": [
    "from sklearn.linear_model import Lasso,Ridge,ElasticNet, LinearRegression\n",
    "model=Lasso(alpha=0.05)\n",
    "\n",
    "model.fit(X_train, y_train)\n",
    "print(f\"{model.__class__.__name__}: Train -> {model.score(X_train, y_train)}, Test -> {model.score(X_test, y_test)}\")"
   ],
   "metadata": {
    "collapsed": false
   }
  },
  {
   "cell_type": "markdown",
   "source": [
    "<b> Ridge"
   ],
   "metadata": {
    "collapsed": false
   }
  },
  {
   "cell_type": "code",
   "execution_count": 13,
   "outputs": [
    {
     "name": "stdout",
     "output_type": "stream",
     "text": [
      "Ridge: Train -> 0.795678180930162, Test -> 0.824677621400779\n"
     ]
    }
   ],
   "source": [
    "model=Ridge(alpha=10000)\n",
    "model.fit(X_train, y_train)\n",
    "print(f\"{model.__class__.__name__}: Train -> {model.score(X_train, y_train)}, Test -> {model.score(X_test, y_test)}\")"
   ],
   "metadata": {
    "collapsed": false
   }
  },
  {
   "cell_type": "markdown",
   "source": [
    "<b> ElasticNet"
   ],
   "metadata": {
    "collapsed": false
   }
  },
  {
   "cell_type": "code",
   "execution_count": 14,
   "outputs": [
    {
     "name": "stdout",
     "output_type": "stream",
     "text": [
      "ElasticNet: Train -> 0.8132076258775885, Test -> 0.8400307045613378\n"
     ]
    }
   ],
   "source": [
    "model=ElasticNet(alpha=0.1)\n",
    "model.fit(X_train, y_train)\n",
    "print(f\"{model.__class__.__name__}: Train -> {model.score(X_train, y_train)}, Test -> {model.score(X_test, y_test)}\")"
   ],
   "metadata": {
    "collapsed": false
   }
  },
  {
   "cell_type": "code",
   "execution_count": null,
   "outputs": [],
   "source": [],
   "metadata": {
    "collapsed": false
   }
  }
 ],
 "metadata": {
  "kernelspec": {
   "display_name": "Python 3",
   "language": "python",
   "name": "python3"
  },
  "language_info": {
   "codemirror_mode": {
    "name": "ipython",
    "version": 2
   },
   "file_extension": ".py",
   "mimetype": "text/x-python",
   "name": "python",
   "nbconvert_exporter": "python",
   "pygments_lexer": "ipython2",
   "version": "2.7.6"
  }
 },
 "nbformat": 4,
 "nbformat_minor": 0
}
