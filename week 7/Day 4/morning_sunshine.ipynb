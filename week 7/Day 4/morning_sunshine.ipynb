{
 "cells": [
  {
   "cell_type": "code",
   "execution_count": 25,
   "metadata": {
    "collapsed": true
   },
   "outputs": [],
   "source": [
    "import pandas as pd\n",
    "import numpy as np\n",
    "## plotting libraries\n",
    "from matplotlib import pyplot as plt\n",
    "## Sklearn libraries\n",
    "from sklearn.model_selection import train_test_split\n",
    "from sklearn.neighbors import KNeighborsClassifier\n",
    "from sklearn.metrics import plot_confusion_matrix\n",
    "from sklearn.metrics import accuracy_score, precision_score, recall_score\n",
    "from sklearn.preprocessing import StandardScaler\n",
    "import warnings\n",
    "warnings.filterwarnings(\"ignore\", category=FutureWarning)\n",
    "\n",
    "%matplotlib inline"
   ]
  },
  {
   "cell_type": "code",
   "execution_count": 26,
   "outputs": [],
   "source": [
    "df = pd.read_csv(\"students.csv\")"
   ],
   "metadata": {
    "collapsed": false
   }
  },
  {
   "cell_type": "code",
   "execution_count": 27,
   "outputs": [
    {
     "name": "stdout",
     "output_type": "stream",
     "text": [
      "1: Argentina\n",
      "2: Brazil\n",
      "1: Cambodja\n",
      "2: Canada\n",
      "1: China\n",
      "1: Indonesia\n",
      "2: Mexico\n",
      "1: Poland\n",
      "1: Portugal\n",
      "2: Turkey\n",
      "1: USA\n",
      "501 499\n"
     ]
    }
   ],
   "source": [
    "grouped = df.groupby(\"country\")\n",
    "\n",
    "# create two empty DataFrames to hold the split data\n",
    "df1 = pd.DataFrame()\n",
    "df2 = pd.DataFrame()\n",
    "\n",
    "for country, group in grouped:\n",
    "    # determine which DataFrame to add the group to\n",
    "    if len(df1) <= len(df2): # or country in df1[\"country\"].unique():\n",
    "        df1 = pd.concat([df1, group])\n",
    "        print(\"1:\", country)\n",
    "    else:\n",
    "        df2 = pd.concat([df2, group])\n",
    "        print(\"2:\", country)\n",
    "\n",
    "print(len(df1), len(df2))"
   ],
   "metadata": {
    "collapsed": false
   }
  },
  {
   "cell_type": "code",
   "execution_count": null,
   "outputs": [],
   "source": [],
   "metadata": {
    "collapsed": false
   }
  }
 ],
 "metadata": {
  "kernelspec": {
   "display_name": "Python 3",
   "language": "python",
   "name": "python3"
  },
  "language_info": {
   "codemirror_mode": {
    "name": "ipython",
    "version": 2
   },
   "file_extension": ".py",
   "mimetype": "text/x-python",
   "name": "python",
   "nbconvert_exporter": "python",
   "pygments_lexer": "ipython2",
   "version": "2.7.6"
  }
 },
 "nbformat": 4,
 "nbformat_minor": 0
}
