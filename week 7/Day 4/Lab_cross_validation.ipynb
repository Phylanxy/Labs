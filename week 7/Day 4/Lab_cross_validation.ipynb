{
 "cells": [
  {
   "cell_type": "code",
   "execution_count": 25,
   "outputs": [],
   "source": [
    "import pandas as pd\n",
    "import numpy as np\n",
    "## plotting libraries\n",
    "from matplotlib import pyplot as plt\n",
    "## Sklearn libraries\n",
    "from sklearn.model_selection import cross_val_score\n",
    "from sklearn.model_selection import cross_val_predict\n",
    "\n",
    "from sklearn.model_selection import train_test_split\n",
    "\n",
    "from sklearn.linear_model import LinearRegression\n",
    "from sklearn.neighbors import KNeighborsRegressor\n",
    "from sklearn.tree import DecisionTreeClassifier\n",
    "from sklearn.tree import DecisionTreeRegressor\n",
    "import warnings\n",
    "warnings.filterwarnings('ignore')"
   ],
   "metadata": {
    "collapsed": false
   }
  },
  {
   "cell_type": "code",
   "execution_count": 4,
   "outputs": [],
   "source": [
    "df = pd.read_csv(\"DATA_Customer-Churn.csv\")"
   ],
   "metadata": {
    "collapsed": false
   }
  },
  {
   "cell_type": "code",
   "execution_count": 5,
   "outputs": [],
   "source": [
    "df[\"TotalCharges\"] = pd.to_numeric(df[\"TotalCharges\"].apply(lambda x: x.strip()))"
   ],
   "metadata": {
    "collapsed": false
   }
  },
  {
   "cell_type": "code",
   "execution_count": 6,
   "outputs": [
    {
     "data": {
      "text/plain": "gender  SeniorCitizen  Partner  Dependents  tenure  PhoneService  OnlineSecurity  OnlineBackup  DeviceProtection  TechSupport  StreamingTV  StreamingMovies  Contract  MonthlyCharges  TotalCharges  Churn\nFalse   False          False    False       False   False         False           False         False             False        False        False            False     False           False         False    7032\ndtype: int64"
     },
     "execution_count": 6,
     "metadata": {},
     "output_type": "execute_result"
    }
   ],
   "source": [
    "#df.isnull().any()\n",
    "df = df.dropna()\n",
    "df.isna().value_counts()"
   ],
   "metadata": {
    "collapsed": false
   }
  },
  {
   "cell_type": "code",
   "execution_count": 7,
   "outputs": [],
   "source": [
    "df['TotalCharges'].fillna(df['TotalCharges'].mean(), inplace=True)"
   ],
   "metadata": {
    "collapsed": false
   }
  },
  {
   "cell_type": "code",
   "execution_count": 8,
   "outputs": [],
   "source": [
    "cols_to_keep = [\"tenure\", \"SeniorCitizen\", \"MonthlyCharges\", \"TotalCharges\", \"Churn\"]\n",
    "df2 = df[cols_to_keep]"
   ],
   "metadata": {
    "collapsed": false
   }
  },
  {
   "cell_type": "markdown",
   "source": [
    "# split the dataset"
   ],
   "metadata": {
    "collapsed": false
   }
  },
  {
   "cell_type": "code",
   "execution_count": 32,
   "outputs": [
    {
     "data": {
      "text/plain": "No     5163\nYes    1869\nName: Churn, dtype: int64"
     },
     "execution_count": 32,
     "metadata": {},
     "output_type": "execute_result"
    }
   ],
   "source": [
    "df[\"Churn\"].value_counts()"
   ],
   "metadata": {
    "collapsed": false
   }
  },
  {
   "cell_type": "code",
   "execution_count": 9,
   "outputs": [],
   "source": [
    "# X-y split\n",
    "X = df2[[\"tenure\", \"SeniorCitizen\", \"MonthlyCharges\", \"TotalCharges\"]]\n",
    "y = df2[\"Churn\"].map({\"Yes\" : 1, \"No\" : 0})"
   ],
   "metadata": {
    "collapsed": false
   }
  },
  {
   "cell_type": "code",
   "execution_count": 10,
   "outputs": [],
   "source": [
    "# define functions for splitting\n",
    "def split_the_shit(X, y):\n",
    "    # split\n",
    "    X_train, X_test, y_train, y_test = train_test_split(X, y, test_size=0.20, random_state=11)\n",
    "    # select numerical columns\n",
    "    X_train = pd.DataFrame(X_train, columns=X.columns)\n",
    "    X_test  = pd.DataFrame(X_test, columns=X.columns)\n",
    "    return X_train, X_test, y_train, y_test\n",
    "\n",
    "# ...and scaling\n",
    "def scale_fct(X_train):\n",
    "    # now transform with StandardScaler\n",
    "    scaler = StandardScaler()\n",
    "    scaler.fit(X_train)\n",
    "    X_scaled = scaler.transform(X_train)\n",
    "    return pd.DataFrame(X_scaled, columns=X_train.columns)"
   ],
   "metadata": {
    "collapsed": false
   }
  },
  {
   "cell_type": "code",
   "execution_count": 11,
   "outputs": [],
   "source": [
    "# apply test-train split\n",
    "X_train, X_test, y_train, y_test = split_the_shit(X, y)"
   ],
   "metadata": {
    "collapsed": false
   }
  },
  {
   "cell_type": "code",
   "execution_count": 12,
   "outputs": [],
   "source": [
    "# apply standard scaler\n",
    "X_scaled = scale_fct(X_train)"
   ],
   "metadata": {
    "collapsed": false
   }
  },
  {
   "cell_type": "markdown",
   "source": [
    "# fit and crossvalidate KNeighboursClassifier model"
   ],
   "metadata": {
    "collapsed": false
   }
  },
  {
   "cell_type": "code",
   "execution_count": 13,
   "outputs": [],
   "source": [
    "model = KNeighborsClassifier(n_neighbors=2,weights='uniform') # declare we're using knn classification model\n",
    "model.fit(X_train, y_train) # train model\n",
    "y_pred = model.predict(X_test) # predict test\n",
    "y_pred_train = model.predict(X_train) # predict train (for sanity checks)\n",
    "#model.predict_proba(inputdata)"
   ],
   "metadata": {
    "collapsed": false
   }
  },
  {
   "cell_type": "code",
   "execution_count": 19,
   "outputs": [
    {
     "name": "stdout",
     "output_type": "stream",
     "text": [
      "Cross validation scores:  [0.77777778 0.77333333 0.768      0.75911111 0.76177778]\n",
      "Score stats: 0.77 accuracy with a standard deviation of 0.01\n"
     ]
    }
   ],
   "source": [
    "# cross validate KNeighboursClassifier\n",
    "scores = cross_val_score(model, X_train, y_train, cv=5)\n",
    "print(\"Cross validation scores: \", scores)\n",
    "print(\"Score stats: %0.2f accuracy with a standard deviation of %0.2f\" % (scores.mean(), scores.std()))"
   ],
   "metadata": {
    "collapsed": false
   }
  },
  {
   "cell_type": "markdown",
   "source": [
    "# fit and crossvalidate logistic regression model"
   ],
   "metadata": {
    "collapsed": false
   }
  },
  {
   "cell_type": "code",
   "execution_count": 21,
   "outputs": [
    {
     "data": {
      "text/plain": "  Error_metric     Train      Test\n0     Accuracy  0.794311  0.781805\n1    Precision  0.658266  0.675676\n2       Recall  0.443916  0.439698",
      "text/html": "<div>\n<style scoped>\n    .dataframe tbody tr th:only-of-type {\n        vertical-align: middle;\n    }\n\n    .dataframe tbody tr th {\n        vertical-align: top;\n    }\n\n    .dataframe thead th {\n        text-align: right;\n    }\n</style>\n<table border=\"1\" class=\"dataframe\">\n  <thead>\n    <tr style=\"text-align: right;\">\n      <th></th>\n      <th>Error_metric</th>\n      <th>Train</th>\n      <th>Test</th>\n    </tr>\n  </thead>\n  <tbody>\n    <tr>\n      <th>0</th>\n      <td>Accuracy</td>\n      <td>0.794311</td>\n      <td>0.781805</td>\n    </tr>\n    <tr>\n      <th>1</th>\n      <td>Precision</td>\n      <td>0.658266</td>\n      <td>0.675676</td>\n    </tr>\n    <tr>\n      <th>2</th>\n      <td>Recall</td>\n      <td>0.443916</td>\n      <td>0.439698</td>\n    </tr>\n  </tbody>\n</table>\n</div>"
     },
     "metadata": {},
     "output_type": "display_data"
    }
   ],
   "source": [
    "from sklearn.linear_model import LogisticRegression\n",
    "from sklearn.preprocessing import PowerTransformer\n",
    "from sklearn.metrics import accuracy_score, precision_score, recall_score, confusion_matrix\n",
    "from sklearn.metrics import plot_confusion_matrix\n",
    "\n",
    "log_model = LogisticRegression()\n",
    "\n",
    "# Data splitting\n",
    "X_train, X_test, y_train, y_test = train_test_split(X, y, test_size=0.20, random_state=11)\n",
    "\n",
    "trans = PowerTransformer()\n",
    "\n",
    "trans.fit(X_train)\n",
    "\n",
    "X_train_mod = trans.transform(X_train)\n",
    "X_test_mod  = trans.transform(X_test)\n",
    "\n",
    "log_model.fit(X_train_mod, y_train)\n",
    "\n",
    "y_pred_train_log = log_model.predict(X_train_mod)\n",
    "y_pred_test_log = log_model.predict(X_test_mod)\n",
    "\n",
    "performance_log = pd.DataFrame({'Error_metric': ['Accuracy','Precision','Recall'],\n",
    "                               'Train': [accuracy_score(y_train, y_pred_train_log),\n",
    "                                         precision_score(y_train, y_pred_train_log),\n",
    "                                         recall_score(y_train, y_pred_train_log)],\n",
    "                               'Test': [accuracy_score(y_test, y_pred_test_log),\n",
    "                                        precision_score(y_test, y_pred_test_log),\n",
    "                                        recall_score(y_test, y_pred_test_log)]})\n",
    "\n",
    "display(performance_log)\n"
   ],
   "metadata": {
    "collapsed": false
   }
  },
  {
   "cell_type": "code",
   "execution_count": 22,
   "outputs": [
    {
     "name": "stdout",
     "output_type": "stream",
     "text": [
      "Cross validation scores:  [0.79111111 0.79822222 0.77511111 0.80444444 0.80888889]\n",
      "Score stats: 0.80 accuracy with a standard deviation of 0.01\n"
     ]
    }
   ],
   "source": [
    "# cross validate KNeighboursClassifier\n",
    "scores = cross_val_score(log_model, X_train, y_train, cv=5)\n",
    "print(\"Cross validation scores: \", scores)\n",
    "print(\"Score stats: %0.2f accuracy with a standard deviation of %0.2f\" % (scores.mean(), scores.std()))"
   ],
   "metadata": {
    "collapsed": false
   }
  },
  {
   "cell_type": "markdown",
   "source": [
    "# fit and crossvalidate logistic regression model"
   ],
   "metadata": {
    "collapsed": false
   }
  },
  {
   "cell_type": "code",
   "execution_count": 23,
   "outputs": [
    {
     "data": {
      "text/plain": "  Error_metric     Train      Test\n0     Accuracy  0.811200  0.757640\n1    Precision  0.693472  0.604396\n2       Recall  0.498300  0.414573",
      "text/html": "<div>\n<style scoped>\n    .dataframe tbody tr th:only-of-type {\n        vertical-align: middle;\n    }\n\n    .dataframe tbody tr th {\n        vertical-align: top;\n    }\n\n    .dataframe thead th {\n        text-align: right;\n    }\n</style>\n<table border=\"1\" class=\"dataframe\">\n  <thead>\n    <tr style=\"text-align: right;\">\n      <th></th>\n      <th>Error_metric</th>\n      <th>Train</th>\n      <th>Test</th>\n    </tr>\n  </thead>\n  <tbody>\n    <tr>\n      <th>0</th>\n      <td>Accuracy</td>\n      <td>0.811200</td>\n      <td>0.757640</td>\n    </tr>\n    <tr>\n      <th>1</th>\n      <td>Precision</td>\n      <td>0.693472</td>\n      <td>0.604396</td>\n    </tr>\n    <tr>\n      <th>2</th>\n      <td>Recall</td>\n      <td>0.498300</td>\n      <td>0.414573</td>\n    </tr>\n  </tbody>\n</table>\n</div>"
     },
     "metadata": {},
     "output_type": "display_data"
    }
   ],
   "source": [
    "from sklearn.tree import DecisionTreeRegressor\n",
    "from sklearn.tree import DecisionTreeClassifier\n",
    "from sklearn.metrics import accuracy_score, precision_score, recall_score, confusion_matrix\n",
    "from sklearn.metrics import plot_confusion_matrix\n",
    "\n",
    "X_train, X_test, y_train, y_test = train_test_split(X, y, test_size=0.20, random_state=11)\n",
    "\n",
    "# Bear in mind that sklearn uses a different function for decission trees used for\n",
    "# classification ( to predict a categorical feature ): DecisionTreeClassifier()\n",
    "model = DecisionTreeClassifier(max_depth=6)\n",
    "\n",
    "model.fit(X_train, y_train)\n",
    "\n",
    "y_pred_train_dt = model.predict(X_train)\n",
    "y_pred_test_dt = model.predict(X_test)\n",
    "\n",
    "\n",
    "performance_df = pd.DataFrame({'Error_metric': ['Accuracy','Precision','Recall'],\n",
    "                               'Train': [accuracy_score(y_train, y_pred_train_dt),\n",
    "                                         precision_score(y_train, y_pred_train_dt),\n",
    "                                         recall_score(y_train, y_pred_train_dt)],\n",
    "                               'Test': [accuracy_score(y_test, y_pred_test_dt),\n",
    "                                        precision_score(y_test, y_pred_test_dt),\n",
    "                                        recall_score(y_test, y_pred_test_dt)]})\n",
    "\n",
    "display(performance_df)"
   ],
   "metadata": {
    "collapsed": false
   }
  },
  {
   "cell_type": "code",
   "execution_count": 24,
   "outputs": [
    {
     "name": "stdout",
     "output_type": "stream",
     "text": [
      "Cross validation scores:  [0.79111111 0.79822222 0.77511111 0.80444444 0.80888889]\n",
      "Score stats: 0.80 accuracy with a standard deviation of 0.01\n"
     ]
    }
   ],
   "source": [
    "# cross validate KNeighboursClassifier\n",
    "scores = cross_val_score(log_model, X_train, y_train, cv=5)\n",
    "print(\"Cross validation scores: \", scores)\n",
    "print(\"Score stats: %0.2f accuracy with a standard deviation of %0.2f\" % (scores.mean(), scores.std()))"
   ],
   "metadata": {
    "collapsed": false
   }
  },
  {
   "cell_type": "markdown",
   "source": [
    "# all in one"
   ],
   "metadata": {
    "collapsed": false
   }
  },
  {
   "cell_type": "code",
   "execution_count": 36,
   "outputs": [],
   "source": [
    "model1 = KNeighborsClassifier(n_neighbors=5,weights='uniform')\n",
    "model2 = LogisticRegression()\n",
    "model3 = DecisionTreeClassifier(max_depth=6)\n",
    "\n",
    "model_pipeline = [model1, model2, model3]\n",
    "model_names = ['KNeighbours', 'Logistic Regression', 'Decision Tree']\n",
    "scores = {}\n",
    "i=0\n",
    "for model in model_pipeline:\n",
    "    mean_score = np.mean(cross_val_score(model, X_train, y_train, cv=5))\n",
    "    scores[model_names[i]] = mean_score\n",
    "    i = i+1\n",
    "scores_df = pd.DataFrame([scores], columns=model_names)"
   ],
   "metadata": {
    "collapsed": false
   }
  },
  {
   "cell_type": "code",
   "execution_count": 37,
   "outputs": [
    {
     "data": {
      "text/plain": "   KNeighbours  Logistic Regression  Decision Tree\n0     0.778489             0.795556       0.783467",
      "text/html": "<div>\n<style scoped>\n    .dataframe tbody tr th:only-of-type {\n        vertical-align: middle;\n    }\n\n    .dataframe tbody tr th {\n        vertical-align: top;\n    }\n\n    .dataframe thead th {\n        text-align: right;\n    }\n</style>\n<table border=\"1\" class=\"dataframe\">\n  <thead>\n    <tr style=\"text-align: right;\">\n      <th></th>\n      <th>KNeighbours</th>\n      <th>Logistic Regression</th>\n      <th>Decision Tree</th>\n    </tr>\n  </thead>\n  <tbody>\n    <tr>\n      <th>0</th>\n      <td>0.778489</td>\n      <td>0.795556</td>\n      <td>0.783467</td>\n    </tr>\n  </tbody>\n</table>\n</div>"
     },
     "execution_count": 37,
     "metadata": {},
     "output_type": "execute_result"
    }
   ],
   "source": [
    "scores_df"
   ],
   "metadata": {
    "collapsed": false
   }
  },
  {
   "cell_type": "markdown",
   "source": [
    "# check for imbalances"
   ],
   "metadata": {
    "collapsed": false
   }
  },
  {
   "cell_type": "code",
   "execution_count": 41,
   "outputs": [
    {
     "data": {
      "text/plain": "       gender  SeniorCitizen  Partner  Dependents  tenure  PhoneService  \\\nChurn                                                                     \nNo       5163           5163     5163        5163    5163          5163   \nYes      1869           1869     1869        1869    1869          1869   \n\n       OnlineSecurity  OnlineBackup  DeviceProtection  TechSupport  \\\nChurn                                                                \nNo               5163          5163              5163         5163   \nYes              1869          1869              1869         1869   \n\n       StreamingTV  StreamingMovies  Contract  MonthlyCharges  TotalCharges  \nChurn                                                                        \nNo            5163             5163      5163            5163          5163  \nYes           1869             1869      1869            1869          1869  ",
      "text/html": "<div>\n<style scoped>\n    .dataframe tbody tr th:only-of-type {\n        vertical-align: middle;\n    }\n\n    .dataframe tbody tr th {\n        vertical-align: top;\n    }\n\n    .dataframe thead th {\n        text-align: right;\n    }\n</style>\n<table border=\"1\" class=\"dataframe\">\n  <thead>\n    <tr style=\"text-align: right;\">\n      <th></th>\n      <th>gender</th>\n      <th>SeniorCitizen</th>\n      <th>Partner</th>\n      <th>Dependents</th>\n      <th>tenure</th>\n      <th>PhoneService</th>\n      <th>OnlineSecurity</th>\n      <th>OnlineBackup</th>\n      <th>DeviceProtection</th>\n      <th>TechSupport</th>\n      <th>StreamingTV</th>\n      <th>StreamingMovies</th>\n      <th>Contract</th>\n      <th>MonthlyCharges</th>\n      <th>TotalCharges</th>\n    </tr>\n    <tr>\n      <th>Churn</th>\n      <th></th>\n      <th></th>\n      <th></th>\n      <th></th>\n      <th></th>\n      <th></th>\n      <th></th>\n      <th></th>\n      <th></th>\n      <th></th>\n      <th></th>\n      <th></th>\n      <th></th>\n      <th></th>\n      <th></th>\n    </tr>\n  </thead>\n  <tbody>\n    <tr>\n      <th>No</th>\n      <td>5163</td>\n      <td>5163</td>\n      <td>5163</td>\n      <td>5163</td>\n      <td>5163</td>\n      <td>5163</td>\n      <td>5163</td>\n      <td>5163</td>\n      <td>5163</td>\n      <td>5163</td>\n      <td>5163</td>\n      <td>5163</td>\n      <td>5163</td>\n      <td>5163</td>\n      <td>5163</td>\n    </tr>\n    <tr>\n      <th>Yes</th>\n      <td>1869</td>\n      <td>1869</td>\n      <td>1869</td>\n      <td>1869</td>\n      <td>1869</td>\n      <td>1869</td>\n      <td>1869</td>\n      <td>1869</td>\n      <td>1869</td>\n      <td>1869</td>\n      <td>1869</td>\n      <td>1869</td>\n      <td>1869</td>\n      <td>1869</td>\n      <td>1869</td>\n    </tr>\n  </tbody>\n</table>\n</div>"
     },
     "execution_count": 41,
     "metadata": {},
     "output_type": "execute_result"
    }
   ],
   "source": [
    "df.groupby(\"Churn\").count()"
   ],
   "metadata": {
    "collapsed": false
   }
  },
  {
   "cell_type": "code",
   "execution_count": 49,
   "outputs": [],
   "source": [
    "# create and clean new dataset\n",
    "def load_clean_df():\n",
    "    df = pd.read_csv(\"DATA_Customer-Churn.csv\")\n",
    "    df[\"TotalCharges\"] = pd.to_numeric(df[\"TotalCharges\"].apply(lambda x: x.strip()))\n",
    "    df = df.dropna()\n",
    "    df['TotalCharges'].fillna(df['TotalCharges'].mean(), inplace=True)\n",
    "    cols_to_keep = [\"tenure\", \"SeniorCitizen\", \"MonthlyCharges\", \"TotalCharges\", \"Churn\"]\n",
    "    df2 = df[cols_to_keep]\n",
    "    return df2"
   ],
   "metadata": {
    "collapsed": false
   }
  },
  {
   "cell_type": "code",
   "execution_count": 61,
   "outputs": [
    {
     "data": {
      "text/plain": "Yes    4154\nNo     4154\nName: Churn, dtype: int64"
     },
     "execution_count": 61,
     "metadata": {},
     "output_type": "execute_result"
    }
   ],
   "source": [
    "# use SMOTE to upsample the Churn == Yes datapoints in order to balance the dataset\n",
    "from imblearn.over_sampling import SMOTE\n",
    "\n",
    "smote = SMOTE()\n",
    "# refresh the data and do X,y split\n",
    "data = load_clean_df()\n",
    "y = data['Churn']\n",
    "X = data.drop(['Churn'], axis=1)\n",
    "\n",
    "# now do the test-train split\n",
    "X_train, X_test, y_train, y_test = split_the_shit(X, y)\n",
    "\n",
    "# now do the upsampling\n",
    "X_sm, y_sm = smote.fit_resample(X_train, y_train)\n",
    "y_sm.value_counts()"
   ],
   "metadata": {
    "collapsed": false
   }
  },
  {
   "cell_type": "code",
   "execution_count": 62,
   "outputs": [],
   "source": [
    "model1 = KNeighborsClassifier(n_neighbors=2,weights='uniform')\n",
    "model2 = LogisticRegression()\n",
    "model3 = DecisionTreeClassifier(max_depth=6)\n",
    "\n",
    "model_pipeline = [model1, model2, model3]\n",
    "model_names = ['KNeighbours', 'Logistic Regression', 'Decision Tree']\n",
    "scores = {}\n",
    "\n",
    "i=0\n",
    "for model in model_pipeline:\n",
    "    mean_score = np.mean(cross_val_score(model, X_train, y_train, cv=5))\n",
    "    scores[model_names[i]] = mean_score\n",
    "    i = i+1\n",
    "scores_df = pd.DataFrame([scores], columns=model_names)"
   ],
   "metadata": {
    "collapsed": false
   }
  },
  {
   "cell_type": "code",
   "execution_count": 63,
   "outputs": [
    {
     "data": {
      "text/plain": "   KNeighbours  Logistic Regression  Decision Tree\n0        0.768             0.795556       0.782933",
      "text/html": "<div>\n<style scoped>\n    .dataframe tbody tr th:only-of-type {\n        vertical-align: middle;\n    }\n\n    .dataframe tbody tr th {\n        vertical-align: top;\n    }\n\n    .dataframe thead th {\n        text-align: right;\n    }\n</style>\n<table border=\"1\" class=\"dataframe\">\n  <thead>\n    <tr style=\"text-align: right;\">\n      <th></th>\n      <th>KNeighbours</th>\n      <th>Logistic Regression</th>\n      <th>Decision Tree</th>\n    </tr>\n  </thead>\n  <tbody>\n    <tr>\n      <th>0</th>\n      <td>0.768</td>\n      <td>0.795556</td>\n      <td>0.782933</td>\n    </tr>\n  </tbody>\n</table>\n</div>"
     },
     "execution_count": 63,
     "metadata": {},
     "output_type": "execute_result"
    }
   ],
   "source": [
    "scores_df"
   ],
   "metadata": {
    "collapsed": false
   }
  },
  {
   "cell_type": "markdown",
   "source": [
    "## downscaling not working..."
   ],
   "metadata": {
    "collapsed": false
   }
  },
  {
   "cell_type": "code",
   "execution_count": 65,
   "outputs": [
    {
     "data": {
      "text/plain": "No     4610\nYes    1869\nName: Churn, dtype: int64"
     },
     "execution_count": 65,
     "metadata": {},
     "output_type": "execute_result"
    }
   ],
   "source": [
    "from imblearn.under_sampling import TomekLinks\n",
    "\n",
    "tl = TomekLinks() # resample only the majority class\n",
    "X_tl, y_tl = tl.fit_resample(X,y) # returns resampled data\n",
    "y_tl.value_counts() # check the distribution of resampled labels"
   ],
   "metadata": {
    "collapsed": false
   }
  },
  {
   "cell_type": "code",
   "execution_count": null,
   "outputs": [],
   "source": [],
   "metadata": {
    "collapsed": false
   }
  }
 ],
 "metadata": {
  "kernelspec": {
   "display_name": "Python 3",
   "language": "python",
   "name": "python3"
  },
  "language_info": {
   "codemirror_mode": {
    "name": "ipython",
    "version": 2
   },
   "file_extension": ".py",
   "mimetype": "text/x-python",
   "name": "python",
   "nbconvert_exporter": "python",
   "pygments_lexer": "ipython2",
   "version": "2.7.6"
  }
 },
 "nbformat": 4,
 "nbformat_minor": 0
}
