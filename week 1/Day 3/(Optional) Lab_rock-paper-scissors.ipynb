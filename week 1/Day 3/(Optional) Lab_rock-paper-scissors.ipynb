{
 "cells": [
  {
   "cell_type": "markdown",
   "metadata": {},
   "source": [
    "<img src=\"https://bit.ly/2VnXWr2\" width=\"100\" align=\"left\">"
   ]
  },
  {
   "cell_type": "markdown",
   "metadata": {},
   "source": [
    "# Rock, Paper & Scissors\n",
    "\n",
    "Let's play the famous game against our computer. You can check the rules [here](https://en.wikipedia.org/wiki/Rock%E2%80%93paper%E2%80%93scissors). \n",
    "\n",
    "## Task\n",
    "Create a program that imitates the playability of the well known game of rock, paper, scissors. Follow the guidelines provided.\n",
    "\n",
    "## Tools\n",
    "1. Loop: **for/while**\n",
    "2. Functions: **input(), print()...**\n",
    "3. Conditional statements: **if, elif, else**\n",
    "4. Definition of functions. Modular programming\n",
    "5. Import modules\n",
    "\n",
    "- **To solve this challenge, the use of functions is recommended.**\n",
    "- <b>Hint: You dont need necessarily to follow the instructions in this notebook to solve the tasks. simply just get the job done effeciently ;) \n",
    "\n",
    "#### 1. Import the choice function of the random module."
   ]
  },
  {
   "cell_type": "code",
   "execution_count": null,
   "metadata": {},
   "outputs": [],
   "source": [
    "import random"
   ]
  },
  {
   "cell_type": "markdown",
   "metadata": {},
   "source": [
    "#### 2. Create a list that includes the 3 possible gesture options of the game: 'rock', 'paper' or 'scissors'. Store the list in a variable called `gestures`."
   ]
  },
  {
   "cell_type": "code",
   "execution_count": 2,
   "metadata": {},
   "outputs": [],
   "source": [
    "gestures = ['rock', 'paper', 'scissors']"
   ]
  },
  {
   "cell_type": "markdown",
   "metadata": {},
   "source": [
    "#### 3. Create a variable called `n_rounds` to store the maximum number of rounds to play in a game. \n",
    "Remember that the number of rounds must be odd: 1, 3, 5, ..."
   ]
  },
  {
   "cell_type": "code",
   "execution_count": 19,
   "metadata": {},
   "outputs": [],
   "source": [
    "n_rounds = 1"
   ]
  },
  {
   "cell_type": "markdown",
   "metadata": {},
   "source": [
    "#### 4. Create a variable called `rounds_to_win` to store the number of rounds that a player must win to win the game.\n",
    "**Hint**: the value stored in `rounds_to_win` depends on the value of `n_rounds`. "
   ]
  },
  {
   "cell_type": "code",
   "execution_count": 23,
   "metadata": {},
   "outputs": [
    {
     "data": {
      "text/plain": [
       "0"
      ]
     },
     "execution_count": 23,
     "metadata": {},
     "output_type": "execute_result"
    }
   ],
   "source": [
    "rounds_to_win = n_rounds - 1\n",
    "rounds_to_win"
   ]
  },
  {
   "cell_type": "markdown",
   "metadata": {},
   "source": [
    "#### 5. Create two variables to store the number of rounds that the computer and the player have won. Call these variables `cpu_score` and `player_score`."
   ]
  },
  {
   "cell_type": "code",
   "execution_count": 5,
   "metadata": {},
   "outputs": [],
   "source": [
    "cpu_score = 0\n",
    "player_score = 0"
   ]
  },
  {
   "cell_type": "markdown",
   "metadata": {},
   "source": [
    "#### 6. Define a function that randomly returns one of the 3 gesture options.\n",
    "You will use this function to simulate the gesture choice of the computer. "
   ]
  },
  {
   "cell_type": "code",
   "execution_count": 117,
   "metadata": {
    "scrolled": true
   },
   "outputs": [
    {
     "ename": "SyntaxError",
     "evalue": "invalid syntax (3971974756.py, line 15)",
     "output_type": "error",
     "traceback": [
      "\u001b[1;36m  File \u001b[1;32m\"C:\\Users\\Phylanx\\AppData\\Local\\Temp\\ipykernel_18232\\3971974756.py\"\u001b[1;36m, line \u001b[1;32m15\u001b[0m\n\u001b[1;33m    choice_user = if choice_user in item: done = True else done = False while not done input(\"Please input your choice of rock, paper or scissors by entering the correspondin string.\")\u001b[0m\n\u001b[1;37m                  ^\u001b[0m\n\u001b[1;31mSyntaxError\u001b[0m\u001b[1;31m:\u001b[0m invalid syntax\n"
     ]
    }
   ],
   "source": [
    "import random\n",
    "\n",
    "gestures = ['rock', 'paper', 'scissors']\n",
    "\n",
    "def compare(item):\n",
    "    done = False\n",
    "    while not done:\n",
    "        choice_user = input(\"Please input your choice of rock, paper or scissors by entering the correspondin string.\")\n",
    "        if choice_user in item:\n",
    "            print(\"Incorrect input.\")\n",
    "            done = True\n",
    "        else:\n",
    "            done = False\n",
    "            \n",
    "    choice_cpu = random.choice(item)\n",
    "\n",
    "    if choice_cpu == choice_user:\n",
    "        #print(\"It's a TIE!\")\n",
    "        return \"TIE\"\n",
    "    elif choice_cpu == \"rock\" and choice_user == \"scissors\":\n",
    "        #print(\"Computer wins!\")\n",
    "        return \"CPU\"\n",
    "    elif choice_cpu == \"paper\" and choice_user == \"rock\":\n",
    "        #print(\"Computer wins!\")\n",
    "        return \"CPU\"\n",
    "    elif choice_cpu == \"scissors\" and choice_user == \"paper\":\n",
    "        #print(\"Computer wins!\")\n",
    "        return \"CPU\"\n",
    "    else:\n",
    "        #print(\"User wins!\")\n",
    "        return \"USER\"\n",
    "        \n",
    "compare(gestures)\n"
   ]
  },
  {
   "cell_type": "code",
   "execution_count": 4,
   "metadata": {},
   "outputs": [
    {
     "ename": "UnboundLocalError",
     "evalue": "local variable 'total_rounds_to_play' referenced before assignment",
     "output_type": "error",
     "traceback": [
      "\u001b[1;31m---------------------------------------------------------------------------\u001b[0m",
      "\u001b[1;31mUnboundLocalError\u001b[0m                         Traceback (most recent call last)",
      "\u001b[1;32m~\\AppData\\Local\\Temp\\ipykernel_7648\\441046784.py\u001b[0m in \u001b[0;36m<module>\u001b[1;34m\u001b[0m\n\u001b[0;32m     70\u001b[0m \u001b[1;31m#print(cpu_score, player_score)\u001b[0m\u001b[1;33m\u001b[0m\u001b[1;33m\u001b[0m\u001b[0m\n\u001b[0;32m     71\u001b[0m \u001b[1;33m\u001b[0m\u001b[0m\n\u001b[1;32m---> 72\u001b[1;33m \u001b[0mrps_game\u001b[0m\u001b[1;33m(\u001b[0m\u001b[1;33m)\u001b[0m\u001b[1;33m\u001b[0m\u001b[1;33m\u001b[0m\u001b[0m\n\u001b[0m\u001b[0;32m     73\u001b[0m \u001b[1;31m#n_rounds, cpu_score, player_score)\u001b[0m\u001b[1;33m\u001b[0m\u001b[1;33m\u001b[0m\u001b[0m\n",
      "\u001b[1;32m~\\AppData\\Local\\Temp\\ipykernel_7648\\441046784.py\u001b[0m in \u001b[0;36mrps_game\u001b[1;34m()\u001b[0m\n\u001b[0;32m     40\u001b[0m     \u001b[0mtie_score\u001b[0m \u001b[1;33m=\u001b[0m \u001b[1;36m0\u001b[0m\u001b[1;33m\u001b[0m\u001b[1;33m\u001b[0m\u001b[0m\n\u001b[0;32m     41\u001b[0m \u001b[1;33m\u001b[0m\u001b[0m\n\u001b[1;32m---> 42\u001b[1;33m     \u001b[0mtotal_rounds\u001b[0m \u001b[1;33m=\u001b[0m \u001b[0mtotal_rounds_to_play\u001b[0m\u001b[1;33m\u001b[0m\u001b[1;33m\u001b[0m\u001b[0m\n\u001b[0m\u001b[0;32m     43\u001b[0m     \u001b[0mprint\u001b[0m\u001b[1;33m(\u001b[0m\u001b[1;34m\"Total rounds to play:\"\u001b[0m\u001b[1;33m,\u001b[0m \u001b[0mtotal_rounds_to_play\u001b[0m\u001b[1;33m)\u001b[0m\u001b[1;33m\u001b[0m\u001b[1;33m\u001b[0m\u001b[0m\n\u001b[0;32m     44\u001b[0m \u001b[1;33m\u001b[0m\u001b[0m\n",
      "\u001b[1;31mUnboundLocalError\u001b[0m: local variable 'total_rounds_to_play' referenced before assignment"
     ]
    }
   ],
   "source": [
    "n_rounds = 1\n",
    "\n",
    "gestures = ['rock', 'paper', 'scissors']\n",
    "\n",
    "import random\n",
    "\n",
    "def compare(gestures):\n",
    "    done = False\n",
    "    while not done:\n",
    "        choice_user = input(\"Please input your choice of rock, paper or scissors by entering the correspondin string.\")\n",
    "        if choice_user in gestures:            \n",
    "            done = True\n",
    "        else:\n",
    "            print(\"Incorrect input.\")\n",
    "            done = False\n",
    "            \n",
    "    choice_cpu = random.choice(gestures)\n",
    "\n",
    "    if choice_cpu == choice_user:\n",
    "        #print(\"It's a TIE!\")\n",
    "        return \"TIE - repeat\"\n",
    "    elif choice_cpu == \"rock\" and choice_user == \"scissors\":\n",
    "        #print(\"Computer wins!\")\n",
    "        return \"CPU\"\n",
    "    elif choice_cpu == \"paper\" and choice_user == \"rock\":\n",
    "        #print(\"Computer wins!\")\n",
    "        return \"CPU\"\n",
    "    elif choice_cpu == \"scissors\" and choice_user == \"paper\":\n",
    "        #print(\"Computer wins!\")\n",
    "        return \"CPU\"\n",
    "    else:\n",
    "        #print(\"User wins!\")\n",
    "        return \"USER\"\n",
    "\n",
    "\n",
    "def rps_game(total_rounds_to_play, cpu_score, player_score):\n",
    "    cpu_score = 0\n",
    "    player_score = 0\n",
    "    tie_score = 0\n",
    "\n",
    "    total_rounds = total_rounds_to_play\n",
    "    print(\"Total rounds to play:\", total_rounds_to_play)\n",
    "\n",
    "    while total_rounds_to_play > 0:\n",
    "        round_winner = compare(gestures)\n",
    "        #print(round_winner)\n",
    "        if round_winner == \"USER\":\n",
    "            player_score += 1\n",
    "            total_rounds_to_play -= 1\n",
    "            print(\"player score: \", player_score)\n",
    "        elif round_winner == \"CPU\":\n",
    "            cpu_score += 1\n",
    "            total_rounds_to_play -= 1\n",
    "            print(\"cpu score: \", player_score)\n",
    "        else:\n",
    "            tie_score += 1\n",
    "        print(\"Rounds to play: \", total_rounds - round(cpu_score + player_score))\n",
    "            \n",
    "    if player_score > cpu_score:\n",
    "        winner = \"USER\"\n",
    "    elif player_score < cpu_score:\n",
    "        winner = \"CPU\"\n",
    "    else:\n",
    "        print(\"something went wrong!\")\n",
    "    print(f\"{winner} wins the battle!\")\n",
    "    return winner\n",
    "    \n",
    "\n",
    "#print(cpu_score, player_score)\n",
    "        \n",
    "rps_game(n_rounds, cpu_score, player_score)"
   ]
  },
  {
   "cell_type": "code",
   "execution_count": 18,
   "metadata": {
    "scrolled": true
   },
   "outputs": [
    {
     "name": "stdout",
     "output_type": "stream",
     "text": [
      "How many rounds do you want to play? Enter a positive odd number.2\n",
      "How many rounds do you want to play? Enter a positive odd number.3\n",
      "Please input your choice of rock, paper or scissors by entering the correspondin string.rock\n",
      "round winner:  USER\n",
      "user score:  1 \n",
      " cpu score:  0\n",
      "Rounds to play:  2\n",
      "Please input your choice of rock, paper or scissors by entering the correspondin string.rock\n",
      "round winner:  CPU\n",
      "user score:  1 \n",
      " cpu score:  1\n",
      "Rounds to play:  1\n",
      "Please input your choice of rock, paper or scissors by entering the correspondin string.rock\n",
      "round winner:  CPU\n",
      "user score:  1 \n",
      " cpu score:  2\n",
      "Rounds to play:  0\n",
      "CPU wins the battle!\n"
     ]
    },
    {
     "data": {
      "text/plain": [
       "'CPU'"
      ]
     },
     "execution_count": 18,
     "metadata": {},
     "output_type": "execute_result"
    }
   ],
   "source": [
    "## n_rounds = 1\n",
    "\n",
    "gestures = ['rock', 'paper', 'scissors']\n",
    "\n",
    "import random\n",
    "\n",
    "def compare(gestures):\n",
    "    done = False\n",
    "    while not done:\n",
    "        choice_user = input(\"Please input your choice of rock, paper or scissors by entering the correspondin string.\")\n",
    "        if choice_user in gestures:            \n",
    "            done = True\n",
    "        else:\n",
    "            print(\"Incorrect input.\")\n",
    "            done = False\n",
    "            \n",
    "    choice_cpu = random.choice(gestures)\n",
    "\n",
    "    if choice_cpu == choice_user:\n",
    "        #print(\"It's a TIE!\")\n",
    "        return \"TIE - repeat\"\n",
    "    elif choice_cpu == \"rock\" and choice_user == \"scissors\":\n",
    "        #print(\"Computer wins!\")\n",
    "        return \"CPU\"\n",
    "    elif choice_cpu == \"paper\" and choice_user == \"rock\":\n",
    "        #print(\"Computer wins!\")\n",
    "        return \"CPU\"\n",
    "    elif choice_cpu == \"scissors\" and choice_user == \"paper\":\n",
    "        #print(\"Computer wins!\")\n",
    "        return \"CPU\"\n",
    "    else:\n",
    "        #print(\"User wins!\")\n",
    "        return \"USER\"\n",
    "\n",
    "\n",
    "def rps_game():\n",
    "    cpu_score = 0\n",
    "    player_score = 0\n",
    "    tie_score = 0\n",
    "\n",
    "    done = False\n",
    "    while not done:\n",
    "        try:\n",
    "            total_rounds = int(input(\"How many rounds do you want to play? Enter a positive odd number.\"))\n",
    "            if total_rounds%2 != 0:\n",
    "                done = True\n",
    "            else:\n",
    "                done = False\n",
    "        except:\n",
    "            print(\"Incorrect input.\")\n",
    "            done = False    \n",
    "            \n",
    "    rounds_left = total_rounds\n",
    "    while rounds_left > 0:\n",
    "        round_winner = compare(gestures)\n",
    "        #print(round_winner)\n",
    "        if round_winner == \"USER\":\n",
    "            player_score += 1\n",
    "            rounds_left -= 1\n",
    "            print(\"round winner: \", round_winner)\n",
    "            print(\"user score: \", player_score, \"\\n cpu score: \", cpu_score)\n",
    "        elif round_winner == \"CPU\":\n",
    "            cpu_score += 1\n",
    "            rounds_left -= 1\n",
    "            print(\"round winner: \", round_winner)\n",
    "            print(\"user score: \", player_score, \"\\n cpu score: \", cpu_score)\n",
    "        else:\n",
    "            tie_score += 1\n",
    "        print(\"Rounds to play: \", total_rounds - (cpu_score + player_score))\n",
    "            \n",
    "    if rounds_left == 0 and player_score > cpu_score:\n",
    "        winner = \"USER\"\n",
    "    elif rounds_left == 0 and player_score < cpu_score:\n",
    "        winner = \"CPU\"\n",
    "    else:\n",
    "        winner = \"ERROR\"\n",
    "        print(\"something went wrong!\")\n",
    "    print(f\"{winner} wins the battle!\")\n",
    "    return winner\n",
    "    \n",
    "\n",
    "#print(cpu_score, player_score)\n",
    "        \n",
    "rps_game()"
   ]
  },
  {
   "cell_type": "markdown",
   "metadata": {},
   "source": [
    "#### 7. Define a function that asks the player which is the gesture he or she wants to show: 'rock', 'paper' or 'scissors'.\n",
    "The player should only be allowed to choose one of the 3 gesture options. If the player's choice is not rock, paper or scissors, keep asking until it is."
   ]
  },
  {
   "cell_type": "code",
   "execution_count": null,
   "metadata": {},
   "outputs": [],
   "source": []
  },
  {
   "cell_type": "markdown",
   "metadata": {},
   "source": [
    "#### 8. Define a function that checks who won a round. \n",
    "The function should return 0 if there is a tie, 1 if the computer wins and 2 if the player wins."
   ]
  },
  {
   "cell_type": "code",
   "execution_count": null,
   "metadata": {},
   "outputs": [],
   "source": []
  },
  {
   "cell_type": "markdown",
   "metadata": {},
   "source": [
    "#### 9. Define a function that prints the choice of the computer, the choice of the player and a message that announces who won the current round. \n",
    "You should also use this function to update the variables that count the number of rounds that the computer and the player have won. The score of the winner increases by one point. If there is a tie, the score does not increase."
   ]
  },
  {
   "cell_type": "code",
   "execution_count": null,
   "metadata": {},
   "outputs": [],
   "source": []
  },
  {
   "cell_type": "markdown",
   "metadata": {},
   "source": [
    "#### 10. Now it's time to code the execution of the game using the functions and variables you defined above. \n",
    "\n",
    "First, create a loop structure that repeats while no player reaches the minimum score necessary to win and the number of rounds is less than the maximum number of rounds to play in a game.  \n",
    "\n",
    "Inside the loop, use the functions and variables above to create the execution of a round: ask for the player's choice, generate the random choice of the computer, show the round results, update the scores, etc. "
   ]
  },
  {
   "cell_type": "code",
   "execution_count": null,
   "metadata": {},
   "outputs": [],
   "source": []
  },
  {
   "cell_type": "markdown",
   "metadata": {},
   "source": [
    "#### 11. Print the winner of the game based on who won more rounds.\n",
    "Remember that the game might be tied. "
   ]
  },
  {
   "cell_type": "code",
   "execution_count": null,
   "metadata": {},
   "outputs": [],
   "source": []
  },
  {
   "cell_type": "markdown",
   "metadata": {},
   "source": [
    "# (Optional) Rock, Paper, Scissors, Lizard & Spock\n",
    "![](images/rpsls.jpg)\n",
    "\n",
    "In this challenge, you need to improve the previous game by adding two new options. To know more about the rules of the improved version of rock, paper, scissors, check this [link](http://www.samkass.com/theories/RPSSL.html). \n",
    "\n",
    "In addition, you will also need to improve how the game interacts with the player: the number of rounds to play, which must be an odd number, will be requested to the user until a valid number is entered. Define a new function to make that request.\n",
    "\n",
    "**Hint**: Try to reuse the code that you already coded in the previous challenge. If your code is efficient, this bonus will only consist of simple modifications to the original game."
   ]
  },
  {
   "cell_type": "code",
   "execution_count": null,
   "metadata": {},
   "outputs": [],
   "source": []
  }
 ],
 "metadata": {
  "kernelspec": {
   "display_name": "Python 3 (ipykernel)",
   "language": "python",
   "name": "python3"
  },
  "language_info": {
   "codemirror_mode": {
    "name": "ipython",
    "version": 3
   },
   "file_extension": ".py",
   "mimetype": "text/x-python",
   "name": "python",
   "nbconvert_exporter": "python",
   "pygments_lexer": "ipython3",
   "version": "3.9.13"
  },
  "toc": {
   "base_numbering": 1,
   "nav_menu": {},
   "number_sections": true,
   "sideBar": true,
   "skip_h1_title": false,
   "title_cell": "Table of Contents",
   "title_sidebar": "Contents",
   "toc_cell": false,
   "toc_position": {},
   "toc_section_display": true,
   "toc_window_display": false
  }
 },
 "nbformat": 4,
 "nbformat_minor": 2
}
