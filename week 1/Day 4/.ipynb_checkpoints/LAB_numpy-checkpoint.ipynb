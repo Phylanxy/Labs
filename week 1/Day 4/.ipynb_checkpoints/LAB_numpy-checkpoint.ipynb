{
 "cells": [
  {
   "cell_type": "markdown",
   "id": "ed28268b",
   "metadata": {},
   "source": [
    "1. Import the numpy package under the name np (★☆☆)"
   ]
  },
  {
   "cell_type": "code",
   "execution_count": 1,
   "id": "075018c9",
   "metadata": {},
   "outputs": [],
   "source": [
    "import numpy as np"
   ]
  },
  {
   "cell_type": "markdown",
   "id": "c38a40c5",
   "metadata": {},
   "source": [
    "2. Create a null vector of size 10 (★☆☆)"
   ]
  },
  {
   "cell_type": "code",
   "execution_count": 4,
   "id": "b3ab466c",
   "metadata": {},
   "outputs": [
    {
     "data": {
      "text/plain": [
       "array([0., 0., 0., 0., 0., 0., 0., 0., 0., 0.])"
      ]
     },
     "execution_count": 4,
     "metadata": {},
     "output_type": "execute_result"
    }
   ],
   "source": [
    "np.zeros(10)"
   ]
  },
  {
   "cell_type": "markdown",
   "id": "2ae5b4f0",
   "metadata": {},
   "source": [
    "3. Create a null vector of size 10 but the fifth value which is 1 (★☆☆)"
   ]
  },
  {
   "cell_type": "code",
   "execution_count": 12,
   "id": "f9e41f47",
   "metadata": {},
   "outputs": [
    {
     "name": "stdout",
     "output_type": "stream",
     "text": [
      "[0. 0. 0. 0. 1. 0. 0. 0. 0. 0.]\n"
     ]
    }
   ],
   "source": [
    "a = np.zeros(10)\n",
    "a[4] = 1\n",
    "print(a)"
   ]
  },
  {
   "cell_type": "markdown",
   "id": "418c2f43",
   "metadata": {},
   "source": [
    "4. Create a vector with values ranging from 10 to 49 (★☆☆)"
   ]
  },
  {
   "cell_type": "code",
   "execution_count": 15,
   "id": "3a60243e",
   "metadata": {},
   "outputs": [],
   "source": [
    "b = np.arange(10,50)"
   ]
  },
  {
   "cell_type": "markdown",
   "id": "8d6e86ca",
   "metadata": {},
   "source": [
    "5. Create a 3x3 matrix with values ranging from 0 to 8 (★☆☆)"
   ]
  },
  {
   "cell_type": "code",
   "execution_count": 21,
   "id": "b9a059de",
   "metadata": {},
   "outputs": [],
   "source": [
    "c = np.random.randint(0,9, (3,3))"
   ]
  },
  {
   "cell_type": "markdown",
   "id": "8d38c298",
   "metadata": {},
   "source": [
    "6. Find indices of non-zero elements from [1,2,0,0,4,0] (★☆☆)"
   ]
  },
  {
   "cell_type": "code",
   "execution_count": 54,
   "id": "f699212e",
   "metadata": {},
   "outputs": [
    {
     "name": "stdout",
     "output_type": "stream",
     "text": [
      "[array([ True,  True, False, False,  True, False])]\n"
     ]
    },
    {
     "data": {
      "text/plain": [
       "(array([0, 1, 4], dtype=int64),)"
      ]
     },
     "execution_count": 54,
     "metadata": {},
     "output_type": "execute_result"
    }
   ],
   "source": [
    "a = np.array([1,2,0,0,4,0])\n",
    "np.nonzero(a)"
   ]
  },
  {
   "cell_type": "markdown",
   "id": "9466e6bb",
   "metadata": {},
   "source": [
    "7. Create a 3x3 identity matrix (★☆☆)"
   ]
  },
  {
   "cell_type": "code",
   "execution_count": 55,
   "id": "0d02f0fd",
   "metadata": {},
   "outputs": [
    {
     "data": {
      "text/plain": [
       "array([[1., 0., 0.],\n",
       "       [0., 1., 0.],\n",
       "       [0., 0., 1.]])"
      ]
     },
     "execution_count": 55,
     "metadata": {},
     "output_type": "execute_result"
    }
   ],
   "source": [
    "np.eye(3)"
   ]
  },
  {
   "cell_type": "markdown",
   "id": "6df58c54",
   "metadata": {},
   "source": [
    "8. Create a 3x3x3 array with random values (★☆☆)"
   ]
  },
  {
   "cell_type": "code",
   "execution_count": 28,
   "id": "b40ab6ed",
   "metadata": {},
   "outputs": [
    {
     "data": {
      "text/plain": [
       "array([[[0.8171935 , 0.01391025, 0.03182773],\n",
       "        [0.40407672, 0.63532782, 0.57002463],\n",
       "        [0.99198007, 0.5937986 , 0.34289242]],\n",
       "\n",
       "       [[0.80927896, 0.94963209, 0.29983777],\n",
       "        [0.82295314, 0.14435986, 0.38933346],\n",
       "        [0.83073301, 0.99172826, 0.0833269 ]],\n",
       "\n",
       "       [[0.77083177, 0.91078808, 0.21435887],\n",
       "        [0.19566981, 0.25181905, 0.05636968],\n",
       "        [0.97323274, 0.5925954 , 0.09905526]]])"
      ]
     },
     "execution_count": 28,
     "metadata": {},
     "output_type": "execute_result"
    }
   ],
   "source": [
    "np.random.random((3,3,3))"
   ]
  },
  {
   "cell_type": "markdown",
   "id": "c6d80896",
   "metadata": {},
   "source": [
    "9. Create a 10x10 array with random values and find the minimum and maximum values (★☆☆)"
   ]
  },
  {
   "cell_type": "code",
   "execution_count": 31,
   "id": "04be313d",
   "metadata": {},
   "outputs": [
    {
     "name": "stdout",
     "output_type": "stream",
     "text": [
      "0.999573109965585\n",
      "0.011420555025561274\n"
     ]
    }
   ],
   "source": [
    "a = np.random.random((10,10))\n",
    "print(np.max(a))\n",
    "print(np.min(a))"
   ]
  },
  {
   "cell_type": "markdown",
   "id": "e6b366a8",
   "metadata": {},
   "source": [
    "10. Create a random vector of size 30 and find the mean value (★☆☆)"
   ]
  },
  {
   "cell_type": "code",
   "execution_count": 35,
   "id": "cf06e18a",
   "metadata": {},
   "outputs": [
    {
     "data": {
      "text/plain": [
       "0.5734646277972825"
      ]
     },
     "execution_count": 35,
     "metadata": {},
     "output_type": "execute_result"
    }
   ],
   "source": [
    "a = np.random.random(30)\n",
    "a.mean()"
   ]
  },
  {
   "cell_type": "markdown",
   "id": "fdd8f6a1",
   "metadata": {},
   "source": [
    "11. Create a 5x5 matrix with values 1,2,3,4 just below the diagonal (★☆☆)"
   ]
  },
  {
   "cell_type": "code",
   "execution_count": 66,
   "id": "38cefb38",
   "metadata": {},
   "outputs": [
    {
     "name": "stdout",
     "output_type": "stream",
     "text": [
      "[[0 0 0 0 0]\n",
      " [1 0 0 0 0]\n",
      " [0 2 0 0 0]\n",
      " [0 0 3 0 0]\n",
      " [0 0 0 4 0]]\n"
     ]
    },
    {
     "data": {
      "text/plain": [
       "array([[0, 0, 0, 0, 0],\n",
       "       [1, 0, 0, 0, 0],\n",
       "       [0, 2, 0, 0, 0],\n",
       "       [0, 0, 3, 0, 0],\n",
       "       [0, 0, 0, 4, 0]])"
      ]
     },
     "execution_count": 66,
     "metadata": {},
     "output_type": "execute_result"
    }
   ],
   "source": [
    "a = np.random.randint(0,1,(5,5))\n",
    "lst = [1,2,3,4]\n",
    "rows = 1\n",
    "cols = 0\n",
    "for i in lst:\n",
    "    a[rows,cols] = i\n",
    "    rows += 1\n",
    "    cols += 1\n",
    "print(a)\n",
    "np.diag(lst,-1)"
   ]
  },
  {
   "cell_type": "markdown",
   "id": "2cb30076",
   "metadata": {},
   "source": [
    "12. Normalize a 5x5 random matrix (★☆☆)"
   ]
  },
  {
   "cell_type": "code",
   "execution_count": 82,
   "id": "adfac61b",
   "metadata": {},
   "outputs": [
    {
     "name": "stdout",
     "output_type": "stream",
     "text": [
      "[[0.96741906 0.09879718 0.91562597 0.55554032 0.2210385 ]\n",
      " [0.36443274 0.82661002 0.60670872 0.73689297 0.98733455]\n",
      " [0.01889782 0.97243189 0.23122699 0.43313237 0.84680191]\n",
      " [0.08527045 0.37437827 0.41698229 0.52389641 0.55312849]\n",
      " [0.80510794 0.50547856 0.14721953 0.36768208 0.60908342]] \n",
      "\n",
      "[[ 1.50521483 -1.46241735  1.3282646   0.09803799 -1.04478193]\n",
      " [-0.55487788  1.02414311  0.27285395  0.71762629  1.57325578]\n",
      " [-1.73539218  1.52234109 -1.00997313 -0.32016675  1.09312837]\n",
      " [-1.50863121 -0.52089916 -0.37534322 -0.01007292  0.089798  ]\n",
      " [ 0.95068159 -0.0729972  -1.29698319 -0.54377657  0.28096708]]\n"
     ]
    }
   ],
   "source": [
    "a = np.random.random((5,5))\n",
    "print(a,\"\\n\")\n",
    "\n",
    "normalized = (a - np.mean(a)) / np.std(a) \n",
    "print(normalized)"
   ]
  },
  {
   "cell_type": "markdown",
   "id": "ef63cfb8",
   "metadata": {},
   "source": [
    "13. How to find common values between two arrays? (★☆☆)"
   ]
  },
  {
   "cell_type": "code",
   "execution_count": 89,
   "id": "cb734cd0",
   "metadata": {},
   "outputs": [
    {
     "name": "stdout",
     "output_type": "stream",
     "text": [
      "[0.22199317 0.87073231 0.20671916 0.91861091 0.48841119] [0.61174386 0.76590786 0.51841799 0.2968005  0.18772123]\n"
     ]
    },
    {
     "data": {
      "text/plain": [
       "array([], dtype=float64)"
      ]
     },
     "execution_count": 89,
     "metadata": {},
     "output_type": "execute_result"
    }
   ],
   "source": [
    "a = np.random.random(5)\n",
    "b = np.random.random(5)\n",
    "print(a,b)\n",
    "np.intersect1d(a,b)"
   ]
  },
  {
   "cell_type": "markdown",
   "id": "015ba77a",
   "metadata": {},
   "source": [
    "14. Create a random vector of size 10 and sort it (★★☆)"
   ]
  },
  {
   "cell_type": "code",
   "execution_count": 92,
   "id": "3f9db1b2",
   "metadata": {},
   "outputs": [
    {
     "data": {
      "text/plain": [
       "array([0.00164217, 0.02293309, 0.02430656, 0.20455555, 0.51547261,\n",
       "       0.57766286, 0.63979518, 0.69984361, 0.77951459, 0.9856244 ])"
      ]
     },
     "execution_count": 92,
     "metadata": {},
     "output_type": "execute_result"
    }
   ],
   "source": [
    "a = np.random.random(10)\n",
    "np.sort(a)"
   ]
  },
  {
   "cell_type": "markdown",
   "id": "b0e2994d",
   "metadata": {},
   "source": [
    "15. Create random vector of size 10 and replace the maximum value by 0 (★★☆)"
   ]
  },
  {
   "cell_type": "code",
   "execution_count": 121,
   "id": "7151c98f",
   "metadata": {},
   "outputs": [
    {
     "name": "stdout",
     "output_type": "stream",
     "text": [
      "[0.92565181 0.96136808 0.00660811 0.43293059 0.58311263 0.34882757\n",
      " 0.37603202 0.35582158 0.23103288 0.02603724]\n",
      "1\n"
     ]
    }
   ],
   "source": [
    "a = np.random.random(10)\n",
    "print(a)\n",
    "print(np.argmax(a))"
   ]
  },
  {
   "cell_type": "markdown",
   "id": "25066ba9",
   "metadata": {},
   "source": [
    "16. Subtract the mean of each row of a matrix (★★☆)"
   ]
  },
  {
   "cell_type": "code",
   "execution_count": 127,
   "id": "4d3e2354",
   "metadata": {},
   "outputs": [
    {
     "name": "stdout",
     "output_type": "stream",
     "text": [
      "[[0.78612738 0.72148873 0.65316408 0.76697313 0.81183026]\n",
      " [0.46166154 0.48462061 0.09738624 0.37086277 0.88613429]\n",
      " [0.22027203 0.74891512 0.80662967 0.19656783 0.76460265]\n",
      " [0.65734626 0.97545921 0.38829315 0.75675    0.84395362]\n",
      " [0.37907264 0.22368808 0.3682424  0.65282988 0.25738735]]\n",
      "[0.50089597 0.63083435 0.46274311 0.54879672 0.71278163]\n"
     ]
    }
   ],
   "source": [
    "a = np.random.random((5,5))\n",
    "print(a)\n",
    "print(np.mean(a, axis=0, keepdims=0))"
   ]
  },
  {
   "cell_type": "markdown",
   "id": "4bcff517",
   "metadata": {},
   "source": [
    "17. How to get the n largest values of an array (★★★)"
   ]
  },
  {
   "cell_type": "code",
   "execution_count": 137,
   "id": "a0b6fa62",
   "metadata": {},
   "outputs": [
    {
     "data": {
      "text/plain": [
       "array([5, 6], dtype=int64)"
      ]
     },
     "execution_count": 137,
     "metadata": {},
     "output_type": "execute_result"
    }
   ],
   "source": [
    "a = np.random.random((10))\n",
    "n = 2\n",
    "np.argsort(a)[0:n]"
   ]
  },
  {
   "cell_type": "markdown",
   "id": "74f31722",
   "metadata": {},
   "source": [
    "18. Create a random 5*3 matrix and replace items that are larger than 4 by their squares ( Example: 6 --> 36)"
   ]
  },
  {
   "cell_type": "markdown",
   "id": "516cd2c0",
   "metadata": {},
   "source": []
  }
 ],
 "metadata": {
  "kernelspec": {
   "display_name": "Python 3 (ipykernel)",
   "language": "python",
   "name": "python3"
  },
  "language_info": {
   "codemirror_mode": {
    "name": "ipython",
    "version": 3
   },
   "file_extension": ".py",
   "mimetype": "text/x-python",
   "name": "python",
   "nbconvert_exporter": "python",
   "pygments_lexer": "ipython3",
   "version": "3.9.13"
  }
 },
 "nbformat": 4,
 "nbformat_minor": 5
}
