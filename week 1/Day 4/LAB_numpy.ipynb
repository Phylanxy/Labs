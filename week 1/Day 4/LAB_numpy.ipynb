{
 "cells": [
  {
   "cell_type": "markdown",
   "id": "75888a68",
   "metadata": {},
   "source": [
    "1. Import the numpy package under the name np (★☆☆)"
   ]
  },
  {
   "cell_type": "code",
   "execution_count": 1,
   "id": "869f4297",
   "metadata": {},
   "outputs": [],
   "source": [
    "import numpy as np"
   ]
  },
  {
   "cell_type": "markdown",
   "id": "5e6152f6",
   "metadata": {},
   "source": [
    "2. Create a null vector of size 10 (★☆☆)"
   ]
  },
  {
   "cell_type": "code",
   "execution_count": 4,
   "id": "0691ad76",
   "metadata": {},
   "outputs": [
    {
     "data": {
      "text/plain": [
       "array([0., 0., 0., 0., 0., 0., 0., 0., 0., 0.])"
      ]
     },
     "execution_count": 4,
     "metadata": {},
     "output_type": "execute_result"
    }
   ],
   "source": [
    "np.zeros(10)"
   ]
  },
  {
   "cell_type": "markdown",
   "id": "65f2e5ef",
   "metadata": {},
   "source": [
    "3. Create a null vector of size 10 but the fifth value which is 1 (★☆☆)"
   ]
  },
  {
   "cell_type": "code",
   "execution_count": 12,
   "id": "73253ed2",
   "metadata": {},
   "outputs": [
    {
     "name": "stdout",
     "output_type": "stream",
     "text": [
      "[0. 0. 0. 0. 1. 0. 0. 0. 0. 0.]\n"
     ]
    }
   ],
   "source": [
    "a = np.zeros(10)\n",
    "a[4] = 1\n",
    "print(a)"
   ]
  },
  {
   "cell_type": "markdown",
   "id": "860775d7",
   "metadata": {},
   "source": [
    "4. Create a vector with values ranging from 10 to 49 (★☆☆)"
   ]
  },
  {
   "cell_type": "code",
   "execution_count": 15,
   "id": "bf816963",
   "metadata": {},
   "outputs": [],
   "source": [
    "b = np.arange(10,50)"
   ]
  },
  {
   "cell_type": "markdown",
   "id": "e2e52b63",
   "metadata": {},
   "source": [
    "5. Create a 3x3 matrix with values ranging from 0 to 8 (★☆☆)"
   ]
  },
  {
   "cell_type": "code",
   "execution_count": 21,
   "id": "6d8f276a",
   "metadata": {},
   "outputs": [],
   "source": [
    "c = np.random.randint(0,9, (3,3))"
   ]
  },
  {
   "cell_type": "markdown",
   "id": "59195ef7",
   "metadata": {},
   "source": [
    "6. Find indices of non-zero elements from [1,2,0,0,4,0] (★☆☆)"
   ]
  },
  {
   "cell_type": "code",
   "execution_count": 5,
   "id": "5fea52ba",
   "metadata": {},
   "outputs": [
    {
     "data": {
      "text/plain": [
       "(array([0, 1, 4], dtype=int64),)"
      ]
     },
     "execution_count": 5,
     "metadata": {},
     "output_type": "execute_result"
    }
   ],
   "source": [
    "a = np.array([1,2,0,0,4,0])\n",
    "np.nonzero(a)"
   ]
  },
  {
   "cell_type": "markdown",
   "id": "c3c04c17",
   "metadata": {},
   "source": [
    "7. Create a 3x3 identity matrix (★☆☆)"
   ]
  },
  {
   "cell_type": "code",
   "execution_count": 55,
   "id": "c80c8ae5",
   "metadata": {},
   "outputs": [
    {
     "data": {
      "text/plain": [
       "array([[1., 0., 0.],\n",
       "       [0., 1., 0.],\n",
       "       [0., 0., 1.]])"
      ]
     },
     "execution_count": 55,
     "metadata": {},
     "output_type": "execute_result"
    }
   ],
   "source": [
    "np.eye(3)"
   ]
  },
  {
   "cell_type": "markdown",
   "id": "1a02aab0",
   "metadata": {},
   "source": [
    "8. Create a 3x3x3 array with random values (★☆☆)"
   ]
  },
  {
   "cell_type": "code",
   "execution_count": 28,
   "id": "842c3549",
   "metadata": {},
   "outputs": [
    {
     "data": {
      "text/plain": [
       "array([[[0.8171935 , 0.01391025, 0.03182773],\n",
       "        [0.40407672, 0.63532782, 0.57002463],\n",
       "        [0.99198007, 0.5937986 , 0.34289242]],\n",
       "\n",
       "       [[0.80927896, 0.94963209, 0.29983777],\n",
       "        [0.82295314, 0.14435986, 0.38933346],\n",
       "        [0.83073301, 0.99172826, 0.0833269 ]],\n",
       "\n",
       "       [[0.77083177, 0.91078808, 0.21435887],\n",
       "        [0.19566981, 0.25181905, 0.05636968],\n",
       "        [0.97323274, 0.5925954 , 0.09905526]]])"
      ]
     },
     "execution_count": 28,
     "metadata": {},
     "output_type": "execute_result"
    }
   ],
   "source": [
    "np.random.random((3,3,3))"
   ]
  },
  {
   "cell_type": "markdown",
   "id": "3580261a",
   "metadata": {},
   "source": [
    "9. Create a 10x10 array with random values and find the minimum and maximum values (★☆☆)"
   ]
  },
  {
   "cell_type": "code",
   "execution_count": 31,
   "id": "6c74b5dc",
   "metadata": {},
   "outputs": [
    {
     "name": "stdout",
     "output_type": "stream",
     "text": [
      "0.999573109965585\n",
      "0.011420555025561274\n"
     ]
    }
   ],
   "source": [
    "a = np.random.random((10,10))\n",
    "print(np.max(a))\n",
    "print(np.min(a))"
   ]
  },
  {
   "cell_type": "markdown",
   "id": "5d364f89",
   "metadata": {},
   "source": [
    "10. Create a random vector of size 30 and find the mean value (★☆☆)"
   ]
  },
  {
   "cell_type": "code",
   "execution_count": 35,
   "id": "a71affdd",
   "metadata": {},
   "outputs": [
    {
     "data": {
      "text/plain": [
       "0.5734646277972825"
      ]
     },
     "execution_count": 35,
     "metadata": {},
     "output_type": "execute_result"
    }
   ],
   "source": [
    "a = np.random.random(30)\n",
    "a.mean()"
   ]
  },
  {
   "cell_type": "markdown",
   "id": "836d937e",
   "metadata": {},
   "source": [
    "11. Create a 5x5 matrix with values 1,2,3,4 just below the diagonal (★☆☆)"
   ]
  },
  {
   "cell_type": "code",
   "execution_count": 66,
   "id": "c0f37c42",
   "metadata": {},
   "outputs": [
    {
     "name": "stdout",
     "output_type": "stream",
     "text": [
      "[[0 0 0 0 0]\n",
      " [1 0 0 0 0]\n",
      " [0 2 0 0 0]\n",
      " [0 0 3 0 0]\n",
      " [0 0 0 4 0]]\n"
     ]
    },
    {
     "data": {
      "text/plain": [
       "array([[0, 0, 0, 0, 0],\n",
       "       [1, 0, 0, 0, 0],\n",
       "       [0, 2, 0, 0, 0],\n",
       "       [0, 0, 3, 0, 0],\n",
       "       [0, 0, 0, 4, 0]])"
      ]
     },
     "execution_count": 66,
     "metadata": {},
     "output_type": "execute_result"
    }
   ],
   "source": [
    "a = np.random.randint(0,1,(5,5))\n",
    "lst = [1,2,3,4]\n",
    "rows = 1\n",
    "cols = 0\n",
    "for i in lst:\n",
    "    a[rows,cols] = i\n",
    "    rows += 1\n",
    "    cols += 1\n",
    "print(a)\n",
    "np.diag(lst,-1)"
   ]
  },
  {
   "cell_type": "markdown",
   "id": "a18eaf7b",
   "metadata": {},
   "source": [
    "12. Normalize a 5x5 random matrix (★☆☆)"
   ]
  },
  {
   "cell_type": "code",
   "execution_count": 82,
   "id": "4ab502a6",
   "metadata": {},
   "outputs": [
    {
     "name": "stdout",
     "output_type": "stream",
     "text": [
      "[[0.96741906 0.09879718 0.91562597 0.55554032 0.2210385 ]\n",
      " [0.36443274 0.82661002 0.60670872 0.73689297 0.98733455]\n",
      " [0.01889782 0.97243189 0.23122699 0.43313237 0.84680191]\n",
      " [0.08527045 0.37437827 0.41698229 0.52389641 0.55312849]\n",
      " [0.80510794 0.50547856 0.14721953 0.36768208 0.60908342]] \n",
      "\n",
      "[[ 1.50521483 -1.46241735  1.3282646   0.09803799 -1.04478193]\n",
      " [-0.55487788  1.02414311  0.27285395  0.71762629  1.57325578]\n",
      " [-1.73539218  1.52234109 -1.00997313 -0.32016675  1.09312837]\n",
      " [-1.50863121 -0.52089916 -0.37534322 -0.01007292  0.089798  ]\n",
      " [ 0.95068159 -0.0729972  -1.29698319 -0.54377657  0.28096708]]\n"
     ]
    }
   ],
   "source": [
    "a = np.random.random((5,5))\n",
    "print(a,\"\\n\")\n",
    "\n",
    "normalized = (a - np.mean(a)) / np.std(a) \n",
    "print(normalized)"
   ]
  },
  {
   "cell_type": "markdown",
   "id": "3374c08c",
   "metadata": {},
   "source": [
    "13. How to find common values between two arrays? (★☆☆)"
   ]
  },
  {
   "cell_type": "code",
   "execution_count": 16,
   "id": "4d626bb8",
   "metadata": {},
   "outputs": [
    {
     "name": "stdout",
     "output_type": "stream",
     "text": [
      "[0 0 1] [1 1 0]\n"
     ]
    },
    {
     "data": {
      "text/plain": [
       "array([0, 1])"
      ]
     },
     "execution_count": 16,
     "metadata": {},
     "output_type": "execute_result"
    }
   ],
   "source": [
    "a = np.array([0,0,1])\n",
    "b = np.array([1,1,0])\n",
    "print(a,b)\n",
    "np.intersect1d(a,b)"
   ]
  },
  {
   "cell_type": "markdown",
   "id": "82994fe3",
   "metadata": {},
   "source": [
    "14. Create a random vector of size 10 and sort it (★★☆)"
   ]
  },
  {
   "cell_type": "code",
   "execution_count": 25,
   "id": "1c7c0e7b",
   "metadata": {},
   "outputs": [
    {
     "data": {
      "text/plain": [
       "array([0.17194101, 0.17541045, 0.27407375, 0.33611195, 0.37283205,\n",
       "       0.43170418, 0.81168315, 0.81622475, 0.81764938, 0.94002982])"
      ]
     },
     "execution_count": 25,
     "metadata": {},
     "output_type": "execute_result"
    }
   ],
   "source": [
    "a = np.random.random(10)\n",
    "np.sort(a)"
   ]
  },
  {
   "cell_type": "markdown",
   "id": "b216618c",
   "metadata": {},
   "source": [
    "15. Create random vector of size 10 and replace the maximum value by 0 (★★☆)"
   ]
  },
  {
   "cell_type": "code",
   "execution_count": 37,
   "id": "21c6aa6f",
   "metadata": {},
   "outputs": [
    {
     "data": {
      "text/plain": [
       "array([0.54937526, 0.27183085, 0.46060162, 0.69616156, 0.5003559 ,\n",
       "       0.        , 0.52595594, 0.00139902, 0.39470029, 0.49216697])"
      ]
     },
     "execution_count": 37,
     "metadata": {},
     "output_type": "execute_result"
    }
   ],
   "source": [
    "a = np.random.random(10)\n",
    "a[np.argmax(a)] = 0\n",
    "a"
   ]
  },
  {
   "cell_type": "markdown",
   "id": "c5417277",
   "metadata": {},
   "source": [
    "16. Subtract the mean of each row of a matrix (★★☆)"
   ]
  },
  {
   "cell_type": "code",
   "execution_count": 17,
   "id": "7abba951",
   "metadata": {},
   "outputs": [
    {
     "name": "stdout",
     "output_type": "stream",
     "text": [
      "[[0.54340494 0.27836939 0.42451759 0.84477613]\n",
      " [0.00471886 0.12156912 0.67074908 0.82585276]\n",
      " [0.13670659 0.57509333 0.89132195 0.20920212]\n",
      " [0.18532822 0.10837689 0.21969749 0.97862378]] \n",
      "\n",
      "[0.21753965 0.27085218 0.55157153 0.7146137 ] \n",
      "\n"
     ]
    },
    {
     "data": {
      "text/plain": [
       "array([[ 0.32586529,  0.0075172 , -0.12705394,  0.13016243],\n",
       "       [-0.2128208 , -0.14928306,  0.11917755,  0.11123906],\n",
       "       [-0.08083306,  0.30424115,  0.33975042, -0.50541158],\n",
       "       [-0.03221143, -0.16247529, -0.33187404,  0.26401009]])"
      ]
     },
     "execution_count": 17,
     "metadata": {},
     "output_type": "execute_result"
    }
   ],
   "source": [
    "np.random.seed(100)\n",
    "a = np.random.random((4,4))\n",
    "print(a,\"\\n\")\n",
    "mean = np.mean(a, axis=0, keepdims=0)\n",
    "print(mean,\"\\n\")\n",
    "a - mean"
   ]
  },
  {
   "cell_type": "markdown",
   "id": "ec00cdb5",
   "metadata": {},
   "source": [
    "17. How to get the n largest values of an array (★★★)"
   ]
  },
  {
   "cell_type": "code",
   "execution_count": 137,
   "id": "da580f8c",
   "metadata": {},
   "outputs": [
    {
     "data": {
      "text/plain": [
       "array([5, 6], dtype=int64)"
      ]
     },
     "execution_count": 137,
     "metadata": {},
     "output_type": "execute_result"
    }
   ],
   "source": [
    "a = np.random.random((10))\n",
    "n = 2\n",
    "np.argsort(a)[0:n]"
   ]
  },
  {
   "cell_type": "markdown",
   "id": "d09586b6",
   "metadata": {},
   "source": [
    "18. Create a random 5*3 matrix and replace items that are larger than 4 by their squares ( Example: 6 --> 36)"
   ]
  },
  {
   "cell_type": "code",
   "execution_count": 147,
   "id": "55ac5dda",
   "metadata": {
    "scrolled": true
   },
   "outputs": [
    {
     "data": {
      "text/plain": [
       "array([[0.23701044, 0.70000041, 0.416806  ],\n",
       "       [0.89806363, 0.29788513, 0.54077708],\n",
       "       [0.28499456, 0.94857772, 0.27776783],\n",
       "       [0.67623853, 0.35436536, 0.68348972],\n",
       "       [0.61987831, 0.77299252, 0.62625073]])"
      ]
     },
     "execution_count": 147,
     "metadata": {},
     "output_type": "execute_result"
    }
   ],
   "source": [
    "a = np.random.random((5,3))\n",
    "np.where(a>4,a**2,a)"
   ]
  },
  {
   "cell_type": "code",
   "execution_count": null,
   "id": "6abca7b7",
   "metadata": {},
   "outputs": [],
   "source": []
  }
 ],
 "metadata": {
  "kernelspec": {
   "display_name": "Python 3 (ipykernel)",
   "language": "python",
   "name": "python3"
  },
  "language_info": {
   "codemirror_mode": {
    "name": "ipython",
    "version": 3
   },
   "file_extension": ".py",
   "mimetype": "text/x-python",
   "name": "python",
   "nbconvert_exporter": "python",
   "pygments_lexer": "ipython3",
   "version": "3.9.13"
  }
 },
 "nbformat": 4,
 "nbformat_minor": 5
}
