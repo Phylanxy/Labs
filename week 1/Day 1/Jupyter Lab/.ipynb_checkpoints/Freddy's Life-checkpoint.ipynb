{
 "cells": [
  {
   "cell_type": "markdown",
   "id": "7b188a63",
   "metadata": {},
   "source": [
    "# Freddy's Life\n",
    "<img src=\"freddy_mask.png\" width=\"700\">"
   ]
  },
  {
   "cell_type": "markdown",
   "id": "c5add3cd",
   "metadata": {},
   "source": [
    "The purpose of this notebook is to introduce you to my favorite pet, Freddy. Please, collaborate by completing the following task:"
   ]
  },
  {
   "cell_type": "code",
   "execution_count": 12,
   "id": "4665fbd0",
   "metadata": {
    "scrolled": true
   },
   "outputs": [
    {
     "name": "stdout",
     "output_type": "stream",
     "text": [
      "Please type in 'Freddy' with correct capitalisation.Freddy\n",
      "\n",
      "Thank you for your collaboration!\n"
     ]
    }
   ],
   "source": [
    "done = False\n",
    "name = 0\n",
    "while done == False:\n",
    "    name = input(\"Please type in 'Freddy' with correct capitalisation.\")\n",
    "    if name != \"Freddy\":\n",
    "        print(\"Error, you need to type in 'Freddy' as prompted\")\n",
    "        done = False \n",
    "    else:\n",
    "        print(\"\\nThank you for your collaboration!\")\n",
    "        done = True"
   ]
  },
  {
   "cell_type": "markdown",
   "id": "d2b1b589",
   "metadata": {},
   "source": [
    "*Here, the user is prompted to add \"Freddy\" as an input to the name variable. It is attributed the user's input via the input function. Moreover, a conditional is used to check for the correct input and a while loop assures that the code is repeated until the input is correct.*"
   ]
  },
  {
   "cell_type": "markdown",
   "id": "da750da1",
   "metadata": {},
   "source": [
    "## Who is Freddy?\n",
    "Freddy is a free otter that loves to travel and have fun adventures on the way. He loves to travel slow and sleep a lot while on the road. He loves sleeping on bicicles, on trains and on busses. Come and take a little tour through Freddy's adventures with me."
   ]
  },
  {
   "cell_type": "markdown",
   "id": "fb627792",
   "metadata": {},
   "source": [
    "## What does Freddy actually look like?\n",
    "Some wonder: \"what is beneath the mask?\" Here is the real deal:"
   ]
  },
  {
   "cell_type": "markdown",
   "id": "dcbc1eb0",
   "metadata": {},
   "source": [
    "<img src=\"collage2.png\">"
   ]
  },
  {
   "cell_type": "markdown",
   "id": "c5f5516f",
   "metadata": {},
   "source": [
    "Freddy has many friends all over Germany that he loves to visit. Currently, his best friend is Bäri and therefore, visiting Bäri is Freddy's favorite Holiday destination. "
   ]
  },
  {
   "cell_type": "markdown",
   "id": "95d79244",
   "metadata": {},
   "source": [
    "<img src=\"freddy and friends.png\">"
   ]
  },
  {
   "cell_type": "markdown",
   "id": "18d2d10a",
   "metadata": {},
   "source": [
    "*Using markdown to upload an image in the desired size in pixels*"
   ]
  },
  {
   "cell_type": "markdown",
   "id": "e818eefd",
   "metadata": {},
   "source": [
    "## Freddy's favorite travel destination"
   ]
  },
  {
   "cell_type": "markdown",
   "id": "da7f6059",
   "metadata": {},
   "source": [
    "Although Freddy loves to travel, he is no big fan of pictures. Therefore, he is rather remembered by other (stuffed) animals and humans through their shared experiences. Since his buddy, Bäri, lives in Lüneburg, this is his favorite place to visit at the moment. <br>\n",
    "![](Lueneburg2.jpg)"
   ]
  },
  {
   "cell_type": "markdown",
   "id": "70ffecb6",
   "metadata": {},
   "source": [
    "## Freddy's favorite activities in Lüneburg\n",
    "\n",
    "Freddy loves to:\n",
    "- cuddle with Bäri\n",
    "- ride a bicicle through Lüneburg\n",
    "- speak to strangers on the street"
   ]
  },
  {
   "cell_type": "markdown",
   "id": "aada2e55",
   "metadata": {},
   "source": [
    "*Using simple bullet points in markdown*"
   ]
  },
  {
   "cell_type": "code",
   "execution_count": 1,
   "id": "bd7fb867",
   "metadata": {},
   "outputs": [
    {
     "data": {
      "image/jpeg": "[encoded data removed]",
      "text/html": [
       "\n",
       "        <iframe\n",
       "            width=\"800\"\n",
       "            height=\"500\"\n",
       "            src=\"https://www.youtube.com/embed/i9cu9miB6EI\"\n",
       "            frameborder=\"0\"\n",
       "            allowfullscreen\n",
       "            \n",
       "        ></iframe>\n",
       "        "
      ],
      "text/plain": [
       "<IPython.lib.display.YouTubeVideo at 0x273c8a65d30>"
      ]
     },
     "execution_count": 1,
     "metadata": {},
     "output_type": "execute_result"
    }
   ],
   "source": [
    "from IPython.display import YouTubeVideo\n",
    "YouTubeVideo('i9cu9miB6EI', width=800, height=500)"
   ]
  },
  {
   "cell_type": "markdown",
   "id": "af0807a7",
   "metadata": {},
   "source": [
    "*Using YouTubeVideo library from IPython to embed a YouTube video*"
   ]
  }
 ],
 "metadata": {
  "kernelspec": {
   "display_name": "Python 3 (ipykernel)",
   "language": "python",
   "name": "python3"
  },
  "language_info": {
   "codemirror_mode": {
    "name": "ipython",
    "version": 3
   },
   "file_extension": ".py",
   "mimetype": "text/x-python",
   "name": "python",
   "nbconvert_exporter": "python",
   "pygments_lexer": "ipython3",
   "version": "3.9.13"
  }
 },
 "nbformat": 4,
 "nbformat_minor": 5
}
